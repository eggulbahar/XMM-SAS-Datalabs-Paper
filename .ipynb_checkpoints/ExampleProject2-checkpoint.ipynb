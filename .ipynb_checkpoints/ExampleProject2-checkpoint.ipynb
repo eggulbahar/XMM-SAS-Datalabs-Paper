{
 "cells": [
  {
   "cell_type": "markdown",
   "id": "fb991a6f-a77f-4e1f-8381-711fd2269c93",
   "metadata": {
    "tags": []
   },
   "source": [
    "# <font color=green> Example project #2: X-ray Binary Vela X-1  </font>\n",
    "***\n",
    "## Introduction\n",
    "This thread serves as a comprehensive, step-by-step guide illustrating a miniature science project leveraging XMM-Newton data. The focal point is the retrieval and processing of data associated with the high-mass X-ray binary Vela X-1, which is composed of a neutron star. Subsequently, the derived spectrum can undergo in depth analysis using Xspec in accordance with the user's wishes, where if wanted they can apply various models to draw insightful conclusions from the observational data.\n",
    "\n",
    "Moreover, this thread exemplifies the practical utilization of the XMM-SAS Datalab for research purposes. This platform facilitates a streamlined experience, enabling users to promptly obtain data in their preferred format and conduct comprehensive analyses—all within a unified space. Importantly, this eliminates the need for additional package installations or the inconvenience of navigating between disparate platforms.\n",
    "\n",
    "On this thread we demonstrate applications of methods such as SAS start-up, reprocessing the ODF to generate concatenated EPIC event lists, extracting ligthcurves, checking for pile-up, and extracting a spectrum which can be used for scientific analysis.\n",
    "\n",
    "## Background Information\n",
    "\n",
    "Vela X-1 is a prominent X-ray binary system located in the Vela constellation. Discovered in the early 1970s by the Uhuru X-ray satellite, however it has been observed by nearly all X-ray observatories even multiple times. This binary system features a pulsar—a rapidly rotating neutron star—as its compact object. The companion star is a massive B-type supergiant, and the system is characterized by the transfer of mass from the companion to the neutron star. As the material from the donor star accretes onto the neutron star's surface, it emits intense X-ray radiation, making Vela X-1 detectable in X-ray observations, while also providing a rich spectrum with various emission lines. The high rate of rotation of the neutron star, combined with the mass transfer process, results in the system's dynamic and variable behavior. Vela X-1's study has contributed valuable insights into the physics of accretion processes, neutron star characteristics, and the evolution of binary systems involving compact objects.\n",
    "\n",
    "The particular observation we chose is with ObsID of 0841890201. Total exposures are five with 3 EPIC, 0 OM, and 2 RGS. This is a very bright source, hence EPIC-pn exposure is in timing mode, and when processing adjustments such as pile-up correction will be necessary.\n",
    "\n",
    "\n",
    "## Suggested Further Reading\n",
    "* https://doi.org/10.1051/0004-6361/202040272\n",
    "* https://heasarc.gsfc.nasa.gov/xanadu/xspec/python/html/index.html\n",
    "* https://ui.adsabs.harvard.edu/link_gateway/2023A&A...674A.147D/doi:10.48550/arXiv.2303.09631\n",
    "* https://ui.adsabs.harvard.edu/link_gateway/2023ApJ...950..170R/doi:10.48550/arXiv.2302.10953\n",
    "\n",
    "## Further Credits\n",
    "Special thanks and recognition to [Camille Diez](https://www.camillediez.com/) for sharing her research method, knowledge, and help.\n",
    "\n",
    "***"
   ]
  },
  {
   "cell_type": "markdown",
   "id": "0b0ff7d8-55f7-458e-ad25-acc264c5b01b",
   "metadata": {},
   "source": [
    "Import the following libraries listed below:"
   ]
  },
  {
   "cell_type": "code",
   "execution_count": 1,
   "id": "cde01120-0b0b-4964-b0d7-0937157dfac4",
   "metadata": {
    "tags": []
   },
   "outputs": [
    {
     "data": {
      "text/html": [
       "        <script type=\"text/javascript\">\n",
       "        window.PlotlyConfig = {MathJaxConfig: 'local'};\n",
       "        if (window.MathJax && window.MathJax.Hub && window.MathJax.Hub.Config) {window.MathJax.Hub.Config({SVG: {font: \"STIX-Web\"}});}\n",
       "        if (typeof require !== 'undefined') {\n",
       "        require.undef(\"plotly\");\n",
       "        requirejs.config({\n",
       "            paths: {\n",
       "                'plotly': ['https://cdn.plot.ly/plotly-2.32.0.min']\n",
       "            }\n",
       "        });\n",
       "        require(['plotly'], function(Plotly) {\n",
       "            window._Plotly = Plotly;\n",
       "        });\n",
       "        }\n",
       "        </script>\n",
       "        "
      ]
     },
     "metadata": {},
     "output_type": "display_data"
    },
    {
     "data": {
      "text/html": [
       "        <script type=\"text/javascript\">\n",
       "        window.PlotlyConfig = {MathJaxConfig: 'local'};\n",
       "        if (window.MathJax && window.MathJax.Hub && window.MathJax.Hub.Config) {window.MathJax.Hub.Config({SVG: {font: \"STIX-Web\"}});}\n",
       "        if (typeof require !== 'undefined') {\n",
       "        require.undef(\"plotly\");\n",
       "        requirejs.config({\n",
       "            paths: {\n",
       "                'plotly': ['https://cdn.plot.ly/plotly-2.32.0.min']\n",
       "            }\n",
       "        });\n",
       "        require(['plotly'], function(Plotly) {\n",
       "            window._Plotly = Plotly;\n",
       "        });\n",
       "        }\n",
       "        </script>\n",
       "        "
      ]
     },
     "metadata": {},
     "output_type": "display_data"
    }
   ],
   "source": [
    "from pysas.wrapper import Wrapper as w\n",
    "import os.path\n",
    "from os import path\n",
    "import subprocess\n",
    "import numpy as np\n",
    "import matplotlib.pyplot as plt\n",
    "from astropy.io import fits\n",
    "from astropy.table import Table\n",
    "from matplotlib.colors import LogNorm\n",
    "from matplotlib.ticker import ScalarFormatter  # For formatting axis labels\n",
    "from xspec import *\n",
    "import re\n",
    "import plotly.express as px\n",
    "import plotly.graph_objects as go\n",
    "import plotly.io as pio\n",
    "pio.renderers.default = 'notebook'\n",
    "import plotly.offline as pyo\n",
    "pyo.init_notebook_mode(connected=True)\n",
    "from js9helper import *\n",
    "from plotLC import *\n",
    "import shutil\n",
    "from IPython.display import display, Image"
   ]
  },
  {
   "cell_type": "markdown",
   "id": "70fc68f3-02aa-4eee-a8da-51d484a2b1a8",
   "metadata": {},
   "source": [
    "* ### SAS start-up"
   ]
  },
  {
   "cell_type": "markdown",
   "id": "58ae3e47-6ffd-4ac6-aa58-7cd5c7232e89",
   "metadata": {},
   "source": [
    "Use the 'expanduser' function from the 'os.path' module to get the home directory of the current user. The variable 'home' now will contain the path to the home directory of the current user:"
   ]
  },
  {
   "cell_type": "code",
   "execution_count": 2,
   "id": "5520811d-541c-4927-a6ff-7b7eab1c5023",
   "metadata": {
    "tags": []
   },
   "outputs": [],
   "source": [
    "home = os.path.expanduser('~')"
   ]
  },
  {
   "cell_type": "markdown",
   "id": "a2e5e4eb-3553-4983-b96c-9461692e0ed7",
   "metadata": {},
   "source": [
    "Create the working dircetory where all the files produced along the process can be stroed and accessed easily below. Make sure to save your files inside the `my_workspace` folder for permanent storage, as everything stored outside of this folder will be erased every time the Datalab is closed."
   ]
  },
  {
   "cell_type": "code",
   "execution_count": 3,
   "id": "118df17f-7d86-48b0-9787-5b9ce9fbe3dd",
   "metadata": {
    "tags": []
   },
   "outputs": [],
   "source": [
    "wdir=f'{home}/my_workspace/Vela-work/XMM-SAS-Datalabs-Paper/VelaX1data07Jan'\n",
    "os.mkdir(wdir) #uncomment this line if you want to make the directory\n",
    "os.chdir(wdir)"
   ]
  },
  {
   "cell_type": "markdown",
   "id": "bb651d66-3485-4337-80ad-21e7e54bbbfe",
   "metadata": {},
   "source": [
    "Define the path to the CCF files provided as a data volume by Datalabs. Hence the user des not need to download any CCF files nor worry about updates. For more information on how to add them in your Datalabs data volume, please refer to the general guidelines on the ESA Datalabs Help section."
   ]
  },
  {
   "cell_type": "code",
   "execution_count": 4,
   "id": "98c1124a-39ec-428f-b5f4-48c0f152f70c",
   "metadata": {
    "tags": []
   },
   "outputs": [],
   "source": [
    "os.environ['SAS_CCFPATH'] = f'{home}/data/user/pub'"
   ]
  },
  {
   "cell_type": "markdown",
   "id": "6c0acdf6-d6f7-4002-8407-d7863d46d723",
   "metadata": {},
   "source": [
    "Before starting, it is a good practice to sun `sasver` to check which SAS variables are defined."
   ]
  },
  {
   "cell_type": "code",
   "execution_count": 5,
   "id": "e9f52c55-ff5c-4ead-a371-f7763eb904b2",
   "metadata": {
    "tags": []
   },
   "outputs": [
    {
     "name": "stdout",
     "output_type": "stream",
     "text": [
      "\n",
      "    XMM-Newton SAS - release and build information\n",
      "\n",
      "    SAS release: xmmsas_20230412_1735-21.0.0\n",
      "    Compiled on: Sun Apr 16 21:03:02 CEST 2023\n",
      "    Compiled by: sasbuild@sasbld01n.iuser.lan\n",
      "    Platform   : Ubuntu20.04\n",
      "\n",
      "    SAS-related environment variables set:\n",
      "\n",
      "    \n",
      "SAS_DIR        = /usr/local/SAS/xmmsas_20230412_1735\n",
      "SAS_PATH       = /usr/local/SAS/xmmsas_20230412_1735\n",
      "SAS_CCFPATH    = /home/egulbaha/data/user/pub\n"
     ]
    }
   ],
   "source": [
    "inargs = []\n",
    "t = w('sasver', inargs)\n",
    "t.run()"
   ]
  },
  {
   "cell_type": "markdown",
   "id": "771756ad-51cc-47a4-9944-1981042b6339",
   "metadata": {},
   "source": [
    "Next, we execute the command `startsas`. The task downloads the ODFs of the odfid the user defines in the working directory defined earlier. Please refer to the [XMM-Newton Science Archive](https://www.cosmos.esa.int/web/xmm-newton/xsa) to search through the catalogue for different observation IDs. We will be working with ODF 0841890201."
   ]
  },
  {
   "cell_type": "code",
   "execution_count": 6,
   "id": "6c30ca5a-d072-42bc-aab6-1c669a9cba1d",
   "metadata": {
    "tags": []
   },
   "outputs": [
    {
     "name": "stderr",
     "output_type": "stream",
     "text": [
      "startsas - WARNING - Executing /usr/local/SAS/xmmsas_20230412_1735/lib/python/pysas/startsas/startsas.py {'odfid': '0841890201', 'workdir': 'pwd', 'sasfiles': 'no', 'sas_ccf': '', 'sas_odf': '', 'level': 'ODF', 'cifbuild_opts': '', 'odfingest_opts': ''}\n",
      "WARNING:startsas:Executing /usr/local/SAS/xmmsas_20230412_1735/lib/python/pysas/startsas/startsas.py {'odfid': '0841890201', 'workdir': 'pwd', 'sasfiles': 'no', 'sas_ccf': '', 'sas_odf': '', 'level': 'ODF', 'cifbuild_opts': '', 'odfingest_opts': ''}\n",
      "INFO:startsas:LHEASOFT = /usr/local/heasoft-6.30.1/x86_64-pc-linux-gnu-libc2.31\n",
      "INFO:startsas:SAS_DIR = /usr/local/SAS/xmmsas_20230412_1735\n",
      "INFO:startsas:SAS_CCFPATH = /home/egulbaha/data/user/pub\n",
      "INFO:startsas:startsas was initiated from /media/user/Vela-work/XMM-SAS-Datalabs-Paper/VelaX1data07Jan\n",
      "INFO:startsas:Will download ODF with level ODF\n",
      "INFO:startsas:Requesting odfid  = 0841890201 to XMM-Newton Science Archive\n",
      "\n",
      "INFO:startsas:Downloading 0841890201, level ODF\n"
     ]
    },
    {
     "name": "stdout",
     "output_type": "stream",
     "text": [
      "Requesting odfid  = 0841890201 to XMM-Newton Science Archive\n",
      "\n",
      "\n",
      "Downloading 0841890201, level ODF. Please wait ...\n",
      "\n",
      "Downloading URL http://nxsa.esac.esa.int/nxsa-sl/servlet/data-action-aio?obsno=0841890201&level=ODF to 0841890201.tar.gz ... [Done]\n"
     ]
    },
    {
     "name": "stderr",
     "output_type": "stream",
     "text": [
      "INFO:startsas:0841890201.tar.gz downloaded.\n",
      "INFO:startsas:Creating directory 0841890201 ...\n"
     ]
    },
    {
     "name": "stdout",
     "output_type": "stream",
     "text": [
      "\n",
      "Creating directory 0841890201 ...\n"
     ]
    },
    {
     "name": "stderr",
     "output_type": "stream",
     "text": [
      "INFO:startsas:Unpacking 0841890201.tar.gz ...\n"
     ]
    },
    {
     "name": "stdout",
     "output_type": "stream",
     "text": [
      "\n",
      "Unpacking 0841890201.tar.gz ...\n",
      "\n"
     ]
    },
    {
     "name": "stderr",
     "output_type": "stream",
     "text": [
      "INFO:startsas:0841890201.tar.gz extracted successfully!\n",
      "INFO:startsas:0841890201.tar.gz removed\n",
      "INFO:startsas:Unpacking 3553_0841890201.TAR ...\n"
     ]
    },
    {
     "name": "stdout",
     "output_type": "stream",
     "text": [
      "Unpacking 3553_0841890201.TAR ...\n"
     ]
    },
    {
     "name": "stderr",
     "output_type": "stream",
     "text": [
      "INFO:startsas:3553_0841890201.TAR removed\n",
      "INFO:startsas:File MANIFEST.704820 exists\n",
      "INFO:startsas:Setting SAS_ODF = /media/user/Vela-work/XMM-SAS-Datalabs-Paper/VelaX1data07Jan/0841890201\n",
      "INFO:startsas:Running cifbuild...\n",
      "** cifbuild: warning (NoMatchingCcfConstituents), Could not find any CCF constituents matching the search criteria:\n",
      "\n",
      "   Analysis date    = 2025-01-07T09:02:30.000\n",
      "   Observation date = 2019-05-03T21:14:00.000\n",
      "   ccfpath          = \n",
      "   Category         = XMMCCF\n",
      "   File glob        = *.ccf|*.CCF\n",
      "   CCF search path  = /home/egulbaha/data/user/pub\n",
      "INFO:startsas:CIF file ccf.cif created\n",
      "INFO:startsas:Setting SAS_CCF = /media/user/Vela-work/XMM-SAS-Datalabs-Paper/VelaX1data07Jan/ccf.cif\n",
      "INFO:startsas:Running odfingest...\n"
     ]
    },
    {
     "name": "stdout",
     "output_type": "stream",
     "text": [
      "\n",
      "Setting SAS_ODF = /media/user/Vela-work/XMM-SAS-Datalabs-Paper/VelaX1data07Jan/0841890201\n",
      "\n",
      "Running cifbuild...\n",
      "cifbuild:- Executing (routine): cifbuild calindexset=ccf.cif ccfpath=. withccfpath=no usecanonicalname=no recurse=no fileglob=*.ccf|*.CCF fullpath=no observationdate=now withobservationdate=no analysisdate=now category=XMMCCF ignorecategory=no masterindex=no masterindexset=ccf.mif withmasterindexset=no append=no  -w 1 -V 4\n",
      "cifbuild:- cifbuild (cifbuild-4.10.1)  [xmmsas_20230412_1735-21.0.0] started:  2025-01-07T09:02:30.000\n",
      "cifbuild:- Will ask the analysis date to the OAL.\n",
      "cifbuild:- Using the ODF 3553_0841890201 found in /media/user/Vela-work/XMM-SAS-Datalabs-Paper/VelaX1data07Jan/0841890201\n",
      "cifbuild:- Observation date: 2019-05-03T21:14:00.000\n",
      "cifbuild:- Analysis date: 2025-01-07T09:02:30.000\n",
      "cifbuild:- cifbuild (cifbuild-4.10.1)  [xmmsas_20230412_1735-21.0.0] ended:    2025-01-07T09:02:30.000\n",
      "\n",
      "Setting SAS_CCF = /media/user/Vela-work/XMM-SAS-Datalabs-Paper/VelaX1data07Jan/ccf.cif\n",
      "\n",
      "Running odfingest...\n",
      "odfingest:- Executing (routine): odfingest odfdir=. withodfdir=no outdir=. summaryfile=0000_0000000000_SCX000SUM.SAS usecanonicalname=yes writepath=yes findinstrumentmodes=yes usehousekeeping=yes oalcheck=no  -w 1 -V 4\n",
      "odfingest:- odfingest (odfingest-3.33.1)  [xmmsas_20230412_1735-21.0.0] started:  2025-01-07T09:02:30.000\n",
      "odfingest:- Looking for ODF constituents in /media/user/Vela-work/XMM-SAS-Datalabs-Paper/VelaX1data07Jan/0841890201/\n",
      "odfingest:- Identified the following ODF\n",
      "Revolution:  3553\n",
      "Observation: 0841890201\n",
      "Proposal:    0841890201\n",
      "odfingest:- Dataset Time Range: 3553_0841890201_M1S00100AUX.FIT : 2019-05-03T22:15:45.000 - 2019-05-05T05:02:29.000\n",
      "odfingest:- Dataset Time Range: 3553_0841890201_M1S00110IME.FIT : 2019-05-03T22:15:45.000 - 2019-05-05T05:02:29.000\n",
      "odfingest:- Dataset Time Range: 3553_0841890201_M1S00120IME.FIT : 2019-05-03T22:15:45.000 - 2019-05-05T05:02:29.000\n",
      "odfingest:- Dataset Time Range: 3553_0841890201_M1S00140IME.FIT : 2019-05-03T22:15:45.000 - 2019-05-05T05:02:29.000\n",
      "odfingest:- Dataset Time Range: 3553_0841890201_M1S00150IME.FIT : 2019-05-03T22:15:45.000 - 2019-05-05T05:02:29.000\n",
      "odfingest:- Dataset Time Range: 3553_0841890201_M1S00170IME.FIT : 2019-05-03T22:15:45.000 - 2019-05-05T05:02:29.000\n",
      "odfingest:- Detected a data set with data mode 5 [Diagnostic]. This is know to contain the wrong DATE-END. I'm assigning to it an arbitrary duration of 1 second.\n",
      "odfingest:- Dataset Time Range: 3553_0841890201_M1S40010DII.FIT : 2019-05-03T21:31:47.000 - 2019-05-03T21:31:48.000\n",
      "odfingest:- Detected a data set with data mode 5 [Diagnostic]. This is know to contain the wrong DATE-END. I'm assigning to it an arbitrary duration of 1 second.\n",
      "odfingest:- Dataset Time Range: 3553_0841890201_M1S40110DII.FIT : 2019-05-03T21:40:24.000 - 2019-05-03T21:40:25.000\n",
      "odfingest:- Detected a data set with data mode 5 [Diagnostic]. This is know to contain the wrong DATE-END. I'm assigning to it an arbitrary duration of 1 second.\n",
      "odfingest:- Dataset Time Range: 3553_0841890201_M1S40210DII.FIT : 2019-05-03T21:49:02.000 - 2019-05-03T21:49:03.000\n",
      "odfingest:- Detected a data set with data mode 5 [Diagnostic]. This is know to contain the wrong DATE-END. I'm assigning to it an arbitrary duration of 1 second.\n",
      "odfingest:- Dataset Time Range: 3553_0841890201_M1S40310DII.FIT : 2019-05-03T21:57:41.000 - 2019-05-03T21:57:42.000\n",
      "odfingest:- Dataset Time Range: 3553_0841890201_M2S00200AUX.FIT : 2019-05-03T21:32:23.000 - 2019-05-05T05:00:01.000\n",
      "odfingest:- Dataset Time Range: 3553_0841890201_M2S00200CCX.FIT : 2019-05-03T21:32:23.000 - 2019-05-05T05:00:01.000\n",
      "odfingest:- Dataset Time Range: 3553_0841890201_M2S00210TIE.FIT : 2019-05-03T21:32:23.000 - 2019-05-05T05:00:01.000\n",
      "odfingest:- Dataset Time Range: 3553_0841890201_M2S00220IME.FIT : 2019-05-03T21:32:23.000 - 2019-05-05T05:00:01.000\n",
      "odfingest:- Dataset Time Range: 3553_0841890201_M2S00230IME.FIT : 2019-05-03T21:32:23.000 - 2019-05-05T05:00:01.000\n",
      "odfingest:- Dataset Time Range: 3553_0841890201_M2S00240IME.FIT : 2019-05-03T21:32:23.000 - 2019-05-05T05:00:01.000\n",
      "odfingest:- Dataset Time Range: 3553_0841890201_M2S00250IME.FIT : 2019-05-03T21:32:23.000 - 2019-05-05T05:00:01.000\n",
      "odfingest:- Dataset Time Range: 3553_0841890201_M2S00260IME.FIT : 2019-05-03T21:32:23.000 - 2019-05-05T05:00:01.000\n",
      "odfingest:- Dataset Time Range: 3553_0841890201_M2S00270IME.FIT : 2019-05-03T21:32:23.000 - 2019-05-05T05:00:01.000\n",
      "odfingest:- Dataset Time Range: 3553_0841890201_OMS02000E6I.FIT : 2019-05-03T21:53:06.000 - 2019-05-03T21:56:18.000\n",
      "odfingest:- Dataset Time Range: 3553_0841890201_OMS02000WDX.FIT : 2019-05-03T21:53:06.000 - 2019-05-03T21:56:18.000\n",
      "odfingest:- Dataset Time Range: 3553_0841890201_OMS02001E6I.FIT : 2019-05-03T21:53:06.000 - 2019-05-03T21:56:18.000\n",
      "odfingest:- Dataset Time Range: 3553_0841890201_OMS02100E4I.FIT : 2019-05-03T22:19:24.000 - 2019-05-04T01:18:09.000\n",
      "odfingest:- Dataset Time Range: 3553_0841890201_OMS02100WDX.FIT : 2019-05-03T22:19:24.000 - 2019-05-04T01:18:09.000\n",
      "odfingest:- Dataset Time Range: 3553_0841890201_OMS02200E4I.FIT : 2019-05-04T01:41:45.000 - 2019-05-04T04:40:22.000\n",
      "odfingest:- Dataset Time Range: 3553_0841890201_OMS02200WDX.FIT : 2019-05-04T01:41:45.000 - 2019-05-04T04:40:22.000\n",
      "odfingest:- Dataset Time Range: 3553_0841890201_OMS02300E4I.FIT : 2019-05-04T05:04:07.000 - 2019-05-04T08:02:52.000\n",
      "odfingest:- Dataset Time Range: 3553_0841890201_OMS02300WDX.FIT : 2019-05-04T05:04:07.000 - 2019-05-04T08:02:52.000\n",
      "odfingest:- Dataset Time Range: 3553_0841890201_OMS02400E4I.FIT : 2019-05-04T08:26:28.000 - 2019-05-04T11:28:04.000\n",
      "odfingest:- Dataset Time Range: 3553_0841890201_OMS02400WDX.FIT : 2019-05-04T08:26:28.000 - 2019-05-04T11:28:04.000\n",
      "odfingest:- Dataset Time Range: 3553_0841890201_OMS02500E4I.FIT : 2019-05-04T11:51:12.000 - 2019-05-04T14:52:37.000\n",
      "odfingest:- Dataset Time Range: 3553_0841890201_OMS02500WDX.FIT : 2019-05-04T11:51:12.000 - 2019-05-04T14:52:37.000\n",
      "odfingest:- Dataset Time Range: 3553_0841890201_OMS02600E6I.FIT : 2019-05-04T15:15:17.000 - 2019-05-04T15:18:15.000\n",
      "odfingest:- Dataset Time Range: 3553_0841890201_OMS02600WDX.FIT : 2019-05-04T15:15:17.000 - 2019-05-04T15:18:15.000\n",
      "odfingest:- Dataset Time Range: 3553_0841890201_OMS02601E6I.FIT : 2019-05-04T15:15:17.000 - 2019-05-04T15:18:15.000\n",
      "odfingest:- Dataset Time Range: 3553_0841890201_PNS00300AUX.FIT : 2019-05-03T22:09:45.000 - 2019-05-05T05:04:28.000\n",
      "odfingest:- Dataset Time Range: 3553_0841890201_PNS00300CCX.FIT : 2019-05-03T22:09:45.000 - 2019-05-05T05:04:28.000\n",
      "odfingest:- Dataset Time Range: 3553_0841890201_PNS00304TIE.FIT : 2019-05-03T22:09:45.000 - 2019-05-05T05:04:28.000\n",
      "odfingest:- Dataset Time Range: 3553_0841890201_R1S00400AUX.FIT : 2019-05-03T21:31:24.000 - 2019-05-05T05:08:17.000\n",
      "odfingest:- Dataset Time Range: 3553_0841890201_R1S00401SPE.FIT : 2019-05-03T21:31:24.000 - 2019-05-05T05:08:17.000\n",
      "odfingest:- Dataset Time Range: 3553_0841890201_R1S00402SPE.FIT : 2019-05-03T21:31:24.000 - 2019-05-05T05:08:17.000\n",
      "odfingest:- Dataset Time Range: 3553_0841890201_R1S00403SPE.FIT : 2019-05-03T21:31:24.000 - 2019-05-05T05:08:17.000\n",
      "odfingest:- Dataset Time Range: 3553_0841890201_R1S00404SPE.FIT : 2019-05-03T21:31:24.000 - 2019-05-05T05:08:17.000\n",
      "odfingest:- Dataset Time Range: 3553_0841890201_R1S00405SPE.FIT : 2019-05-03T21:31:24.000 - 2019-05-05T05:08:17.000\n",
      "odfingest:- Dataset Time Range: 3553_0841890201_R1S00406SPE.FIT : 2019-05-03T21:31:24.000 - 2019-05-05T05:08:17.000\n",
      "odfingest:- Dataset Time Range: 3553_0841890201_R1S00408SPE.FIT : 2019-05-03T21:31:24.000 - 2019-05-05T05:08:17.000\n",
      "odfingest:- Dataset Time Range: 3553_0841890201_R1S00409SPE.FIT : 2019-05-03T21:31:24.000 - 2019-05-05T05:08:17.000\n",
      "odfingest:- Detected a data set with data mode 5 [Diagnostic]. This is know to contain the wrong DATE-END. I'm assigning to it an arbitrary duration of 1 second.\n",
      "odfingest:- Dataset Time Range: 3553_0841890201_R1S90001DII.FIT : 2019-05-03T21:31:24.000 - 2019-05-03T21:31:25.000\n",
      "odfingest:- Detected a data set with data mode 5 [Diagnostic]. This is know to contain the wrong DATE-END. I'm assigning to it an arbitrary duration of 1 second.\n",
      "odfingest:- Dataset Time Range: 3553_0841890201_R1S90102DII.FIT : 2019-05-03T21:31:24.000 - 2019-05-03T21:31:25.000\n",
      "odfingest:- Detected a data set with data mode 5 [Diagnostic]. This is know to contain the wrong DATE-END. I'm assigning to it an arbitrary duration of 1 second.\n",
      "odfingest:- Dataset Time Range: 3553_0841890201_R1S90203DII.FIT : 2019-05-03T21:31:24.000 - 2019-05-03T21:31:25.000\n",
      "odfingest:- Detected a data set with data mode 5 [Diagnostic]. This is know to contain the wrong DATE-END. I'm assigning to it an arbitrary duration of 1 second.\n",
      "odfingest:- Dataset Time Range: 3553_0841890201_R1S90304DII.FIT : 2019-05-03T21:31:24.000 - 2019-05-03T21:31:25.000\n",
      "odfingest:- Detected a data set with data mode 5 [Diagnostic]. This is know to contain the wrong DATE-END. I'm assigning to it an arbitrary duration of 1 second.\n",
      "odfingest:- Dataset Time Range: 3553_0841890201_R1S90405DII.FIT : 2019-05-03T21:31:24.000 - 2019-05-03T21:31:25.000\n",
      "odfingest:- Detected a data set with data mode 5 [Diagnostic]. This is know to contain the wrong DATE-END. I'm assigning to it an arbitrary duration of 1 second.\n",
      "odfingest:- Dataset Time Range: 3553_0841890201_R1S90506DII.FIT : 2019-05-03T21:31:24.000 - 2019-05-03T21:31:25.000\n",
      "odfingest:- Detected a data set with data mode 5 [Diagnostic]. This is know to contain the wrong DATE-END. I'm assigning to it an arbitrary duration of 1 second.\n",
      "odfingest:- Dataset Time Range: 3553_0841890201_R1S90608DII.FIT : 2019-05-03T21:31:24.000 - 2019-05-03T21:31:25.000\n",
      "odfingest:- Detected a data set with data mode 5 [Diagnostic]. This is know to contain the wrong DATE-END. I'm assigning to it an arbitrary duration of 1 second.\n",
      "odfingest:- Dataset Time Range: 3553_0841890201_R1S90709DII.FIT : 2019-05-03T21:31:24.000 - 2019-05-03T21:31:25.000\n",
      "odfingest:- Detected a data set with data mode 5 [Diagnostic]. This is know to contain the wrong DATE-END. I'm assigning to it an arbitrary duration of 1 second.\n",
      "odfingest:- Dataset Time Range: 3553_0841890201_R1S90801DII.FIT : 2019-05-03T21:31:24.000 - 2019-05-03T21:31:25.000\n",
      "odfingest:- Detected a data set with data mode 5 [Diagnostic]. This is know to contain the wrong DATE-END. I'm assigning to it an arbitrary duration of 1 second.\n",
      "odfingest:- Dataset Time Range: 3553_0841890201_R1S90902DII.FIT : 2019-05-03T21:31:24.000 - 2019-05-03T21:31:25.000\n",
      "odfingest:- Detected a data set with data mode 5 [Diagnostic]. This is know to contain the wrong DATE-END. I'm assigning to it an arbitrary duration of 1 second.\n",
      "odfingest:- Dataset Time Range: 3553_0841890201_R1S91003DII.FIT : 2019-05-03T21:31:24.000 - 2019-05-03T21:31:25.000\n",
      "odfingest:- Detected a data set with data mode 5 [Diagnostic]. This is know to contain the wrong DATE-END. I'm assigning to it an arbitrary duration of 1 second.\n",
      "odfingest:- Dataset Time Range: 3553_0841890201_R1S91104DII.FIT : 2019-05-03T21:31:24.000 - 2019-05-03T21:31:25.000\n",
      "odfingest:- Detected a data set with data mode 5 [Diagnostic]. This is know to contain the wrong DATE-END. I'm assigning to it an arbitrary duration of 1 second.\n",
      "odfingest:- Dataset Time Range: 3553_0841890201_R1S91205DII.FIT : 2019-05-03T21:31:24.000 - 2019-05-03T21:31:25.000\n",
      "odfingest:- Detected a data set with data mode 5 [Diagnostic]. This is know to contain the wrong DATE-END. I'm assigning to it an arbitrary duration of 1 second.\n",
      "odfingest:- Dataset Time Range: 3553_0841890201_R1S91306DII.FIT : 2019-05-03T21:31:24.000 - 2019-05-03T21:31:25.000\n",
      "odfingest:- Detected a data set with data mode 5 [Diagnostic]. This is know to contain the wrong DATE-END. I'm assigning to it an arbitrary duration of 1 second.\n",
      "odfingest:- Dataset Time Range: 3553_0841890201_R1S91408DII.FIT : 2019-05-03T21:31:24.000 - 2019-05-03T21:31:25.000\n",
      "odfingest:- Detected a data set with data mode 5 [Diagnostic]. This is know to contain the wrong DATE-END. I'm assigning to it an arbitrary duration of 1 second.\n",
      "odfingest:- Dataset Time Range: 3553_0841890201_R1S91509DII.FIT : 2019-05-03T21:31:24.000 - 2019-05-03T21:31:25.000\n",
      "odfingest:- Detected a data set with data mode 5 [Diagnostic]. This is know to contain the wrong DATE-END. I'm assigning to it an arbitrary duration of 1 second.\n",
      "odfingest:- Dataset Time Range: 3553_0841890201_R1S91601DII.FIT : 2019-05-03T21:31:24.000 - 2019-05-03T21:31:25.000\n",
      "odfingest:- Detected a data set with data mode 5 [Diagnostic]. This is know to contain the wrong DATE-END. I'm assigning to it an arbitrary duration of 1 second.\n",
      "odfingest:- Dataset Time Range: 3553_0841890201_R1S91702DII.FIT : 2019-05-03T21:31:24.000 - 2019-05-03T21:31:25.000\n",
      "odfingest:- Detected a data set with data mode 5 [Diagnostic]. This is know to contain the wrong DATE-END. I'm assigning to it an arbitrary duration of 1 second.\n",
      "odfingest:- Dataset Time Range: 3553_0841890201_R1S91803DII.FIT : 2019-05-03T21:31:24.000 - 2019-05-03T21:31:25.000\n",
      "odfingest:- Detected a data set with data mode 5 [Diagnostic]. This is know to contain the wrong DATE-END. I'm assigning to it an arbitrary duration of 1 second.\n",
      "odfingest:- Dataset Time Range: 3553_0841890201_R1S91904DII.FIT : 2019-05-03T21:31:24.000 - 2019-05-03T21:31:25.000\n",
      "odfingest:- Detected a data set with data mode 5 [Diagnostic]. This is know to contain the wrong DATE-END. I'm assigning to it an arbitrary duration of 1 second.\n",
      "odfingest:- Dataset Time Range: 3553_0841890201_R1S92005DII.FIT : 2019-05-03T21:31:24.000 - 2019-05-03T21:31:25.000\n",
      "odfingest:- Detected a data set with data mode 5 [Diagnostic]. This is know to contain the wrong DATE-END. I'm assigning to it an arbitrary duration of 1 second.\n",
      "odfingest:- Dataset Time Range: 3553_0841890201_R1S92106DII.FIT : 2019-05-03T21:31:24.000 - 2019-05-03T21:31:25.000\n",
      "odfingest:- Detected a data set with data mode 5 [Diagnostic]. This is know to contain the wrong DATE-END. I'm assigning to it an arbitrary duration of 1 second.\n",
      "odfingest:- Dataset Time Range: 3553_0841890201_R1S92208DII.FIT : 2019-05-03T21:31:24.000 - 2019-05-03T21:31:25.000\n",
      "odfingest:- Detected a data set with data mode 5 [Diagnostic]. This is know to contain the wrong DATE-END. I'm assigning to it an arbitrary duration of 1 second.\n",
      "odfingest:- Dataset Time Range: 3553_0841890201_R1S92309DII.FIT : 2019-05-03T21:31:24.000 - 2019-05-03T21:31:25.000\n",
      "odfingest:- Detected a data set with data mode 5 [Diagnostic]. This is know to contain the wrong DATE-END. I'm assigning to it an arbitrary duration of 1 second.\n",
      "odfingest:- Dataset Time Range: 3553_0841890201_R1S92401DII.FIT : 2019-05-03T21:31:24.000 - 2019-05-03T21:31:25.000\n",
      "odfingest:- Detected a data set with data mode 5 [Diagnostic]. This is know to contain the wrong DATE-END. I'm assigning to it an arbitrary duration of 1 second.\n",
      "odfingest:- Dataset Time Range: 3553_0841890201_R1S92502DII.FIT : 2019-05-03T21:31:24.000 - 2019-05-03T21:31:25.000\n",
      "odfingest:- Detected a data set with data mode 5 [Diagnostic]. This is know to contain the wrong DATE-END. I'm assigning to it an arbitrary duration of 1 second.\n",
      "odfingest:- Dataset Time Range: 3553_0841890201_R1S92603DII.FIT : 2019-05-03T21:31:24.000 - 2019-05-03T21:31:25.000\n",
      "odfingest:- Detected a data set with data mode 5 [Diagnostic]. This is know to contain the wrong DATE-END. I'm assigning to it an arbitrary duration of 1 second.\n",
      "odfingest:- Dataset Time Range: 3553_0841890201_R1S92704DII.FIT : 2019-05-03T21:31:24.000 - 2019-05-03T21:31:25.000\n",
      "odfingest:- Detected a data set with data mode 5 [Diagnostic]. This is know to contain the wrong DATE-END. I'm assigning to it an arbitrary duration of 1 second.\n",
      "odfingest:- Dataset Time Range: 3553_0841890201_R1S92805DII.FIT : 2019-05-03T21:31:24.000 - 2019-05-03T21:31:25.000\n",
      "odfingest:- Detected a data set with data mode 5 [Diagnostic]. This is know to contain the wrong DATE-END. I'm assigning to it an arbitrary duration of 1 second.\n",
      "odfingest:- Dataset Time Range: 3553_0841890201_R1S92906DII.FIT : 2019-05-03T21:31:24.000 - 2019-05-03T21:31:25.000\n",
      "odfingest:- Detected a data set with data mode 5 [Diagnostic]. This is know to contain the wrong DATE-END. I'm assigning to it an arbitrary duration of 1 second.\n",
      "odfingest:- Dataset Time Range: 3553_0841890201_R1S93008DII.FIT : 2019-05-03T21:31:24.000 - 2019-05-03T21:31:25.000\n",
      "odfingest:- Detected a data set with data mode 5 [Diagnostic]. This is know to contain the wrong DATE-END. I'm assigning to it an arbitrary duration of 1 second.\n",
      "odfingest:- Dataset Time Range: 3553_0841890201_R1S93109DII.FIT : 2019-05-03T21:31:24.000 - 2019-05-03T21:31:25.000\n",
      "odfingest:- Detected a data set with data mode 5 [Diagnostic]. This is know to contain the wrong DATE-END. I'm assigning to it an arbitrary duration of 1 second.\n",
      "odfingest:- Dataset Time Range: 3553_0841890201_R1S93201DII.FIT : 2019-05-03T21:31:24.000 - 2019-05-03T21:31:25.000\n",
      "odfingest:- Detected a data set with data mode 5 [Diagnostic]. This is know to contain the wrong DATE-END. I'm assigning to it an arbitrary duration of 1 second.\n",
      "odfingest:- Dataset Time Range: 3553_0841890201_R1S93302DII.FIT : 2019-05-03T21:31:24.000 - 2019-05-03T21:31:25.000\n",
      "odfingest:- Detected a data set with data mode 5 [Diagnostic]. This is know to contain the wrong DATE-END. I'm assigning to it an arbitrary duration of 1 second.\n",
      "odfingest:- Dataset Time Range: 3553_0841890201_R1S93403DII.FIT : 2019-05-03T21:31:24.000 - 2019-05-03T21:31:25.000\n",
      "odfingest:- Detected a data set with data mode 5 [Diagnostic]. This is know to contain the wrong DATE-END. I'm assigning to it an arbitrary duration of 1 second.\n",
      "odfingest:- Dataset Time Range: 3553_0841890201_R1S93504DII.FIT : 2019-05-03T21:31:24.000 - 2019-05-03T21:31:25.000\n",
      "odfingest:- Detected a data set with data mode 5 [Diagnostic]. This is know to contain the wrong DATE-END. I'm assigning to it an arbitrary duration of 1 second.\n",
      "odfingest:- Dataset Time Range: 3553_0841890201_R1S93605DII.FIT : 2019-05-03T21:31:24.000 - 2019-05-03T21:31:25.000\n",
      "odfingest:- Detected a data set with data mode 5 [Diagnostic]. This is know to contain the wrong DATE-END. I'm assigning to it an arbitrary duration of 1 second.\n",
      "odfingest:- Dataset Time Range: 3553_0841890201_R1S93706DII.FIT : 2019-05-03T21:31:24.000 - 2019-05-03T21:31:25.000\n",
      "odfingest:- Detected a data set with data mode 5 [Diagnostic]. This is know to contain the wrong DATE-END. I'm assigning to it an arbitrary duration of 1 second.\n",
      "odfingest:- Dataset Time Range: 3553_0841890201_R1S93808DII.FIT : 2019-05-03T21:31:24.000 - 2019-05-03T21:31:25.000\n",
      "odfingest:- Detected a data set with data mode 5 [Diagnostic]. This is know to contain the wrong DATE-END. I'm assigning to it an arbitrary duration of 1 second.\n",
      "odfingest:- Dataset Time Range: 3553_0841890201_R1S93909DII.FIT : 2019-05-03T21:31:24.000 - 2019-05-03T21:31:25.000\n",
      "odfingest:- Detected a data set with data mode 5 [Diagnostic]. This is know to contain the wrong DATE-END. I'm assigning to it an arbitrary duration of 1 second.\n",
      "odfingest:- Dataset Time Range: 3553_0841890201_R1S94001DII.FIT : 2019-05-03T21:31:24.000 - 2019-05-03T21:31:25.000\n",
      "odfingest:- Detected a data set with data mode 5 [Diagnostic]. This is know to contain the wrong DATE-END. I'm assigning to it an arbitrary duration of 1 second.\n",
      "odfingest:- Dataset Time Range: 3553_0841890201_R1S94102DII.FIT : 2019-05-03T21:31:24.000 - 2019-05-03T21:31:25.000\n",
      "odfingest:- Detected a data set with data mode 5 [Diagnostic]. This is know to contain the wrong DATE-END. I'm assigning to it an arbitrary duration of 1 second.\n",
      "odfingest:- Dataset Time Range: 3553_0841890201_R1S94203DII.FIT : 2019-05-03T21:31:24.000 - 2019-05-03T21:31:25.000\n",
      "odfingest:- Detected a data set with data mode 5 [Diagnostic]. This is know to contain the wrong DATE-END. I'm assigning to it an arbitrary duration of 1 second.\n",
      "odfingest:- Dataset Time Range: 3553_0841890201_R1S94304DII.FIT : 2019-05-03T21:31:24.000 - 2019-05-03T21:31:25.000\n",
      "odfingest:- Detected a data set with data mode 5 [Diagnostic]. This is know to contain the wrong DATE-END. I'm assigning to it an arbitrary duration of 1 second.\n",
      "odfingest:- Dataset Time Range: 3553_0841890201_R1S94405DII.FIT : 2019-05-03T21:31:24.000 - 2019-05-03T21:31:25.000\n",
      "odfingest:- Detected a data set with data mode 5 [Diagnostic]. This is know to contain the wrong DATE-END. I'm assigning to it an arbitrary duration of 1 second.\n",
      "odfingest:- Dataset Time Range: 3553_0841890201_R1S94506DII.FIT : 2019-05-03T21:31:24.000 - 2019-05-03T21:31:25.000\n",
      "odfingest:- Detected a data set with data mode 5 [Diagnostic]. This is know to contain the wrong DATE-END. I'm assigning to it an arbitrary duration of 1 second.\n",
      "odfingest:- Dataset Time Range: 3553_0841890201_R1S94608DII.FIT : 2019-05-03T21:31:24.000 - 2019-05-03T21:31:25.000\n",
      "odfingest:- Detected a data set with data mode 5 [Diagnostic]. This is know to contain the wrong DATE-END. I'm assigning to it an arbitrary duration of 1 second.\n",
      "odfingest:- Dataset Time Range: 3553_0841890201_R1S94709DII.FIT : 2019-05-03T21:31:24.000 - 2019-05-03T21:31:25.000\n",
      "odfingest:- Detected a data set with data mode 5 [Diagnostic]. This is know to contain the wrong DATE-END. I'm assigning to it an arbitrary duration of 1 second.\n",
      "odfingest:- Dataset Time Range: 3553_0841890201_R1S94801DII.FIT : 2019-05-03T21:31:24.000 - 2019-05-03T21:31:25.000\n",
      "odfingest:- Detected a data set with data mode 5 [Diagnostic]. This is know to contain the wrong DATE-END. I'm assigning to it an arbitrary duration of 1 second.\n",
      "odfingest:- Dataset Time Range: 3553_0841890201_R1S94902DII.FIT : 2019-05-03T21:31:24.000 - 2019-05-03T21:31:25.000\n",
      "odfingest:- Detected a data set with data mode 5 [Diagnostic]. This is know to contain the wrong DATE-END. I'm assigning to it an arbitrary duration of 1 second.\n",
      "odfingest:- Dataset Time Range: 3553_0841890201_R1S95003DII.FIT : 2019-05-03T21:31:24.000 - 2019-05-03T21:31:25.000\n",
      "odfingest:- Detected a data set with data mode 5 [Diagnostic]. This is know to contain the wrong DATE-END. I'm assigning to it an arbitrary duration of 1 second.\n",
      "odfingest:- Dataset Time Range: 3553_0841890201_R1S95104DII.FIT : 2019-05-03T21:31:24.000 - 2019-05-03T21:31:25.000\n",
      "odfingest:- Detected a data set with data mode 5 [Diagnostic]. This is know to contain the wrong DATE-END. I'm assigning to it an arbitrary duration of 1 second.\n",
      "odfingest:- Dataset Time Range: 3553_0841890201_R1S95205DII.FIT : 2019-05-03T21:31:24.000 - 2019-05-03T21:31:25.000\n",
      "odfingest:- Detected a data set with data mode 5 [Diagnostic]. This is know to contain the wrong DATE-END. I'm assigning to it an arbitrary duration of 1 second.\n",
      "odfingest:- Dataset Time Range: 3553_0841890201_R1S95306DII.FIT : 2019-05-03T21:31:24.000 - 2019-05-03T21:31:25.000\n",
      "odfingest:- Detected a data set with data mode 5 [Diagnostic]. This is know to contain the wrong DATE-END. I'm assigning to it an arbitrary duration of 1 second.\n",
      "odfingest:- Dataset Time Range: 3553_0841890201_R1S95408DII.FIT : 2019-05-03T21:31:24.000 - 2019-05-03T21:31:25.000\n",
      "odfingest:- Detected a data set with data mode 5 [Diagnostic]. This is know to contain the wrong DATE-END. I'm assigning to it an arbitrary duration of 1 second.\n",
      "odfingest:- Dataset Time Range: 3553_0841890201_R1S95509DII.FIT : 2019-05-03T21:31:24.000 - 2019-05-03T21:31:25.000\n",
      "odfingest:- Detected a data set with data mode 5 [Diagnostic]. This is know to contain the wrong DATE-END. I'm assigning to it an arbitrary duration of 1 second.\n",
      "odfingest:- Dataset Time Range: 3553_0841890201_R1S95601DII.FIT : 2019-05-03T21:31:24.000 - 2019-05-03T21:31:25.000\n",
      "odfingest:- Detected a data set with data mode 5 [Diagnostic]. This is know to contain the wrong DATE-END. I'm assigning to it an arbitrary duration of 1 second.\n",
      "odfingest:- Dataset Time Range: 3553_0841890201_R1S95702DII.FIT : 2019-05-03T21:31:24.000 - 2019-05-03T21:31:25.000\n",
      "odfingest:- Detected a data set with data mode 5 [Diagnostic]. This is know to contain the wrong DATE-END. I'm assigning to it an arbitrary duration of 1 second.\n",
      "odfingest:- Dataset Time Range: 3553_0841890201_R1S95803DII.FIT : 2019-05-03T21:31:24.000 - 2019-05-03T21:31:25.000\n",
      "odfingest:- Detected a data set with data mode 5 [Diagnostic]. This is know to contain the wrong DATE-END. I'm assigning to it an arbitrary duration of 1 second.\n",
      "odfingest:- Dataset Time Range: 3553_0841890201_R1S95904DII.FIT : 2019-05-03T21:31:24.000 - 2019-05-03T21:31:25.000\n",
      "odfingest:- Detected a data set with data mode 5 [Diagnostic]. This is know to contain the wrong DATE-END. I'm assigning to it an arbitrary duration of 1 second.\n",
      "odfingest:- Dataset Time Range: 3553_0841890201_R1S96005DII.FIT : 2019-05-03T21:31:24.000 - 2019-05-03T21:31:25.000\n",
      "odfingest:- Detected a data set with data mode 5 [Diagnostic]. This is know to contain the wrong DATE-END. I'm assigning to it an arbitrary duration of 1 second.\n",
      "odfingest:- Dataset Time Range: 3553_0841890201_R1S96106DII.FIT : 2019-05-03T21:31:24.000 - 2019-05-03T21:31:25.000\n",
      "odfingest:- Detected a data set with data mode 5 [Diagnostic]. This is know to contain the wrong DATE-END. I'm assigning to it an arbitrary duration of 1 second.\n",
      "odfingest:- Dataset Time Range: 3553_0841890201_R1S96208DII.FIT : 2019-05-03T21:31:24.000 - 2019-05-03T21:31:25.000\n",
      "odfingest:- Detected a data set with data mode 5 [Diagnostic]. This is know to contain the wrong DATE-END. I'm assigning to it an arbitrary duration of 1 second.\n",
      "odfingest:- Dataset Time Range: 3553_0841890201_R1S96309DII.FIT : 2019-05-03T21:31:24.000 - 2019-05-03T21:31:25.000\n",
      "odfingest:- Detected a data set with data mode 5 [Diagnostic]. This is know to contain the wrong DATE-END. I'm assigning to it an arbitrary duration of 1 second.\n",
      "odfingest:- Dataset Time Range: 3553_0841890201_R1S96401DII.FIT : 2019-05-03T21:31:24.000 - 2019-05-03T21:31:25.000\n",
      "odfingest:- Detected a data set with data mode 5 [Diagnostic]. This is know to contain the wrong DATE-END. I'm assigning to it an arbitrary duration of 1 second.\n",
      "odfingest:- Dataset Time Range: 3553_0841890201_R1S96502DII.FIT : 2019-05-03T21:31:24.000 - 2019-05-03T21:31:25.000\n",
      "odfingest:- Detected a data set with data mode 5 [Diagnostic]. This is know to contain the wrong DATE-END. I'm assigning to it an arbitrary duration of 1 second.\n",
      "odfingest:- Dataset Time Range: 3553_0841890201_R1S96603DII.FIT : 2019-05-03T21:31:24.000 - 2019-05-03T21:31:25.000\n",
      "odfingest:- Detected a data set with data mode 5 [Diagnostic]. This is know to contain the wrong DATE-END. I'm assigning to it an arbitrary duration of 1 second.\n",
      "odfingest:- Dataset Time Range: 3553_0841890201_R1S96704DII.FIT : 2019-05-03T21:31:24.000 - 2019-05-03T21:31:25.000\n",
      "odfingest:- Detected a data set with data mode 5 [Diagnostic]. This is know to contain the wrong DATE-END. I'm assigning to it an arbitrary duration of 1 second.\n",
      "odfingest:- Dataset Time Range: 3553_0841890201_R1S96805DII.FIT : 2019-05-03T21:31:24.000 - 2019-05-03T21:31:25.000\n",
      "odfingest:- Detected a data set with data mode 5 [Diagnostic]. This is know to contain the wrong DATE-END. I'm assigning to it an arbitrary duration of 1 second.\n",
      "odfingest:- Dataset Time Range: 3553_0841890201_R1S96906DII.FIT : 2019-05-03T21:31:24.000 - 2019-05-03T21:31:25.000\n",
      "odfingest:- Detected a data set with data mode 5 [Diagnostic]. This is know to contain the wrong DATE-END. I'm assigning to it an arbitrary duration of 1 second.\n",
      "odfingest:- Dataset Time Range: 3553_0841890201_R1S97008DII.FIT : 2019-05-03T21:31:24.000 - 2019-05-03T21:31:25.000\n",
      "odfingest:- Detected a data set with data mode 5 [Diagnostic]. This is know to contain the wrong DATE-END. I'm assigning to it an arbitrary duration of 1 second.\n",
      "odfingest:- Dataset Time Range: 3553_0841890201_R1S97109DII.FIT : 2019-05-03T21:31:24.000 - 2019-05-03T21:31:25.000\n",
      "odfingest:- Detected a data set with data mode 5 [Diagnostic]. This is know to contain the wrong DATE-END. I'm assigning to it an arbitrary duration of 1 second.\n",
      "odfingest:- Dataset Time Range: 3553_0841890201_R1S97201DII.FIT : 2019-05-03T21:31:24.000 - 2019-05-03T21:31:25.000\n",
      "odfingest:- Detected a data set with data mode 5 [Diagnostic]. This is know to contain the wrong DATE-END. I'm assigning to it an arbitrary duration of 1 second.\n",
      "odfingest:- Dataset Time Range: 3553_0841890201_R1S97302DII.FIT : 2019-05-03T21:31:24.000 - 2019-05-03T21:31:25.000\n",
      "odfingest:- Detected a data set with data mode 5 [Diagnostic]. This is know to contain the wrong DATE-END. I'm assigning to it an arbitrary duration of 1 second.\n",
      "odfingest:- Dataset Time Range: 3553_0841890201_R1S97403DII.FIT : 2019-05-03T21:31:24.000 - 2019-05-03T21:31:25.000\n",
      "odfingest:- Dataset Time Range: 3553_0841890201_R2S00500AUX.FIT : 2019-05-03T21:31:32.000 - 2019-05-05T05:08:19.000\n",
      "odfingest:- Dataset Time Range: 3553_0841890201_R2S00501SPE.FIT : 2019-05-03T21:31:32.000 - 2019-05-05T05:08:19.000\n",
      "odfingest:- Dataset Time Range: 3553_0841890201_R2S00502SPE.FIT : 2019-05-03T21:31:32.000 - 2019-05-05T05:08:19.000\n",
      "odfingest:- Dataset Time Range: 3553_0841890201_R2S00503SPE.FIT : 2019-05-03T21:31:32.000 - 2019-05-05T05:08:19.000\n",
      "odfingest:- Dataset Time Range: 3553_0841890201_R2S00505SPE.FIT : 2019-05-03T21:31:32.000 - 2019-05-05T05:08:19.000\n",
      "odfingest:- Dataset Time Range: 3553_0841890201_R2S00506SPE.FIT : 2019-05-03T21:31:32.000 - 2019-05-05T05:08:19.000\n",
      "odfingest:- Dataset Time Range: 3553_0841890201_R2S00507SPE.FIT : 2019-05-03T21:31:32.000 - 2019-05-05T05:08:19.000\n",
      "odfingest:- Dataset Time Range: 3553_0841890201_R2S00508SPE.FIT : 2019-05-03T21:31:32.000 - 2019-05-05T05:08:19.000\n",
      "odfingest:- Dataset Time Range: 3553_0841890201_R2S00509SPE.FIT : 2019-05-03T21:31:32.000 - 2019-05-05T05:08:19.000\n",
      "odfingest:- Detected a data set with data mode 5 [Diagnostic]. This is know to contain the wrong DATE-END. I'm assigning to it an arbitrary duration of 1 second.\n",
      "odfingest:- Dataset Time Range: 3553_0841890201_R2S90001DII.FIT : 2019-05-03T21:31:32.000 - 2019-05-03T21:31:33.000\n",
      "odfingest:- Detected a data set with data mode 5 [Diagnostic]. This is know to contain the wrong DATE-END. I'm assigning to it an arbitrary duration of 1 second.\n",
      "odfingest:- Dataset Time Range: 3553_0841890201_R2S90102DII.FIT : 2019-05-03T21:31:32.000 - 2019-05-03T21:31:33.000\n",
      "odfingest:- Detected a data set with data mode 5 [Diagnostic]. This is know to contain the wrong DATE-END. I'm assigning to it an arbitrary duration of 1 second.\n",
      "odfingest:- Dataset Time Range: 3553_0841890201_R2S90203DII.FIT : 2019-05-03T21:31:32.000 - 2019-05-03T21:31:33.000\n",
      "odfingest:- Detected a data set with data mode 5 [Diagnostic]. This is know to contain the wrong DATE-END. I'm assigning to it an arbitrary duration of 1 second.\n",
      "odfingest:- Dataset Time Range: 3553_0841890201_R2S90305DII.FIT : 2019-05-03T21:31:32.000 - 2019-05-03T21:31:33.000\n",
      "odfingest:- Detected a data set with data mode 5 [Diagnostic]. This is know to contain the wrong DATE-END. I'm assigning to it an arbitrary duration of 1 second.\n",
      "odfingest:- Dataset Time Range: 3553_0841890201_R2S90406DII.FIT : 2019-05-03T21:31:32.000 - 2019-05-03T21:31:33.000\n",
      "odfingest:- Detected a data set with data mode 5 [Diagnostic]. This is know to contain the wrong DATE-END. I'm assigning to it an arbitrary duration of 1 second.\n",
      "odfingest:- Dataset Time Range: 3553_0841890201_R2S90507DII.FIT : 2019-05-03T21:31:32.000 - 2019-05-03T21:31:33.000\n",
      "odfingest:- Detected a data set with data mode 5 [Diagnostic]. This is know to contain the wrong DATE-END. I'm assigning to it an arbitrary duration of 1 second.\n",
      "odfingest:- Dataset Time Range: 3553_0841890201_R2S90608DII.FIT : 2019-05-03T21:31:32.000 - 2019-05-03T21:31:33.000\n",
      "odfingest:- Detected a data set with data mode 5 [Diagnostic]. This is know to contain the wrong DATE-END. I'm assigning to it an arbitrary duration of 1 second.\n",
      "odfingest:- Dataset Time Range: 3553_0841890201_R2S90709DII.FIT : 2019-05-03T21:31:32.000 - 2019-05-03T21:31:33.000\n",
      "odfingest:- Detected a data set with data mode 5 [Diagnostic]. This is know to contain the wrong DATE-END. I'm assigning to it an arbitrary duration of 1 second.\n",
      "odfingest:- Dataset Time Range: 3553_0841890201_R2S90801DII.FIT : 2019-05-03T21:31:32.000 - 2019-05-03T21:31:33.000\n",
      "odfingest:- Detected a data set with data mode 5 [Diagnostic]. This is know to contain the wrong DATE-END. I'm assigning to it an arbitrary duration of 1 second.\n",
      "odfingest:- Dataset Time Range: 3553_0841890201_R2S90902DII.FIT : 2019-05-03T21:31:32.000 - 2019-05-03T21:31:33.000\n",
      "odfingest:- Detected a data set with data mode 5 [Diagnostic]. This is know to contain the wrong DATE-END. I'm assigning to it an arbitrary duration of 1 second.\n",
      "odfingest:- Dataset Time Range: 3553_0841890201_R2S91003DII.FIT : 2019-05-03T21:31:32.000 - 2019-05-03T21:31:33.000\n",
      "odfingest:- Detected a data set with data mode 5 [Diagnostic]. This is know to contain the wrong DATE-END. I'm assigning to it an arbitrary duration of 1 second.\n",
      "odfingest:- Dataset Time Range: 3553_0841890201_R2S91105DII.FIT : 2019-05-03T21:31:32.000 - 2019-05-03T21:31:33.000\n",
      "odfingest:- Detected a data set with data mode 5 [Diagnostic]. This is know to contain the wrong DATE-END. I'm assigning to it an arbitrary duration of 1 second.\n",
      "odfingest:- Dataset Time Range: 3553_0841890201_R2S91206DII.FIT : 2019-05-03T21:31:32.000 - 2019-05-03T21:31:33.000\n",
      "odfingest:- Detected a data set with data mode 5 [Diagnostic]. This is know to contain the wrong DATE-END. I'm assigning to it an arbitrary duration of 1 second.\n",
      "odfingest:- Dataset Time Range: 3553_0841890201_R2S91307DII.FIT : 2019-05-03T21:31:32.000 - 2019-05-03T21:31:33.000\n",
      "odfingest:- Detected a data set with data mode 5 [Diagnostic]. This is know to contain the wrong DATE-END. I'm assigning to it an arbitrary duration of 1 second.\n",
      "odfingest:- Dataset Time Range: 3553_0841890201_R2S91408DII.FIT : 2019-05-03T21:31:32.000 - 2019-05-03T21:31:33.000\n",
      "odfingest:- Detected a data set with data mode 5 [Diagnostic]. This is know to contain the wrong DATE-END. I'm assigning to it an arbitrary duration of 1 second.\n",
      "odfingest:- Dataset Time Range: 3553_0841890201_R2S91509DII.FIT : 2019-05-03T21:31:32.000 - 2019-05-03T21:31:33.000\n",
      "odfingest:- Detected a data set with data mode 5 [Diagnostic]. This is know to contain the wrong DATE-END. I'm assigning to it an arbitrary duration of 1 second.\n",
      "odfingest:- Dataset Time Range: 3553_0841890201_R2S91601DII.FIT : 2019-05-03T21:31:32.000 - 2019-05-03T21:31:33.000\n",
      "odfingest:- Detected a data set with data mode 5 [Diagnostic]. This is know to contain the wrong DATE-END. I'm assigning to it an arbitrary duration of 1 second.\n",
      "odfingest:- Dataset Time Range: 3553_0841890201_R2S91702DII.FIT : 2019-05-03T21:31:32.000 - 2019-05-03T21:31:33.000\n",
      "odfingest:- Detected a data set with data mode 5 [Diagnostic]. This is know to contain the wrong DATE-END. I'm assigning to it an arbitrary duration of 1 second.\n",
      "odfingest:- Dataset Time Range: 3553_0841890201_R2S91803DII.FIT : 2019-05-03T21:31:32.000 - 2019-05-03T21:31:33.000\n",
      "odfingest:- Detected a data set with data mode 5 [Diagnostic]. This is know to contain the wrong DATE-END. I'm assigning to it an arbitrary duration of 1 second.\n",
      "odfingest:- Dataset Time Range: 3553_0841890201_R2S91905DII.FIT : 2019-05-03T21:31:32.000 - 2019-05-03T21:31:33.000\n",
      "odfingest:- Detected a data set with data mode 5 [Diagnostic]. This is know to contain the wrong DATE-END. I'm assigning to it an arbitrary duration of 1 second.\n",
      "odfingest:- Dataset Time Range: 3553_0841890201_R2S92006DII.FIT : 2019-05-03T21:31:32.000 - 2019-05-03T21:31:33.000\n",
      "odfingest:- Detected a data set with data mode 5 [Diagnostic]. This is know to contain the wrong DATE-END. I'm assigning to it an arbitrary duration of 1 second.\n",
      "odfingest:- Dataset Time Range: 3553_0841890201_R2S92107DII.FIT : 2019-05-03T21:31:32.000 - 2019-05-03T21:31:33.000\n",
      "odfingest:- Detected a data set with data mode 5 [Diagnostic]. This is know to contain the wrong DATE-END. I'm assigning to it an arbitrary duration of 1 second.\n",
      "odfingest:- Dataset Time Range: 3553_0841890201_R2S92208DII.FIT : 2019-05-03T21:31:32.000 - 2019-05-03T21:31:33.000\n",
      "odfingest:- Detected a data set with data mode 5 [Diagnostic]. This is know to contain the wrong DATE-END. I'm assigning to it an arbitrary duration of 1 second.\n",
      "odfingest:- Dataset Time Range: 3553_0841890201_R2S92309DII.FIT : 2019-05-03T21:31:32.000 - 2019-05-03T21:31:33.000\n",
      "odfingest:- Detected a data set with data mode 5 [Diagnostic]. This is know to contain the wrong DATE-END. I'm assigning to it an arbitrary duration of 1 second.\n",
      "odfingest:- Dataset Time Range: 3553_0841890201_R2S92401DII.FIT : 2019-05-03T21:31:32.000 - 2019-05-03T21:31:33.000\n",
      "odfingest:- Dataset Time Range: 3553_0841890201_PNU20104ODI.FIT : 2019-05-03T22:09:11.000 - 2019-05-03T22:09:37.000\n",
      "odfingest:- Observation Time Range: 2019-05-03T21:31:24.000 - 2019-05-05T05:08:19.000\n",
      "odfingest:- M1/S001 start = 2019-05-03T22:15:45.000 end = 2019-05-05T05:02:29.000\n",
      "odfingest:- M1/S001 start = 2019-05-03T22:15:45.000 end = 2019-05-05T05:02:29.000\n",
      "odfingest:- M1/S001 start = 2019-05-03T22:15:45.000 end = 2019-05-05T05:02:29.000\n",
      "odfingest:- M1/S001 start = 2019-05-03T22:15:45.000 end = 2019-05-05T05:02:29.000\n",
      "odfingest:- M1/S001 start = 2019-05-03T22:15:45.000 end = 2019-05-05T05:02:29.000\n",
      "odfingest:- M1/S001 start = 2019-05-03T22:15:45.000 end = 2019-05-05T05:02:29.000\n",
      "odfingest:- M1/S400 start = 2019-05-03T21:31:47.000 end = 2019-05-03T21:31:48.000\n",
      "odfingest:- M1/S401 start = 2019-05-03T21:40:24.000 end = 2019-05-03T21:40:25.000\n",
      "odfingest:- M1/S402 start = 2019-05-03T21:49:02.000 end = 2019-05-03T21:49:03.000\n",
      "odfingest:- M1/S403 start = 2019-05-03T21:57:41.000 end = 2019-05-03T21:57:42.000\n",
      "odfingest:- M2/S002 start = 2019-05-03T21:32:23.000 end = 2019-05-05T05:00:01.000\n",
      "odfingest:- M2/S002 start = 2019-05-03T21:32:23.000 end = 2019-05-05T05:00:01.000\n",
      "odfingest:- M2/S002 start = 2019-05-03T21:32:23.000 end = 2019-05-05T05:00:01.000\n",
      "odfingest:- M2/S002 start = 2019-05-03T21:32:23.000 end = 2019-05-05T05:00:01.000\n",
      "odfingest:- M2/S002 start = 2019-05-03T21:32:23.000 end = 2019-05-05T05:00:01.000\n",
      "odfingest:- M2/S002 start = 2019-05-03T21:32:23.000 end = 2019-05-05T05:00:01.000\n",
      "odfingest:- M2/S002 start = 2019-05-03T21:32:23.000 end = 2019-05-05T05:00:01.000\n",
      "odfingest:- M2/S002 start = 2019-05-03T21:32:23.000 end = 2019-05-05T05:00:01.000\n",
      "odfingest:- M2/S002 start = 2019-05-03T21:32:23.000 end = 2019-05-05T05:00:01.000\n",
      "odfingest:- R1/S004 start = 2019-05-03T21:31:24.000 end = 2019-05-05T05:08:17.000\n",
      "odfingest:- R1/S004 start = 2019-05-03T21:31:24.000 end = 2019-05-05T05:08:17.000\n",
      "odfingest:- R1/S004 start = 2019-05-03T21:31:24.000 end = 2019-05-05T05:08:17.000\n",
      "odfingest:- R1/S004 start = 2019-05-03T21:31:24.000 end = 2019-05-05T05:08:17.000\n",
      "odfingest:- R1/S004 start = 2019-05-03T21:31:24.000 end = 2019-05-05T05:08:17.000\n",
      "odfingest:- R1/S004 start = 2019-05-03T21:31:24.000 end = 2019-05-05T05:08:17.000\n",
      "odfingest:- R1/S004 start = 2019-05-03T21:31:24.000 end = 2019-05-05T05:08:17.000\n",
      "odfingest:- R1/S004 start = 2019-05-03T21:31:24.000 end = 2019-05-05T05:08:17.000\n",
      "odfingest:- R1/S004 start = 2019-05-03T21:31:24.000 end = 2019-05-05T05:08:17.000\n",
      "odfingest:- R1/S900 start = 2019-05-03T21:31:24.000 end = 2019-05-03T21:31:25.000\n",
      "odfingest:- R1/S901 start = 2019-05-03T21:31:24.000 end = 2019-05-03T21:31:25.000\n",
      "odfingest:- R1/S902 start = 2019-05-03T21:31:24.000 end = 2019-05-03T21:31:25.000\n",
      "odfingest:- R1/S903 start = 2019-05-03T21:31:24.000 end = 2019-05-03T21:31:25.000\n",
      "odfingest:- R1/S904 start = 2019-05-03T21:31:24.000 end = 2019-05-03T21:31:25.000\n",
      "odfingest:- R1/S905 start = 2019-05-03T21:31:24.000 end = 2019-05-03T21:31:25.000\n",
      "odfingest:- R1/S906 start = 2019-05-03T21:31:24.000 end = 2019-05-03T21:31:25.000\n",
      "odfingest:- R1/S907 start = 2019-05-03T21:31:24.000 end = 2019-05-03T21:31:25.000\n",
      "odfingest:- R1/S908 start = 2019-05-03T21:31:24.000 end = 2019-05-03T21:31:25.000\n",
      "odfingest:- R1/S909 start = 2019-05-03T21:31:24.000 end = 2019-05-03T21:31:25.000\n",
      "odfingest:- R1/S910 start = 2019-05-03T21:31:24.000 end = 2019-05-03T21:31:25.000\n",
      "odfingest:- R1/S911 start = 2019-05-03T21:31:24.000 end = 2019-05-03T21:31:25.000\n",
      "odfingest:- R1/S912 start = 2019-05-03T21:31:24.000 end = 2019-05-03T21:31:25.000\n",
      "odfingest:- R1/S913 start = 2019-05-03T21:31:24.000 end = 2019-05-03T21:31:25.000\n",
      "odfingest:- R1/S914 start = 2019-05-03T21:31:24.000 end = 2019-05-03T21:31:25.000\n",
      "odfingest:- R1/S915 start = 2019-05-03T21:31:24.000 end = 2019-05-03T21:31:25.000\n",
      "odfingest:- R1/S916 start = 2019-05-03T21:31:24.000 end = 2019-05-03T21:31:25.000\n",
      "odfingest:- R1/S917 start = 2019-05-03T21:31:24.000 end = 2019-05-03T21:31:25.000\n",
      "odfingest:- R1/S918 start = 2019-05-03T21:31:24.000 end = 2019-05-03T21:31:25.000\n",
      "odfingest:- R1/S919 start = 2019-05-03T21:31:24.000 end = 2019-05-03T21:31:25.000\n",
      "odfingest:- R1/S920 start = 2019-05-03T21:31:24.000 end = 2019-05-03T21:31:25.000\n",
      "odfingest:- R1/S921 start = 2019-05-03T21:31:24.000 end = 2019-05-03T21:31:25.000\n",
      "odfingest:- R1/S922 start = 2019-05-03T21:31:24.000 end = 2019-05-03T21:31:25.000\n",
      "odfingest:- R1/S923 start = 2019-05-03T21:31:24.000 end = 2019-05-03T21:31:25.000\n",
      "odfingest:- R1/S924 start = 2019-05-03T21:31:24.000 end = 2019-05-03T21:31:25.000\n",
      "odfingest:- R1/S925 start = 2019-05-03T21:31:24.000 end = 2019-05-03T21:31:25.000\n",
      "odfingest:- R1/S926 start = 2019-05-03T21:31:24.000 end = 2019-05-03T21:31:25.000\n",
      "odfingest:- R1/S927 start = 2019-05-03T21:31:24.000 end = 2019-05-03T21:31:25.000\n",
      "odfingest:- R1/S928 start = 2019-05-03T21:31:24.000 end = 2019-05-03T21:31:25.000\n",
      "odfingest:- R1/S929 start = 2019-05-03T21:31:24.000 end = 2019-05-03T21:31:25.000\n",
      "odfingest:- R1/S930 start = 2019-05-03T21:31:24.000 end = 2019-05-03T21:31:25.000\n",
      "odfingest:- R1/S931 start = 2019-05-03T21:31:24.000 end = 2019-05-03T21:31:25.000\n",
      "odfingest:- R1/S932 start = 2019-05-03T21:31:24.000 end = 2019-05-03T21:31:25.000\n",
      "odfingest:- R1/S933 start = 2019-05-03T21:31:24.000 end = 2019-05-03T21:31:25.000\n",
      "odfingest:- R1/S934 start = 2019-05-03T21:31:24.000 end = 2019-05-03T21:31:25.000\n",
      "odfingest:- R1/S935 start = 2019-05-03T21:31:24.000 end = 2019-05-03T21:31:25.000\n",
      "odfingest:- R1/S936 start = 2019-05-03T21:31:24.000 end = 2019-05-03T21:31:25.000\n",
      "odfingest:- R1/S937 start = 2019-05-03T21:31:24.000 end = 2019-05-03T21:31:25.000\n",
      "odfingest:- R1/S938 start = 2019-05-03T21:31:24.000 end = 2019-05-03T21:31:25.000\n",
      "odfingest:- R1/S939 start = 2019-05-03T21:31:24.000 end = 2019-05-03T21:31:25.000\n",
      "odfingest:- R1/S940 start = 2019-05-03T21:31:24.000 end = 2019-05-03T21:31:25.000\n",
      "odfingest:- R1/S941 start = 2019-05-03T21:31:24.000 end = 2019-05-03T21:31:25.000\n",
      "odfingest:- R1/S942 start = 2019-05-03T21:31:24.000 end = 2019-05-03T21:31:25.000\n",
      "odfingest:- R1/S943 start = 2019-05-03T21:31:24.000 end = 2019-05-03T21:31:25.000\n",
      "odfingest:- R1/S944 start = 2019-05-03T21:31:24.000 end = 2019-05-03T21:31:25.000\n",
      "odfingest:- R1/S945 start = 2019-05-03T21:31:24.000 end = 2019-05-03T21:31:25.000\n",
      "odfingest:- R1/S946 start = 2019-05-03T21:31:24.000 end = 2019-05-03T21:31:25.000\n",
      "odfingest:- R1/S947 start = 2019-05-03T21:31:24.000 end = 2019-05-03T21:31:25.000\n",
      "odfingest:- R1/S948 start = 2019-05-03T21:31:24.000 end = 2019-05-03T21:31:25.000\n",
      "odfingest:- R1/S949 start = 2019-05-03T21:31:24.000 end = 2019-05-03T21:31:25.000\n",
      "odfingest:- R1/S950 start = 2019-05-03T21:31:24.000 end = 2019-05-03T21:31:25.000\n",
      "odfingest:- R1/S951 start = 2019-05-03T21:31:24.000 end = 2019-05-03T21:31:25.000\n",
      "odfingest:- R1/S952 start = 2019-05-03T21:31:24.000 end = 2019-05-03T21:31:25.000\n",
      "odfingest:- R1/S953 start = 2019-05-03T21:31:24.000 end = 2019-05-03T21:31:25.000\n",
      "odfingest:- R1/S954 start = 2019-05-03T21:31:24.000 end = 2019-05-03T21:31:25.000\n",
      "odfingest:- R1/S955 start = 2019-05-03T21:31:24.000 end = 2019-05-03T21:31:25.000\n",
      "odfingest:- R1/S956 start = 2019-05-03T21:31:24.000 end = 2019-05-03T21:31:25.000\n",
      "odfingest:- R1/S957 start = 2019-05-03T21:31:24.000 end = 2019-05-03T21:31:25.000\n",
      "odfingest:- R1/S958 start = 2019-05-03T21:31:24.000 end = 2019-05-03T21:31:25.000\n",
      "odfingest:- R1/S959 start = 2019-05-03T21:31:24.000 end = 2019-05-03T21:31:25.000\n",
      "odfingest:- R1/S960 start = 2019-05-03T21:31:24.000 end = 2019-05-03T21:31:25.000\n",
      "odfingest:- R1/S961 start = 2019-05-03T21:31:24.000 end = 2019-05-03T21:31:25.000\n",
      "odfingest:- R1/S962 start = 2019-05-03T21:31:24.000 end = 2019-05-03T21:31:25.000\n",
      "odfingest:- R1/S963 start = 2019-05-03T21:31:24.000 end = 2019-05-03T21:31:25.000\n",
      "odfingest:- R1/S964 start = 2019-05-03T21:31:24.000 end = 2019-05-03T21:31:25.000\n",
      "odfingest:- R1/S965 start = 2019-05-03T21:31:24.000 end = 2019-05-03T21:31:25.000\n",
      "odfingest:- R1/S966 start = 2019-05-03T21:31:24.000 end = 2019-05-03T21:31:25.000\n",
      "odfingest:- R1/S967 start = 2019-05-03T21:31:24.000 end = 2019-05-03T21:31:25.000\n",
      "odfingest:- R1/S968 start = 2019-05-03T21:31:24.000 end = 2019-05-03T21:31:25.000\n",
      "odfingest:- R1/S969 start = 2019-05-03T21:31:24.000 end = 2019-05-03T21:31:25.000\n",
      "odfingest:- R1/S970 start = 2019-05-03T21:31:24.000 end = 2019-05-03T21:31:25.000\n",
      "odfingest:- R1/S971 start = 2019-05-03T21:31:24.000 end = 2019-05-03T21:31:25.000\n",
      "odfingest:- R1/S972 start = 2019-05-03T21:31:24.000 end = 2019-05-03T21:31:25.000\n",
      "odfingest:- R1/S973 start = 2019-05-03T21:31:24.000 end = 2019-05-03T21:31:25.000\n",
      "odfingest:- R1/S974 start = 2019-05-03T21:31:24.000 end = 2019-05-03T21:31:25.000\n",
      "odfingest:- R2/S005 start = 2019-05-03T21:31:32.000 end = 2019-05-05T05:08:19.000\n",
      "odfingest:- R2/S005 start = 2019-05-03T21:31:32.000 end = 2019-05-05T05:08:19.000\n",
      "odfingest:- R2/S005 start = 2019-05-03T21:31:32.000 end = 2019-05-05T05:08:19.000\n",
      "odfingest:- R2/S005 start = 2019-05-03T21:31:32.000 end = 2019-05-05T05:08:19.000\n",
      "odfingest:- R2/S005 start = 2019-05-03T21:31:32.000 end = 2019-05-05T05:08:19.000\n",
      "odfingest:- R2/S005 start = 2019-05-03T21:31:32.000 end = 2019-05-05T05:08:19.000\n",
      "odfingest:- R2/S005 start = 2019-05-03T21:31:32.000 end = 2019-05-05T05:08:19.000\n",
      "odfingest:- R2/S005 start = 2019-05-03T21:31:32.000 end = 2019-05-05T05:08:19.000\n",
      "odfingest:- R2/S005 start = 2019-05-03T21:31:32.000 end = 2019-05-05T05:08:19.000\n",
      "odfingest:- R2/S900 start = 2019-05-03T21:31:32.000 end = 2019-05-03T21:31:33.000\n",
      "odfingest:- R2/S901 start = 2019-05-03T21:31:32.000 end = 2019-05-03T21:31:33.000\n",
      "odfingest:- R2/S902 start = 2019-05-03T21:31:32.000 end = 2019-05-03T21:31:33.000\n",
      "odfingest:- R2/S903 start = 2019-05-03T21:31:32.000 end = 2019-05-03T21:31:33.000\n",
      "odfingest:- R2/S904 start = 2019-05-03T21:31:32.000 end = 2019-05-03T21:31:33.000\n",
      "odfingest:- R2/S905 start = 2019-05-03T21:31:32.000 end = 2019-05-03T21:31:33.000\n",
      "odfingest:- R2/S906 start = 2019-05-03T21:31:32.000 end = 2019-05-03T21:31:33.000\n",
      "odfingest:- R2/S907 start = 2019-05-03T21:31:32.000 end = 2019-05-03T21:31:33.000\n",
      "odfingest:- R2/S908 start = 2019-05-03T21:31:32.000 end = 2019-05-03T21:31:33.000\n",
      "odfingest:- R2/S909 start = 2019-05-03T21:31:32.000 end = 2019-05-03T21:31:33.000\n",
      "odfingest:- R2/S910 start = 2019-05-03T21:31:32.000 end = 2019-05-03T21:31:33.000\n",
      "odfingest:- R2/S911 start = 2019-05-03T21:31:32.000 end = 2019-05-03T21:31:33.000\n",
      "odfingest:- R2/S912 start = 2019-05-03T21:31:32.000 end = 2019-05-03T21:31:33.000\n",
      "odfingest:- R2/S913 start = 2019-05-03T21:31:32.000 end = 2019-05-03T21:31:33.000\n",
      "odfingest:- R2/S914 start = 2019-05-03T21:31:32.000 end = 2019-05-03T21:31:33.000\n",
      "odfingest:- R2/S915 start = 2019-05-03T21:31:32.000 end = 2019-05-03T21:31:33.000\n",
      "odfingest:- R2/S916 start = 2019-05-03T21:31:32.000 end = 2019-05-03T21:31:33.000\n",
      "odfingest:- R2/S917 start = 2019-05-03T21:31:32.000 end = 2019-05-03T21:31:33.000\n",
      "odfingest:- R2/S918 start = 2019-05-03T21:31:32.000 end = 2019-05-03T21:31:33.000\n",
      "odfingest:- R2/S919 start = 2019-05-03T21:31:32.000 end = 2019-05-03T21:31:33.000\n",
      "odfingest:- R2/S920 start = 2019-05-03T21:31:32.000 end = 2019-05-03T21:31:33.000\n",
      "odfingest:- R2/S921 start = 2019-05-03T21:31:32.000 end = 2019-05-03T21:31:33.000\n",
      "odfingest:- R2/S922 start = 2019-05-03T21:31:32.000 end = 2019-05-03T21:31:33.000\n",
      "odfingest:- R2/S923 start = 2019-05-03T21:31:32.000 end = 2019-05-03T21:31:33.000\n",
      "odfingest:- R2/S924 start = 2019-05-03T21:31:32.000 end = 2019-05-03T21:31:33.000\n",
      "odfingest:- PN/S003 start = 2019-05-03T22:09:45.000 end = 2019-05-05T05:04:28.000\n",
      "odfingest:- PN/S003 start = 2019-05-03T22:09:45.000 end = 2019-05-05T05:04:28.000\n",
      "odfingest:- PN/S003 start = 2019-05-03T22:09:45.000 end = 2019-05-05T05:04:28.000\n",
      "odfingest:- PN/U201 start = 2019-05-03T22:09:11.000 end = 2019-05-03T22:09:37.000\n",
      "odfingest:- OM/S020 start = 2019-05-03T21:54:26.000 end = 2019-05-03T21:54:45.000\n",
      "odfingest:- OM/S020 start = 2019-05-03T21:54:26.000 end = 2019-05-03T21:54:45.000\n",
      "odfingest:- OM/S020 start = 2019-05-03T21:54:26.000 end = 2019-05-03T21:54:45.000\n",
      "odfingest:- OM/S021 start = 2019-05-03T22:20:38.000 end = 2019-05-03T23:27:18.000\n",
      "odfingest:- OM/S021 start = 2019-05-03T22:20:38.000 end = 2019-05-03T23:27:18.000\n",
      "odfingest:- OM/S022 start = 2019-05-04T01:43:04.000 end = 2019-05-04T02:49:42.000\n",
      "odfingest:- OM/S022 start = 2019-05-04T01:43:04.000 end = 2019-05-04T02:49:42.000\n",
      "odfingest:- OM/S023 start = 2019-05-04T05:05:26.000 end = 2019-05-04T06:12:07.000\n",
      "odfingest:- OM/S023 start = 2019-05-04T05:05:26.000 end = 2019-05-04T06:12:07.000\n",
      "odfingest:- OM/S024 start = 2019-05-04T08:27:44.000 end = 2019-05-04T09:34:26.000\n",
      "odfingest:- OM/S024 start = 2019-05-04T08:27:44.000 end = 2019-05-04T09:34:26.000\n",
      "odfingest:- OM/S025 start = 2019-05-04T11:52:25.000 end = 2019-05-04T12:59:05.000\n",
      "odfingest:- OM/S025 start = 2019-05-04T11:52:25.000 end = 2019-05-04T12:59:05.000\n",
      "odfingest:- OM/S026 start = 2019-05-04T15:16:26.000 end = 2019-05-04T15:16:45.000\n",
      "odfingest:- OM/S026 start = 2019-05-04T15:16:26.000 end = 2019-05-04T15:16:45.000\n",
      "odfingest:- OM/S026 start = 2019-05-04T15:16:26.000 end = 2019-05-04T15:16:45.000\n",
      "odfingest:- M1/S001 start = 2019-05-03T22:15:45.000 end = 2019-05-05T05:02:29.000\n",
      "odfingest:- M1/S001 start = 2019-05-03T22:15:45.000 end = 2019-05-05T05:02:29.000\n"
     ]
    },
    {
     "name": "stderr",
     "output_type": "stream",
     "text": [
      "** odfingest: error (DataSetNotFound), The CCF does not contain a EMOS1/MODEPARAM file - also tried the version in the telescope and satellite scope\n",
      "startsas - ERROR - odfingest failed to complete\n",
      "ERROR:startsas:odfingest failed to complete\n"
     ]
    },
    {
     "ename": "Exception",
     "evalue": "odfingest failed to complete.",
     "output_type": "error",
     "traceback": [
      "\u001b[0;31m---------------------------------------------------------------------------\u001b[0m",
      "\u001b[0;31mException\u001b[0m                                 Traceback (most recent call last)",
      "Cell \u001b[0;32mIn[6], line 2\u001b[0m\n\u001b[1;32m      1\u001b[0m t \u001b[38;5;241m=\u001b[39m w(\u001b[38;5;124m'\u001b[39m\u001b[38;5;124mstartsas\u001b[39m\u001b[38;5;124m'\u001b[39m,[\u001b[38;5;124m'\u001b[39m\u001b[38;5;124modfid=0841890201\u001b[39m\u001b[38;5;124m'\u001b[39m])\n\u001b[0;32m----> 2\u001b[0m \u001b[43mt\u001b[49m\u001b[38;5;241;43m.\u001b[39;49m\u001b[43mrun\u001b[49m\u001b[43m(\u001b[49m\u001b[43m)\u001b[49m\n",
      "File \u001b[0;32m/usr/local/SAS/xmmsas_20230412_1735/lib/python/pysas/wrapper.py:49\u001b[0m, in \u001b[0;36mWrapper.run\u001b[0;34m(self)\u001b[0m\n\u001b[1;32m     47\u001b[0m t\u001b[38;5;241m.\u001b[39mreadparfile()\n\u001b[1;32m     48\u001b[0m t\u001b[38;5;241m.\u001b[39mprocessargs()\n\u001b[0;32m---> 49\u001b[0m \u001b[43mt\u001b[49m\u001b[38;5;241;43m.\u001b[39;49m\u001b[43mruntask\u001b[49m\u001b[43m(\u001b[49m\u001b[43m)\u001b[49m\n",
      "File \u001b[0;32m/usr/local/SAS/xmmsas_20230412_1735/lib/python/pysas/sastask.py:329\u001b[0m, in \u001b[0;36mMyTask.runtask\u001b[0;34m(self)\u001b[0m\n\u001b[1;32m    327\u001b[0m     \u001b[38;5;28;01mreturn\u001b[39;00m \u001b[38;5;28mself\u001b[39m\u001b[38;5;241m.\u001b[39mExit\n\u001b[1;32m    328\u001b[0m r \u001b[38;5;241m=\u001b[39m RunTask(\u001b[38;5;28mself\u001b[39m\u001b[38;5;241m.\u001b[39mtaskname, \u001b[38;5;28mself\u001b[39m\u001b[38;5;241m.\u001b[39miparsdic,\u001b[38;5;28mself\u001b[39m\u001b[38;5;241m.\u001b[39mlogFile)\n\u001b[0;32m--> 329\u001b[0m \u001b[43mr\u001b[49m\u001b[38;5;241;43m.\u001b[39;49m\u001b[43mrun\u001b[49m\u001b[43m(\u001b[49m\u001b[43m)\u001b[49m\n",
      "File \u001b[0;32m/usr/local/SAS/xmmsas_20230412_1735/lib/python/pysas/runtask.py:94\u001b[0m, in \u001b[0;36mRunTask.run\u001b[0;34m(self)\u001b[0m\n\u001b[1;32m     90\u001b[0m \u001b[38;5;28;01mif\u001b[39;00m \u001b[38;5;28mself\u001b[39m\u001b[38;5;241m.\u001b[39mtaskname \u001b[38;5;129;01min\u001b[39;00m pysaspkgs:\n\u001b[1;32m     92\u001b[0m     m \u001b[38;5;241m=\u001b[39m import_module(\u001b[38;5;124m'\u001b[39m\u001b[38;5;124mpysas.\u001b[39m\u001b[38;5;124m'\u001b[39m \u001b[38;5;241m+\u001b[39m \u001b[38;5;28mself\u001b[39m\u001b[38;5;241m.\u001b[39mtaskname \u001b[38;5;241m+\u001b[39m \u001b[38;5;124m'\u001b[39m\u001b[38;5;124m.\u001b[39m\u001b[38;5;124m'\u001b[39m \u001b[38;5;241m+\u001b[39m \u001b[38;5;28mself\u001b[39m\u001b[38;5;241m.\u001b[39mtaskname)\n\u001b[0;32m---> 94\u001b[0m     \u001b[43mm\u001b[49m\u001b[38;5;241;43m.\u001b[39;49m\u001b[43mrun\u001b[49m\u001b[43m(\u001b[49m\u001b[38;5;28;43mself\u001b[39;49m\u001b[38;5;241;43m.\u001b[39;49m\u001b[43miparsdic\u001b[49m\u001b[43m)\u001b[49m\n\u001b[1;32m     96\u001b[0m \u001b[38;5;28;01melse\u001b[39;00m:\n\u001b[1;32m     97\u001b[0m     cmd \u001b[38;5;241m=\u001b[39m \u001b[38;5;124m'\u001b[39m\u001b[38;5;124m'\u001b[39m\n",
      "File \u001b[0;32m/usr/local/SAS/xmmsas_20230412_1735/lib/python/pysas/startsas/startsas.py:328\u001b[0m, in \u001b[0;36mrun\u001b[0;34m(iparsdic)\u001b[0m\n\u001b[1;32m    326\u001b[0m \u001b[38;5;28;01mif\u001b[39;00m rc\u001b[38;5;241m.\u001b[39mreturncode \u001b[38;5;241m!=\u001b[39m \u001b[38;5;241m0\u001b[39m:\n\u001b[1;32m    327\u001b[0m     logger\u001b[38;5;241m.\u001b[39mlog(\u001b[38;5;124m'\u001b[39m\u001b[38;5;124merror\u001b[39m\u001b[38;5;124m'\u001b[39m, \u001b[38;5;124m'\u001b[39m\u001b[38;5;124modfingest failed to complete\u001b[39m\u001b[38;5;124m'\u001b[39m)\n\u001b[0;32m--> 328\u001b[0m     \u001b[38;5;28;01mraise\u001b[39;00m \u001b[38;5;167;01mException\u001b[39;00m(\u001b[38;5;124m'\u001b[39m\u001b[38;5;124modfingest failed to complete.\u001b[39m\u001b[38;5;124m'\u001b[39m)\n\u001b[1;32m    329\u001b[0m \u001b[38;5;28;01melse\u001b[39;00m:\n\u001b[1;32m    330\u001b[0m     logger\u001b[38;5;241m.\u001b[39mlog(\u001b[38;5;124m'\u001b[39m\u001b[38;5;124minfo\u001b[39m\u001b[38;5;124m'\u001b[39m, \u001b[38;5;124m'\u001b[39m\u001b[38;5;124modfingest successfully completed\u001b[39m\u001b[38;5;124m'\u001b[39m)\n",
      "\u001b[0;31mException\u001b[0m: odfingest failed to complete."
     ]
    }
   ],
   "source": [
    "t = w('startsas',['odfid=0841890201'])\n",
    "t.run()"
   ]
  },
  {
   "cell_type": "markdown",
   "id": "a5ec6d54-f76d-4a26-96f6-d35983ccec7e",
   "metadata": {},
   "source": [
    "* ### Running `epproc`"
   ]
  },
  {
   "cell_type": "code",
   "execution_count": 7,
   "id": "c8d26b1b-41d2-45b5-b9af-b0486132f8b3",
   "metadata": {
    "tags": []
   },
   "outputs": [],
   "source": [
    "wdir=f'{home}/my_workspace/Vela-work/XMM-SAS-Datalabs-Paper/VelaX1data18Dec'\n",
    "#os.mkdir(wdir) #uncomment this line if you want to make the directory\n",
    "os.chdir(wdir)"
   ]
  },
  {
   "cell_type": "code",
   "execution_count": 8,
   "id": "680012d5-d472-4f29-99d0-4c09bfcb3693",
   "metadata": {
    "tags": []
   },
   "outputs": [
    {
     "name": "stderr",
     "output_type": "stream",
     "text": [
      "startsas - WARNING - Executing /usr/local/SAS/xmmsas_20230412_1735/lib/python/pysas/startsas/startsas.py {'odfid': '', 'workdir': '/home/egulbaha/my_workspace/Vela-work/XMM-SAS-Datalabs-Paper/VelaX1data18Dec', 'sasfiles': 'yes', 'sas_ccf': '/home/egulbaha/my_workspace/Vela-work/XMM-SAS-Datalabs-Paper/VelaX1data18Dec/ccf.cif', 'sas_odf': '/home/egulbaha/my_workspace/Vela-work/XMM-SAS-Datalabs-Paper/VelaX1data18Dec/3553_0841890201_SCX00000SUM.SAS', 'level': 'ODF', 'cifbuild_opts': '', 'odfingest_opts': ''}\n",
      "WARNING:startsas:Executing /usr/local/SAS/xmmsas_20230412_1735/lib/python/pysas/startsas/startsas.py {'odfid': '', 'workdir': '/home/egulbaha/my_workspace/Vela-work/XMM-SAS-Datalabs-Paper/VelaX1data18Dec', 'sasfiles': 'yes', 'sas_ccf': '/home/egulbaha/my_workspace/Vela-work/XMM-SAS-Datalabs-Paper/VelaX1data18Dec/ccf.cif', 'sas_odf': '/home/egulbaha/my_workspace/Vela-work/XMM-SAS-Datalabs-Paper/VelaX1data18Dec/3553_0841890201_SCX00000SUM.SAS', 'level': 'ODF', 'cifbuild_opts': '', 'odfingest_opts': ''}\n",
      "INFO:startsas:LHEASOFT = /usr/local/heasoft-6.30.1/x86_64-pc-linux-gnu-libc2.31\n",
      "INFO:startsas:SAS_DIR = /usr/local/SAS/xmmsas_20230412_1735\n",
      "INFO:startsas:SAS_CCFPATH = /home/egulbaha/data/user/pub\n",
      "INFO:startsas:startsas was initiated from /media/user/Vela-work/XMM-SAS-Datalabs-Paper/VelaX1data18Dec\n",
      "INFO:startsas:Work directory = /home/egulbaha/my_workspace/Vela-work/XMM-SAS-Datalabs-Paper/VelaX1data18Dec\n",
      "INFO:startsas:Changed directory to /home/egulbaha/my_workspace/Vela-work/XMM-SAS-Datalabs-Paper/VelaX1data18Dec\n",
      "INFO:startsas:Will download ODF with level ODF\n",
      "INFO:startsas:/home/egulbaha/my_workspace/Vela-work/XMM-SAS-Datalabs-Paper/VelaX1data18Dec/ccf.cif is present\n",
      "INFO:startsas:/home/egulbaha/my_workspace/Vela-work/XMM-SAS-Datalabs-Paper/VelaX1data18Dec/3553_0841890201_SCX00000SUM.SAS is present\n",
      "INFO:startsas:SAS_CCF = /home/egulbaha/my_workspace/Vela-work/XMM-SAS-Datalabs-Paper/VelaX1data18Dec/ccf.cif\n",
      "INFO:startsas:SAS_ODF = /home/egulbaha/my_workspace/Vela-work/XMM-SAS-Datalabs-Paper/VelaX1data18Dec/3553_0841890201_SCX00000SUM.SAS\n"
     ]
    },
    {
     "name": "stdout",
     "output_type": "stream",
     "text": [
      "\n",
      "\n",
      "        Starting SAS session\n",
      "    \n",
      "        Working directory = /home/egulbaha/my_workspace/Vela-work/XMM-SAS-Datalabs-Paper/VelaX1data18Dec\n",
      "    \n",
      "        \n",
      "SAS_CCF = /home/egulbaha/my_workspace/Vela-work/XMM-SAS-Datalabs-Paper/VelaX1data18Dec/ccf.cif\n",
      "SAS_ODF = /home/egulbaha/my_workspace/Vela-work/XMM-SAS-Datalabs-Paper/VelaX1data18Dec/3553_0841890201_SCX00000SUM.SAS\n"
     ]
    }
   ],
   "source": [
    "inargs = [f'sas_ccf={wdir}/ccf.cif', f'sas_odf={wdir}/3553_0841890201_SCX00000SUM.SAS', f'workdir={wdir}']\n",
    "\n",
    "w('startsas', inargs).run()"
   ]
  },
  {
   "cell_type": "markdown",
   "id": "4c5c2b05-3fd1-4399-bbb6-d1e93e30be49",
   "metadata": {},
   "source": [
    "We will now apply `epproc` for this observation that has been taken in timing mode. Timing mode can be used for very bright sources (such as this observation of Vela X-1), which require a shorter readout time. In timing mode the arrival times of individual X-ray photons are recorded with high precision. Rather than focusing on spatial information, this mode emphasizes the temporal aspects of X-ray events, making it ideal for studying time-dependent phenomena. Timing mode can allow us to extract detailed information about periodicities, rotational periods, and other temporal characteristics, providing insights into the dynamic behavior of Vela X-1. The default intrinsic timing mode calibration settings when running the `epproc` task are shown below:\n",
    "```\n",
    "TIMING: withrdpha=“Y”, withxrlcorrection=“Y”, runepreject=“Y”, runepfast=“N”\n",
    "```\n",
    "One can change the default calibration settings by adding `withdefaultcal=“N”` as argument of the `epproc` task and set the aforementioned calibration parameters to their own preference. If further information is needed please refer to the thread *How to Reprocess ODFS to Generate Calibrated and Concatenated EPIC Event Lists* and to the Appendix of [Diez et al. (2023)](https://arxiv.org/pdf/2303.09631.pdf) for issues with default calibration settings when in timing mode. For this exercise, we apply the same calibration corrections as in [Diez et al. (2023)](https://arxiv.org/pdf/2303.09631.pdf)."
   ]
  },
  {
   "cell_type": "code",
   "execution_count": 9,
   "id": "9e69ecaa-0b13-48bb-b24b-c5cd2aef9514",
   "metadata": {
    "tags": []
   },
   "outputs": [
    {
     "name": "stdout",
     "output_type": "stream",
     "text": [
      "   SAS command to be executed: epproc, with arguments; \n",
      "\n"
     ]
    },
    {
     "data": {
      "text/plain": [
       "['withdefaultcal=no',\n",
       " 'withrdpha=no',\n",
       " 'runepreject=yes',\n",
       " 'withxrlcorrection=yes',\n",
       " 'runepfast=yes']"
      ]
     },
     "execution_count": 9,
     "metadata": {},
     "output_type": "execute_result"
    }
   ],
   "source": [
    "# SAS Command\n",
    "cmd    = 'epproc'  # SAS task to be executed\n",
    "\n",
    "# Arguments of SAS Command, leave empty if you want to run with default calibration settings for timing mode\n",
    "inargs = ['withdefaultcal=no', 'withrdpha=no', 'runepreject=yes', 'withxrlcorrection=yes', 'runepfast=yes']        #remove arguments for default cal\n",
    "# comma separated arguments for SAS task\n",
    "\n",
    "print(\"   SAS command to be executed: \"+cmd+\", with arguments; \\n\")\n",
    "inargs"
   ]
  },
  {
   "cell_type": "code",
   "execution_count": 10,
   "id": "47cc9cea-08fe-47b2-9f59-84fe2de95295",
   "metadata": {
    "tags": []
   },
   "outputs": [
    {
     "name": "stdout",
     "output_type": "stream",
     "text": [
      "Running epproc ..... \n",
      "\n",
      " > 1 EPIC-pn event list found. Not running epproc again.\n",
      "\n",
      "    3553_0841890201_EPN_S003_TimingEvts.ds\n",
      "\n",
      "..... OK\n"
     ]
    }
   ],
   "source": [
    "print(\"Running epproc ..... \\n\")\n",
    "\n",
    "# Check if epproc has already run. If it has, do not run again \n",
    "exists = 0\n",
    "pnevt_list = []\n",
    "for root, dirs, files in os.walk(\".\"):\n",
    "    for filename in files:\n",
    "        if (filename.find('EPN') != -1) and filename.endswith('TimingEvts.ds'):\n",
    "            pnevt_list.append(filename)\n",
    "            exists = 1\n",
    "if exists:\n",
    "    print(\" > \" + str(len(pnevt_list)) + \" EPIC-pn event list found. Not running epproc again.\\n\")\n",
    "    for x in pnevt_list:\n",
    "        print(\"    \" + x + \"\\n\")\n",
    "    print(\"..... OK\")\n",
    "else:\n",
    "    w(cmd,inargs).run()      # <<<<< Execute SAS task\n",
    "    exists = 0\n",
    "    pnevt_list = []\n",
    "    for root, dirs, files in os.walk(\".\"):\n",
    "        for filename in files:\n",
    "            if (filename.find('EPN') != -1) and filename.endswith('TimingEvts.ds'):\n",
    "                pnevt_list.append(filename)\n",
    "                exists = 1\n",
    "    if exists:\n",
    "        print(\" > \" + str(len(pnevt_list)) + \" EPIC-pn event list found after running epproc.\\n\")\n",
    "        for x in pnevt_list:\n",
    "            print(\"    \" + x + \"\\n\")\n",
    "        print(\"..... OK\")\n",
    "    else:\n",
    "        print(\"Something has gone wrong with epproc. I cant find any event list files after running. \\n\")"
   ]
  },
  {
   "cell_type": "markdown",
   "id": "0470ef61-eb93-436c-bb17-bcc69f34875a",
   "metadata": {},
   "source": [
    "* ### Do I need to apply filtering for flaring particle background?"
   ]
  },
  {
   "cell_type": "markdown",
   "id": "fc9aa3f1-2a5b-4465-8f00-852c7e8b57f6",
   "metadata": {},
   "source": [
    "You do not always need to apply filtering for flaring particle background. In this scenario the source brightness is high enough to not require any filtering, because the flux of the object would be in every case larger than the possible flaring particle background. However, let us demonstrate this is indeed the case for demonstration purposes by inspecting the source and flaring particle background lightcurves.\n",
    "\n",
    "We define our event file produced n the previous step:"
   ]
  },
  {
   "cell_type": "code",
   "execution_count": 11,
   "id": "44a1b886-7cc8-407a-8616-99d4a884ff23",
   "metadata": {
    "tags": []
   },
   "outputs": [],
   "source": [
    "eventfile = wdir+'/3553_0841890201_EPN_S003_TimingEvts.ds'"
   ]
  },
  {
   "cell_type": "code",
   "execution_count": 13,
   "id": "6f4f37aa-1e23-43c3-a66b-1982b0ad3de6",
   "metadata": {
    "tags": []
   },
   "outputs": [],
   "source": [
    "# Define a SAS filter expression to derive a background rate cut\n",
    "\n",
    "pn_pattern   = 0        # pattern selection\n",
    "pn_pi_min    = 10000.   # Low energy range eV\n",
    "pn_pi_max    = 12000.   # High energy range eV\n",
    "pn_threshold = 0.4      # cts/sec (only used here for display purposes)\n",
    "\n",
    "out_LCFile   = wdir+'/PN_bkg_nrjthreshold.fits'  # Name of the output BKG lightcurve"
   ]
  },
  {
   "cell_type": "markdown",
   "id": "69f6de95-da66-499a-a7d0-1fd36c1a57ee",
   "metadata": {},
   "source": [
    "The argument values can be altered depending on the user, these are only display numbers. After observing the produced light curve, the user can either come back and change values above and rerun the kernels or just copy the same kernels with the new values."
   ]
  },
  {
   "cell_type": "code",
   "execution_count": 22,
   "id": "cc7f43db-509e-4c12-aa40-0240261cd0b8",
   "metadata": {
    "tags": []
   },
   "outputs": [
    {
     "name": "stdout",
     "output_type": "stream",
     "text": [
      "   Filter expression to use: #XMMEA_EP&&(PI>=10000.0&&PI<=12000.0)&&(PATTERN==0) \n",
      "\n",
      "   SAS command to be executed: evselect, with arguments; \n",
      "\n"
     ]
    },
    {
     "data": {
      "text/plain": [
       "['table=/home/egulbaha/my_workspace/Vela-work/XMM-SAS-Datalabs-Paper/VelaX1data18Dec/3553_0841890201_EPN_S003_TimingEvts.ds',\n",
       " 'withrateset=Y',\n",
       " 'rateset=/home/egulbaha/my_workspace/Vela-work/XMM-SAS-Datalabs-Paper/VelaX1data06Jan/PN_bkg_nrjthreshold.fits',\n",
       " 'maketimecolumn=Y',\n",
       " 'timebinsize=100',\n",
       " 'makeratecolumn=Y',\n",
       " 'expression=#XMMEA_EP&&(PI>=10000.0&&PI<=12000.0)&&(PATTERN==0)']"
      ]
     },
     "execution_count": 22,
     "metadata": {},
     "output_type": "execute_result"
    }
   ],
   "source": [
    "# SAS Command\n",
    "cmd        = \"evselect\" # SAS task to be executed                  \n",
    "\n",
    "# Arguments of SAS Command\n",
    "expression = f'#XMMEA_EP&&(PI>={pn_pi_min}&&PI<={pn_pi_max})&&(PATTERN=={pn_pattern})'  # event filter expression\n",
    "inargs     = [f'table={eventfile}','withrateset=Y',f'rateset={out_LCFile}','maketimecolumn=Y','timebinsize=100','makeratecolumn=Y',f'expression={expression}']\n",
    "\n",
    "print(\"   Filter expression to use: \"+expression+\" \\n\")\n",
    "print(\"   SAS command to be executed: \"+cmd+\", with arguments; \\n\")\n",
    "inargs"
   ]
  },
  {
   "cell_type": "code",
   "execution_count": 23,
   "id": "0ec5b87e-d247-4172-9cfb-b8ee416c5c60",
   "metadata": {
    "tags": []
   },
   "outputs": [],
   "source": [
    "%%capture\n",
    "# Execute SAS task with parameters\n",
    "\n",
    "w(cmd, inargs).run()"
   ]
  },
  {
   "cell_type": "code",
   "execution_count": 14,
   "id": "05813fc1-b3c1-41e1-98c9-02448d730f92",
   "metadata": {
    "tags": []
   },
   "outputs": [
    {
     "data": {
      "application/vnd.plotly.v1+json": {
       "config": {
        "plotlyServerURL": "https://plot.ly"
       },
       "data": [
        {
         "error_y": {
          "array": [
           0.2785677655436824,
           0.2760434748368452,
           0.25495097567963926,
           0.24289915602982237,
           0.22090722034374521,
           0.21118712081942875,
           0.2083266665599966,
           0.24351591323771843,
           0.23727621035409346,
           0.2193171219946131,
           0.20928449536456348,
           0.232163735324878,
           0.19,
           0.194164878389476,
           0.22022715545545238,
           0.2039607805437114,
           0.23366642891095846,
           0.2785677655436824,
           0.26305892875931813,
           0.24738633753705963,
           0.2792848008753788,
           0.2541653005427767,
           0.2551470164434615,
           0.24413111231467405,
           0.23259406699226015,
           0.23979157616563598,
           0.22181073012818836,
           0.22781571499789036,
           0.2244994432064365,
           0.21470910553583888,
           0.19974984355438177,
           0.21377558326431947,
           0.20904544960366875,
           0.21908902300206645,
           0.23388031127053,
           0.22561028345356957,
           0.2161018278497431,
           0.20784609690826528,
           0.20784609690826528,
           0.19899748742132398,
           0.19570385790780925,
           0.2521904042583698,
           0.24372115213907883,
           0.23259406699226015,
           0.223606797749979,
           0.25573423705088844,
           0.21213203435596426,
           0.2253885533916929,
           0.272213151776324,
           0.24289915602982237,
           0.232379000772445,
           0.23043437243605827,
           0.22583179581272428,
           0.26134268690743956,
           0.23874672772626646,
           0.22803508501982758,
           0.2677685567799177,
           0.2389560629069704,
           0.23622023622035432,
           0.23558437978779495,
           0.20952326839756963,
           0.21748563170931548,
           0.23622023622035432,
           0.19570385790780925,
           0.2383275057562597,
           0.24758836806279894,
           0.20952326839756963,
           0.22158519806160337,
           0.2179449471770337,
           0.22737634001804147,
           0.23323807579381203,
           0.23021728866442676,
           0.24779023386727733,
           0.23916521486202796,
           0.24454038521274968,
           0.2694438717061496,
           0.25632011235952595,
           0.23302360395462088,
           0.2683281572999748,
           0.2720294101747089,
           0.23065125189341593,
           0.24535688292770594,
           0.2720294101747089,
           0.2449489742783178,
           0.2598076211353316,
           0.24372115213907883,
           0.24474476501040832,
           0.25337718918639857,
           0.27147743920996453,
           0.2615339366124404,
           0.22737634001804147,
           0.22494443758403984,
           0.26057628441590763,
           0.24657656011875903,
           0.23979157616563598,
           0.25729360660537215,
           0.2738612787525831,
           0.2521904042583698,
           0.25099800796022265,
           0.24020824298928628,
           0.2640075756488817,
           0.2567099530598687,
           0.23430749027719963,
           0.2694438717061496,
           0.23130067012440755,
           0.2181742422927143,
           0.25099800796022265,
           0.2383275057562597,
           0.23600847442411893,
           0.23727621035409346,
           0.22759613353482083,
           0.23366642891095846,
           0.23769728648009425,
           0.2658947160061666,
           0.22956480566497994,
           0.24979991993593592,
           0.2875760768909681,
           0.2539685019840059,
           0.2634387974463898,
           0.23600847442411893,
           0.26305892875931813,
           0.23600847442411893,
           0.22693611435820432,
           0.22583179581272428,
           0.21702534414210706,
           0.2177154105707724,
           0.2039607805437114,
           0.23664319132398465,
           0.20297783130184438,
           0.20518284528683192,
           0.265329983228432,
           0.17349351572897473,
           0.18973665961010278,
           0.22090722034374521,
           0.19442222095223582,
           0.20566963801203134,
           0.22869193252058545,
           0.21236760581595301,
           0.21540659228538014,
           0.22869193252058545,
           0.19467922333931786,
           0.2142428528562855,
           0.18083141320025123,
           0.20784609690826528,
           0.25099800796022265,
           0.1982422760159901,
           0.20049937655763422,
           0.280713376952364,
           0.22869193252058545,
           0.2264950330581225,
           0.25,
           0.24166091947189144,
           0.22978250586152116,
           0.25099800796022265,
           0.21213203435596426,
           0.21400934559032694,
           0.22891046284519195,
           0.2293468988235943,
           0.24062418831031931,
           0.25495097567963926,
           0.21908902300206645,
           0.23065125189341593,
           0.20248456731316586,
           0.23194827009486402,
           0.25942243542145693,
           0.2193171219946131,
           0.2135415650406262,
           0.2264950330581225,
           0.19364916731037085,
           0.19544820285692066,
           0.21189620100417092,
           0.18627936010197158,
           0.21540659228538014,
           0.20248456731316586,
           0.2071231517720798,
           0.2193171219946131,
           0.23194827009486402,
           0.23345235059857505,
           0.23366642891095846,
           0.2172556098240043,
           0.22583179581272428,
           0.24041630560342614,
           0.189208879284245,
           0.19874606914351792,
           0.23874672772626646,
           0.18275666882497066,
           0.2054263858417414,
           0.22338307903688676,
           0.20322401432901574,
           0.21118712081942875,
           0.21748563170931548,
           0.19235384061671343,
           0.19697715603592209,
           0.19949937343260005,
           0.18138357147217055,
           0.2071231517720798,
           0.150996688705415,
           0.17492855684535902,
           0.23302360395462088,
           0.17549928774784246,
           0.17804493814764857,
           0.23259406699226015,
           0.17578395831246948,
           0.19493588689617927,
           0.24186773244895649,
           0.1824828759089466,
           0.18814887722226778,
           0.19595917942265423,
           0.19183326093250877,
           0.20371548787463362,
           0.19339079605813717,
           0.19544820285692066,
           0.24,
           0.2054263858417414,
           0.21142374511865974,
           0.26134268690743956,
           0.21,
           0.20615528128088303,
           0.2449489742783178,
           0.196468827043885,
           0.1979898987322333,
           0.21166010488516726,
           0.2264950330581225,
           0.20615528128088303,
           0.2206807649071391,
           0.18734993995195193,
           0.19672315572906002,
           0.19390719429665318,
           0.19899748742132398,
           0.2172556098240043,
           0.2073644135332772,
           0.20639767440550294,
           0.2389560629069704,
           0.18814887722226778,
           0.17916472867168917,
           0.2220360331117452,
           0.1774823934929885,
           0.18193405398660253,
           0.22338307903688676,
           0.1972308292331602,
           0.21307275752662516,
           0.21400934559032694,
           0.21236760581595301,
           0.20371548787463362,
           0.1977371993328519,
           0.20199009876724155,
           0.23473389188611005,
           0.22248595461286988,
           0.21470910553583888,
           0.22781571499789036,
           0.16340134638368192,
           0.1697056274847714,
           0.22181073012818836,
           0.18894443627691185,
           0.18384776310850234,
           0.18083141320025123,
           0.1708800749063506,
           0.16881943016134135,
           0.18439088914585774,
           0.18083141320025123,
           0.1584297951775486,
           0.18110770276274835,
           0.19,
           0.19235384061671343,
           0.16031219541881397,
           0.18466185312619388,
           0.1786057109949175,
           0.15811388300841897,
           0.1606237840420901,
           0.20639767440550294,
           0.17029386365926402,
           0.17578395831246948,
           0.18303005217723126,
           0.15165750888103102,
           0.15748015748023622,
           0.17972200755611428,
           0.17262676501632068,
           0.17204650534085253,
           0.16673332000533064,
           0.17291616465790582,
           0.2109502310972899,
           0.16,
           0.16248076809271922,
           0.18055470085267789,
           0.1414213562373095,
           0.16340134638368192,
           0.2042057785666214,
           0.15264337522473748,
           0.18708286933869708,
           0.21470910553583888,
           0.17175564037317667,
           0.17944358444926362,
           0.17663521732655696,
           0.1609347693943108,
           0.19493588689617927,
           0.16248076809271922,
           0.16278820596099705,
           0.19157244060668016,
           0.14212670403551894,
           0.1697056274847714,
           0.22090722034374521,
           0.14317821063276354,
           0.16552945357246848,
           0.20591260281974003,
           0.15748015748023622,
           0.17578395831246948,
           0.2039607805437114,
           0.15937377450509227,
           0.17916472867168917,
           0.1824828759089466,
           0.1414213562373095,
           0.19339079605813717,
           0.18083141320025123,
           0.17464249196572978,
           0.21863211109075448,
           0.18027756377319945,
           0.17776388834631177,
           0.2211334438749598,
           0.17146428199482247,
           0.17204650534085253,
           0.21142374511865974,
           0.15394804318340652,
           0.1673320053068151,
           0.19209372712298545,
           0.15716233645501712,
           0.18627936010197158,
           0.20124611797498107,
           0.15524174696260024,
           0.18734993995195193,
           0.1705872210923198,
           0.16124515496597097,
           0.18574175621006708,
           0.14966629547095767,
           0.15684387141358122,
           0.2179449471770337,
           0.13892443989449804,
           0.16,
           0.20952326839756963,
           0.1630950643030009,
           0.18814887722226778,
           0.2085665361461421,
           0.191049731745428,
           0.19,
           0.21470910553583888,
           0.17972200755611428,
           0.223606797749979,
           0.22315913604421397,
           0.21142374511865974,
           0.2260530911091463,
           0.17916472867168917,
           0.1786057109949175,
           0.19519221295943137,
           0.15905973720586866,
           0.16248076809271922,
           0.2615339366124404,
           0.16941074346097415,
           0.1854723699099141,
           0.17320508075688776,
           0.14966629547095767,
           0.15556349186104046,
           0.18411952639521967,
           0.15588457268119896,
           0.17578395831246948,
           0.16552945357246848,
           0.18708286933869708,
           0.196468827043885,
           0.1606237840420901,
           0.17944358444926362,
           0.22158519806160337,
           0.14730919862656233,
           0.15427248620541512,
           0.17944358444926362,
           0.17,
           0.1676305461424021,
           0.20124611797498107,
           0.18814887722226778,
           0.19,
           0.19595917942265423,
           0.15811388300841897,
           0.17406895185529211,
           0.15,
           0.15779733838059498,
           0.17635192088548396,
           0.14106735979665885,
           0.1609347693943108,
           0.2,
           0.15297058540778355,
           0.15968719422671313,
           0.18867962264113206,
           0.15684387141358122,
           0.18601075237738274,
           0.20639767440550294,
           0.15937377450509227,
           0.1661324772583615,
           0.1711724276862369,
           0.13564659966250536,
           0.14966629547095767,
           0.1661324772583615,
           0.147648230602334,
           0.1649242250247064,
           0.13490737563232041,
           0.12369316876852982,
           0.17606816861659008,
           0.11401754250991379,
           0.12328828005937952,
           0.1835755975068582,
           0.13711309200802088,
           0.1307669683062202,
           0.18439088914585774,
           0.13892443989449804,
           0.15524174696260024,
           0.15811388300841897,
           0.1452583904633395,
           0.13152946437965907,
           0.15198684153570663,
           0.15198684153570663,
           0.17972200755611428,
           0.14387494569938158,
           0.15264337522473748,
           0.19924858845171275,
           0.16124515496597097,
           0.18947295321496416,
           0.2368543856465402,
           0.16583123951777,
           0.18654758106177632,
           0.2264950330581225,
           0.24959967948697367,
           0.25059928172283336,
           0.2673948391424188,
           0.2569046515733026,
           0.2193171219946131,
           0.21494185260204676,
           0.208806130178211,
           0.22472205054244232,
           0.1835755975068582,
           0.196468827043885,
           0.2345207879911715,
           0.2054263858417414,
           0.18654758106177632,
           0.25748786379167465,
           0.18788294228055935,
           0.19874606914351792,
           0.24979991993593592,
           0.21236760581595301,
           0.21702534414210706,
           0.2260530911091463,
           0.1905255888325765,
           0.2240535650240808,
           0.2044504830026087,
           0.2046948949045872,
           0.2181742422927143,
           0.18,
           0.19672315572906002,
           0.24698178070456936,
           0.17578395831246948,
           0.18788294228055935,
           0.24145392935299273,
           0.20591260281974003,
           0.20639767440550294,
           0.25179356624028343,
           0.22912878474779197,
           0.21236760581595301,
           0.22181073012818836,
           0.20688160865577201,
           0.2142428528562855,
           0.20808652046684814,
           0.22293496809607954,
           0.25573423705088844,
           0.2244994432064365,
           0.2197726097583591,
           0.2628687885618983,
           0.18788294228055935,
           0.17406895185529211,
           0.2222611077089287,
           0.15620499351813308,
           0.18627936010197158,
           0.2353720459187964,
           0.19339079605813717,
           0.20223748416156684,
           0.2253885533916929,
           0.19442222095223582,
           0.1928730152198591,
           0.21166010488516726,
           0.18384776310850234,
           0.23173260452512934,
           0.18708286933869708,
           0.17378147196982766,
           0.22315913604421397,
           0.18466185312619388,
           0.1769180601295413,
           0.2073644135332772,
           0.14866068747318506,
           0.17146428199482247,
           0.220454076850486,
           0.1772004514666935,
           0.20615528128088303,
           0.216794833886788,
           0.191049731745428,
           0.21400934559032694,
           0.21118712081942875,
           0.2073644135332772,
           0.22978250586152116,
           0.20322401432901574,
           0.22338307903688676,
           0.26210684844162313,
           0.220454076850486,
           0.19595917942265423,
           0.23473389188611005,
           0.17635192088548396,
           0.16583123951777,
           0.2588435821108957,
           0.19261360284258225,
           0.18708286933869708,
           0.21236760581595301,
           0.17606816861659008,
           0.19849433241279207,
           0.19974984355438177,
           0.18,
           0.18520259177452136,
           0.15132745950421556,
           0.17349351572897473,
           0.2109502310972899,
           0.15811388300841897,
           0.17,
           0.21540659228538014,
           0.17146428199482247,
           0.15588457268119896,
           0.17262676501632068,
           0.16673332000533064,
           0.132664991614216,
           0.1673320053068151,
           0.17549928774784246,
           0.16552945357246848,
           0.17175564037317667,
           0.1532970971675589,
           0.17349351572897473,
           0.16941074346097415,
           0.15716233645501712,
           0.18841443681416772,
           0.14594519519326424,
           0.14798648586948743,
           0.18627936010197158,
           0.147648230602334,
           0.147648230602334,
           0.17578395831246948,
           0.15165750888103102,
           0.14387494569938158,
           0.18303005217723126,
           0.18681541692269404,
           0.140356688476182,
           0.14628738838327793,
           0.1676305461424021,
           0.18574175621006708,
           0.18165902124584948,
           0.18083141320025123,
           0.19570385790780925,
           0.15165750888103102,
           0.14560219778561037,
           0.17,
           0.16583123951777,
           0.16552945357246848,
           0.18110770276274835,
           0.17663521732655696,
           0.16792855623746664,
           0.17,
           0.15620499351813308,
           0.1646207763315433,
           0.16401219466856726,
           0.1609347693943108,
           0.17606816861659008,
           0.17262676501632068,
           0.15716233645501712,
           0.18303005217723126,
           0.17291616465790582,
           0.17320508075688776,
           0.19261360284258225,
           0.1752141546793523,
           0.16248076809271922,
           0.20149441679609886,
           0.1697056274847714,
           0.16186414056238646,
           0.18303005217723126,
           0.16822603841260722,
           0.1649242250247064,
           0.1705872210923198,
           0.16401219466856726,
           0.15937377450509227,
           0.15779733838059498,
           0.14798648586948743,
           0.17233687939614087,
           0.15524174696260024,
           0.15684387141358122,
           0.19570385790780925,
           0.17492855684535902,
           0.15652475842498528,
           0.17944358444926362,
           0.18384776310850234,
           0.15684387141358122,
           0.16911534525287764,
           0.16278820596099705,
           0.15491933384829668,
           0.1676305461424021,
           0.15524174696260024,
           0.13638181696985854,
           0.15811388300841897,
           0.150996688705415,
           0.17435595774162696,
           0.13856406460551018,
           0.14798648586948743,
           0.18220867158288598,
           0.14933184523068077,
           0.1260952021291849,
           0.1646207763315433,
           0.1341640786499874,
           0.15524174696260024,
           0.18681541692269404,
           0.17233687939614087,
           0.18439088914585774,
           0.1849324200890693,
           0.18055470085267789,
           0.17406895185529211,
           0.16431676725154984,
           0.15716233645501712,
           0.18384776310850234,
           0.17029386365926402,
           0.17435595774162696,
           0.18654758106177632,
           0.17,
           0.1673320053068151,
           0.20493901531919195,
           0.17972200755611428,
           0.1786057109949175,
           0.19949937343260005,
           0.18138357147217055,
           0.18947295321496416,
           0.1905255888325765,
           0.1606237840420901,
           0.19493588689617927,
           0.18466185312619388,
           0.17972200755611428,
           0.23366642891095846,
           0.19,
           0.19519221295943137,
           0.21236760581595301,
           0.17606816861659008,
           0.1673320053068151,
           0.18867962264113206,
           0.18654758106177632,
           0.17029386365926402,
           0.2083266665599966,
           0.2042057785666214,
           0.19078784028338913,
           0.19,
           0.19078784028338913,
           0.24041630560342614,
           0.21118712081942875,
           0.19621416870348582,
           0.24677925358506134,
           0.18027756377319945,
           0.1414213562373095,
           0.21236760581595301,
           0.1835755975068582,
           0.19621416870348582,
           0.23790754506740636,
           0.17635192088548396,
           0.18110770276274835,
           0.22494443758403984,
           0.19364916731037085,
           0.21,
           0.23916521486202796,
           0.22158519806160337,
           0.23280893453645632,
           0.20663978319771825,
           0.1928730152198591,
           0.2537715508089904,
           0.2179449471770337,
           0.20976176963403032,
           0.27018512172212594,
           0.24617067250182342,
           0.23811761799581316,
           0.2913760456866693,
           0.25495097567963926,
           0.21633307652783937,
           0.2443358344574123,
           0.23302360395462088,
           0.19,
           0.21,
           0.2195449840010015,
           0.20928449536456348,
           0.18814887722226778,
           0.1774823934929885,
           0.22022715545545238,
           0.18303005217723126,
           0.19544820285692066,
           0.24269322199023194,
           0.2293468988235943,
           0.19261360284258225,
           0.2551470164434615,
           0.1928730152198591,
           0.17944358444926362,
           0.20808652046684814,
           0.21071307505705478,
           0.19974984355438177,
           0.21447610589527216,
           0.19,
           0.21,
           0.1854723699099141,
           0.19621416870348582,
           0.22338307903688676,
           0.2002498439450079,
           0.17204650534085253,
           0.22090722034374521,
           0.18814887722226778,
           0.15491933384829668,
           0.20566963801203134,
           0.21071307505705478,
           0.17204650534085253,
           0.18681541692269404,
           0.19339079605813717,
           0.19313207915827968,
           0.22803508501982758,
           0.20663978319771825,
           0.21748563170931548,
           0.1876166303929372,
           0.17262676501632068,
           0.24124676163629638,
           0.18601075237738274,
           0.1854723699099141,
           0.2083266665599966,
           0.1786057109949175,
           0.18654758106177632,
           0.2565151067676132,
           0.18788294228055935,
           0.19026297590440447,
           0.2253885533916929,
           0.19313207915827968,
           0.1705872210923198,
           0.19313207915827968,
           0.2161018278497431,
           0.2046948949045872,
           0.1977371993328519,
           0.1905255888325765,
           0.22847319317591727,
           0.2046948949045872,
           0.18138357147217055,
           0.24758836806279894,
           0.22427661492005804,
           0.20371548787463362,
           0.2501999200639361,
           0.22158519806160337,
           0.21166010488516726,
           0.2340939982143925,
           0.24289915602982237,
           0.21047565179849187,
           0.2535744466621193,
           0.25573423705088844,
           0.22494443758403984,
           0.21840329667841554,
           0.2443358344574123,
           0.23979157616563598,
           0.223606797749979,
           0.21400934559032694,
           0.2718455443813637,
           0.191049731745428,
           0.19339079605813717,
           0.23430749027719963,
           0.2161018278497431,
           0.20952326839756963,
           0.22715633383201095,
           0.21377558326431947,
           0.20760539492026694,
           0.24041630560342614,
           0.241039415863879,
           0.24351591323771843,
           0.23130067012440755,
           0.19974984355438177,
           0.25922962793631443,
           0.22158519806160337,
           0.20248456731316586,
           0.21656407827707713,
           0.2102379604162864,
           0.19442222095223582,
           0.22248595461286988,
           0.20976176963403032,
           0.1646207763315433,
           0.22315913604421397,
           0.2054263858417414,
           0.18867962264113206,
           0.2083266665599966,
           0.19078784028338913,
           0.2293468988235943,
           0.2083266665599966,
           0.19078784028338913,
           0.23043437243605827,
           0.189208879284245,
           0.1676305461424021,
           0.20223748416156684,
           0.2,
           0.163707055437449,
           0.22338307903688676,
           0.19,
           0.1769180601295413,
           0.196468827043885,
           0.16217274740226856,
           0.132664991614216,
           0.18193405398660253,
           0.1769180601295413,
           0.18601075237738274,
           0.1977371993328519,
           0.19131126469708992,
           0.19493588689617927,
           0.17146428199482247,
           0.16401219466856726,
           0.21118712081942875,
           0.1664331697709324,
           0.15524174696260024,
           0.16217274740226856,
           0.19442222095223582,
           0.18083141320025123,
           0.20322401432901574,
           0.17944358444926362,
           0.17291616465790582,
           0.18681541692269404,
           0.2109502310972899,
           0.191049731745428,
           0.18027756377319945,
           0.1854723699099141,
           0.2211334438749598,
           0.19235384061671343,
           0.17320508075688776,
           0.21470910553583888,
           0.1752141546793523,
           0.17262676501632068,
           0.21330729007701543,
           0.19672315572906002,
           0.17776388834631177,
           0.21213203435596426,
           0.1928730152198591,
           0.16822603841260722,
           0.17972200755611428,
           0.18275666882497066,
           0.17204650534085253,
           0.15905973720586866,
           0.17635192088548396,
           0.22338307903688676,
           0.18788294228055935,
           0.18574175621006708,
           0.22,
           0.17464249196572978,
           0.17146428199482247,
           0.22956480566497994,
           0.18654758106177632,
           0.19621416870348582,
           0.21213203435596426,
           0.17291616465790582,
           0.19390719429665318,
           0.21908902300206645,
           0.22271057451320087,
           0.24248711305964282,
           0.21517434791350012,
           0.21886068628239289,
           0.24839484696748443,
           0.2083266665599966,
           0.20760539492026694,
           0.2649528259898354,
           0.1972308292331602,
           0.19621416870348582,
           0.25922962793631443,
           0.2253885533916929,
           0.2222611077089287,
           0.25748786379167465,
           0.21377558326431947,
           0.18947295321496416,
           0.2193171219946131,
           0.17378147196982766,
           0.19157244060668016,
           0.19026297590440447,
           0.19570385790780925,
           0.19183326093250877,
           0.18220867158288598,
           0.18520259177452136,
           0.23769728648009425,
           0.18027756377319945,
           0.17146428199482247,
           0.22869193252058545,
           0.20297783130184438,
           0.18708286933869708,
           0.21656407827707713,
           0.18165902124584948,
           0.17663521732655696,
           0.2,
           0.17944358444926362,
           0.1833030277982336,
           0.1835755975068582,
           0.17916472867168917,
           0.191049731745428,
           0.17578395831246948,
           0.17233687939614087,
           0.18654758106177632,
           0.16401219466856726,
           0.16,
           0.18867962264113206,
           0.15620499351813308,
           0.14798648586948743,
           0.1786057109949175,
           0.15427248620541512,
           0.13114877048604,
           0.1606237840420901,
           0.15556349186104046,
           0.1452583904633395,
           0.15491933384829668,
           0.15524174696260024,
           0.189208879284245,
           0.17,
           0.1606237840420901,
           0.18841443681416772,
           0.17320508075688776,
           0.14212670403551894,
           0.17549928774784246,
           0.1708800749063506,
           0.15716233645501712,
           0.21283796653792764,
           0.18110770276274835,
           0.1982422760159901,
           0.20223748416156684,
           0.18439088914585774,
           0.18627936010197158,
           0.17972200755611428,
           0.14662878298615178,
           0.18466185312619388,
           0.17464249196572978,
           0.15779733838059498,
           0.19157244060668016,
           0.14730919862656233,
           0.15620499351813308,
           0.19131126469708992,
           0.15716233645501712,
           0.150996688705415,
           0.18520259177452136,
           0.17175564037317667,
           0.15779733838059498,
           0.18601075237738274,
           0.17804493814764857,
           0.18220867158288598,
           0.16852299546352717,
           0.14730919862656233,
           0.1711724276862369,
           0.15937377450509227,
           0.15491933384829668,
           0.21447610589527216,
           0.15652475842498528,
           0.15716233645501712,
           0.18814887722226778,
           0.17,
           0.1661324772583615,
           0.2085665361461421,
           0.18027756377319945,
           0.15588457268119896,
           0.1584297951775486,
           0.15,
           0.15394804318340652,
           0.15132745950421556,
           0.15748015748023622,
           0.17291616465790582,
           0.15524174696260024,
           0.15033296378372907,
           0.1705872210923198,
           0.1374772708486752,
           0.12727922061357855,
           0.13527749258468683,
           0.13638181696985854,
           0.1392838827718412,
           0.14832396974191325,
           0.15231546211727817,
           0.12569805089976535,
           0.14866068747318506,
           0.15524174696260024,
           0.15905973720586866,
           0.14798648586948743,
           0.15684387141358122,
           0.17888543819998318,
           0.16340134638368192,
           0.17944358444926362,
           0.21470910553583888,
           0.1649242250247064,
           0.15684387141358122,
           0.1876166303929372,
           0.15937377450509227,
           0.147648230602334,
           0.1711724276862369,
           0.17435595774162696,
           0.18520259177452136,
           0.194164878389476,
           0.14866068747318506,
           0.17972200755611428,
           0.20952326839756963,
           0.14696938456699069,
           0.1711724276862369,
           0.15231546211727817,
           0.14696938456699069,
           0.18303005217723126,
           0.15362291495737215,
           0.15748015748023622,
           0.20346989949375804,
           0.17349351572897473,
           0.17349351572897473,
           0.18055470085267789,
           0.18138357147217055,
           0.17146428199482247,
           0.2046948949045872,
           0.17,
           0.17146428199482247,
           0.18303005217723126,
           0.18384776310850234,
           0.17146428199482247,
           0.18275666882497066,
           0.18384776310850234,
           0.21540659228538014,
           0.21213203435596426,
           0.17635192088548396,
           0.24124676163629638,
           0.20808652046684814,
           0.18973665961010278,
           0.21886068628239289,
           0.16401219466856726,
           0.16522711641858304,
           0.191049731745428,
           0.22181073012818836,
           0.18947295321496416,
           0.18814887722226778,
           0.16852299546352717,
           0.1772004514666935,
           0.17549928774784246,
           0.1711724276862369,
           0.2262741699796952,
           0.17492855684535902,
           0.1606237840420901,
           0.18220867158288598,
           0.18165902124584948,
           0.19849433241279207,
           0.2567099530598687,
           0.1769180601295413,
           0.19235384061671343,
           0.22338307903688676,
           0.19899748742132398,
           0.19595917942265423,
           0.20248456731316586,
           0.1769180601295413,
           0.22135943621178655,
           0.17888543819998318,
           0.18439088914585774,
           0.25099800796022265,
           0.1824828759089466,
           0.14899664425751338,
           0.19078784028338913,
           0.19899748742132398,
           0.18303005217723126,
           0.2315167380558045,
           0.16431676725154984,
           0.19235384061671343,
           0.21840329667841554,
           0.20199009876724155,
           0.22978250586152116,
           0.251992063367083,
           0.23430749027719963,
           0.25059928172283336,
           0.2083266665599966,
           0.19183326093250877,
           0.24637369989509839,
           0.20518284528683192,
           0.20615528128088303,
           0.25534290669607407,
           0.2193171219946131,
           0.20346989949375804,
           0.2810693864511039,
           0.20049937655763422,
           0.2083266665599966,
           0.2479919353527449,
           0.2009975124224178,
           0.21236760581595301,
           0.22869193252058545,
           0.21470910553583888,
           0.23916521486202796,
           0.23664319132398465,
           0.20149441679609886,
           0.25079872407968906,
           0.22181073012818836,
           0.19874606914351792,
           0.20273134932713294,
           0.21047565179849187,
           0.18411952639521967,
           0.2244994432064365,
           0.1854723699099141,
           0.20223748416156684,
           0.22847319317591727,
           0.2135415650406262,
           0.2054263858417414,
           0.21517434791350012,
           0.21189620100417092,
           0.21307275752662516,
           0.20928449536456348,
           0.18275666882497066,
           0.27,
           0.24738633753705963,
           0.20784609690826528,
           0.26981475126464083,
           0.20688160865577201,
           0.220454076850486,
           0.27730849247724093,
           0.2195449840010015,
           0.2420743687382041,
           0.3047950130825634,
           0.2073644135332772
          ],
          "type": "data",
          "visible": true
         },
         "mode": "lines",
         "name": "Lightcurve of flaring particle background",
         "type": "scatter",
         "x": [
          0,
          100,
          200,
          300,
          400,
          500,
          600,
          700,
          800,
          900,
          1000,
          1100,
          1200,
          1300,
          1400,
          1500,
          1600,
          1700,
          1800,
          1900,
          2000,
          2100,
          2200,
          2300,
          2400,
          2500,
          2600,
          2700,
          2800,
          2900,
          3000,
          3100,
          3200,
          3300,
          3400,
          3500,
          3600,
          3700,
          3800,
          3900,
          4000,
          4100,
          4200,
          4300,
          4400,
          4500,
          4600,
          4700,
          4800,
          4900,
          5000,
          5100,
          5200,
          5300,
          5400,
          5500,
          5600,
          5700,
          5800,
          5900,
          6000,
          6100,
          6200,
          6300,
          6400,
          6500,
          6600,
          6700,
          6800,
          6900,
          7000,
          7100,
          7200,
          7300,
          7400,
          7500,
          7600,
          7700,
          7800,
          7900,
          8000,
          8100,
          8200,
          8300,
          8400,
          8500,
          8600,
          8700,
          8800,
          8900,
          9000,
          9100,
          9200,
          9300,
          9400,
          9500,
          9600,
          9700,
          9800,
          9900,
          10000,
          10100,
          10200,
          10300,
          10400,
          10500,
          10600,
          10700,
          10800,
          10900,
          11000,
          11100,
          11200,
          11300,
          11400,
          11500,
          11600,
          11700,
          11800,
          11900,
          12000,
          12100,
          12200,
          12300,
          12400,
          12500,
          12600,
          12700,
          12800,
          12900,
          13000,
          13100,
          13200,
          13300,
          13400,
          13500,
          13600,
          13700,
          13800,
          13900,
          14000,
          14100,
          14200,
          14300,
          14400,
          14500,
          14600,
          14700,
          14800,
          14900,
          15000,
          15100,
          15200,
          15300,
          15400,
          15500,
          15600,
          15700,
          15800,
          15900,
          16000,
          16100,
          16200,
          16300,
          16400,
          16500,
          16600,
          16700,
          16800,
          16900,
          17000,
          17100,
          17200,
          17300,
          17400,
          17500,
          17600,
          17700,
          17800,
          17900,
          18000,
          18100,
          18200,
          18300,
          18400,
          18500,
          18600,
          18700,
          18800,
          18900,
          19000,
          19100,
          19200,
          19300,
          19400,
          19500,
          19600,
          19700,
          19800,
          19900,
          20000,
          20100,
          20200,
          20300,
          20400,
          20500,
          20600,
          20700,
          20800,
          20900,
          21000,
          21100,
          21200,
          21300,
          21400,
          21500,
          21600,
          21700,
          21800,
          21900,
          22000,
          22100,
          22200,
          22300,
          22400,
          22500,
          22600,
          22700,
          22800,
          22900,
          23000,
          23100,
          23200,
          23300,
          23400,
          23500,
          23600,
          23700,
          23800,
          23900,
          24000,
          24100,
          24200,
          24300,
          24400,
          24500,
          24600,
          24700,
          24800,
          24900,
          25000,
          25100,
          25200,
          25300,
          25400,
          25500,
          25600,
          25700,
          25800,
          25900,
          26000,
          26100,
          26200,
          26300,
          26400,
          26500,
          26600,
          26700,
          26800,
          26900,
          27000,
          27100,
          27200,
          27300,
          27400,
          27500,
          27600,
          27700,
          27800,
          27900,
          28000,
          28100,
          28200,
          28300,
          28400,
          28500,
          28600,
          28700,
          28800,
          28900,
          29000,
          29100,
          29200,
          29300,
          29400,
          29500,
          29600,
          29700,
          29800,
          29900,
          30000,
          30100,
          30200,
          30300,
          30400,
          30500,
          30600,
          30700,
          30800,
          30900,
          31000,
          31100,
          31200,
          31300,
          31400,
          31500,
          31600,
          31700,
          31800,
          31900,
          32000,
          32100,
          32200,
          32300,
          32400,
          32500,
          32600,
          32700,
          32800,
          32900,
          33000,
          33100,
          33200,
          33300,
          33400,
          33500,
          33600,
          33700,
          33800,
          33900,
          34000,
          34100,
          34200,
          34300,
          34400,
          34500,
          34600,
          34700,
          34800,
          34900,
          35000,
          35100,
          35200,
          35300,
          35400,
          35500,
          35600,
          35700,
          35800,
          35900,
          36000,
          36100,
          36200,
          36300,
          36400,
          36500,
          36600,
          36700,
          36800,
          36900,
          37000,
          37100,
          37200,
          37300,
          37400,
          37500,
          37600,
          37700,
          37800,
          37900,
          38000,
          38100,
          38200,
          38300,
          38400,
          38500,
          38600,
          38700,
          38800,
          38900,
          39000,
          39100,
          39200,
          39300,
          39400,
          39500,
          39600,
          39700,
          39800,
          39900,
          40000,
          40100,
          40200,
          40300,
          40400,
          40500,
          40600,
          40700,
          40800,
          40900,
          41000,
          41100,
          41200,
          41300,
          41400,
          41500,
          41600,
          41700,
          41800,
          41900,
          42000,
          42100,
          42200,
          42300,
          42400,
          42500,
          42600,
          42700,
          42800,
          42900,
          43000,
          43100,
          43200,
          43300,
          43400,
          43500,
          43600,
          43700,
          43800,
          43900,
          44000,
          44100,
          44200,
          44300,
          44400,
          44500,
          44600,
          44700,
          44800,
          44900,
          45000,
          45100,
          45200,
          45300,
          45400,
          45500,
          45600,
          45700,
          45800,
          45900,
          46000,
          46100,
          46200,
          46300,
          46400,
          46500,
          46600,
          46700,
          46800,
          46900,
          47000,
          47100,
          47200,
          47300,
          47400,
          47500,
          47600,
          47700,
          47800,
          47900,
          48000,
          48100,
          48200,
          48300,
          48400,
          48500,
          48600,
          48700,
          48800,
          48900,
          49000,
          49100,
          49200,
          49300,
          49400,
          49500,
          49600,
          49700,
          49800,
          49900,
          50000,
          50100,
          50200,
          50300,
          50400,
          50500,
          50600,
          50700,
          50800,
          50900,
          51000,
          51100,
          51200,
          51300,
          51400,
          51500,
          51600,
          51700,
          51800,
          51900,
          52000,
          52100,
          52200,
          52300,
          52400,
          52500,
          52600,
          52700,
          52800,
          52900,
          53000,
          53100,
          53200,
          53300,
          53400,
          53500,
          53600,
          53700,
          53800,
          53900,
          54000,
          54100,
          54200,
          54300,
          54400,
          54500,
          54600,
          54700,
          54800,
          54900,
          55000,
          55100,
          55200,
          55300,
          55400,
          55500,
          55600,
          55700,
          55800,
          55900,
          56000,
          56100,
          56200,
          56300,
          56400,
          56500,
          56600,
          56700,
          56800,
          56900,
          57000,
          57100,
          57200,
          57300,
          57400,
          57500,
          57600,
          57700,
          57800,
          57900,
          58000,
          58100,
          58200,
          58300,
          58400,
          58500,
          58600,
          58700,
          58800,
          58900,
          59000,
          59100,
          59200,
          59300,
          59400,
          59500,
          59600,
          59700,
          59800,
          59900,
          60000,
          60100,
          60200,
          60300,
          60400,
          60500,
          60600,
          60700,
          60800,
          60900,
          61000,
          61100,
          61200,
          61300,
          61400,
          61500,
          61600,
          61700,
          61800,
          61900,
          62000,
          62100,
          62200,
          62300,
          62400,
          62500,
          62600,
          62700,
          62800,
          62900,
          63000,
          63100,
          63200,
          63300,
          63400,
          63500,
          63600,
          63700,
          63800,
          63900,
          64000,
          64100,
          64200,
          64300,
          64400,
          64500,
          64600,
          64700,
          64800,
          64900,
          65000,
          65100,
          65200,
          65300,
          65400,
          65500,
          65600,
          65700,
          65800,
          65900,
          66000,
          66100,
          66200,
          66300,
          66400,
          66500,
          66600,
          66700,
          66800,
          66900,
          67000,
          67100,
          67200,
          67300,
          67400,
          67500,
          67600,
          67700,
          67800,
          67900,
          68000,
          68100,
          68200,
          68300,
          68400,
          68500,
          68600,
          68700,
          68800,
          68900,
          69000,
          69100,
          69200,
          69300,
          69400,
          69500,
          69600,
          69700,
          69800,
          69900,
          70000,
          70100,
          70200,
          70300,
          70400,
          70500,
          70600,
          70700,
          70800,
          70900,
          71000,
          71100,
          71200,
          71300,
          71400,
          71500,
          71600,
          71700,
          71800,
          71900,
          72000,
          72100,
          72200,
          72300,
          72400,
          72500,
          72600,
          72700,
          72800,
          72900,
          73000,
          73100,
          73200,
          73300,
          73400,
          73500,
          73600,
          73700,
          73800,
          73900,
          74000,
          74100,
          74200,
          74300,
          74400,
          74500,
          74600,
          74700,
          74800,
          74900,
          75000,
          75100,
          75200,
          75300,
          75400,
          75500,
          75600,
          75700,
          75800,
          75900,
          76000,
          76100,
          76200,
          76300,
          76400,
          76500,
          76600,
          76700,
          76800,
          76900,
          77000,
          77100,
          77200,
          77300,
          77400,
          77500,
          77600,
          77700,
          77800,
          77900,
          78000,
          78100,
          78200,
          78300,
          78400,
          78500,
          78600,
          78700,
          78800,
          78900,
          79000,
          79100,
          79200,
          79300,
          79400,
          79500,
          79600,
          79700,
          79800,
          79900,
          80000,
          80100,
          80200,
          80300,
          80400,
          80500,
          80600,
          80700,
          80800,
          80900,
          81000,
          81100,
          81200,
          81300,
          81400,
          81500,
          81600,
          81700,
          81800,
          81900,
          82000,
          82100,
          82200,
          82300,
          82400,
          82500,
          82600,
          82700,
          82800,
          82900,
          83000,
          83100,
          83200,
          83300,
          83400,
          83500,
          83600,
          83700,
          83800,
          83900,
          84000,
          84100,
          84200,
          84300,
          84400,
          84500,
          84600,
          84700,
          84800,
          84900,
          85000,
          85100,
          85200,
          85300,
          85400,
          85500,
          85600,
          85700,
          85800,
          85900,
          86000,
          86100,
          86200,
          86300,
          86400,
          86500,
          86600,
          86700,
          86800,
          86900,
          87000,
          87100,
          87200,
          87300,
          87400,
          87500,
          87600,
          87700,
          87800,
          87900,
          88000,
          88100,
          88200,
          88300,
          88400,
          88500,
          88600,
          88700,
          88800,
          88900,
          89000,
          89100,
          89200,
          89300,
          89400,
          89500,
          89600,
          89700,
          89800,
          89900,
          90000,
          90100,
          90200,
          90300,
          90400,
          90500,
          90600,
          90700,
          90800,
          90900,
          91000,
          91100,
          91200,
          91300,
          91400,
          91500,
          91600,
          91700,
          91800,
          91900,
          92000,
          92100,
          92200,
          92300,
          92400,
          92500,
          92600,
          92700,
          92800,
          92900,
          93000,
          93100,
          93200,
          93300,
          93400,
          93500,
          93600,
          93700,
          93800,
          93900,
          94000,
          94100,
          94200,
          94300,
          94400,
          94500,
          94600,
          94700,
          94800,
          94900,
          95000,
          95100,
          95200,
          95300,
          95400,
          95500,
          95600,
          95700,
          95800,
          95900,
          96000,
          96100,
          96200,
          96300,
          96400,
          96500,
          96600,
          96700,
          96800,
          96900,
          97000,
          97100,
          97200,
          97300,
          97400,
          97500,
          97600,
          97700,
          97800,
          97900,
          98000,
          98100,
          98200,
          98300,
          98400,
          98500,
          98600,
          98700,
          98800,
          98900,
          99000,
          99100,
          99200,
          99300,
          99400,
          99500,
          99600,
          99700,
          99800,
          99900,
          100000,
          100100,
          100200,
          100300,
          100400,
          100500,
          100600,
          100700,
          100800,
          100900,
          101000,
          101100,
          101200,
          101300,
          101400,
          101500,
          101600,
          101700,
          101800,
          101900,
          102000,
          102100,
          102200,
          102300,
          102400,
          102500,
          102600,
          102700,
          102800,
          102900,
          103000,
          103100,
          103200,
          103300,
          103400,
          103500,
          103600,
          103700,
          103800,
          103900,
          104000,
          104100,
          104200,
          104300,
          104400,
          104500,
          104600,
          104700,
          104800,
          104900,
          105000,
          105100,
          105200,
          105300,
          105400,
          105500,
          105600,
          105700,
          105800,
          105900,
          106000,
          106100,
          106200,
          106300,
          106400,
          106500,
          106600,
          106700,
          106800,
          106900,
          107000,
          107100,
          107200,
          107300,
          107400,
          107500,
          107600,
          107700,
          107800,
          107900,
          108000,
          108100,
          108200,
          108300,
          108400,
          108500,
          108600,
          108700,
          108800,
          108900,
          109000,
          109100,
          109200,
          109300,
          109400,
          109500,
          109600,
          109700,
          109800,
          109900,
          110000,
          110100,
          110200,
          110300,
          110400,
          110500,
          110600,
          110700,
          110800,
          110900,
          111000,
          111100,
          111200
         ],
         "y": [
          7.76,
          7.62,
          6.5,
          5.9,
          4.88,
          4.46,
          4.34,
          5.93,
          5.63,
          4.81,
          4.38,
          5.39,
          3.61,
          3.77,
          4.85,
          4.16,
          5.46,
          7.76,
          6.92,
          6.12,
          7.8,
          6.46,
          6.51,
          5.96,
          5.41,
          5.75,
          4.92,
          5.19,
          5.04,
          4.61,
          3.99,
          4.57,
          4.37,
          4.8,
          5.47,
          5.09,
          4.67,
          4.32,
          4.32,
          3.96,
          3.83,
          6.36,
          5.94,
          5.41,
          5,
          6.54,
          4.5,
          5.08,
          7.41,
          5.9,
          5.4,
          5.31,
          5.1,
          6.83,
          5.7,
          5.2,
          7.17,
          5.71,
          5.58,
          5.55,
          4.39,
          4.73,
          5.58,
          3.83,
          5.68,
          6.13,
          4.39,
          4.91,
          4.75,
          5.17,
          5.44,
          5.3,
          6.14,
          5.72,
          5.98,
          7.26,
          6.57,
          5.43,
          7.2,
          7.4,
          5.32,
          6.02,
          7.4,
          6,
          6.75,
          5.94,
          5.99,
          6.42,
          7.37,
          6.84,
          5.17,
          5.06,
          6.79,
          6.08,
          5.75,
          6.62,
          7.5,
          6.36,
          6.3,
          5.77,
          6.97,
          6.59,
          5.49,
          7.26,
          5.35,
          4.76,
          6.3,
          5.68,
          5.57,
          5.63,
          5.18,
          5.46,
          5.65,
          7.07,
          5.27,
          6.24,
          8.27,
          6.45,
          6.94,
          5.57,
          6.92,
          5.57,
          5.15,
          5.1,
          4.71,
          4.74,
          4.16,
          5.6,
          4.12,
          4.21,
          7.04,
          3.01,
          3.6,
          4.88,
          3.78,
          4.23,
          5.23,
          4.51,
          4.64,
          5.23,
          3.79,
          4.59,
          3.27,
          4.32,
          6.3,
          3.93,
          4.02,
          7.88,
          5.23,
          5.13,
          6.25,
          5.84,
          5.28,
          6.3,
          4.5,
          4.58,
          5.24,
          5.26,
          5.79,
          6.5,
          4.8,
          5.32,
          4.1,
          5.38,
          6.73,
          4.81,
          4.56,
          5.13,
          3.75,
          3.82,
          4.49,
          3.47,
          4.64,
          4.1,
          4.29,
          4.81,
          5.38,
          5.45,
          5.46,
          4.72,
          5.1,
          5.78,
          3.58,
          3.95,
          5.7,
          3.34,
          4.22,
          4.99,
          4.13,
          4.46,
          4.73,
          3.7,
          3.88,
          3.98,
          3.29,
          4.29,
          2.28,
          3.06,
          5.43,
          3.08,
          3.17,
          5.41,
          3.09,
          3.8,
          5.85,
          3.33,
          3.54,
          3.84,
          3.68,
          4.15,
          3.74,
          3.82,
          5.76,
          4.22,
          4.47,
          6.83,
          4.41,
          4.25,
          6,
          3.86,
          3.92,
          4.48,
          5.13,
          4.25,
          4.87,
          3.51,
          3.87,
          3.76,
          3.96,
          4.72,
          4.3,
          4.26,
          5.71,
          3.54,
          3.21,
          4.93,
          3.15,
          3.31,
          4.99,
          3.89,
          4.54,
          4.58,
          4.51,
          4.15,
          3.91,
          4.08,
          5.51,
          4.95,
          4.61,
          5.19,
          2.67,
          2.88,
          4.92,
          3.57,
          3.38,
          3.27,
          2.92,
          2.85,
          3.4,
          3.27,
          2.51,
          3.28,
          3.61,
          3.7,
          2.57,
          3.41,
          3.19,
          2.5,
          2.58,
          4.26,
          2.9,
          3.09,
          3.35,
          2.3,
          2.48,
          3.23,
          2.98,
          2.96,
          2.78,
          2.99,
          4.45,
          2.56,
          2.64,
          3.26,
          2,
          2.67,
          4.17,
          2.33,
          3.5,
          4.61,
          2.95,
          3.22,
          3.12,
          2.59,
          3.8,
          2.64,
          2.65,
          3.67,
          2.02,
          2.88,
          4.88,
          2.05,
          2.74,
          4.24,
          2.48,
          3.09,
          4.16,
          2.54,
          3.21,
          3.33,
          2,
          3.74,
          3.27,
          3.05,
          4.78,
          3.25,
          3.16,
          4.89,
          2.94,
          2.96,
          4.47,
          2.37,
          2.8,
          3.69,
          2.47,
          3.47,
          4.05,
          2.41,
          3.51,
          2.91,
          2.6,
          3.45,
          2.24,
          2.46,
          4.75,
          1.93,
          2.56,
          4.39,
          2.66,
          3.54,
          4.35,
          3.65,
          3.61,
          4.61,
          3.23,
          5,
          4.98,
          4.47,
          5.11,
          3.21,
          3.19,
          3.81,
          2.53,
          2.64,
          6.84,
          2.87,
          3.44,
          3,
          2.24,
          2.42,
          3.39,
          2.43,
          3.09,
          2.74,
          3.5,
          3.86,
          2.58,
          3.22,
          4.91,
          2.17,
          2.38,
          3.22,
          2.89,
          2.81,
          4.05,
          3.54,
          3.61,
          3.84,
          2.5,
          3.03,
          2.25,
          2.49,
          3.11,
          1.99,
          2.59,
          4,
          2.34,
          2.55,
          3.56,
          2.46,
          3.46,
          4.26,
          2.54,
          2.76,
          2.93,
          1.84,
          2.24,
          2.76,
          2.18,
          2.72,
          1.82,
          1.53,
          3.1,
          1.3,
          1.52,
          3.37,
          1.88,
          1.71,
          3.4,
          1.93,
          2.41,
          2.5,
          2.11,
          1.73,
          2.31,
          2.31,
          3.23,
          2.07,
          2.33,
          3.97,
          2.6,
          3.59,
          5.61,
          2.75,
          3.48,
          5.13,
          6.23,
          6.28,
          7.15,
          6.6,
          4.81,
          4.62,
          4.36,
          5.05,
          3.37,
          3.86,
          5.5,
          4.22,
          3.48,
          6.63,
          3.53,
          3.95,
          6.24,
          4.51,
          4.71,
          5.11,
          3.63,
          5.02,
          4.18,
          4.19,
          4.76,
          3.24,
          3.87,
          6.1,
          3.09,
          3.53,
          5.83,
          4.24,
          4.26,
          6.34,
          5.25,
          4.51,
          4.92,
          4.28,
          4.59,
          4.33,
          4.97,
          6.54,
          5.04,
          4.83,
          6.91,
          3.53,
          3.03,
          4.94,
          2.44,
          3.47,
          5.54,
          3.74,
          4.09,
          5.08,
          3.78,
          3.72,
          4.48,
          3.38,
          5.37,
          3.5,
          3.02,
          4.98,
          3.41,
          3.13,
          4.3,
          2.21,
          2.94,
          4.86,
          3.14,
          4.25,
          4.7,
          3.65,
          4.58,
          4.46,
          4.3,
          5.28,
          4.13,
          4.99,
          6.87,
          4.86,
          3.84,
          5.51,
          3.11,
          2.75,
          6.7,
          3.71,
          3.5,
          4.51,
          3.1,
          3.94,
          3.99,
          3.24,
          3.43,
          2.29,
          3.01,
          4.45,
          2.5,
          2.89,
          4.64,
          2.94,
          2.43,
          2.98,
          2.78,
          1.76,
          2.8,
          3.08,
          2.74,
          2.95,
          2.35,
          3.01,
          2.87,
          2.47,
          3.55,
          2.13,
          2.19,
          3.47,
          2.18,
          2.18,
          3.09,
          2.3,
          2.07,
          3.35,
          3.49,
          1.97,
          2.14,
          2.81,
          3.45,
          3.3,
          3.27,
          3.83,
          2.3,
          2.12,
          2.89,
          2.75,
          2.74,
          3.28,
          3.12,
          2.82,
          2.89,
          2.44,
          2.71,
          2.69,
          2.59,
          3.1,
          2.98,
          2.47,
          3.35,
          2.99,
          3,
          3.71,
          3.07,
          2.64,
          4.06,
          2.88,
          2.62,
          3.35,
          2.83,
          2.72,
          2.91,
          2.69,
          2.54,
          2.49,
          2.19,
          2.97,
          2.41,
          2.46,
          3.83,
          3.06,
          2.45,
          3.22,
          3.38,
          2.46,
          2.86,
          2.65,
          2.4,
          2.81,
          2.41,
          1.86,
          2.5,
          2.28,
          3.04,
          1.92,
          2.19,
          3.32,
          2.23,
          1.59,
          2.71,
          1.8,
          2.41,
          3.49,
          2.97,
          3.4,
          3.42,
          3.26,
          3.03,
          2.7,
          2.47,
          3.38,
          2.9,
          3.04,
          3.48,
          2.89,
          2.8,
          4.2,
          3.23,
          3.19,
          3.98,
          3.29,
          3.59,
          3.63,
          2.58,
          3.8,
          3.41,
          3.23,
          5.46,
          3.61,
          3.81,
          4.51,
          3.1,
          2.8,
          3.56,
          3.48,
          2.9,
          4.34,
          4.17,
          3.64,
          3.61,
          3.64,
          5.78,
          4.46,
          3.85,
          6.09,
          3.25,
          2,
          4.51,
          3.37,
          3.85,
          5.66,
          3.11,
          3.28,
          5.06,
          3.75,
          4.41,
          5.72,
          4.91,
          5.42,
          4.27,
          3.72,
          6.44,
          4.75,
          4.4,
          7.3,
          6.06,
          5.67,
          8.49,
          6.5,
          4.68,
          5.97,
          5.43,
          3.61,
          4.41,
          4.82,
          4.38,
          3.54,
          3.15,
          4.85,
          3.35,
          3.82,
          5.89,
          5.26,
          3.71,
          6.51,
          3.72,
          3.22,
          4.33,
          4.44,
          3.99,
          4.6,
          3.61,
          4.41,
          3.44,
          3.85,
          4.99,
          4.01,
          2.96,
          4.88,
          3.54,
          2.4,
          4.23,
          4.44,
          2.96,
          3.49,
          3.74,
          3.73,
          5.2,
          4.27,
          4.73,
          3.52,
          2.98,
          5.82,
          3.46,
          3.44,
          4.34,
          3.19,
          3.48,
          6.58,
          3.53,
          3.62,
          5.08,
          3.73,
          2.91,
          3.73,
          4.67,
          4.19,
          3.91,
          3.63,
          5.22,
          4.19,
          3.29,
          6.13,
          5.03,
          4.15,
          6.26,
          4.91,
          4.48,
          5.48,
          5.9,
          4.43,
          6.43,
          6.54,
          5.06,
          4.77,
          5.97,
          5.75,
          5,
          4.58,
          7.39,
          3.65,
          3.74,
          5.49,
          4.67,
          4.39,
          5.16,
          4.57,
          4.31,
          5.78,
          5.81,
          5.93,
          5.35,
          3.99,
          6.72,
          4.91,
          4.1,
          4.69,
          4.42,
          3.78,
          4.95,
          4.4,
          2.71,
          4.98,
          4.22,
          3.56,
          4.34,
          3.64,
          5.26,
          4.34,
          3.64,
          5.31,
          3.58,
          2.81,
          4.09,
          4,
          2.68,
          4.99,
          3.61,
          3.13,
          3.86,
          2.63,
          1.76,
          3.31,
          3.13,
          3.46,
          3.91,
          3.66,
          3.8,
          2.94,
          2.69,
          4.46,
          2.77,
          2.41,
          2.63,
          3.78,
          3.27,
          4.13,
          3.22,
          2.99,
          3.49,
          4.45,
          3.65,
          3.25,
          3.44,
          4.89,
          3.7,
          3,
          4.61,
          3.07,
          2.98,
          4.55,
          3.87,
          3.16,
          4.5,
          3.72,
          2.83,
          3.23,
          3.34,
          2.96,
          2.53,
          3.11,
          4.99,
          3.53,
          3.45,
          4.84,
          3.05,
          2.94,
          5.27,
          3.48,
          3.85,
          4.5,
          2.99,
          3.76,
          4.8,
          4.96,
          5.88,
          4.63,
          4.79,
          6.17,
          4.34,
          4.31,
          7.02,
          3.89,
          3.85,
          6.72,
          5.08,
          4.94,
          6.63,
          4.57,
          3.59,
          4.81,
          3.02,
          3.67,
          3.62,
          3.83,
          3.68,
          3.32,
          3.43,
          5.65,
          3.25,
          2.94,
          5.23,
          4.12,
          3.5,
          4.69,
          3.3,
          3.12,
          4,
          3.22,
          3.36,
          3.37,
          3.21,
          3.65,
          3.09,
          2.97,
          3.48,
          2.69,
          2.56,
          3.56,
          2.44,
          2.19,
          3.19,
          2.38,
          1.72,
          2.58,
          2.42,
          2.11,
          2.4,
          2.41,
          3.58,
          2.89,
          2.58,
          3.55,
          3,
          2.02,
          3.08,
          2.92,
          2.47,
          4.53,
          3.28,
          3.93,
          4.09,
          3.4,
          3.47,
          3.23,
          2.15,
          3.41,
          3.05,
          2.49,
          3.67,
          2.17,
          2.44,
          3.66,
          2.47,
          2.28,
          3.43,
          2.95,
          2.49,
          3.46,
          3.17,
          3.32,
          2.84,
          2.17,
          2.93,
          2.54,
          2.4,
          4.6,
          2.45,
          2.47,
          3.54,
          2.89,
          2.76,
          4.35,
          3.25,
          2.43,
          2.51,
          2.25,
          2.37,
          2.29,
          2.48,
          2.99,
          2.41,
          2.26,
          2.91,
          1.89,
          1.62,
          1.83,
          1.86,
          1.94,
          2.2,
          2.32,
          1.58,
          2.21,
          2.41,
          2.53,
          2.19,
          2.46,
          3.2,
          2.67,
          3.22,
          4.61,
          2.72,
          2.46,
          3.52,
          2.54,
          2.18,
          2.93,
          3.04,
          3.43,
          3.77,
          2.21,
          3.23,
          4.39,
          2.16,
          2.93,
          2.32,
          2.16,
          3.35,
          2.36,
          2.48,
          4.14,
          3.01,
          3.01,
          3.26,
          3.29,
          2.94,
          4.19,
          2.89,
          2.94,
          3.35,
          3.38,
          2.94,
          3.34,
          3.38,
          4.64,
          4.5,
          3.11,
          5.82,
          4.33,
          3.6,
          4.79,
          2.69,
          2.73,
          3.65,
          4.92,
          3.59,
          3.54,
          2.84,
          3.14,
          3.08,
          2.93,
          5.12,
          3.06,
          2.58,
          3.32,
          3.3,
          3.94,
          6.59,
          3.13,
          3.7,
          4.99,
          3.96,
          3.84,
          4.1,
          3.13,
          4.9,
          3.2,
          3.4,
          6.3,
          3.33,
          2.22,
          3.64,
          3.96,
          3.35,
          5.36,
          2.7,
          3.7,
          4.77,
          4.08,
          5.28,
          6.35,
          5.49,
          6.28,
          4.34,
          3.68,
          6.07,
          4.21,
          4.25,
          6.52,
          4.81,
          4.14,
          7.9,
          4.02,
          4.34,
          6.15,
          4.04,
          4.51,
          5.23,
          4.61,
          5.72,
          5.6,
          4.06,
          6.29,
          4.92,
          3.95,
          4.11,
          4.43,
          3.39,
          5.04,
          3.44,
          4.09,
          5.22,
          4.56,
          4.22,
          4.63,
          4.49,
          4.54,
          4.38,
          3.34,
          7.29,
          6.12,
          4.32,
          7.28,
          4.28,
          4.86,
          7.69,
          4.82,
          5.86,
          9.29,
          4.3
         ]
        }
       ],
       "layout": {
        "autosize": true,
        "template": {
         "data": {
          "bar": [
           {
            "error_x": {
             "color": "#2a3f5f"
            },
            "error_y": {
             "color": "#2a3f5f"
            },
            "marker": {
             "line": {
              "color": "#E5ECF6",
              "width": 0.5
             },
             "pattern": {
              "fillmode": "overlay",
              "size": 10,
              "solidity": 0.2
             }
            },
            "type": "bar"
           }
          ],
          "barpolar": [
           {
            "marker": {
             "line": {
              "color": "#E5ECF6",
              "width": 0.5
             },
             "pattern": {
              "fillmode": "overlay",
              "size": 10,
              "solidity": 0.2
             }
            },
            "type": "barpolar"
           }
          ],
          "carpet": [
           {
            "aaxis": {
             "endlinecolor": "#2a3f5f",
             "gridcolor": "white",
             "linecolor": "white",
             "minorgridcolor": "white",
             "startlinecolor": "#2a3f5f"
            },
            "baxis": {
             "endlinecolor": "#2a3f5f",
             "gridcolor": "white",
             "linecolor": "white",
             "minorgridcolor": "white",
             "startlinecolor": "#2a3f5f"
            },
            "type": "carpet"
           }
          ],
          "choropleth": [
           {
            "colorbar": {
             "outlinewidth": 0,
             "ticks": ""
            },
            "type": "choropleth"
           }
          ],
          "contour": [
           {
            "colorbar": {
             "outlinewidth": 0,
             "ticks": ""
            },
            "colorscale": [
             [
              0,
              "#0d0887"
             ],
             [
              0.1111111111111111,
              "#46039f"
             ],
             [
              0.2222222222222222,
              "#7201a8"
             ],
             [
              0.3333333333333333,
              "#9c179e"
             ],
             [
              0.4444444444444444,
              "#bd3786"
             ],
             [
              0.5555555555555556,
              "#d8576b"
             ],
             [
              0.6666666666666666,
              "#ed7953"
             ],
             [
              0.7777777777777778,
              "#fb9f3a"
             ],
             [
              0.8888888888888888,
              "#fdca26"
             ],
             [
              1,
              "#f0f921"
             ]
            ],
            "type": "contour"
           }
          ],
          "contourcarpet": [
           {
            "colorbar": {
             "outlinewidth": 0,
             "ticks": ""
            },
            "type": "contourcarpet"
           }
          ],
          "heatmap": [
           {
            "colorbar": {
             "outlinewidth": 0,
             "ticks": ""
            },
            "colorscale": [
             [
              0,
              "#0d0887"
             ],
             [
              0.1111111111111111,
              "#46039f"
             ],
             [
              0.2222222222222222,
              "#7201a8"
             ],
             [
              0.3333333333333333,
              "#9c179e"
             ],
             [
              0.4444444444444444,
              "#bd3786"
             ],
             [
              0.5555555555555556,
              "#d8576b"
             ],
             [
              0.6666666666666666,
              "#ed7953"
             ],
             [
              0.7777777777777778,
              "#fb9f3a"
             ],
             [
              0.8888888888888888,
              "#fdca26"
             ],
             [
              1,
              "#f0f921"
             ]
            ],
            "type": "heatmap"
           }
          ],
          "heatmapgl": [
           {
            "colorbar": {
             "outlinewidth": 0,
             "ticks": ""
            },
            "colorscale": [
             [
              0,
              "#0d0887"
             ],
             [
              0.1111111111111111,
              "#46039f"
             ],
             [
              0.2222222222222222,
              "#7201a8"
             ],
             [
              0.3333333333333333,
              "#9c179e"
             ],
             [
              0.4444444444444444,
              "#bd3786"
             ],
             [
              0.5555555555555556,
              "#d8576b"
             ],
             [
              0.6666666666666666,
              "#ed7953"
             ],
             [
              0.7777777777777778,
              "#fb9f3a"
             ],
             [
              0.8888888888888888,
              "#fdca26"
             ],
             [
              1,
              "#f0f921"
             ]
            ],
            "type": "heatmapgl"
           }
          ],
          "histogram": [
           {
            "marker": {
             "pattern": {
              "fillmode": "overlay",
              "size": 10,
              "solidity": 0.2
             }
            },
            "type": "histogram"
           }
          ],
          "histogram2d": [
           {
            "colorbar": {
             "outlinewidth": 0,
             "ticks": ""
            },
            "colorscale": [
             [
              0,
              "#0d0887"
             ],
             [
              0.1111111111111111,
              "#46039f"
             ],
             [
              0.2222222222222222,
              "#7201a8"
             ],
             [
              0.3333333333333333,
              "#9c179e"
             ],
             [
              0.4444444444444444,
              "#bd3786"
             ],
             [
              0.5555555555555556,
              "#d8576b"
             ],
             [
              0.6666666666666666,
              "#ed7953"
             ],
             [
              0.7777777777777778,
              "#fb9f3a"
             ],
             [
              0.8888888888888888,
              "#fdca26"
             ],
             [
              1,
              "#f0f921"
             ]
            ],
            "type": "histogram2d"
           }
          ],
          "histogram2dcontour": [
           {
            "colorbar": {
             "outlinewidth": 0,
             "ticks": ""
            },
            "colorscale": [
             [
              0,
              "#0d0887"
             ],
             [
              0.1111111111111111,
              "#46039f"
             ],
             [
              0.2222222222222222,
              "#7201a8"
             ],
             [
              0.3333333333333333,
              "#9c179e"
             ],
             [
              0.4444444444444444,
              "#bd3786"
             ],
             [
              0.5555555555555556,
              "#d8576b"
             ],
             [
              0.6666666666666666,
              "#ed7953"
             ],
             [
              0.7777777777777778,
              "#fb9f3a"
             ],
             [
              0.8888888888888888,
              "#fdca26"
             ],
             [
              1,
              "#f0f921"
             ]
            ],
            "type": "histogram2dcontour"
           }
          ],
          "mesh3d": [
           {
            "colorbar": {
             "outlinewidth": 0,
             "ticks": ""
            },
            "type": "mesh3d"
           }
          ],
          "parcoords": [
           {
            "line": {
             "colorbar": {
              "outlinewidth": 0,
              "ticks": ""
             }
            },
            "type": "parcoords"
           }
          ],
          "pie": [
           {
            "automargin": true,
            "type": "pie"
           }
          ],
          "scatter": [
           {
            "fillpattern": {
             "fillmode": "overlay",
             "size": 10,
             "solidity": 0.2
            },
            "type": "scatter"
           }
          ],
          "scatter3d": [
           {
            "line": {
             "colorbar": {
              "outlinewidth": 0,
              "ticks": ""
             }
            },
            "marker": {
             "colorbar": {
              "outlinewidth": 0,
              "ticks": ""
             }
            },
            "type": "scatter3d"
           }
          ],
          "scattercarpet": [
           {
            "marker": {
             "colorbar": {
              "outlinewidth": 0,
              "ticks": ""
             }
            },
            "type": "scattercarpet"
           }
          ],
          "scattergeo": [
           {
            "marker": {
             "colorbar": {
              "outlinewidth": 0,
              "ticks": ""
             }
            },
            "type": "scattergeo"
           }
          ],
          "scattergl": [
           {
            "marker": {
             "colorbar": {
              "outlinewidth": 0,
              "ticks": ""
             }
            },
            "type": "scattergl"
           }
          ],
          "scattermapbox": [
           {
            "marker": {
             "colorbar": {
              "outlinewidth": 0,
              "ticks": ""
             }
            },
            "type": "scattermapbox"
           }
          ],
          "scatterpolar": [
           {
            "marker": {
             "colorbar": {
              "outlinewidth": 0,
              "ticks": ""
             }
            },
            "type": "scatterpolar"
           }
          ],
          "scatterpolargl": [
           {
            "marker": {
             "colorbar": {
              "outlinewidth": 0,
              "ticks": ""
             }
            },
            "type": "scatterpolargl"
           }
          ],
          "scatterternary": [
           {
            "marker": {
             "colorbar": {
              "outlinewidth": 0,
              "ticks": ""
             }
            },
            "type": "scatterternary"
           }
          ],
          "surface": [
           {
            "colorbar": {
             "outlinewidth": 0,
             "ticks": ""
            },
            "colorscale": [
             [
              0,
              "#0d0887"
             ],
             [
              0.1111111111111111,
              "#46039f"
             ],
             [
              0.2222222222222222,
              "#7201a8"
             ],
             [
              0.3333333333333333,
              "#9c179e"
             ],
             [
              0.4444444444444444,
              "#bd3786"
             ],
             [
              0.5555555555555556,
              "#d8576b"
             ],
             [
              0.6666666666666666,
              "#ed7953"
             ],
             [
              0.7777777777777778,
              "#fb9f3a"
             ],
             [
              0.8888888888888888,
              "#fdca26"
             ],
             [
              1,
              "#f0f921"
             ]
            ],
            "type": "surface"
           }
          ],
          "table": [
           {
            "cells": {
             "fill": {
              "color": "#EBF0F8"
             },
             "line": {
              "color": "white"
             }
            },
            "header": {
             "fill": {
              "color": "#C8D4E3"
             },
             "line": {
              "color": "white"
             }
            },
            "type": "table"
           }
          ]
         },
         "layout": {
          "annotationdefaults": {
           "arrowcolor": "#2a3f5f",
           "arrowhead": 0,
           "arrowwidth": 1
          },
          "autotypenumbers": "strict",
          "coloraxis": {
           "colorbar": {
            "outlinewidth": 0,
            "ticks": ""
           }
          },
          "colorscale": {
           "diverging": [
            [
             0,
             "#8e0152"
            ],
            [
             0.1,
             "#c51b7d"
            ],
            [
             0.2,
             "#de77ae"
            ],
            [
             0.3,
             "#f1b6da"
            ],
            [
             0.4,
             "#fde0ef"
            ],
            [
             0.5,
             "#f7f7f7"
            ],
            [
             0.6,
             "#e6f5d0"
            ],
            [
             0.7,
             "#b8e186"
            ],
            [
             0.8,
             "#7fbc41"
            ],
            [
             0.9,
             "#4d9221"
            ],
            [
             1,
             "#276419"
            ]
           ],
           "sequential": [
            [
             0,
             "#0d0887"
            ],
            [
             0.1111111111111111,
             "#46039f"
            ],
            [
             0.2222222222222222,
             "#7201a8"
            ],
            [
             0.3333333333333333,
             "#9c179e"
            ],
            [
             0.4444444444444444,
             "#bd3786"
            ],
            [
             0.5555555555555556,
             "#d8576b"
            ],
            [
             0.6666666666666666,
             "#ed7953"
            ],
            [
             0.7777777777777778,
             "#fb9f3a"
            ],
            [
             0.8888888888888888,
             "#fdca26"
            ],
            [
             1,
             "#f0f921"
            ]
           ],
           "sequentialminus": [
            [
             0,
             "#0d0887"
            ],
            [
             0.1111111111111111,
             "#46039f"
            ],
            [
             0.2222222222222222,
             "#7201a8"
            ],
            [
             0.3333333333333333,
             "#9c179e"
            ],
            [
             0.4444444444444444,
             "#bd3786"
            ],
            [
             0.5555555555555556,
             "#d8576b"
            ],
            [
             0.6666666666666666,
             "#ed7953"
            ],
            [
             0.7777777777777778,
             "#fb9f3a"
            ],
            [
             0.8888888888888888,
             "#fdca26"
            ],
            [
             1,
             "#f0f921"
            ]
           ]
          },
          "colorway": [
           "#636efa",
           "#EF553B",
           "#00cc96",
           "#ab63fa",
           "#FFA15A",
           "#19d3f3",
           "#FF6692",
           "#B6E880",
           "#FF97FF",
           "#FECB52"
          ],
          "font": {
           "color": "#2a3f5f"
          },
          "geo": {
           "bgcolor": "white",
           "lakecolor": "white",
           "landcolor": "#E5ECF6",
           "showlakes": true,
           "showland": true,
           "subunitcolor": "white"
          },
          "hoverlabel": {
           "align": "left"
          },
          "hovermode": "closest",
          "mapbox": {
           "style": "light"
          },
          "paper_bgcolor": "white",
          "plot_bgcolor": "#E5ECF6",
          "polar": {
           "angularaxis": {
            "gridcolor": "white",
            "linecolor": "white",
            "ticks": ""
           },
           "bgcolor": "#E5ECF6",
           "radialaxis": {
            "gridcolor": "white",
            "linecolor": "white",
            "ticks": ""
           }
          },
          "scene": {
           "xaxis": {
            "backgroundcolor": "#E5ECF6",
            "gridcolor": "white",
            "gridwidth": 2,
            "linecolor": "white",
            "showbackground": true,
            "ticks": "",
            "zerolinecolor": "white"
           },
           "yaxis": {
            "backgroundcolor": "#E5ECF6",
            "gridcolor": "white",
            "gridwidth": 2,
            "linecolor": "white",
            "showbackground": true,
            "ticks": "",
            "zerolinecolor": "white"
           },
           "zaxis": {
            "backgroundcolor": "#E5ECF6",
            "gridcolor": "white",
            "gridwidth": 2,
            "linecolor": "white",
            "showbackground": true,
            "ticks": "",
            "zerolinecolor": "white"
           }
          },
          "shapedefaults": {
           "line": {
            "color": "#2a3f5f"
           }
          },
          "ternary": {
           "aaxis": {
            "gridcolor": "white",
            "linecolor": "white",
            "ticks": ""
           },
           "baxis": {
            "gridcolor": "white",
            "linecolor": "white",
            "ticks": ""
           },
           "bgcolor": "#E5ECF6",
           "caxis": {
            "gridcolor": "white",
            "linecolor": "white",
            "ticks": ""
           }
          },
          "title": {
           "x": 0.05
          },
          "xaxis": {
           "automargin": true,
           "gridcolor": "white",
           "linecolor": "white",
           "ticks": "",
           "title": {
            "standoff": 15
           },
           "zerolinecolor": "white",
           "zerolinewidth": 2
          },
          "yaxis": {
           "automargin": true,
           "gridcolor": "white",
           "linecolor": "white",
           "ticks": "",
           "title": {
            "standoff": 15
           },
           "zerolinecolor": "white",
           "zerolinewidth": 2
          }
         }
        },
        "title": {
         "text": "Lightcurve"
        },
        "xaxis": {
         "autorange": true,
         "range": [
          -6177.777777777777,
          117377.77777777778
         ],
         "title": {
          "text": "Time (s)"
         },
         "type": "linear"
        },
        "yaxis": {
         "autorange": true,
         "range": [
          0.7188262044016154,
          10.061951266171032
         ],
         "title": {
          "text": "Cts/s"
         },
         "type": "linear"
        }
       }
      },
      "image/png": "[encoded data removed]",
      "text/html": [
       "<div>                            <div id=\"6ac39e7a-e1f7-4d41-9220-b8f4924f1a30\" class=\"plotly-graph-div\" style=\"height:525px; width:100%;\"></div>            <script type=\"text/javascript\">                require([\"plotly\"], function(Plotly) {                    window.PLOTLYENV=window.PLOTLYENV || {};                                    if (document.getElementById(\"6ac39e7a-e1f7-4d41-9220-b8f4924f1a30\")) {                    Plotly.newPlot(                        \"6ac39e7a-e1f7-4d41-9220-b8f4924f1a30\",                        [{\"error_y\":{\"array\":[0.2785677655436824,0.2760434748368452,0.25495097567963926,0.24289915602982237,0.22090722034374521,0.21118712081942875,0.2083266665599966,0.24351591323771843,0.23727621035409346,0.2193171219946131,0.20928449536456348,0.232163735324878,0.19,0.194164878389476,0.22022715545545238,0.2039607805437114,0.23366642891095846,0.2785677655436824,0.26305892875931813,0.24738633753705963,0.2792848008753788,0.2541653005427767,0.2551470164434615,0.24413111231467405,0.23259406699226015,0.23979157616563598,0.22181073012818836,0.22781571499789036,0.2244994432064365,0.21470910553583888,0.19974984355438177,0.21377558326431947,0.20904544960366875,0.21908902300206645,0.23388031127053,0.22561028345356957,0.2161018278497431,0.20784609690826528,0.20784609690826528,0.19899748742132398,0.19570385790780925,0.2521904042583698,0.24372115213907883,0.23259406699226015,0.223606797749979,0.25573423705088844,0.21213203435596426,0.2253885533916929,0.272213151776324,0.24289915602982237,0.232379000772445,0.23043437243605827,0.22583179581272428,0.26134268690743956,0.23874672772626646,0.22803508501982758,0.2677685567799177,0.2389560629069704,0.23622023622035432,0.23558437978779495,0.20952326839756963,0.21748563170931548,0.23622023622035432,0.19570385790780925,0.2383275057562597,0.24758836806279894,0.20952326839756963,0.22158519806160337,0.2179449471770337,0.22737634001804147,0.23323807579381203,0.23021728866442676,0.24779023386727733,0.23916521486202796,0.24454038521274968,0.2694438717061496,0.25632011235952595,0.23302360395462088,0.2683281572999748,0.2720294101747089,0.23065125189341593,0.24535688292770594,0.2720294101747089,0.2449489742783178,0.2598076211353316,0.24372115213907883,0.24474476501040832,0.25337718918639857,0.27147743920996453,0.2615339366124404,0.22737634001804147,0.22494443758403984,0.26057628441590763,0.24657656011875903,0.23979157616563598,0.25729360660537215,0.2738612787525831,0.2521904042583698,0.25099800796022265,0.24020824298928628,0.2640075756488817,0.2567099530598687,0.23430749027719963,0.2694438717061496,0.23130067012440755,0.2181742422927143,0.25099800796022265,0.2383275057562597,0.23600847442411893,0.23727621035409346,0.22759613353482083,0.23366642891095846,0.23769728648009425,0.2658947160061666,0.22956480566497994,0.24979991993593592,0.2875760768909681,0.2539685019840059,0.2634387974463898,0.23600847442411893,0.26305892875931813,0.23600847442411893,0.22693611435820432,0.22583179581272428,0.21702534414210706,0.2177154105707724,0.2039607805437114,0.23664319132398465,0.20297783130184438,0.20518284528683192,0.265329983228432,0.17349351572897473,0.18973665961010278,0.22090722034374521,0.19442222095223582,0.20566963801203134,0.22869193252058545,0.21236760581595301,0.21540659228538014,0.22869193252058545,0.19467922333931786,0.2142428528562855,0.18083141320025123,0.20784609690826528,0.25099800796022265,0.1982422760159901,0.20049937655763422,0.280713376952364,0.22869193252058545,0.2264950330581225,0.25,0.24166091947189144,0.22978250586152116,0.25099800796022265,0.21213203435596426,0.21400934559032694,0.22891046284519195,0.2293468988235943,0.24062418831031931,0.25495097567963926,0.21908902300206645,0.23065125189341593,0.20248456731316586,0.23194827009486402,0.25942243542145693,0.2193171219946131,0.2135415650406262,0.2264950330581225,0.19364916731037085,0.19544820285692066,0.21189620100417092,0.18627936010197158,0.21540659228538014,0.20248456731316586,0.2071231517720798,0.2193171219946131,0.23194827009486402,0.23345235059857505,0.23366642891095846,0.2172556098240043,0.22583179581272428,0.24041630560342614,0.189208879284245,0.19874606914351792,0.23874672772626646,0.18275666882497066,0.2054263858417414,0.22338307903688676,0.20322401432901574,0.21118712081942875,0.21748563170931548,0.19235384061671343,0.19697715603592209,0.19949937343260005,0.18138357147217055,0.2071231517720798,0.150996688705415,0.17492855684535902,0.23302360395462088,0.17549928774784246,0.17804493814764857,0.23259406699226015,0.17578395831246948,0.19493588689617927,0.24186773244895649,0.1824828759089466,0.18814887722226778,0.19595917942265423,0.19183326093250877,0.20371548787463362,0.19339079605813717,0.19544820285692066,0.24,0.2054263858417414,0.21142374511865974,0.26134268690743956,0.21,0.20615528128088303,0.2449489742783178,0.196468827043885,0.1979898987322333,0.21166010488516726,0.2264950330581225,0.20615528128088303,0.2206807649071391,0.18734993995195193,0.19672315572906002,0.19390719429665318,0.19899748742132398,0.2172556098240043,0.2073644135332772,0.20639767440550294,0.2389560629069704,0.18814887722226778,0.17916472867168917,0.2220360331117452,0.1774823934929885,0.18193405398660253,0.22338307903688676,0.1972308292331602,0.21307275752662516,0.21400934559032694,0.21236760581595301,0.20371548787463362,0.1977371993328519,0.20199009876724155,0.23473389188611005,0.22248595461286988,0.21470910553583888,0.22781571499789036,0.16340134638368192,0.1697056274847714,0.22181073012818836,0.18894443627691185,0.18384776310850234,0.18083141320025123,0.1708800749063506,0.16881943016134135,0.18439088914585774,0.18083141320025123,0.1584297951775486,0.18110770276274835,0.19,0.19235384061671343,0.16031219541881397,0.18466185312619388,0.1786057109949175,0.15811388300841897,0.1606237840420901,0.20639767440550294,0.17029386365926402,0.17578395831246948,0.18303005217723126,0.15165750888103102,0.15748015748023622,0.17972200755611428,0.17262676501632068,0.17204650534085253,0.16673332000533064,0.17291616465790582,0.2109502310972899,0.16,0.16248076809271922,0.18055470085267789,0.1414213562373095,0.16340134638368192,0.2042057785666214,0.15264337522473748,0.18708286933869708,0.21470910553583888,0.17175564037317667,0.17944358444926362,0.17663521732655696,0.1609347693943108,0.19493588689617927,0.16248076809271922,0.16278820596099705,0.19157244060668016,0.14212670403551894,0.1697056274847714,0.22090722034374521,0.14317821063276354,0.16552945357246848,0.20591260281974003,0.15748015748023622,0.17578395831246948,0.2039607805437114,0.15937377450509227,0.17916472867168917,0.1824828759089466,0.1414213562373095,0.19339079605813717,0.18083141320025123,0.17464249196572978,0.21863211109075448,0.18027756377319945,0.17776388834631177,0.2211334438749598,0.17146428199482247,0.17204650534085253,0.21142374511865974,0.15394804318340652,0.1673320053068151,0.19209372712298545,0.15716233645501712,0.18627936010197158,0.20124611797498107,0.15524174696260024,0.18734993995195193,0.1705872210923198,0.16124515496597097,0.18574175621006708,0.14966629547095767,0.15684387141358122,0.2179449471770337,0.13892443989449804,0.16,0.20952326839756963,0.1630950643030009,0.18814887722226778,0.2085665361461421,0.191049731745428,0.19,0.21470910553583888,0.17972200755611428,0.223606797749979,0.22315913604421397,0.21142374511865974,0.2260530911091463,0.17916472867168917,0.1786057109949175,0.19519221295943137,0.15905973720586866,0.16248076809271922,0.2615339366124404,0.16941074346097415,0.1854723699099141,0.17320508075688776,0.14966629547095767,0.15556349186104046,0.18411952639521967,0.15588457268119896,0.17578395831246948,0.16552945357246848,0.18708286933869708,0.196468827043885,0.1606237840420901,0.17944358444926362,0.22158519806160337,0.14730919862656233,0.15427248620541512,0.17944358444926362,0.17,0.1676305461424021,0.20124611797498107,0.18814887722226778,0.19,0.19595917942265423,0.15811388300841897,0.17406895185529211,0.15,0.15779733838059498,0.17635192088548396,0.14106735979665885,0.1609347693943108,0.2,0.15297058540778355,0.15968719422671313,0.18867962264113206,0.15684387141358122,0.18601075237738274,0.20639767440550294,0.15937377450509227,0.1661324772583615,0.1711724276862369,0.13564659966250536,0.14966629547095767,0.1661324772583615,0.147648230602334,0.1649242250247064,0.13490737563232041,0.12369316876852982,0.17606816861659008,0.11401754250991379,0.12328828005937952,0.1835755975068582,0.13711309200802088,0.1307669683062202,0.18439088914585774,0.13892443989449804,0.15524174696260024,0.15811388300841897,0.1452583904633395,0.13152946437965907,0.15198684153570663,0.15198684153570663,0.17972200755611428,0.14387494569938158,0.15264337522473748,0.19924858845171275,0.16124515496597097,0.18947295321496416,0.2368543856465402,0.16583123951777,0.18654758106177632,0.2264950330581225,0.24959967948697367,0.25059928172283336,0.2673948391424188,0.2569046515733026,0.2193171219946131,0.21494185260204676,0.208806130178211,0.22472205054244232,0.1835755975068582,0.196468827043885,0.2345207879911715,0.2054263858417414,0.18654758106177632,0.25748786379167465,0.18788294228055935,0.19874606914351792,0.24979991993593592,0.21236760581595301,0.21702534414210706,0.2260530911091463,0.1905255888325765,0.2240535650240808,0.2044504830026087,0.2046948949045872,0.2181742422927143,0.18,0.19672315572906002,0.24698178070456936,0.17578395831246948,0.18788294228055935,0.24145392935299273,0.20591260281974003,0.20639767440550294,0.25179356624028343,0.22912878474779197,0.21236760581595301,0.22181073012818836,0.20688160865577201,0.2142428528562855,0.20808652046684814,0.22293496809607954,0.25573423705088844,0.2244994432064365,0.2197726097583591,0.2628687885618983,0.18788294228055935,0.17406895185529211,0.2222611077089287,0.15620499351813308,0.18627936010197158,0.2353720459187964,0.19339079605813717,0.20223748416156684,0.2253885533916929,0.19442222095223582,0.1928730152198591,0.21166010488516726,0.18384776310850234,0.23173260452512934,0.18708286933869708,0.17378147196982766,0.22315913604421397,0.18466185312619388,0.1769180601295413,0.2073644135332772,0.14866068747318506,0.17146428199482247,0.220454076850486,0.1772004514666935,0.20615528128088303,0.216794833886788,0.191049731745428,0.21400934559032694,0.21118712081942875,0.2073644135332772,0.22978250586152116,0.20322401432901574,0.22338307903688676,0.26210684844162313,0.220454076850486,0.19595917942265423,0.23473389188611005,0.17635192088548396,0.16583123951777,0.2588435821108957,0.19261360284258225,0.18708286933869708,0.21236760581595301,0.17606816861659008,0.19849433241279207,0.19974984355438177,0.18,0.18520259177452136,0.15132745950421556,0.17349351572897473,0.2109502310972899,0.15811388300841897,0.17,0.21540659228538014,0.17146428199482247,0.15588457268119896,0.17262676501632068,0.16673332000533064,0.132664991614216,0.1673320053068151,0.17549928774784246,0.16552945357246848,0.17175564037317667,0.1532970971675589,0.17349351572897473,0.16941074346097415,0.15716233645501712,0.18841443681416772,0.14594519519326424,0.14798648586948743,0.18627936010197158,0.147648230602334,0.147648230602334,0.17578395831246948,0.15165750888103102,0.14387494569938158,0.18303005217723126,0.18681541692269404,0.140356688476182,0.14628738838327793,0.1676305461424021,0.18574175621006708,0.18165902124584948,0.18083141320025123,0.19570385790780925,0.15165750888103102,0.14560219778561037,0.17,0.16583123951777,0.16552945357246848,0.18110770276274835,0.17663521732655696,0.16792855623746664,0.17,0.15620499351813308,0.1646207763315433,0.16401219466856726,0.1609347693943108,0.17606816861659008,0.17262676501632068,0.15716233645501712,0.18303005217723126,0.17291616465790582,0.17320508075688776,0.19261360284258225,0.1752141546793523,0.16248076809271922,0.20149441679609886,0.1697056274847714,0.16186414056238646,0.18303005217723126,0.16822603841260722,0.1649242250247064,0.1705872210923198,0.16401219466856726,0.15937377450509227,0.15779733838059498,0.14798648586948743,0.17233687939614087,0.15524174696260024,0.15684387141358122,0.19570385790780925,0.17492855684535902,0.15652475842498528,0.17944358444926362,0.18384776310850234,0.15684387141358122,0.16911534525287764,0.16278820596099705,0.15491933384829668,0.1676305461424021,0.15524174696260024,0.13638181696985854,0.15811388300841897,0.150996688705415,0.17435595774162696,0.13856406460551018,0.14798648586948743,0.18220867158288598,0.14933184523068077,0.1260952021291849,0.1646207763315433,0.1341640786499874,0.15524174696260024,0.18681541692269404,0.17233687939614087,0.18439088914585774,0.1849324200890693,0.18055470085267789,0.17406895185529211,0.16431676725154984,0.15716233645501712,0.18384776310850234,0.17029386365926402,0.17435595774162696,0.18654758106177632,0.17,0.1673320053068151,0.20493901531919195,0.17972200755611428,0.1786057109949175,0.19949937343260005,0.18138357147217055,0.18947295321496416,0.1905255888325765,0.1606237840420901,0.19493588689617927,0.18466185312619388,0.17972200755611428,0.23366642891095846,0.19,0.19519221295943137,0.21236760581595301,0.17606816861659008,0.1673320053068151,0.18867962264113206,0.18654758106177632,0.17029386365926402,0.2083266665599966,0.2042057785666214,0.19078784028338913,0.19,0.19078784028338913,0.24041630560342614,0.21118712081942875,0.19621416870348582,0.24677925358506134,0.18027756377319945,0.1414213562373095,0.21236760581595301,0.1835755975068582,0.19621416870348582,0.23790754506740636,0.17635192088548396,0.18110770276274835,0.22494443758403984,0.19364916731037085,0.21,0.23916521486202796,0.22158519806160337,0.23280893453645632,0.20663978319771825,0.1928730152198591,0.2537715508089904,0.2179449471770337,0.20976176963403032,0.27018512172212594,0.24617067250182342,0.23811761799581316,0.2913760456866693,0.25495097567963926,0.21633307652783937,0.2443358344574123,0.23302360395462088,0.19,0.21,0.2195449840010015,0.20928449536456348,0.18814887722226778,0.1774823934929885,0.22022715545545238,0.18303005217723126,0.19544820285692066,0.24269322199023194,0.2293468988235943,0.19261360284258225,0.2551470164434615,0.1928730152198591,0.17944358444926362,0.20808652046684814,0.21071307505705478,0.19974984355438177,0.21447610589527216,0.19,0.21,0.1854723699099141,0.19621416870348582,0.22338307903688676,0.2002498439450079,0.17204650534085253,0.22090722034374521,0.18814887722226778,0.15491933384829668,0.20566963801203134,0.21071307505705478,0.17204650534085253,0.18681541692269404,0.19339079605813717,0.19313207915827968,0.22803508501982758,0.20663978319771825,0.21748563170931548,0.1876166303929372,0.17262676501632068,0.24124676163629638,0.18601075237738274,0.1854723699099141,0.2083266665599966,0.1786057109949175,0.18654758106177632,0.2565151067676132,0.18788294228055935,0.19026297590440447,0.2253885533916929,0.19313207915827968,0.1705872210923198,0.19313207915827968,0.2161018278497431,0.2046948949045872,0.1977371993328519,0.1905255888325765,0.22847319317591727,0.2046948949045872,0.18138357147217055,0.24758836806279894,0.22427661492005804,0.20371548787463362,0.2501999200639361,0.22158519806160337,0.21166010488516726,0.2340939982143925,0.24289915602982237,0.21047565179849187,0.2535744466621193,0.25573423705088844,0.22494443758403984,0.21840329667841554,0.2443358344574123,0.23979157616563598,0.223606797749979,0.21400934559032694,0.2718455443813637,0.191049731745428,0.19339079605813717,0.23430749027719963,0.2161018278497431,0.20952326839756963,0.22715633383201095,0.21377558326431947,0.20760539492026694,0.24041630560342614,0.241039415863879,0.24351591323771843,0.23130067012440755,0.19974984355438177,0.25922962793631443,0.22158519806160337,0.20248456731316586,0.21656407827707713,0.2102379604162864,0.19442222095223582,0.22248595461286988,0.20976176963403032,0.1646207763315433,0.22315913604421397,0.2054263858417414,0.18867962264113206,0.2083266665599966,0.19078784028338913,0.2293468988235943,0.2083266665599966,0.19078784028338913,0.23043437243605827,0.189208879284245,0.1676305461424021,0.20223748416156684,0.2,0.163707055437449,0.22338307903688676,0.19,0.1769180601295413,0.196468827043885,0.16217274740226856,0.132664991614216,0.18193405398660253,0.1769180601295413,0.18601075237738274,0.1977371993328519,0.19131126469708992,0.19493588689617927,0.17146428199482247,0.16401219466856726,0.21118712081942875,0.1664331697709324,0.15524174696260024,0.16217274740226856,0.19442222095223582,0.18083141320025123,0.20322401432901574,0.17944358444926362,0.17291616465790582,0.18681541692269404,0.2109502310972899,0.191049731745428,0.18027756377319945,0.1854723699099141,0.2211334438749598,0.19235384061671343,0.17320508075688776,0.21470910553583888,0.1752141546793523,0.17262676501632068,0.21330729007701543,0.19672315572906002,0.17776388834631177,0.21213203435596426,0.1928730152198591,0.16822603841260722,0.17972200755611428,0.18275666882497066,0.17204650534085253,0.15905973720586866,0.17635192088548396,0.22338307903688676,0.18788294228055935,0.18574175621006708,0.22,0.17464249196572978,0.17146428199482247,0.22956480566497994,0.18654758106177632,0.19621416870348582,0.21213203435596426,0.17291616465790582,0.19390719429665318,0.21908902300206645,0.22271057451320087,0.24248711305964282,0.21517434791350012,0.21886068628239289,0.24839484696748443,0.2083266665599966,0.20760539492026694,0.2649528259898354,0.1972308292331602,0.19621416870348582,0.25922962793631443,0.2253885533916929,0.2222611077089287,0.25748786379167465,0.21377558326431947,0.18947295321496416,0.2193171219946131,0.17378147196982766,0.19157244060668016,0.19026297590440447,0.19570385790780925,0.19183326093250877,0.18220867158288598,0.18520259177452136,0.23769728648009425,0.18027756377319945,0.17146428199482247,0.22869193252058545,0.20297783130184438,0.18708286933869708,0.21656407827707713,0.18165902124584948,0.17663521732655696,0.2,0.17944358444926362,0.1833030277982336,0.1835755975068582,0.17916472867168917,0.191049731745428,0.17578395831246948,0.17233687939614087,0.18654758106177632,0.16401219466856726,0.16,0.18867962264113206,0.15620499351813308,0.14798648586948743,0.1786057109949175,0.15427248620541512,0.13114877048604,0.1606237840420901,0.15556349186104046,0.1452583904633395,0.15491933384829668,0.15524174696260024,0.189208879284245,0.17,0.1606237840420901,0.18841443681416772,0.17320508075688776,0.14212670403551894,0.17549928774784246,0.1708800749063506,0.15716233645501712,0.21283796653792764,0.18110770276274835,0.1982422760159901,0.20223748416156684,0.18439088914585774,0.18627936010197158,0.17972200755611428,0.14662878298615178,0.18466185312619388,0.17464249196572978,0.15779733838059498,0.19157244060668016,0.14730919862656233,0.15620499351813308,0.19131126469708992,0.15716233645501712,0.150996688705415,0.18520259177452136,0.17175564037317667,0.15779733838059498,0.18601075237738274,0.17804493814764857,0.18220867158288598,0.16852299546352717,0.14730919862656233,0.1711724276862369,0.15937377450509227,0.15491933384829668,0.21447610589527216,0.15652475842498528,0.15716233645501712,0.18814887722226778,0.17,0.1661324772583615,0.2085665361461421,0.18027756377319945,0.15588457268119896,0.1584297951775486,0.15,0.15394804318340652,0.15132745950421556,0.15748015748023622,0.17291616465790582,0.15524174696260024,0.15033296378372907,0.1705872210923198,0.1374772708486752,0.12727922061357855,0.13527749258468683,0.13638181696985854,0.1392838827718412,0.14832396974191325,0.15231546211727817,0.12569805089976535,0.14866068747318506,0.15524174696260024,0.15905973720586866,0.14798648586948743,0.15684387141358122,0.17888543819998318,0.16340134638368192,0.17944358444926362,0.21470910553583888,0.1649242250247064,0.15684387141358122,0.1876166303929372,0.15937377450509227,0.147648230602334,0.1711724276862369,0.17435595774162696,0.18520259177452136,0.194164878389476,0.14866068747318506,0.17972200755611428,0.20952326839756963,0.14696938456699069,0.1711724276862369,0.15231546211727817,0.14696938456699069,0.18303005217723126,0.15362291495737215,0.15748015748023622,0.20346989949375804,0.17349351572897473,0.17349351572897473,0.18055470085267789,0.18138357147217055,0.17146428199482247,0.2046948949045872,0.17,0.17146428199482247,0.18303005217723126,0.18384776310850234,0.17146428199482247,0.18275666882497066,0.18384776310850234,0.21540659228538014,0.21213203435596426,0.17635192088548396,0.24124676163629638,0.20808652046684814,0.18973665961010278,0.21886068628239289,0.16401219466856726,0.16522711641858304,0.191049731745428,0.22181073012818836,0.18947295321496416,0.18814887722226778,0.16852299546352717,0.1772004514666935,0.17549928774784246,0.1711724276862369,0.2262741699796952,0.17492855684535902,0.1606237840420901,0.18220867158288598,0.18165902124584948,0.19849433241279207,0.2567099530598687,0.1769180601295413,0.19235384061671343,0.22338307903688676,0.19899748742132398,0.19595917942265423,0.20248456731316586,0.1769180601295413,0.22135943621178655,0.17888543819998318,0.18439088914585774,0.25099800796022265,0.1824828759089466,0.14899664425751338,0.19078784028338913,0.19899748742132398,0.18303005217723126,0.2315167380558045,0.16431676725154984,0.19235384061671343,0.21840329667841554,0.20199009876724155,0.22978250586152116,0.251992063367083,0.23430749027719963,0.25059928172283336,0.2083266665599966,0.19183326093250877,0.24637369989509839,0.20518284528683192,0.20615528128088303,0.25534290669607407,0.2193171219946131,0.20346989949375804,0.2810693864511039,0.20049937655763422,0.2083266665599966,0.2479919353527449,0.2009975124224178,0.21236760581595301,0.22869193252058545,0.21470910553583888,0.23916521486202796,0.23664319132398465,0.20149441679609886,0.25079872407968906,0.22181073012818836,0.19874606914351792,0.20273134932713294,0.21047565179849187,0.18411952639521967,0.2244994432064365,0.1854723699099141,0.20223748416156684,0.22847319317591727,0.2135415650406262,0.2054263858417414,0.21517434791350012,0.21189620100417092,0.21307275752662516,0.20928449536456348,0.18275666882497066,0.27,0.24738633753705963,0.20784609690826528,0.26981475126464083,0.20688160865577201,0.220454076850486,0.27730849247724093,0.2195449840010015,0.2420743687382041,0.3047950130825634,0.2073644135332772],\"type\":\"data\",\"visible\":true},\"mode\":\"lines\",\"name\":\"Lightcurve of flaring particle background\",\"x\":[0.0,100.0,200.0,300.0,400.0,500.0,600.0,700.0,800.0,900.0,1000.0,1100.0,1200.0,1300.0,1400.0,1500.0,1600.0,1700.0,1800.0,1900.0,2000.0,2100.0,2200.0,2300.0,2400.0,2500.0,2600.0,2700.0,2800.0,2900.0,3000.0,3100.0,3200.0,3300.0,3400.0,3500.0,3600.0,3700.0,3800.0,3900.0,4000.0,4100.0,4200.0,4300.0,4400.0,4500.0,4600.0,4700.0,4800.0,4900.0,5000.0,5100.0,5200.0,5300.0,5400.0,5500.0,5600.0,5700.0,5800.0,5900.0,6000.0,6100.0,6200.0,6300.0,6400.0,6500.0,6600.0,6700.0,6800.0,6900.0,7000.0,7100.0,7200.0,7300.0,7400.0,7500.0,7600.0,7700.0,7800.0,7900.0,8000.0,8100.0,8200.0,8300.0,8400.0,8500.0,8600.0,8700.0,8800.0,8900.0,9000.0,9100.0,9200.0,9300.0,9400.0,9500.0,9600.0,9700.0,9800.0,9900.0,10000.0,10100.0,10200.0,10300.0,10400.0,10500.0,10600.0,10700.0,10800.0,10900.0,11000.0,11100.0,11200.0,11300.0,11400.0,11500.0,11600.0,11700.0,11800.0,11900.0,12000.0,12100.0,12200.0,12300.0,12400.0,12500.0,12600.0,12700.0,12800.0,12900.0,13000.0,13100.0,13200.0,13300.0,13400.0,13500.0,13600.0,13700.0,13800.0,13900.0,14000.0,14100.0,14200.0,14300.0,14400.0,14500.0,14600.0,14700.0,14800.0,14900.0,15000.0,15100.0,15200.0,15300.0,15400.0,15500.0,15600.0,15700.0,15800.0,15900.0,16000.0,16100.0,16200.0,16300.0,16400.0,16500.0,16600.0,16700.0,16800.0,16900.0,17000.0,17100.0,17200.0,17300.0,17400.0,17500.0,17600.0,17700.0,17800.0,17900.0,18000.0,18100.0,18200.0,18300.0,18400.0,18500.0,18600.0,18700.0,18800.0,18900.0,19000.0,19100.0,19200.0,19300.0,19400.0,19500.0,19600.0,19700.0,19800.0,19900.0,20000.0,20100.0,20200.0,20300.0,20400.0,20500.0,20600.0,20700.0,20800.0,20900.0,21000.0,21100.0,21200.0,21300.0,21400.0,21500.0,21600.0,21700.0,21800.0,21900.0,22000.0,22100.0,22200.0,22300.0,22400.0,22500.0,22600.0,22700.0,22800.0,22900.0,23000.0,23100.0,23200.0,23300.0,23400.0,23500.0,23600.0,23700.0,23800.0,23900.0,24000.0,24100.0,24200.0,24300.0,24400.0,24500.0,24600.0,24700.0,24800.0,24900.0,25000.0,25100.0,25200.0,25300.0,25400.0,25500.0,25600.0,25700.0,25800.0,25900.0,26000.0,26100.0,26200.0,26300.0,26400.0,26500.0,26600.0,26700.0,26800.0,26900.0,27000.0,27100.0,27200.0,27300.0,27400.0,27500.0,27600.0,27700.0,27800.0,27900.0,28000.0,28100.0,28200.0,28300.0,28400.0,28500.0,28600.0,28700.0,28800.0,28900.0,29000.0,29100.0,29200.0,29300.0,29400.0,29500.0,29600.0,29700.0,29800.0,29900.0,30000.0,30100.0,30200.0,30300.0,30400.0,30500.0,30600.0,30700.0,30800.0,30900.0,31000.0,31100.0,31200.0,31300.0,31400.0,31500.0,31600.0,31700.0,31800.0,31900.0,32000.0,32100.0,32200.0,32300.0,32400.0,32500.0,32600.0,32700.0,32800.0,32900.0,33000.0,33100.0,33200.0,33300.0,33400.0,33500.0,33600.0,33700.0,33800.0,33900.0,34000.0,34100.0,34200.0,34300.0,34400.0,34500.0,34600.0,34700.0,34800.0,34900.0,35000.0,35100.0,35200.0,35300.0,35400.0,35500.0,35600.0,35700.0,35800.0,35900.0,36000.0,36100.0,36200.0,36300.0,36400.0,36500.0,36600.0,36700.0,36800.0,36900.0,37000.0,37100.0,37200.0,37300.0,37400.0,37500.0,37600.0,37700.0,37800.0,37900.0,38000.0,38100.0,38200.0,38300.0,38400.0,38500.0,38600.0,38700.0,38800.0,38900.0,39000.0,39100.0,39200.0,39300.0,39400.0,39500.0,39600.0,39700.0,39800.0,39900.0,40000.0,40100.0,40200.0,40300.0,40400.0,40500.0,40600.0,40700.0,40800.0,40900.0,41000.0,41100.0,41200.0,41300.0,41400.0,41500.0,41600.0,41700.0,41800.0,41900.0,42000.0,42100.0,42200.0,42300.0,42400.0,42500.0,42600.0,42700.0,42800.0,42900.0,43000.0,43100.0,43200.0,43300.0,43400.0,43500.0,43600.0,43700.0,43800.0,43900.0,44000.0,44100.0,44200.0,44300.0,44400.0,44500.0,44600.0,44700.0,44800.0,44900.0,45000.0,45100.0,45200.0,45300.0,45400.0,45500.0,45600.0,45700.0,45800.0,45900.0,46000.0,46100.0,46200.0,46300.0,46400.0,46500.0,46600.0,46700.0,46800.0,46900.0,47000.0,47100.0,47200.0,47300.0,47400.0,47500.0,47600.0,47700.0,47800.0,47900.0,48000.0,48100.0,48200.0,48300.0,48400.0,48500.0,48600.0,48700.0,48800.0,48900.0,49000.0,49100.0,49200.0,49300.0,49400.0,49500.0,49600.0,49700.0,49800.0,49900.0,50000.0,50100.0,50200.0,50300.0,50400.0,50500.0,50600.0,50700.0,50800.0,50900.0,51000.0,51100.0,51200.0,51300.0,51400.0,51500.0,51600.0,51700.0,51800.0,51900.0,52000.0,52100.0,52200.0,52300.0,52400.0,52500.0,52600.0,52700.0,52800.0,52900.0,53000.0,53100.0,53200.0,53300.0,53400.0,53500.0,53600.0,53700.0,53800.0,53900.0,54000.0,54100.0,54200.0,54300.0,54400.0,54500.0,54600.0,54700.0,54800.0,54900.0,55000.0,55100.0,55200.0,55300.0,55400.0,55500.0,55600.0,55700.0,55800.0,55900.0,56000.0,56100.0,56200.0,56300.0,56400.0,56500.0,56600.0,56700.0,56800.0,56900.0,57000.0,57100.0,57200.0,57300.0,57400.0,57500.0,57600.0,57700.0,57800.0,57900.0,58000.0,58100.0,58200.0,58300.0,58400.0,58500.0,58600.0,58700.0,58800.0,58900.0,59000.0,59100.0,59200.0,59300.0,59400.0,59500.0,59600.0,59700.0,59800.0,59900.0,60000.0,60100.0,60200.0,60300.0,60400.0,60500.0,60600.0,60700.0,60800.0,60900.0,61000.0,61100.0,61200.0,61300.0,61400.0,61500.0,61600.0,61700.0,61800.0,61900.0,62000.0,62100.0,62200.0,62300.0,62400.0,62500.0,62600.0,62700.0,62800.0,62900.0,63000.0,63100.0,63200.0,63300.0,63400.0,63500.0,63600.0,63700.0,63800.0,63900.0,64000.0,64100.0,64200.0,64300.0,64400.0,64500.0,64600.0,64700.0,64800.0,64900.0,65000.0,65100.0,65200.0,65300.0,65400.0,65500.0,65600.0,65700.0,65800.0,65900.0,66000.0,66100.0,66200.0,66300.0,66400.0,66500.0,66600.0,66700.0,66800.0,66900.0,67000.0,67100.0,67200.0,67300.0,67400.0,67500.0,67600.0,67700.0,67800.0,67900.0,68000.0,68100.0,68200.0,68300.0,68400.0,68500.0,68600.0,68700.0,68800.0,68900.0,69000.0,69100.0,69200.0,69300.0,69400.0,69500.0,69600.0,69700.0,69800.0,69900.0,70000.0,70100.0,70200.0,70300.0,70400.0,70500.0,70600.0,70700.0,70800.0,70900.0,71000.0,71100.0,71200.0,71300.0,71400.0,71500.0,71600.0,71700.0,71800.0,71900.0,72000.0,72100.0,72200.0,72300.0,72400.0,72500.0,72600.0,72700.0,72800.0,72900.0,73000.0,73100.0,73200.0,73300.0,73400.0,73500.0,73600.0,73700.0,73800.0,73900.0,74000.0,74100.0,74200.0,74300.0,74400.0,74500.0,74600.0,74700.0,74800.0,74900.0,75000.0,75100.0,75200.0,75300.0,75400.0,75500.0,75600.0,75700.0,75800.0,75900.0,76000.0,76100.0,76200.0,76300.0,76400.0,76500.0,76600.0,76700.0,76800.0,76900.0,77000.0,77100.0,77200.0,77300.0,77400.0,77500.0,77600.0,77700.0,77800.0,77900.0,78000.0,78100.0,78200.0,78300.0,78400.0,78500.0,78600.0,78700.0,78800.0,78900.0,79000.0,79100.0,79200.0,79300.0,79400.0,79500.0,79600.0,79700.0,79800.0,79900.0,80000.0,80100.0,80200.0,80300.0,80400.0,80500.0,80600.0,80700.0,80800.0,80900.0,81000.0,81100.0,81200.0,81300.0,81400.0,81500.0,81600.0,81700.0,81800.0,81900.0,82000.0,82100.0,82200.0,82300.0,82400.0,82500.0,82600.0,82700.0,82800.0,82900.0,83000.0,83100.0,83200.0,83300.0,83400.0,83500.0,83600.0,83700.0,83800.0,83900.0,84000.0,84100.0,84200.0,84300.0,84400.0,84500.0,84600.0,84700.0,84800.0,84900.0,85000.0,85100.0,85200.0,85300.0,85400.0,85500.0,85600.0,85700.0,85800.0,85900.0,86000.0,86100.0,86200.0,86300.0,86400.0,86500.0,86600.0,86700.0,86800.0,86900.0,87000.0,87100.0,87200.0,87300.0,87400.0,87500.0,87600.0,87700.0,87800.0,87900.0,88000.0,88100.0,88200.0,88300.0,88400.0,88500.0,88600.0,88700.0,88800.0,88900.0,89000.0,89100.0,89200.0,89300.0,89400.0,89500.0,89600.0,89700.0,89800.0,89900.0,90000.0,90100.0,90200.0,90300.0,90400.0,90500.0,90600.0,90700.0,90800.0,90900.0,91000.0,91100.0,91200.0,91300.0,91400.0,91500.0,91600.0,91700.0,91800.0,91900.0,92000.0,92100.0,92200.0,92300.0,92400.0,92500.0,92600.0,92700.0,92800.0,92900.0,93000.0,93100.0,93200.0,93300.0,93400.0,93500.0,93600.0,93700.0,93800.0,93900.0,94000.0,94100.0,94200.0,94300.0,94400.0,94500.0,94600.0,94700.0,94800.0,94900.0,95000.0,95100.0,95200.0,95300.0,95400.0,95500.0,95600.0,95700.0,95800.0,95900.0,96000.0,96100.0,96200.0,96300.0,96400.0,96500.0,96600.0,96700.0,96800.0,96900.0,97000.0,97100.0,97200.0,97300.0,97400.0,97500.0,97600.0,97700.0,97800.0,97900.0,98000.0,98100.0,98200.0,98300.0,98400.0,98500.0,98600.0,98700.0,98800.0,98900.0,99000.0,99100.0,99200.0,99300.0,99400.0,99500.0,99600.0,99700.0,99800.0,99900.0,100000.0,100100.0,100200.0,100300.0,100400.0,100500.0,100600.0,100700.0,100800.0,100900.0,101000.0,101100.0,101200.0,101300.0,101400.0,101500.0,101600.0,101700.0,101800.0,101900.0,102000.0,102100.0,102200.0,102300.0,102400.0,102500.0,102600.0,102700.0,102800.0,102900.0,103000.0,103100.0,103200.0,103300.0,103400.0,103500.0,103600.0,103700.0,103800.0,103900.0,104000.0,104100.0,104200.0,104300.0,104400.0,104500.0,104600.0,104700.0,104800.0,104900.0,105000.0,105100.0,105200.0,105300.0,105400.0,105500.0,105600.0,105700.0,105800.0,105900.0,106000.0,106100.0,106200.0,106300.0,106400.0,106500.0,106600.0,106700.0,106800.0,106900.0,107000.0,107100.0,107200.0,107300.0,107400.0,107500.0,107600.0,107700.0,107800.0,107900.0,108000.0,108100.0,108200.0,108300.0,108400.0,108500.0,108600.0,108700.0,108800.0,108900.0,109000.0,109100.0,109200.0,109300.0,109400.0,109500.0,109600.0,109700.0,109800.0,109900.0,110000.0,110100.0,110200.0,110300.0,110400.0,110500.0,110600.0,110700.0,110800.0,110900.0,111000.0,111100.0,111200.0],\"y\":[7.76,7.62,6.5,5.9,4.88,4.46,4.34,5.93,5.63,4.81,4.38,5.39,3.61,3.77,4.85,4.16,5.46,7.76,6.92,6.12,7.8,6.46,6.51,5.96,5.41,5.75,4.92,5.19,5.04,4.61,3.99,4.57,4.37,4.8,5.47,5.09,4.67,4.32,4.32,3.96,3.83,6.36,5.94,5.41,5.0,6.54,4.5,5.08,7.41,5.9,5.4,5.31,5.1,6.83,5.7,5.2,7.17,5.71,5.58,5.55,4.39,4.73,5.58,3.83,5.68,6.13,4.39,4.91,4.75,5.17,5.44,5.3,6.14,5.72,5.98,7.26,6.57,5.43,7.2,7.4,5.32,6.02,7.4,6.0,6.75,5.94,5.99,6.42,7.37,6.84,5.17,5.06,6.79,6.08,5.75,6.62,7.5,6.36,6.3,5.77,6.97,6.59,5.49,7.26,5.35,4.76,6.3,5.68,5.57,5.63,5.18,5.46,5.65,7.07,5.27,6.24,8.27,6.45,6.94,5.57,6.92,5.57,5.15,5.1,4.71,4.74,4.16,5.6,4.12,4.21,7.04,3.01,3.6,4.88,3.78,4.23,5.23,4.51,4.64,5.23,3.79,4.59,3.27,4.32,6.3,3.93,4.02,7.88,5.23,5.13,6.25,5.84,5.28,6.3,4.5,4.58,5.24,5.26,5.79,6.5,4.8,5.32,4.1,5.38,6.73,4.81,4.56,5.13,3.75,3.82,4.49,3.47,4.64,4.1,4.29,4.81,5.38,5.45,5.46,4.72,5.1,5.78,3.58,3.95,5.7,3.34,4.22,4.99,4.13,4.46,4.73,3.7,3.88,3.98,3.29,4.29,2.28,3.06,5.43,3.08,3.17,5.41,3.09,3.8,5.85,3.33,3.54,3.84,3.68,4.15,3.74,3.82,5.76,4.22,4.47,6.83,4.41,4.25,6.0,3.86,3.92,4.48,5.13,4.25,4.87,3.51,3.87,3.76,3.96,4.72,4.3,4.26,5.71,3.54,3.21,4.93,3.15,3.31,4.99,3.89,4.54,4.58,4.51,4.15,3.91,4.08,5.51,4.95,4.61,5.19,2.67,2.88,4.92,3.57,3.38,3.27,2.92,2.85,3.4,3.27,2.51,3.28,3.61,3.7,2.57,3.41,3.19,2.5,2.58,4.26,2.9,3.09,3.35,2.3,2.48,3.23,2.98,2.96,2.78,2.99,4.45,2.56,2.64,3.26,2.0,2.67,4.17,2.33,3.5,4.61,2.95,3.22,3.12,2.59,3.8,2.64,2.65,3.67,2.02,2.88,4.88,2.05,2.74,4.24,2.48,3.09,4.16,2.54,3.21,3.33,2.0,3.74,3.27,3.05,4.78,3.25,3.16,4.89,2.94,2.96,4.47,2.37,2.8,3.69,2.47,3.47,4.05,2.41,3.51,2.91,2.6,3.45,2.24,2.46,4.75,1.93,2.56,4.39,2.66,3.54,4.35,3.65,3.61,4.61,3.23,5.0,4.98,4.47,5.11,3.21,3.19,3.81,2.53,2.64,6.84,2.87,3.44,3.0,2.24,2.42,3.39,2.43,3.09,2.74,3.5,3.86,2.58,3.22,4.91,2.17,2.38,3.22,2.89,2.81,4.05,3.54,3.61,3.84,2.5,3.03,2.25,2.49,3.11,1.99,2.59,4.0,2.34,2.55,3.56,2.46,3.46,4.26,2.54,2.76,2.93,1.84,2.24,2.76,2.18,2.72,1.82,1.53,3.1,1.3,1.52,3.37,1.88,1.71,3.4,1.93,2.41,2.5,2.11,1.73,2.31,2.31,3.23,2.07,2.33,3.97,2.6,3.59,5.61,2.75,3.48,5.13,6.23,6.28,7.15,6.6,4.81,4.62,4.36,5.05,3.37,3.86,5.5,4.22,3.48,6.63,3.53,3.95,6.24,4.51,4.71,5.11,3.63,5.02,4.18,4.19,4.76,3.24,3.87,6.1,3.09,3.53,5.83,4.24,4.26,6.34,5.25,4.51,4.92,4.28,4.59,4.33,4.97,6.54,5.04,4.83,6.91,3.53,3.03,4.94,2.44,3.47,5.54,3.74,4.09,5.08,3.78,3.72,4.48,3.38,5.37,3.5,3.02,4.98,3.41,3.13,4.3,2.21,2.94,4.86,3.14,4.25,4.7,3.65,4.58,4.46,4.3,5.28,4.13,4.99,6.87,4.86,3.84,5.51,3.11,2.75,6.7,3.71,3.5,4.51,3.1,3.94,3.99,3.24,3.43,2.29,3.01,4.45,2.5,2.89,4.64,2.94,2.43,2.98,2.78,1.76,2.8,3.08,2.74,2.95,2.35,3.01,2.87,2.47,3.55,2.13,2.19,3.47,2.18,2.18,3.09,2.3,2.07,3.35,3.49,1.97,2.14,2.81,3.45,3.3,3.27,3.83,2.3,2.12,2.89,2.75,2.74,3.28,3.12,2.82,2.89,2.44,2.71,2.69,2.59,3.1,2.98,2.47,3.35,2.99,3.0,3.71,3.07,2.64,4.06,2.88,2.62,3.35,2.83,2.72,2.91,2.69,2.54,2.49,2.19,2.97,2.41,2.46,3.83,3.06,2.45,3.22,3.38,2.46,2.86,2.65,2.4,2.81,2.41,1.86,2.5,2.28,3.04,1.92,2.19,3.32,2.23,1.59,2.71,1.8,2.41,3.49,2.97,3.4,3.42,3.26,3.03,2.7,2.47,3.38,2.9,3.04,3.48,2.89,2.8,4.2,3.23,3.19,3.98,3.29,3.59,3.63,2.58,3.8,3.41,3.23,5.46,3.61,3.81,4.51,3.1,2.8,3.56,3.48,2.9,4.34,4.17,3.64,3.61,3.64,5.78,4.46,3.85,6.09,3.25,2.0,4.51,3.37,3.85,5.66,3.11,3.28,5.06,3.75,4.41,5.72,4.91,5.42,4.27,3.72,6.44,4.75,4.4,7.3,6.06,5.67,8.49,6.5,4.68,5.97,5.43,3.61,4.41,4.82,4.38,3.54,3.15,4.85,3.35,3.82,5.89,5.26,3.71,6.51,3.72,3.22,4.33,4.44,3.99,4.6,3.61,4.41,3.44,3.85,4.99,4.01,2.96,4.88,3.54,2.4,4.23,4.44,2.96,3.49,3.74,3.73,5.2,4.27,4.73,3.52,2.98,5.82,3.46,3.44,4.34,3.19,3.48,6.58,3.53,3.62,5.08,3.73,2.91,3.73,4.67,4.19,3.91,3.63,5.22,4.19,3.29,6.13,5.03,4.15,6.26,4.91,4.48,5.48,5.9,4.43,6.43,6.54,5.06,4.77,5.97,5.75,5.0,4.58,7.39,3.65,3.74,5.49,4.67,4.39,5.16,4.57,4.31,5.78,5.81,5.93,5.35,3.99,6.72,4.91,4.1,4.69,4.42,3.78,4.95,4.4,2.71,4.98,4.22,3.56,4.34,3.64,5.26,4.34,3.64,5.31,3.58,2.81,4.09,4.0,2.68,4.99,3.61,3.13,3.86,2.63,1.76,3.31,3.13,3.46,3.91,3.66,3.8,2.94,2.69,4.46,2.77,2.41,2.63,3.78,3.27,4.13,3.22,2.99,3.49,4.45,3.65,3.25,3.44,4.89,3.7,3.0,4.61,3.07,2.98,4.55,3.87,3.16,4.5,3.72,2.83,3.23,3.34,2.96,2.53,3.11,4.99,3.53,3.45,4.84,3.05,2.94,5.27,3.48,3.85,4.5,2.99,3.76,4.8,4.96,5.88,4.63,4.79,6.17,4.34,4.31,7.02,3.89,3.85,6.72,5.08,4.94,6.63,4.57,3.59,4.81,3.02,3.67,3.62,3.83,3.68,3.32,3.43,5.65,3.25,2.94,5.23,4.12,3.5,4.69,3.3,3.12,4.0,3.22,3.36,3.37,3.21,3.65,3.09,2.97,3.48,2.69,2.56,3.56,2.44,2.19,3.19,2.38,1.72,2.58,2.42,2.11,2.4,2.41,3.58,2.89,2.58,3.55,3.0,2.02,3.08,2.92,2.47,4.53,3.28,3.93,4.09,3.4,3.47,3.23,2.15,3.41,3.05,2.49,3.67,2.17,2.44,3.66,2.47,2.28,3.43,2.95,2.49,3.46,3.17,3.32,2.84,2.17,2.93,2.54,2.4,4.6,2.45,2.47,3.54,2.89,2.76,4.35,3.25,2.43,2.51,2.25,2.37,2.29,2.48,2.99,2.41,2.26,2.91,1.89,1.62,1.83,1.86,1.94,2.2,2.32,1.58,2.21,2.41,2.53,2.19,2.46,3.2,2.67,3.22,4.61,2.72,2.46,3.52,2.54,2.18,2.93,3.04,3.43,3.77,2.21,3.23,4.39,2.16,2.93,2.32,2.16,3.35,2.36,2.48,4.14,3.01,3.01,3.26,3.29,2.94,4.19,2.89,2.94,3.35,3.38,2.94,3.34,3.38,4.64,4.5,3.11,5.82,4.33,3.6,4.79,2.69,2.73,3.65,4.92,3.59,3.54,2.84,3.14,3.08,2.93,5.12,3.06,2.58,3.32,3.3,3.94,6.59,3.13,3.7,4.99,3.96,3.84,4.1,3.13,4.9,3.2,3.4,6.3,3.33,2.22,3.64,3.96,3.35,5.36,2.7,3.7,4.77,4.08,5.28,6.35,5.49,6.28,4.34,3.68,6.07,4.21,4.25,6.52,4.81,4.14,7.9,4.02,4.34,6.15,4.04,4.51,5.23,4.61,5.72,5.6,4.06,6.29,4.92,3.95,4.11,4.43,3.39,5.04,3.44,4.09,5.22,4.56,4.22,4.63,4.49,4.54,4.38,3.34,7.29,6.12,4.32,7.28,4.28,4.86,7.69,4.82,5.86,9.29,4.3],\"type\":\"scatter\"}],                        {\"template\":{\"data\":{\"histogram2dcontour\":[{\"type\":\"histogram2dcontour\",\"colorbar\":{\"outlinewidth\":0,\"ticks\":\"\"},\"colorscale\":[[0.0,\"#0d0887\"],[0.1111111111111111,\"#46039f\"],[0.2222222222222222,\"#7201a8\"],[0.3333333333333333,\"#9c179e\"],[0.4444444444444444,\"#bd3786\"],[0.5555555555555556,\"#d8576b\"],[0.6666666666666666,\"#ed7953\"],[0.7777777777777778,\"#fb9f3a\"],[0.8888888888888888,\"#fdca26\"],[1.0,\"#f0f921\"]]}],\"choropleth\":[{\"type\":\"choropleth\",\"colorbar\":{\"outlinewidth\":0,\"ticks\":\"\"}}],\"histogram2d\":[{\"type\":\"histogram2d\",\"colorbar\":{\"outlinewidth\":0,\"ticks\":\"\"},\"colorscale\":[[0.0,\"#0d0887\"],[0.1111111111111111,\"#46039f\"],[0.2222222222222222,\"#7201a8\"],[0.3333333333333333,\"#9c179e\"],[0.4444444444444444,\"#bd3786\"],[0.5555555555555556,\"#d8576b\"],[0.6666666666666666,\"#ed7953\"],[0.7777777777777778,\"#fb9f3a\"],[0.8888888888888888,\"#fdca26\"],[1.0,\"#f0f921\"]]}],\"heatmap\":[{\"type\":\"heatmap\",\"colorbar\":{\"outlinewidth\":0,\"ticks\":\"\"},\"colorscale\":[[0.0,\"#0d0887\"],[0.1111111111111111,\"#46039f\"],[0.2222222222222222,\"#7201a8\"],[0.3333333333333333,\"#9c179e\"],[0.4444444444444444,\"#bd3786\"],[0.5555555555555556,\"#d8576b\"],[0.6666666666666666,\"#ed7953\"],[0.7777777777777778,\"#fb9f3a\"],[0.8888888888888888,\"#fdca26\"],[1.0,\"#f0f921\"]]}],\"heatmapgl\":[{\"type\":\"heatmapgl\",\"colorbar\":{\"outlinewidth\":0,\"ticks\":\"\"},\"colorscale\":[[0.0,\"#0d0887\"],[0.1111111111111111,\"#46039f\"],[0.2222222222222222,\"#7201a8\"],[0.3333333333333333,\"#9c179e\"],[0.4444444444444444,\"#bd3786\"],[0.5555555555555556,\"#d8576b\"],[0.6666666666666666,\"#ed7953\"],[0.7777777777777778,\"#fb9f3a\"],[0.8888888888888888,\"#fdca26\"],[1.0,\"#f0f921\"]]}],\"contourcarpet\":[{\"type\":\"contourcarpet\",\"colorbar\":{\"outlinewidth\":0,\"ticks\":\"\"}}],\"contour\":[{\"type\":\"contour\",\"colorbar\":{\"outlinewidth\":0,\"ticks\":\"\"},\"colorscale\":[[0.0,\"#0d0887\"],[0.1111111111111111,\"#46039f\"],[0.2222222222222222,\"#7201a8\"],[0.3333333333333333,\"#9c179e\"],[0.4444444444444444,\"#bd3786\"],[0.5555555555555556,\"#d8576b\"],[0.6666666666666666,\"#ed7953\"],[0.7777777777777778,\"#fb9f3a\"],[0.8888888888888888,\"#fdca26\"],[1.0,\"#f0f921\"]]}],\"surface\":[{\"type\":\"surface\",\"colorbar\":{\"outlinewidth\":0,\"ticks\":\"\"},\"colorscale\":[[0.0,\"#0d0887\"],[0.1111111111111111,\"#46039f\"],[0.2222222222222222,\"#7201a8\"],[0.3333333333333333,\"#9c179e\"],[0.4444444444444444,\"#bd3786\"],[0.5555555555555556,\"#d8576b\"],[0.6666666666666666,\"#ed7953\"],[0.7777777777777778,\"#fb9f3a\"],[0.8888888888888888,\"#fdca26\"],[1.0,\"#f0f921\"]]}],\"mesh3d\":[{\"type\":\"mesh3d\",\"colorbar\":{\"outlinewidth\":0,\"ticks\":\"\"}}],\"scatter\":[{\"fillpattern\":{\"fillmode\":\"overlay\",\"size\":10,\"solidity\":0.2},\"type\":\"scatter\"}],\"parcoords\":[{\"type\":\"parcoords\",\"line\":{\"colorbar\":{\"outlinewidth\":0,\"ticks\":\"\"}}}],\"scatterpolargl\":[{\"type\":\"scatterpolargl\",\"marker\":{\"colorbar\":{\"outlinewidth\":0,\"ticks\":\"\"}}}],\"bar\":[{\"error_x\":{\"color\":\"#2a3f5f\"},\"error_y\":{\"color\":\"#2a3f5f\"},\"marker\":{\"line\":{\"color\":\"#E5ECF6\",\"width\":0.5},\"pattern\":{\"fillmode\":\"overlay\",\"size\":10,\"solidity\":0.2}},\"type\":\"bar\"}],\"scattergeo\":[{\"type\":\"scattergeo\",\"marker\":{\"colorbar\":{\"outlinewidth\":0,\"ticks\":\"\"}}}],\"scatterpolar\":[{\"type\":\"scatterpolar\",\"marker\":{\"colorbar\":{\"outlinewidth\":0,\"ticks\":\"\"}}}],\"histogram\":[{\"marker\":{\"pattern\":{\"fillmode\":\"overlay\",\"size\":10,\"solidity\":0.2}},\"type\":\"histogram\"}],\"scattergl\":[{\"type\":\"scattergl\",\"marker\":{\"colorbar\":{\"outlinewidth\":0,\"ticks\":\"\"}}}],\"scatter3d\":[{\"type\":\"scatter3d\",\"line\":{\"colorbar\":{\"outlinewidth\":0,\"ticks\":\"\"}},\"marker\":{\"colorbar\":{\"outlinewidth\":0,\"ticks\":\"\"}}}],\"scattermapbox\":[{\"type\":\"scattermapbox\",\"marker\":{\"colorbar\":{\"outlinewidth\":0,\"ticks\":\"\"}}}],\"scatterternary\":[{\"type\":\"scatterternary\",\"marker\":{\"colorbar\":{\"outlinewidth\":0,\"ticks\":\"\"}}}],\"scattercarpet\":[{\"type\":\"scattercarpet\",\"marker\":{\"colorbar\":{\"outlinewidth\":0,\"ticks\":\"\"}}}],\"carpet\":[{\"aaxis\":{\"endlinecolor\":\"#2a3f5f\",\"gridcolor\":\"white\",\"linecolor\":\"white\",\"minorgridcolor\":\"white\",\"startlinecolor\":\"#2a3f5f\"},\"baxis\":{\"endlinecolor\":\"#2a3f5f\",\"gridcolor\":\"white\",\"linecolor\":\"white\",\"minorgridcolor\":\"white\",\"startlinecolor\":\"#2a3f5f\"},\"type\":\"carpet\"}],\"table\":[{\"cells\":{\"fill\":{\"color\":\"#EBF0F8\"},\"line\":{\"color\":\"white\"}},\"header\":{\"fill\":{\"color\":\"#C8D4E3\"},\"line\":{\"color\":\"white\"}},\"type\":\"table\"}],\"barpolar\":[{\"marker\":{\"line\":{\"color\":\"#E5ECF6\",\"width\":0.5},\"pattern\":{\"fillmode\":\"overlay\",\"size\":10,\"solidity\":0.2}},\"type\":\"barpolar\"}],\"pie\":[{\"automargin\":true,\"type\":\"pie\"}]},\"layout\":{\"autotypenumbers\":\"strict\",\"colorway\":[\"#636efa\",\"#EF553B\",\"#00cc96\",\"#ab63fa\",\"#FFA15A\",\"#19d3f3\",\"#FF6692\",\"#B6E880\",\"#FF97FF\",\"#FECB52\"],\"font\":{\"color\":\"#2a3f5f\"},\"hovermode\":\"closest\",\"hoverlabel\":{\"align\":\"left\"},\"paper_bgcolor\":\"white\",\"plot_bgcolor\":\"#E5ECF6\",\"polar\":{\"bgcolor\":\"#E5ECF6\",\"angularaxis\":{\"gridcolor\":\"white\",\"linecolor\":\"white\",\"ticks\":\"\"},\"radialaxis\":{\"gridcolor\":\"white\",\"linecolor\":\"white\",\"ticks\":\"\"}},\"ternary\":{\"bgcolor\":\"#E5ECF6\",\"aaxis\":{\"gridcolor\":\"white\",\"linecolor\":\"white\",\"ticks\":\"\"},\"baxis\":{\"gridcolor\":\"white\",\"linecolor\":\"white\",\"ticks\":\"\"},\"caxis\":{\"gridcolor\":\"white\",\"linecolor\":\"white\",\"ticks\":\"\"}},\"coloraxis\":{\"colorbar\":{\"outlinewidth\":0,\"ticks\":\"\"}},\"colorscale\":{\"sequential\":[[0.0,\"#0d0887\"],[0.1111111111111111,\"#46039f\"],[0.2222222222222222,\"#7201a8\"],[0.3333333333333333,\"#9c179e\"],[0.4444444444444444,\"#bd3786\"],[0.5555555555555556,\"#d8576b\"],[0.6666666666666666,\"#ed7953\"],[0.7777777777777778,\"#fb9f3a\"],[0.8888888888888888,\"#fdca26\"],[1.0,\"#f0f921\"]],\"sequentialminus\":[[0.0,\"#0d0887\"],[0.1111111111111111,\"#46039f\"],[0.2222222222222222,\"#7201a8\"],[0.3333333333333333,\"#9c179e\"],[0.4444444444444444,\"#bd3786\"],[0.5555555555555556,\"#d8576b\"],[0.6666666666666666,\"#ed7953\"],[0.7777777777777778,\"#fb9f3a\"],[0.8888888888888888,\"#fdca26\"],[1.0,\"#f0f921\"]],\"diverging\":[[0,\"#8e0152\"],[0.1,\"#c51b7d\"],[0.2,\"#de77ae\"],[0.3,\"#f1b6da\"],[0.4,\"#fde0ef\"],[0.5,\"#f7f7f7\"],[0.6,\"#e6f5d0\"],[0.7,\"#b8e186\"],[0.8,\"#7fbc41\"],[0.9,\"#4d9221\"],[1,\"#276419\"]]},\"xaxis\":{\"gridcolor\":\"white\",\"linecolor\":\"white\",\"ticks\":\"\",\"title\":{\"standoff\":15},\"zerolinecolor\":\"white\",\"automargin\":true,\"zerolinewidth\":2},\"yaxis\":{\"gridcolor\":\"white\",\"linecolor\":\"white\",\"ticks\":\"\",\"title\":{\"standoff\":15},\"zerolinecolor\":\"white\",\"automargin\":true,\"zerolinewidth\":2},\"scene\":{\"xaxis\":{\"backgroundcolor\":\"#E5ECF6\",\"gridcolor\":\"white\",\"linecolor\":\"white\",\"showbackground\":true,\"ticks\":\"\",\"zerolinecolor\":\"white\",\"gridwidth\":2},\"yaxis\":{\"backgroundcolor\":\"#E5ECF6\",\"gridcolor\":\"white\",\"linecolor\":\"white\",\"showbackground\":true,\"ticks\":\"\",\"zerolinecolor\":\"white\",\"gridwidth\":2},\"zaxis\":{\"backgroundcolor\":\"#E5ECF6\",\"gridcolor\":\"white\",\"linecolor\":\"white\",\"showbackground\":true,\"ticks\":\"\",\"zerolinecolor\":\"white\",\"gridwidth\":2}},\"shapedefaults\":{\"line\":{\"color\":\"#2a3f5f\"}},\"annotationdefaults\":{\"arrowcolor\":\"#2a3f5f\",\"arrowhead\":0,\"arrowwidth\":1},\"geo\":{\"bgcolor\":\"white\",\"landcolor\":\"#E5ECF6\",\"subunitcolor\":\"white\",\"showland\":true,\"showlakes\":true,\"lakecolor\":\"white\"},\"title\":{\"x\":0.05},\"mapbox\":{\"style\":\"light\"}}},\"title\":{\"text\":\"Lightcurve\"},\"xaxis\":{\"title\":{\"text\":\"Time (s)\"}},\"yaxis\":{\"title\":{\"text\":\"Cts\\u002fs\"}}},                        {\"responsive\": true}                    ).then(function(){\n",
       "                            \n",
       "var gd = document.getElementById('6ac39e7a-e1f7-4d41-9220-b8f4924f1a30');\n",
       "var x = new MutationObserver(function (mutations, observer) {{\n",
       "        var display = window.getComputedStyle(gd).display;\n",
       "        if (!display || display === 'none') {{\n",
       "            console.log([gd, 'removed!']);\n",
       "            Plotly.purge(gd);\n",
       "            observer.disconnect();\n",
       "        }}\n",
       "}});\n",
       "\n",
       "// Listen for the removal of the full notebook cells\n",
       "var notebookContainer = gd.closest('#notebook-container');\n",
       "if (notebookContainer) {{\n",
       "    x.observe(notebookContainer, {childList: true});\n",
       "}}\n",
       "\n",
       "// Listen for the clearing of the current output cell\n",
       "var outputEl = gd.closest('.output');\n",
       "if (outputEl) {{\n",
       "    x.observe(outputEl, {childList: true});\n",
       "}}\n",
       "\n",
       "                        })                };                });            </script>        </div>"
      ]
     },
     "metadata": {},
     "output_type": "display_data"
    }
   ],
   "source": [
    "# Plot BKG lightcurve\n",
    "name= [\"flaring particle background\"]\n",
    "file_paths = [out_LCFile]\n",
    "\n",
    "# Call the function to plot light curves\n",
    "plotLC(file_paths, name, threshold = None)\n"
   ]
  },
  {
   "cell_type": "code",
   "execution_count": 15,
   "id": "eb817e01-d366-438b-b468-c9736f0a4516",
   "metadata": {
    "tags": []
   },
   "outputs": [],
   "source": [
    "pn_pi_min    = 150   \n",
    "out_file = wdir + '/PN_sr_Rthreshold.fits'"
   ]
  },
  {
   "cell_type": "code",
   "execution_count": 26,
   "id": "eddfc041-7165-4bf9-9913-fae4bc92ce10",
   "metadata": {
    "tags": []
   },
   "outputs": [
    {
     "name": "stdout",
     "output_type": "stream",
     "text": [
      "   Filter expression to use: #XMMEA_EP&&(PI>=150) \n",
      "\n",
      "   SAS command to be executed: evselect, with arguments; \n",
      "\n"
     ]
    },
    {
     "data": {
      "text/plain": [
       "['table=/home/egulbaha/my_workspace/Vela-work/XMM-SAS-Datalabs-Paper/VelaX1data18Dec/3553_0841890201_EPN_S003_TimingEvts.ds',\n",
       " 'withrateset=Y',\n",
       " 'rateset=/home/egulbaha/my_workspace/Vela-work/XMM-SAS-Datalabs-Paper/VelaX1data06Jan/PN_sr_Rthreshold.fits',\n",
       " 'maketimecolumn=Y',\n",
       " 'timebinsize=283.44',\n",
       " 'makeratecolumn=Y',\n",
       " 'expression=#XMMEA_EP&&(PI>=150)']"
      ]
     },
     "execution_count": 26,
     "metadata": {},
     "output_type": "execute_result"
    }
   ],
   "source": [
    "# SAS Command\n",
    "cmd        = \"evselect\" # SAS task to be executed                  \n",
    "\n",
    "# Arguments of SAS Command\n",
    "expression = f'#XMMEA_EP&&(PI>={pn_pi_min})'  # event filter expression\n",
    "inargs     = [f'table={eventfile}','withrateset=Y',f'rateset={out_file}','maketimecolumn=Y','timebinsize=283.44','makeratecolumn=Y',f'expression={expression}']\n",
    "\n",
    "print(\"   Filter expression to use: \"+expression+\" \\n\")\n",
    "print(\"   SAS command to be executed: \"+cmd+\", with arguments; \\n\")\n",
    "inargs"
   ]
  },
  {
   "cell_type": "code",
   "execution_count": 27,
   "id": "c5301cac-a2e1-402a-96a9-73c2937e8250",
   "metadata": {
    "tags": []
   },
   "outputs": [],
   "source": [
    "%%capture\n",
    "# Execute SAS task with parameters\n",
    "\n",
    "w(cmd, inargs).run()"
   ]
  },
  {
   "cell_type": "code",
   "execution_count": 16,
   "id": "4f23a98e-623c-444b-8d34-60c6dbc57fbf",
   "metadata": {
    "tags": []
   },
   "outputs": [
    {
     "data": {
      "application/vnd.plotly.v1+json": {
       "config": {
        "plotlyServerURL": "https://plot.ly"
       },
       "data": [
        {
         "error_y": {
          "array": [
           0.917579855356503,
           0.8515188789208689,
           0.8636745635783234,
           0.8865534119971179,
           0.8185990180829525,
           0.9137872600024088,
           1.0558641046952282,
           1.0998740329718,
           1.023417922068226,
           0.8952160049197688,
           0.8440456000329678,
           0.8634006900502127,
           0.8738543754634415,
           0.8003074726930751,
           0.8454012607390224,
           0.8946387893803618,
           0.9005117927151163,
           0.9814669329461355,
           0.8790168997531042,
           0.9138008816420081,
           0.8782377234931836,
           0.8492281043706433,
           0.861416115397495,
           0.8780959807996374,
           0.8726356448415306,
           0.8902173491145634,
           0.9809848826973054,
           1.0046059144913577,
           1.060774511598427,
           1.1507016341677954,
           1.0834261469321924,
           1.1480971492964487,
           1.1066153350369332,
           1.1241860517247069,
           1.1680834072408837,
           1.1473922196300401,
           1.1202151398128553,
           1.1343597887683374,
           1.0131191533387796,
           0.957106057553345,
           1.031745793194143,
           1.132031114417921,
           1.0327707563970419,
           0.9313940097398911,
           0.9060651587278364,
           0.981308389920915,
           0.901333859491347,
           0.9590937919184438,
           1.0126767539396961,
           0.9490872619240732,
           0.8995506121961149,
           0.9423682201784989,
           1.0198297604103221,
           1.0452122416187655,
           1.0099320172113366,
           0.9718893651518409,
           1.0319991140794829,
           0.9518701405571568,
           0.9656449094012958,
           0.8706864163878532,
           0.8184697594027914,
           0.8430495712070719,
           0.912935504214362,
           1.0247974419343016,
           0.9837724251171728,
           0.9109563636859609,
           0.945006249610363,
           0.8971466241912114,
           0.8986784379528229,
           0.8416013868253216,
           0.8871920103970102,
           0.8759102468051639,
           0.8606426987443413,
           0.791785585706567,
           0.8131754237847001,
           0.887746025515653,
           0.8866657263590049,
           0.7961517448153598,
           0.8228607271669536,
           0.7893766638566779,
           0.8216118059559051,
           0.8902802676831978,
           0.8220737494103934,
           0.7674291349579266,
           0.8274916698330649,
           0.7782363731027456,
           0.7778044061658959,
           0.9384237996747614,
           0.7061016538485825,
           0.6845573150231388,
           0.601504618056079,
           0.5928755183714947,
           0.6262224062881522,
           0.614676805514979,
           0.6046521764291282,
           0.629651723866886,
           0.57606160914157,
           0.5720502157429382,
           0.6043433074465726,
           0.5995354906739633,
           0.5708303981915046,
           0.6451281890965846,
           0.6907209124571351,
           0.659440247951232,
           0.6752571258972759,
           0.6757822773383344,
           0.6865182810587238,
           0.6960882905630533,
           0.6953636969280483,
           0.6713841944656471,
           0.7127165391564713,
           0.7443002116209588,
           0.6806275777346358,
           0.648754992409905,
           0.6779889792649556,
           0.6785303611786827,
           0.6571617940844787,
           0.6273742084779996,
           0.6453211044410768,
           0.6817604959859406,
           0.7127776629508547,
           0.7258083364729492,
           0.7667963106648483,
           0.7413258308100971,
           0.7224564108846876,
           0.7498733879068686,
           0.6039621514929054,
           0.631359397636679,
           0.6922330082087412,
           0.7000379237725427,
           0.6531625213992042,
           0.6802068217769421,
           0.720334097309873,
           0.6416457947394435,
           0.5917196711274684,
           0.61189622886477,
           0.6760493030808505,
           0.6989435369035147,
           0.6770336248375489,
           0.5810315517113211,
           0.5990993364131224,
           0.5806243741792466,
           0.5476490340516096,
           0.5763100442620183,
           0.6380956312176745,
           0.6236130934162293,
           0.6483039515707476,
           0.6511393369920393,
           0.7715540406657154,
           0.7621477099489069,
           1.004110179985726,
           1.0131928677916624,
           0.8836493575327102,
           0.8210586467607401,
           0.8425178743625458,
           0.8355079895861486,
           0.8913631683655454,
           0.8537014500604655,
           0.8691840353154157,
           0.8364683567498947,
           0.8336809906400852,
           0.8733770637542866,
           0.9105531843354411,
           0.8495431774274239,
           0.9926274183009492,
           1.0234118407742532,
           0.8965637099077978,
           0.8304047474342606,
           0.9185424965635234,
           0.8829941003950214,
           0.9015547915781865,
           0.8946805282920621,
           0.910983691420407,
           0.8678655255989111,
           0.9191791833490408,
           0.9248627247271561,
           0.9758069368738542,
           1.0267026211490289,
           1.0048784642259205,
           0.8948126886681229,
           0.9813781520075151,
           0.8685393621662367,
           0.8531326219892734,
           0.7676561754068609,
           0.7870631721823951,
           0.7892189619943797,
           0.7283762443571444,
           0.8036134841823184,
           0.7699713971710047,
           0.7886430825829516,
           0.774532869452824,
           0.7745891152587477,
           0.7561548133493585,
           0.7671290141578196,
           0.7262969376110336,
           0.866853788628443,
           0.7463793948258893,
           0.7809267681990597,
           0.8229363584437948,
           0.7529049319749177,
           0.7480535563008087,
           0.7590628906557256,
           0.7702623305780256,
           0.7825190681318596,
           0.7825667870737664,
           0.7648946964452527,
           0.6961329938499516,
           0.6803806438225596,
           0.7193311590784571,
           0.7455450782284045,
           0.6908290290568462,
           0.6460921897973242,
           0.6114485346003368,
           0.612089450158585,
           0.5944899291017177,
           0.5431300991396185,
           0.569105138341214,
           0.6507664624209731,
           0.661099219750026,
           0.6336422331539274,
           0.6426924943119221,
           0.6472567109815685,
           0.6698714911814678,
           0.6469874214021939,
           0.6032197522826105,
           0.6570860252785214,
           0.7181795149860325,
           0.6543049473912309,
           0.6744917005230661,
           0.6950951372297348,
           0.7095834732249283,
           0.7527974632905234,
           0.640500223133246,
           0.6888984028566841,
           0.7029745197007361,
           0.7351208883781072,
           0.8247192432548682,
           0.7890375658870569,
           0.9093083522800707,
           1.006091652420975,
           1.0181562551393586,
           0.8731775128998923,
           0.8295348993473904,
           0.7776843727686525,
           0.8258052143084186,
           0.8750287344677347,
           0.7418797167178263,
           0.7761463057545606,
           0.7585625763159475,
           0.7364826866012663,
           0.7453113022171206,
           0.7041863854961035,
           0.7432123831475914,
           0.6958915619850408,
           0.7789398059466286,
           0.7302365923226223,
           0.7542593757098804,
           0.7363728212039814,
           0.7790516571557884,
           0.7292216695356638,
           0.7566978448511961,
           0.7236012481359938,
           0.7844652309042179,
           0.8219980387656992,
           0.8580426841452685,
           0.8391203871814781,
           0.9010230820894872,
           0.8125552489485719,
           0.8185838122387792,
           0.7539044825345791,
           0.7387271140377794,
           0.7643900571652121,
           0.8581442250835379,
           0.8017991934147215,
           0.7568952142578653,
           0.7200575642233122,
           0.6701780196509015,
           0.6693510004337396,
           0.6962134525330593,
           0.705254987725463,
           0.6789888214958365,
           0.7130919311335004,
           0.6923948226097119,
           0.5966947893286804,
           0.6499051661564564,
           0.6582405519135102,
           0.6333769813876875,
           0.5715822007996882,
           0.6657616112272514,
           0.6397029398140094,
           0.6961955736292792,
           0.6583729090814805,
           0.6279096715550976,
           0.5649672545171401,
           0.6341625899024866,
           0.6351138367736846,
           0.61912588942143,
           0.6000750519724202,
           0.6855748123901281,
           0.6809932411653898,
           0.70603113711769,
           0.6950593214297764,
           0.8080620762639511,
           0.8307644181652151,
           0.8178307695867223,
           0.8368849172735188,
           0.8805166399527565,
           0.7666826715272843,
           0.6411315115569337,
           0.5878892520011494,
           0.6127500096066746,
           0.5907722958840764,
           0.6096544699489937,
           0.5746878814558343,
           0.576018392095923,
           0.5468984712418015,
           0.5435768134844756,
           0.5193837487885393,
           0.5038987716191967,
           0.48032496066117847,
           0.46135678911311107,
           0.5016706537253522,
           0.5157643057462847,
           0.513551311683002,
           0.5335344268047654,
           0.5844065657658755,
           0.5765475776848805,
           0.5091820329161331,
           0.4939442964402295,
           0.49842219084382466,
           0.4904797525348635,
           0.520604562602654,
           0.5201859787904501,
           0.4894381503516142,
           0.5208794488105813,
           0.4998312050393903,
           0.501422473907193,
           0.5030953118066144,
           0.4312784509106645,
           0.4351430175144394,
           0.4318120598587141,
           0.41862461885961605,
           0.3966545109386169,
           0.4025727300478666,
           0.41755282375205355,
           0.4406998624124107,
           0.4798063910517839,
           0.48789709040537765,
           0.44846924200347,
           0.4873865774577794,
           0.4819160661097947,
           0.49637013515264466,
           0.4609114052995857,
           0.4922656470953967,
           0.5124473033813084,
           0.503453936913113,
           0.4993952096872847,
           0.5053787261642608,
           0.5481261298138298,
           0.6154357222737779,
           0.6208123917094298,
           0.5388158679258397,
           0.5468074239241951,
           0.5041704218380421,
           0.523537166287032,
           0.5139510804121854,
           0.5462152464336579,
           0.5831912495324264,
           0.5641845754343966,
           0.5617302895882959,
           0.5534257604742325,
           0.5275399290357727,
           0.5180038904806258,
           0.5326354633577651,
           0.6129531154525543,
           0.6891151909677404,
           0.6084998106188837,
           0.6268879295072332,
           0.6464581331456241,
           0.6622185559169028,
           0.6231937905604743,
           0.61189622886477,
           0.6282366743178492,
           0.5984861066508615,
           0.5500077437507511,
           0.5665403543325268,
           0.5830738481724985,
           0.562660197290517,
           0.5814277400533869,
           0.6869532911019897,
           0.6566786181655366,
           0.7019733770898364,
           0.5785734314263157
          ],
          "type": "data",
          "visible": true
         },
         "mode": "lines",
         "name": "Lightcurve of  ",
         "type": "scatter",
         "x": [
          0,
          283.44000005722046,
          566.8799999952316,
          850.3200000524521,
          1133.7599999904633,
          1417.2000000476837,
          1700.6399999856949,
          1984.0800000429153,
          2267.5199999809265,
          2550.960000038147,
          2834.399999976158,
          3117.8400000333786,
          3401.2799999713898,
          3684.7200000286102,
          3968.1599999666214,
          4251.600000023842,
          4535.039999961853,
          4818.4800000190735,
          5101.919999957085,
          5385.360000014305,
          5668.799999952316,
          5952.240000009537,
          6235.679999947548,
          6519.120000004768,
          6802.5599999427795,
          7086,
          7369.4400000572205,
          7652.879999995232,
          7936.320000052452,
          8219.759999990463,
          8503.200000047684,
          8786.639999985695,
          9070.080000042915,
          9353.519999980927,
          9636.960000038147,
          9920.399999976158,
          10203.840000033379,
          10487.27999997139,
          10770.72000002861,
          11054.159999966621,
          11337.600000023842,
          11621.039999961853,
          11904.480000019073,
          12187.919999957085,
          12471.360000014305,
          12754.799999952316,
          13038.240000009537,
          13321.679999947548,
          13605.120000004768,
          13888.55999994278,
          14172,
          14455.44000005722,
          14738.879999995232,
          15022.320000052452,
          15305.759999990463,
          15589.200000047684,
          15872.639999985695,
          16156.080000042915,
          16439.519999980927,
          16722.960000038147,
          17006.399999976158,
          17289.84000003338,
          17573.27999997139,
          17856.72000002861,
          18140.15999996662,
          18423.600000023842,
          18707.039999961853,
          18990.480000019073,
          19273.919999957085,
          19557.360000014305,
          19840.799999952316,
          20124.240000009537,
          20407.679999947548,
          20691.12000000477,
          20974.55999994278,
          21258,
          21541.44000005722,
          21824.87999999523,
          22108.320000052452,
          22391.759999990463,
          22675.200000047684,
          22958.639999985695,
          23242.080000042915,
          23525.519999980927,
          23808.960000038147,
          24092.399999976158,
          24375.84000003338,
          24659.27999997139,
          24942.72000002861,
          25226.15999996662,
          25509.600000023842,
          25793.039999961853,
          26076.480000019073,
          26359.919999957085,
          26643.360000014305,
          26926.799999952316,
          27210.240000009537,
          27493.679999947548,
          27777.12000000477,
          28060.55999994278,
          28344,
          28627.44000005722,
          28910.87999999523,
          29194.320000052452,
          29477.759999990463,
          29761.200000047684,
          30044.639999985695,
          30328.080000042915,
          30611.519999980927,
          30894.960000038147,
          31178.399999976158,
          31461.84000003338,
          31745.27999997139,
          32028.72000002861,
          32312.15999996662,
          32595.600000023842,
          32879.03999996185,
          33162.48000001907,
          33445.919999957085,
          33729.360000014305,
          34012.799999952316,
          34296.24000000954,
          34579.67999994755,
          34863.12000000477,
          35146.55999994278,
          35430,
          35713.44000005722,
          35996.87999999523,
          36280.32000005245,
          36563.75999999046,
          36847.200000047684,
          37130.639999985695,
          37414.080000042915,
          37697.51999998093,
          37980.96000003815,
          38264.39999997616,
          38547.84000003338,
          38831.27999997139,
          39114.72000002861,
          39398.15999996662,
          39681.60000002384,
          39965.03999996185,
          40248.48000001907,
          40531.919999957085,
          40815.360000014305,
          41098.799999952316,
          41382.24000000954,
          41665.67999994755,
          41949.12000000477,
          42232.55999994278,
          42516,
          42799.44000005722,
          43082.87999999523,
          43366.32000005245,
          43649.75999999046,
          43933.200000047684,
          44216.639999985695,
          44500.080000042915,
          44783.51999998093,
          45066.96000003815,
          45350.39999997616,
          45633.84000003338,
          45917.27999997139,
          46200.72000002861,
          46484.15999996662,
          46767.60000002384,
          47051.03999996185,
          47334.48000001907,
          47617.919999957085,
          47901.360000014305,
          48184.799999952316,
          48468.24000000954,
          48751.67999994755,
          49035.12000000477,
          49318.55999994278,
          49602,
          49885.44000005722,
          50168.87999999523,
          50452.32000005245,
          50735.75999999046,
          51019.200000047684,
          51302.639999985695,
          51586.080000042915,
          51869.51999998093,
          52152.96000003815,
          52436.39999997616,
          52719.84000003338,
          53003.27999997139,
          53286.72000002861,
          53570.15999996662,
          53853.60000002384,
          54137.03999996185,
          54420.48000001907,
          54703.919999957085,
          54987.360000014305,
          55270.799999952316,
          55554.24000000954,
          55837.67999994755,
          56121.12000000477,
          56404.55999994278,
          56688,
          56971.44000005722,
          57254.87999999523,
          57538.32000005245,
          57821.75999999046,
          58105.200000047684,
          58388.639999985695,
          58672.080000042915,
          58955.51999998093,
          59238.96000003815,
          59522.39999997616,
          59805.84000003338,
          60089.27999997139,
          60372.72000002861,
          60656.15999996662,
          60939.60000002384,
          61223.03999996185,
          61506.48000001907,
          61789.919999957085,
          62073.360000014305,
          62356.799999952316,
          62640.24000000954,
          62923.67999994755,
          63207.12000000477,
          63490.55999994278,
          63774,
          64057.44000005722,
          64340.87999999523,
          64624.32000005245,
          64907.75999999046,
          65191.200000047684,
          65474.639999985695,
          65758.08000004292,
          66041.51999998093,
          66324.96000003815,
          66608.39999997616,
          66891.84000003338,
          67175.27999997139,
          67458.72000002861,
          67742.15999996662,
          68025.60000002384,
          68309.03999996185,
          68592.48000001907,
          68875.91999995708,
          69159.3600000143,
          69442.79999995232,
          69726.24000000954,
          70009.67999994755,
          70293.12000000477,
          70576.55999994278,
          70860,
          71143.44000005722,
          71426.87999999523,
          71710.32000005245,
          71993.75999999046,
          72277.20000004768,
          72560.6399999857,
          72844.08000004292,
          73127.51999998093,
          73410.96000003815,
          73694.39999997616,
          73977.84000003338,
          74261.27999997139,
          74544.72000002861,
          74828.15999996662,
          75111.60000002384,
          75395.03999996185,
          75678.48000001907,
          75961.91999995708,
          76245.3600000143,
          76528.79999995232,
          76812.24000000954,
          77095.67999994755,
          77379.12000000477,
          77662.55999994278,
          77946,
          78229.44000005722,
          78512.87999999523,
          78796.32000005245,
          79079.75999999046,
          79363.20000004768,
          79646.6399999857,
          79930.08000004292,
          80213.51999998093,
          80496.96000003815,
          80780.39999997616,
          81063.84000003338,
          81347.27999997139,
          81630.72000002861,
          81914.15999996662,
          82197.60000002384,
          82481.03999996185,
          82764.48000001907,
          83047.91999995708,
          83331.3600000143,
          83614.79999995232,
          83898.24000000954,
          84181.67999994755,
          84465.12000000477,
          84748.55999994278,
          85032,
          85315.44000005722,
          85598.87999999523,
          85882.32000005245,
          86165.75999999046,
          86449.20000004768,
          86732.6399999857,
          87016.08000004292,
          87299.51999998093,
          87582.96000003815,
          87866.39999997616,
          88149.84000003338,
          88433.27999997139,
          88716.72000002861,
          89000.15999996662,
          89283.60000002384,
          89567.03999996185,
          89850.48000001907,
          90133.91999995708,
          90417.3600000143,
          90700.79999995232,
          90984.24000000954,
          91267.67999994755,
          91551.12000000477,
          91834.55999994278,
          92118,
          92401.44000005722,
          92684.87999999523,
          92968.32000005245,
          93251.75999999046,
          93535.20000004768,
          93818.6399999857,
          94102.08000004292,
          94385.51999998093,
          94668.96000003815,
          94952.39999997616,
          95235.84000003338,
          95519.27999997139,
          95802.72000002861,
          96086.15999996662,
          96369.60000002384,
          96653.03999996185,
          96936.48000001907,
          97219.91999995708,
          97503.3600000143,
          97786.79999995232,
          98070.24000000954,
          98353.67999994755,
          98637.12000000477,
          98920.55999994278,
          99204,
          99487.44000005722,
          99770.87999999523,
          100054.32000005245,
          100337.75999999046,
          100621.20000004768,
          100904.6399999857,
          101188.08000004292,
          101471.51999998093,
          101754.96000003815,
          102038.39999997616,
          102321.84000003338,
          102605.27999997139,
          102888.72000002861,
          103172.15999996662,
          103455.60000002384,
          103739.03999996185,
          104022.48000001907,
          104305.91999995708,
          104589.3600000143,
          104872.79999995232,
          105156.24000000954,
          105439.67999994755,
          105723.12000000477,
          106006.55999994278,
          106290,
          106573.44000005722,
          106856.87999999523,
          107140.32000005245,
          107423.75999999046,
          107707.20000004768,
          107990.6399999857,
          108274.08000004292,
          108557.51999998093,
          108840.96000003815,
          109124.39999997616,
          109407.84000003338,
          109691.27999997139,
          109974.72000002861,
          110258.15999996662,
          110541.60000002384,
          110825.03999996185,
          111108.48000001907
         ],
         "y": [
          238.64309906858594,
          205.5179226644087,
          211.42746260231442,
          222.77730736663844,
          189.93437764606267,
          236.6744284504657,
          315.99280270956814,
          342.883855489698,
          296.87058989556874,
          227.1521309624612,
          201.92633361558,
          211.29339542760374,
          216.4408693197855,
          181.54106689246402,
          202.5755009878634,
          226.85930002822468,
          229.84758679085522,
          273.03132938187974,
          219.00578605701384,
          236.68148461755575,
          218.61769686706182,
          204.41363251481795,
          210.3231724527237,
          218.54713519616143,
          215.83756703358736,
          224.62249506068304,
          272.7631950324584,
          286.0570138300875,
          318.9387524696585,
          375.3069432684166,
          332.7053344623201,
          373.60993508326277,
          347.0999153259949,
          358.2098504092577,
          386.730877787186,
          373.15128422241037,
          355.68374259102455,
          364.7226926333616,
          290.92576912221284,
          259.64578041208017,
          301.72170476996894,
          363.22678521027376,
          302.32147897262206,
          245.88272650296358,
          232.69122212814,
          272.9431272932543,
          230.2674287327124,
          260.7253739768558,
          290.6717471069715,
          255.31329381879763,
          229.35718317809767,
          251.7111205193339,
          294.79254868755294,
          309.6493084956252,
          289.0982218458933,
          267.7286198137172,
          301.86988427885973,
          256.81272932543044,
          264.29932260795937,
          214.87440022579736,
          189.87440022579736,
          201.45004233700254,
          236.23341800733843,
          297.67146486028787,
          274.31555179226643,
          235.21027377928309,
          253.12235393734125,
          228.1329381879763,
          228.91264465142535,
          200.75853796217893,
          223.09836296923513,
          217.4604854642958,
          209.94566751340673,
          177.69545582839402,
          187.4259102455546,
          223.37708156929156,
          222.83375670335874,
          179.66059836296924,
          191.91716059836298,
          176.6158622636184,
          191.33502681343495,
          224.6542478125882,
          191.55023990968107,
          166.93127293254304,
          194.08340389500424,
          171.66596104995767,
          171.4754445385267,
          249.60838272650295,
          141.31738639570986,
          132.8252893028507,
          102.55080440304826,
          99.62955122777308,
          111.15227208580299,
          107.09144792548688,
          103.62686988427886,
          112.37298899237933,
          94.0587073101891,
          92.75331639853232,
          103.5210273779283,
          101.88046852949478,
          92.35817104149027,
          117.96500141123342,
          135.22791419700818,
          123.25712672876094,
          129.24075642111205,
          129.4418571831781,
          133.58735534857465,
          137.33770815692915,
          137.05193338978268,
          127.76248941574937,
          143.9775613886537,
          157.02088625458651,
          131.30468529494777,
          119.29508890770533,
          130.2885972339825,
          130.49675416313858,
          122.40685859441152,
          111.56152977702511,
          118.03556308213379,
          131.74216765453005,
          144.0022579734688,
          149.31555179226643,
          166.6560824160316,
          155.768416596105,
          147.93959920970929,
          159.3811741462038,
          103.39048828676263,
          112.98334744566752,
          135.82063223257126,
          138.90064916737228,
          120.9215354219588,
          131.14239345187696,
          147.07169065763478,
          116.69489133502681,
          99.24146203782105,
          106.12475303415185,
          129.54417160598362,
          138.46669489133504,
          129.92167654530058,
          95.68868190798759,
          101.73228902060401,
          95.55461473327688,
          85.00917301721705,
          94.13985323172453,
          115.40714084109511,
          110.22791419700819,
          119.12926898108947,
          120.17358171041491,
          168.7305955405024,
          164.64154671182612,
          285.77476714648606,
          290.96810612475304,
          221.32020886254585,
          191.0774767146486,
          201.1960203217612,
          197.86198137171888,
          225.20110076206603,
          206.5728196443692,
          214.1335026813435,
          198.31710414902625,
          196.99760090318938,
          216.20448772226928,
          235.002116850127,
          204.56534010725375,
          279.27603725656223,
          296.86706181202374,
          227.83657917019474,
          195.45230031047134,
          239.14408693197856,
          220.99209709285915,
          230.380327406153,
          226.88046852949478,
          235.22438611346317,
          213.48433530906013,
          239.47572678521027,
          242.44637313011572,
          269.89133502681346,
          298.77928309342366,
          286.2122495060683,
          226.94750211685013,
          272.98193621224954,
          213.81597516229183,
          206.29762912785776,
          167.03005927180357,
          175.58213378492803,
          176.54530059271804,
          150.37397685577196,
          183.04403048264183,
          168.0390911656788,
          176.2877504939317,
          170.0359864521592,
          170.06068303697432,
          162.06251764041772,
          166.80073384137737,
          149.5166525543325,
          212.98687552921254,
          157.89937905729607,
          172.85492520462884,
          191.95244143381316,
          160.6724527236805,
          158.60852384984477,
          163.31145921535423,
          168.16610217329946,
          173.5605419136325,
          173.58171041490263,
          165.83051086649732,
          137.35534857465424,
          131.20942703923228,
          146.66243296641264,
          157.54657070279424,
          135.2702511995484,
          118.31780976573525,
          105.96951735817105,
          106.19178662150719,
          100.1728760937059,
          83.61205193338978,
          91.80073384137737,
          120.0359864521592,
          123.87806943268417,
          113.80186282811177,
          117.0759243578888,
          118.74470787468248,
          127.18741179791138,
          118.64592153542196,
          103.13646627152131,
          122.37863392605136,
          146.19319785492522,
          121.344905447361,
          128.94792548687553,
          136.94609088343213,
          142.7145074795371,
          160.62658763759526,
          116.27857747671464,
          134.51524132091447,
          140.06844482077335,
          153.17174710697148,
          192.7850691504375,
          176.46415467118263,
          234.36000564493366,
          286.9037538808919,
          293.82585379621787,
          216.10570138300875,
          195.04304261924923,
          171.4225232853514,
          193.29311318092013,
          217.02300310471352,
          156.0012701100762,
          170.74513124470786,
          163.0962461191081,
          153.73976855771946,
          157.44778436353374,
          140.55179226644088,
          156.5622353937341,
          137.26009031893875,
          171.97643240191928,
          151.14309906858594,
          161.25105842506352,
          153.6939034716342,
          172.02582557154955,
          150.72325712672875,
          162.29537115438893,
          148.40883432119674,
          174.424922382162,
          191.5149590742309,
          208.67908552074513,
          199.5766299745978,
          230.10866497318656,
          187.14013547840813,
          189.92732147897263,
          161.09935083262772,
          154.67823878069433,
          165.6117696867062,
          208.7284786903754,
          182.21845893310754,
          162.38004515946938,
          146.9587919841942,
          127.30383855489698,
          126.98983911939035,
          137.38710132655942,
          140.97869037538808,
          130.6731583403895,
          144.12926898108947,
          135.8841377363816,
          100.91730172170477,
          119.71845893310754,
          122.80906011854361,
          113.70660457239627,
          92.60160880609654,
          125.63152695455828,
          115.98927462602315,
          137.38004515946938,
          122.85845328817386,
          111.75204628845611,
          90.47064634490545,
          113.98885125599774,
          114.33107535986453,
          108.64733276883997,
          102.06392887383574,
          133.22043465989276,
          131.44580863674852,
          141.2891617273497,
          136.93197854925205,
          185.0762066045724,
          195.62164832063223,
          189.5780412080158,
          198.51467682754728,
          219.75373976855772,
          166.60668924640134,
          116.50790290714085,
          97.9607677109794,
          106.42111205193339,
          98.9239345187694,
          105.34857465424781,
          93.61064069997178,
          94.04459497600904,
          84.77631950324584,
          83.7496471916455,
          76.46062658763759,
          71.96937623482924,
          65.39302850691504,
          60.33022861981372,
          71.33432119672594,
          75.39867344058707,
          74.75303415184872,
          80.68374259102455,
          96.80355630821337,
          94.21747106971493,
          73.48645215918712,
          69.1539655659046,
          70.41349139147616,
          68.18727067456958,
          76.82049110922947,
          76.69700818515382,
          67.89796782387808,
          76.90163703076489,
          70.81216483206322,
          71.26375952582558,
          71.74005080440305,
          52.72015241320914,
          53.66920688681908,
          52.85069150437482,
          49.67188823031329,
          44.594976009031896,
          45.93564775613886,
          49.417866215071975,
          55.04868755292125,
          65.25190516511431,
          67.47106971493085,
          57.00677392040644,
          67.32994637313011,
          65.8269827829523,
          69.83488569009315,
          60.21380186282811,
          68.68473045441716,
          74.43197854925205,
          71.84236522720857,
          70.68868190798759,
          72.39274626023145,
          85.15735252610781,
          107.35605419136326,
          109.24005080440305,
          82.2890206040079,
          84.74809483488569,
          72.04699407281964,
          77.68839966130398,
          74.86946090883433,
          84.56463449054473,
          96.40135478408129,
          90.22015241320915,
          89.43691786621507,
          86.81202370872143,
          78.88089189952018,
          76.05489697996049,
          80.41208015805815,
          106.49167372283375,
          134.5999153259949,
          104.94990121366074,
          111.38865368331922,
          118.45187694044596,
          124.29791137454136,
          110.07973468811741,
          106.12475303415185,
          111.86847304544172,
          101.52413209144792,
          85.74301439458087,
          90.97516229184308,
          96.36254586508609,
          89.73327688399661,
          95.81922099915326,
          133.75670335873554,
          122.22692633361558,
          139.6697713801863,
          94.88075077617837
         ]
        }
       ],
       "layout": {
        "autosize": true,
        "template": {
         "data": {
          "bar": [
           {
            "error_x": {
             "color": "#2a3f5f"
            },
            "error_y": {
             "color": "#2a3f5f"
            },
            "marker": {
             "line": {
              "color": "#E5ECF6",
              "width": 0.5
             },
             "pattern": {
              "fillmode": "overlay",
              "size": 10,
              "solidity": 0.2
             }
            },
            "type": "bar"
           }
          ],
          "barpolar": [
           {
            "marker": {
             "line": {
              "color": "#E5ECF6",
              "width": 0.5
             },
             "pattern": {
              "fillmode": "overlay",
              "size": 10,
              "solidity": 0.2
             }
            },
            "type": "barpolar"
           }
          ],
          "carpet": [
           {
            "aaxis": {
             "endlinecolor": "#2a3f5f",
             "gridcolor": "white",
             "linecolor": "white",
             "minorgridcolor": "white",
             "startlinecolor": "#2a3f5f"
            },
            "baxis": {
             "endlinecolor": "#2a3f5f",
             "gridcolor": "white",
             "linecolor": "white",
             "minorgridcolor": "white",
             "startlinecolor": "#2a3f5f"
            },
            "type": "carpet"
           }
          ],
          "choropleth": [
           {
            "colorbar": {
             "outlinewidth": 0,
             "ticks": ""
            },
            "type": "choropleth"
           }
          ],
          "contour": [
           {
            "colorbar": {
             "outlinewidth": 0,
             "ticks": ""
            },
            "colorscale": [
             [
              0,
              "#0d0887"
             ],
             [
              0.1111111111111111,
              "#46039f"
             ],
             [
              0.2222222222222222,
              "#7201a8"
             ],
             [
              0.3333333333333333,
              "#9c179e"
             ],
             [
              0.4444444444444444,
              "#bd3786"
             ],
             [
              0.5555555555555556,
              "#d8576b"
             ],
             [
              0.6666666666666666,
              "#ed7953"
             ],
             [
              0.7777777777777778,
              "#fb9f3a"
             ],
             [
              0.8888888888888888,
              "#fdca26"
             ],
             [
              1,
              "#f0f921"
             ]
            ],
            "type": "contour"
           }
          ],
          "contourcarpet": [
           {
            "colorbar": {
             "outlinewidth": 0,
             "ticks": ""
            },
            "type": "contourcarpet"
           }
          ],
          "heatmap": [
           {
            "colorbar": {
             "outlinewidth": 0,
             "ticks": ""
            },
            "colorscale": [
             [
              0,
              "#0d0887"
             ],
             [
              0.1111111111111111,
              "#46039f"
             ],
             [
              0.2222222222222222,
              "#7201a8"
             ],
             [
              0.3333333333333333,
              "#9c179e"
             ],
             [
              0.4444444444444444,
              "#bd3786"
             ],
             [
              0.5555555555555556,
              "#d8576b"
             ],
             [
              0.6666666666666666,
              "#ed7953"
             ],
             [
              0.7777777777777778,
              "#fb9f3a"
             ],
             [
              0.8888888888888888,
              "#fdca26"
             ],
             [
              1,
              "#f0f921"
             ]
            ],
            "type": "heatmap"
           }
          ],
          "heatmapgl": [
           {
            "colorbar": {
             "outlinewidth": 0,
             "ticks": ""
            },
            "colorscale": [
             [
              0,
              "#0d0887"
             ],
             [
              0.1111111111111111,
              "#46039f"
             ],
             [
              0.2222222222222222,
              "#7201a8"
             ],
             [
              0.3333333333333333,
              "#9c179e"
             ],
             [
              0.4444444444444444,
              "#bd3786"
             ],
             [
              0.5555555555555556,
              "#d8576b"
             ],
             [
              0.6666666666666666,
              "#ed7953"
             ],
             [
              0.7777777777777778,
              "#fb9f3a"
             ],
             [
              0.8888888888888888,
              "#fdca26"
             ],
             [
              1,
              "#f0f921"
             ]
            ],
            "type": "heatmapgl"
           }
          ],
          "histogram": [
           {
            "marker": {
             "pattern": {
              "fillmode": "overlay",
              "size": 10,
              "solidity": 0.2
             }
            },
            "type": "histogram"
           }
          ],
          "histogram2d": [
           {
            "colorbar": {
             "outlinewidth": 0,
             "ticks": ""
            },
            "colorscale": [
             [
              0,
              "#0d0887"
             ],
             [
              0.1111111111111111,
              "#46039f"
             ],
             [
              0.2222222222222222,
              "#7201a8"
             ],
             [
              0.3333333333333333,
              "#9c179e"
             ],
             [
              0.4444444444444444,
              "#bd3786"
             ],
             [
              0.5555555555555556,
              "#d8576b"
             ],
             [
              0.6666666666666666,
              "#ed7953"
             ],
             [
              0.7777777777777778,
              "#fb9f3a"
             ],
             [
              0.8888888888888888,
              "#fdca26"
             ],
             [
              1,
              "#f0f921"
             ]
            ],
            "type": "histogram2d"
           }
          ],
          "histogram2dcontour": [
           {
            "colorbar": {
             "outlinewidth": 0,
             "ticks": ""
            },
            "colorscale": [
             [
              0,
              "#0d0887"
             ],
             [
              0.1111111111111111,
              "#46039f"
             ],
             [
              0.2222222222222222,
              "#7201a8"
             ],
             [
              0.3333333333333333,
              "#9c179e"
             ],
             [
              0.4444444444444444,
              "#bd3786"
             ],
             [
              0.5555555555555556,
              "#d8576b"
             ],
             [
              0.6666666666666666,
              "#ed7953"
             ],
             [
              0.7777777777777778,
              "#fb9f3a"
             ],
             [
              0.8888888888888888,
              "#fdca26"
             ],
             [
              1,
              "#f0f921"
             ]
            ],
            "type": "histogram2dcontour"
           }
          ],
          "mesh3d": [
           {
            "colorbar": {
             "outlinewidth": 0,
             "ticks": ""
            },
            "type": "mesh3d"
           }
          ],
          "parcoords": [
           {
            "line": {
             "colorbar": {
              "outlinewidth": 0,
              "ticks": ""
             }
            },
            "type": "parcoords"
           }
          ],
          "pie": [
           {
            "automargin": true,
            "type": "pie"
           }
          ],
          "scatter": [
           {
            "fillpattern": {
             "fillmode": "overlay",
             "size": 10,
             "solidity": 0.2
            },
            "type": "scatter"
           }
          ],
          "scatter3d": [
           {
            "line": {
             "colorbar": {
              "outlinewidth": 0,
              "ticks": ""
             }
            },
            "marker": {
             "colorbar": {
              "outlinewidth": 0,
              "ticks": ""
             }
            },
            "type": "scatter3d"
           }
          ],
          "scattercarpet": [
           {
            "marker": {
             "colorbar": {
              "outlinewidth": 0,
              "ticks": ""
             }
            },
            "type": "scattercarpet"
           }
          ],
          "scattergeo": [
           {
            "marker": {
             "colorbar": {
              "outlinewidth": 0,
              "ticks": ""
             }
            },
            "type": "scattergeo"
           }
          ],
          "scattergl": [
           {
            "marker": {
             "colorbar": {
              "outlinewidth": 0,
              "ticks": ""
             }
            },
            "type": "scattergl"
           }
          ],
          "scattermapbox": [
           {
            "marker": {
             "colorbar": {
              "outlinewidth": 0,
              "ticks": ""
             }
            },
            "type": "scattermapbox"
           }
          ],
          "scatterpolar": [
           {
            "marker": {
             "colorbar": {
              "outlinewidth": 0,
              "ticks": ""
             }
            },
            "type": "scatterpolar"
           }
          ],
          "scatterpolargl": [
           {
            "marker": {
             "colorbar": {
              "outlinewidth": 0,
              "ticks": ""
             }
            },
            "type": "scatterpolargl"
           }
          ],
          "scatterternary": [
           {
            "marker": {
             "colorbar": {
              "outlinewidth": 0,
              "ticks": ""
             }
            },
            "type": "scatterternary"
           }
          ],
          "surface": [
           {
            "colorbar": {
             "outlinewidth": 0,
             "ticks": ""
            },
            "colorscale": [
             [
              0,
              "#0d0887"
             ],
             [
              0.1111111111111111,
              "#46039f"
             ],
             [
              0.2222222222222222,
              "#7201a8"
             ],
             [
              0.3333333333333333,
              "#9c179e"
             ],
             [
              0.4444444444444444,
              "#bd3786"
             ],
             [
              0.5555555555555556,
              "#d8576b"
             ],
             [
              0.6666666666666666,
              "#ed7953"
             ],
             [
              0.7777777777777778,
              "#fb9f3a"
             ],
             [
              0.8888888888888888,
              "#fdca26"
             ],
             [
              1,
              "#f0f921"
             ]
            ],
            "type": "surface"
           }
          ],
          "table": [
           {
            "cells": {
             "fill": {
              "color": "#EBF0F8"
             },
             "line": {
              "color": "white"
             }
            },
            "header": {
             "fill": {
              "color": "#C8D4E3"
             },
             "line": {
              "color": "white"
             }
            },
            "type": "table"
           }
          ]
         },
         "layout": {
          "annotationdefaults": {
           "arrowcolor": "#2a3f5f",
           "arrowhead": 0,
           "arrowwidth": 1
          },
          "autotypenumbers": "strict",
          "coloraxis": {
           "colorbar": {
            "outlinewidth": 0,
            "ticks": ""
           }
          },
          "colorscale": {
           "diverging": [
            [
             0,
             "#8e0152"
            ],
            [
             0.1,
             "#c51b7d"
            ],
            [
             0.2,
             "#de77ae"
            ],
            [
             0.3,
             "#f1b6da"
            ],
            [
             0.4,
             "#fde0ef"
            ],
            [
             0.5,
             "#f7f7f7"
            ],
            [
             0.6,
             "#e6f5d0"
            ],
            [
             0.7,
             "#b8e186"
            ],
            [
             0.8,
             "#7fbc41"
            ],
            [
             0.9,
             "#4d9221"
            ],
            [
             1,
             "#276419"
            ]
           ],
           "sequential": [
            [
             0,
             "#0d0887"
            ],
            [
             0.1111111111111111,
             "#46039f"
            ],
            [
             0.2222222222222222,
             "#7201a8"
            ],
            [
             0.3333333333333333,
             "#9c179e"
            ],
            [
             0.4444444444444444,
             "#bd3786"
            ],
            [
             0.5555555555555556,
             "#d8576b"
            ],
            [
             0.6666666666666666,
             "#ed7953"
            ],
            [
             0.7777777777777778,
             "#fb9f3a"
            ],
            [
             0.8888888888888888,
             "#fdca26"
            ],
            [
             1,
             "#f0f921"
            ]
           ],
           "sequentialminus": [
            [
             0,
             "#0d0887"
            ],
            [
             0.1111111111111111,
             "#46039f"
            ],
            [
             0.2222222222222222,
             "#7201a8"
            ],
            [
             0.3333333333333333,
             "#9c179e"
            ],
            [
             0.4444444444444444,
             "#bd3786"
            ],
            [
             0.5555555555555556,
             "#d8576b"
            ],
            [
             0.6666666666666666,
             "#ed7953"
            ],
            [
             0.7777777777777778,
             "#fb9f3a"
            ],
            [
             0.8888888888888888,
             "#fdca26"
            ],
            [
             1,
             "#f0f921"
            ]
           ]
          },
          "colorway": [
           "#636efa",
           "#EF553B",
           "#00cc96",
           "#ab63fa",
           "#FFA15A",
           "#19d3f3",
           "#FF6692",
           "#B6E880",
           "#FF97FF",
           "#FECB52"
          ],
          "font": {
           "color": "#2a3f5f"
          },
          "geo": {
           "bgcolor": "white",
           "lakecolor": "white",
           "landcolor": "#E5ECF6",
           "showlakes": true,
           "showland": true,
           "subunitcolor": "white"
          },
          "hoverlabel": {
           "align": "left"
          },
          "hovermode": "closest",
          "mapbox": {
           "style": "light"
          },
          "paper_bgcolor": "white",
          "plot_bgcolor": "#E5ECF6",
          "polar": {
           "angularaxis": {
            "gridcolor": "white",
            "linecolor": "white",
            "ticks": ""
           },
           "bgcolor": "#E5ECF6",
           "radialaxis": {
            "gridcolor": "white",
            "linecolor": "white",
            "ticks": ""
           }
          },
          "scene": {
           "xaxis": {
            "backgroundcolor": "#E5ECF6",
            "gridcolor": "white",
            "gridwidth": 2,
            "linecolor": "white",
            "showbackground": true,
            "ticks": "",
            "zerolinecolor": "white"
           },
           "yaxis": {
            "backgroundcolor": "#E5ECF6",
            "gridcolor": "white",
            "gridwidth": 2,
            "linecolor": "white",
            "showbackground": true,
            "ticks": "",
            "zerolinecolor": "white"
           },
           "zaxis": {
            "backgroundcolor": "#E5ECF6",
            "gridcolor": "white",
            "gridwidth": 2,
            "linecolor": "white",
            "showbackground": true,
            "ticks": "",
            "zerolinecolor": "white"
           }
          },
          "shapedefaults": {
           "line": {
            "color": "#2a3f5f"
           }
          },
          "ternary": {
           "aaxis": {
            "gridcolor": "white",
            "linecolor": "white",
            "ticks": ""
           },
           "baxis": {
            "gridcolor": "white",
            "linecolor": "white",
            "ticks": ""
           },
           "bgcolor": "#E5ECF6",
           "caxis": {
            "gridcolor": "white",
            "linecolor": "white",
            "ticks": ""
           }
          },
          "title": {
           "x": 0.05
          },
          "xaxis": {
           "automargin": true,
           "gridcolor": "white",
           "linecolor": "white",
           "ticks": "",
           "title": {
            "standoff": 15
           },
           "zerolinecolor": "white",
           "zerolinewidth": 2
          },
          "yaxis": {
           "automargin": true,
           "gridcolor": "white",
           "linecolor": "white",
           "ticks": "",
           "title": {
            "standoff": 15
           },
           "zerolinecolor": "white",
           "zerolinewidth": 2
          }
         }
        },
        "title": {
         "text": "Lightcurve"
        },
        "xaxis": {
         "autorange": true,
         "range": [
          -6172.693333334392,
          117281.17333335346
         ],
         "title": {
          "text": "Time (s)"
         },
         "type": "linear"
        },
        "yaxis": {
         "autorange": true,
         "range": [
          25.103841514963634,
          406.9934411775565
         ],
         "title": {
          "text": "Cts/s"
         },
         "type": "linear"
        }
       }
      },
      "image/png": "[encoded data removed]",
      "text/html": [
       "<div>                            <div id=\"2db7bb7b-13ed-4198-90b7-87321fc9f95c\" class=\"plotly-graph-div\" style=\"height:525px; width:100%;\"></div>            <script type=\"text/javascript\">                require([\"plotly\"], function(Plotly) {                    window.PLOTLYENV=window.PLOTLYENV || {};                                    if (document.getElementById(\"2db7bb7b-13ed-4198-90b7-87321fc9f95c\")) {                    Plotly.newPlot(                        \"2db7bb7b-13ed-4198-90b7-87321fc9f95c\",                        [{\"error_y\":{\"array\":[0.917579855356503,0.8515188789208689,0.8636745635783234,0.8865534119971179,0.8185990180829525,0.9137872600024088,1.0558641046952282,1.0998740329718,1.023417922068226,0.8952160049197688,0.8440456000329678,0.8634006900502127,0.8738543754634415,0.8003074726930751,0.8454012607390224,0.8946387893803618,0.9005117927151163,0.9814669329461355,0.8790168997531042,0.9138008816420081,0.8782377234931836,0.8492281043706433,0.861416115397495,0.8780959807996374,0.8726356448415306,0.8902173491145634,0.9809848826973054,1.0046059144913577,1.060774511598427,1.1507016341677954,1.0834261469321924,1.1480971492964487,1.1066153350369332,1.1241860517247069,1.1680834072408837,1.1473922196300401,1.1202151398128553,1.1343597887683374,1.0131191533387796,0.957106057553345,1.031745793194143,1.132031114417921,1.0327707563970419,0.9313940097398911,0.9060651587278364,0.981308389920915,0.901333859491347,0.9590937919184438,1.0126767539396961,0.9490872619240732,0.8995506121961149,0.9423682201784989,1.0198297604103221,1.0452122416187655,1.0099320172113366,0.9718893651518409,1.0319991140794829,0.9518701405571568,0.9656449094012958,0.8706864163878532,0.8184697594027914,0.8430495712070719,0.912935504214362,1.0247974419343016,0.9837724251171728,0.9109563636859609,0.945006249610363,0.8971466241912114,0.8986784379528229,0.8416013868253216,0.8871920103970102,0.8759102468051639,0.8606426987443413,0.791785585706567,0.8131754237847001,0.887746025515653,0.8866657263590049,0.7961517448153598,0.8228607271669536,0.7893766638566779,0.8216118059559051,0.8902802676831978,0.8220737494103934,0.7674291349579266,0.8274916698330649,0.7782363731027456,0.7778044061658959,0.9384237996747614,0.7061016538485825,0.6845573150231388,0.601504618056079,0.5928755183714947,0.6262224062881522,0.614676805514979,0.6046521764291282,0.629651723866886,0.57606160914157,0.5720502157429382,0.6043433074465726,0.5995354906739633,0.5708303981915046,0.6451281890965846,0.6907209124571351,0.659440247951232,0.6752571258972759,0.6757822773383344,0.6865182810587238,0.6960882905630533,0.6953636969280483,0.6713841944656471,0.7127165391564713,0.7443002116209588,0.6806275777346358,0.648754992409905,0.6779889792649556,0.6785303611786827,0.6571617940844787,0.6273742084779996,0.6453211044410768,0.6817604959859406,0.7127776629508547,0.7258083364729492,0.7667963106648483,0.7413258308100971,0.7224564108846876,0.7498733879068686,0.6039621514929054,0.631359397636679,0.6922330082087412,0.7000379237725427,0.6531625213992042,0.6802068217769421,0.720334097309873,0.6416457947394435,0.5917196711274684,0.61189622886477,0.6760493030808505,0.6989435369035147,0.6770336248375489,0.5810315517113211,0.5990993364131224,0.5806243741792466,0.5476490340516096,0.5763100442620183,0.6380956312176745,0.6236130934162293,0.6483039515707476,0.6511393369920393,0.7715540406657154,0.7621477099489069,1.004110179985726,1.0131928677916624,0.8836493575327102,0.8210586467607401,0.8425178743625458,0.8355079895861486,0.8913631683655454,0.8537014500604655,0.8691840353154157,0.8364683567498947,0.8336809906400852,0.8733770637542866,0.9105531843354411,0.8495431774274239,0.9926274183009492,1.0234118407742532,0.8965637099077978,0.8304047474342606,0.9185424965635234,0.8829941003950214,0.9015547915781865,0.8946805282920621,0.910983691420407,0.8678655255989111,0.9191791833490408,0.9248627247271561,0.9758069368738542,1.0267026211490289,1.0048784642259205,0.8948126886681229,0.9813781520075151,0.8685393621662367,0.8531326219892734,0.7676561754068609,0.7870631721823951,0.7892189619943797,0.7283762443571444,0.8036134841823184,0.7699713971710047,0.7886430825829516,0.774532869452824,0.7745891152587477,0.7561548133493585,0.7671290141578196,0.7262969376110336,0.866853788628443,0.7463793948258893,0.7809267681990597,0.8229363584437948,0.7529049319749177,0.7480535563008087,0.7590628906557256,0.7702623305780256,0.7825190681318596,0.7825667870737664,0.7648946964452527,0.6961329938499516,0.6803806438225596,0.7193311590784571,0.7455450782284045,0.6908290290568462,0.6460921897973242,0.6114485346003368,0.612089450158585,0.5944899291017177,0.5431300991396185,0.569105138341214,0.6507664624209731,0.661099219750026,0.6336422331539274,0.6426924943119221,0.6472567109815685,0.6698714911814678,0.6469874214021939,0.6032197522826105,0.6570860252785214,0.7181795149860325,0.6543049473912309,0.6744917005230661,0.6950951372297348,0.7095834732249283,0.7527974632905234,0.640500223133246,0.6888984028566841,0.7029745197007361,0.7351208883781072,0.8247192432548682,0.7890375658870569,0.9093083522800707,1.006091652420975,1.0181562551393586,0.8731775128998923,0.8295348993473904,0.7776843727686525,0.8258052143084186,0.8750287344677347,0.7418797167178263,0.7761463057545606,0.7585625763159475,0.7364826866012663,0.7453113022171206,0.7041863854961035,0.7432123831475914,0.6958915619850408,0.7789398059466286,0.7302365923226223,0.7542593757098804,0.7363728212039814,0.7790516571557884,0.7292216695356638,0.7566978448511961,0.7236012481359938,0.7844652309042179,0.8219980387656992,0.8580426841452685,0.8391203871814781,0.9010230820894872,0.8125552489485719,0.8185838122387792,0.7539044825345791,0.7387271140377794,0.7643900571652121,0.8581442250835379,0.8017991934147215,0.7568952142578653,0.7200575642233122,0.6701780196509015,0.6693510004337396,0.6962134525330593,0.705254987725463,0.6789888214958365,0.7130919311335004,0.6923948226097119,0.5966947893286804,0.6499051661564564,0.6582405519135102,0.6333769813876875,0.5715822007996882,0.6657616112272514,0.6397029398140094,0.6961955736292792,0.6583729090814805,0.6279096715550976,0.5649672545171401,0.6341625899024866,0.6351138367736846,0.61912588942143,0.6000750519724202,0.6855748123901281,0.6809932411653898,0.70603113711769,0.6950593214297764,0.8080620762639511,0.8307644181652151,0.8178307695867223,0.8368849172735188,0.8805166399527565,0.7666826715272843,0.6411315115569337,0.5878892520011494,0.6127500096066746,0.5907722958840764,0.6096544699489937,0.5746878814558343,0.576018392095923,0.5468984712418015,0.5435768134844756,0.5193837487885393,0.5038987716191967,0.48032496066117847,0.46135678911311107,0.5016706537253522,0.5157643057462847,0.513551311683002,0.5335344268047654,0.5844065657658755,0.5765475776848805,0.5091820329161331,0.4939442964402295,0.49842219084382466,0.4904797525348635,0.520604562602654,0.5201859787904501,0.4894381503516142,0.5208794488105813,0.4998312050393903,0.501422473907193,0.5030953118066144,0.4312784509106645,0.4351430175144394,0.4318120598587141,0.41862461885961605,0.3966545109386169,0.4025727300478666,0.41755282375205355,0.4406998624124107,0.4798063910517839,0.48789709040537765,0.44846924200347,0.4873865774577794,0.4819160661097947,0.49637013515264466,0.4609114052995857,0.4922656470953967,0.5124473033813084,0.503453936913113,0.4993952096872847,0.5053787261642608,0.5481261298138298,0.6154357222737779,0.6208123917094298,0.5388158679258397,0.5468074239241951,0.5041704218380421,0.523537166287032,0.5139510804121854,0.5462152464336579,0.5831912495324264,0.5641845754343966,0.5617302895882959,0.5534257604742325,0.5275399290357727,0.5180038904806258,0.5326354633577651,0.6129531154525543,0.6891151909677404,0.6084998106188837,0.6268879295072332,0.6464581331456241,0.6622185559169028,0.6231937905604743,0.61189622886477,0.6282366743178492,0.5984861066508615,0.5500077437507511,0.5665403543325268,0.5830738481724985,0.562660197290517,0.5814277400533869,0.6869532911019897,0.6566786181655366,0.7019733770898364,0.5785734314263157],\"type\":\"data\",\"visible\":true},\"mode\":\"lines\",\"name\":\"Lightcurve of  \",\"x\":[0.0,283.44000005722046,566.8799999952316,850.3200000524521,1133.7599999904633,1417.2000000476837,1700.6399999856949,1984.0800000429153,2267.5199999809265,2550.960000038147,2834.399999976158,3117.8400000333786,3401.2799999713898,3684.7200000286102,3968.1599999666214,4251.600000023842,4535.039999961853,4818.4800000190735,5101.919999957085,5385.360000014305,5668.799999952316,5952.240000009537,6235.679999947548,6519.120000004768,6802.5599999427795,7086.0,7369.4400000572205,7652.879999995232,7936.320000052452,8219.759999990463,8503.200000047684,8786.639999985695,9070.080000042915,9353.519999980927,9636.960000038147,9920.399999976158,10203.840000033379,10487.27999997139,10770.72000002861,11054.159999966621,11337.600000023842,11621.039999961853,11904.480000019073,12187.919999957085,12471.360000014305,12754.799999952316,13038.240000009537,13321.679999947548,13605.120000004768,13888.55999994278,14172.0,14455.44000005722,14738.879999995232,15022.320000052452,15305.759999990463,15589.200000047684,15872.639999985695,16156.080000042915,16439.519999980927,16722.960000038147,17006.399999976158,17289.84000003338,17573.27999997139,17856.72000002861,18140.15999996662,18423.600000023842,18707.039999961853,18990.480000019073,19273.919999957085,19557.360000014305,19840.799999952316,20124.240000009537,20407.679999947548,20691.12000000477,20974.55999994278,21258.0,21541.44000005722,21824.87999999523,22108.320000052452,22391.759999990463,22675.200000047684,22958.639999985695,23242.080000042915,23525.519999980927,23808.960000038147,24092.399999976158,24375.84000003338,24659.27999997139,24942.72000002861,25226.15999996662,25509.600000023842,25793.039999961853,26076.480000019073,26359.919999957085,26643.360000014305,26926.799999952316,27210.240000009537,27493.679999947548,27777.12000000477,28060.55999994278,28344.0,28627.44000005722,28910.87999999523,29194.320000052452,29477.759999990463,29761.200000047684,30044.639999985695,30328.080000042915,30611.519999980927,30894.960000038147,31178.399999976158,31461.84000003338,31745.27999997139,32028.72000002861,32312.15999996662,32595.600000023842,32879.03999996185,33162.48000001907,33445.919999957085,33729.360000014305,34012.799999952316,34296.24000000954,34579.67999994755,34863.12000000477,35146.55999994278,35430.0,35713.44000005722,35996.87999999523,36280.32000005245,36563.75999999046,36847.200000047684,37130.639999985695,37414.080000042915,37697.51999998093,37980.96000003815,38264.39999997616,38547.84000003338,38831.27999997139,39114.72000002861,39398.15999996662,39681.60000002384,39965.03999996185,40248.48000001907,40531.919999957085,40815.360000014305,41098.799999952316,41382.24000000954,41665.67999994755,41949.12000000477,42232.55999994278,42516.0,42799.44000005722,43082.87999999523,43366.32000005245,43649.75999999046,43933.200000047684,44216.639999985695,44500.080000042915,44783.51999998093,45066.96000003815,45350.39999997616,45633.84000003338,45917.27999997139,46200.72000002861,46484.15999996662,46767.60000002384,47051.03999996185,47334.48000001907,47617.919999957085,47901.360000014305,48184.799999952316,48468.24000000954,48751.67999994755,49035.12000000477,49318.55999994278,49602.0,49885.44000005722,50168.87999999523,50452.32000005245,50735.75999999046,51019.200000047684,51302.639999985695,51586.080000042915,51869.51999998093,52152.96000003815,52436.39999997616,52719.84000003338,53003.27999997139,53286.72000002861,53570.15999996662,53853.60000002384,54137.03999996185,54420.48000001907,54703.919999957085,54987.360000014305,55270.799999952316,55554.24000000954,55837.67999994755,56121.12000000477,56404.55999994278,56688.0,56971.44000005722,57254.87999999523,57538.32000005245,57821.75999999046,58105.200000047684,58388.639999985695,58672.080000042915,58955.51999998093,59238.96000003815,59522.39999997616,59805.84000003338,60089.27999997139,60372.72000002861,60656.15999996662,60939.60000002384,61223.03999996185,61506.48000001907,61789.919999957085,62073.360000014305,62356.799999952316,62640.24000000954,62923.67999994755,63207.12000000477,63490.55999994278,63774.0,64057.44000005722,64340.87999999523,64624.32000005245,64907.75999999046,65191.200000047684,65474.639999985695,65758.08000004292,66041.51999998093,66324.96000003815,66608.39999997616,66891.84000003338,67175.27999997139,67458.72000002861,67742.15999996662,68025.60000002384,68309.03999996185,68592.48000001907,68875.91999995708,69159.3600000143,69442.79999995232,69726.24000000954,70009.67999994755,70293.12000000477,70576.55999994278,70860.0,71143.44000005722,71426.87999999523,71710.32000005245,71993.75999999046,72277.20000004768,72560.6399999857,72844.08000004292,73127.51999998093,73410.96000003815,73694.39999997616,73977.84000003338,74261.27999997139,74544.72000002861,74828.15999996662,75111.60000002384,75395.03999996185,75678.48000001907,75961.91999995708,76245.3600000143,76528.79999995232,76812.24000000954,77095.67999994755,77379.12000000477,77662.55999994278,77946.0,78229.44000005722,78512.87999999523,78796.32000005245,79079.75999999046,79363.20000004768,79646.6399999857,79930.08000004292,80213.51999998093,80496.96000003815,80780.39999997616,81063.84000003338,81347.27999997139,81630.72000002861,81914.15999996662,82197.60000002384,82481.03999996185,82764.48000001907,83047.91999995708,83331.3600000143,83614.79999995232,83898.24000000954,84181.67999994755,84465.12000000477,84748.55999994278,85032.0,85315.44000005722,85598.87999999523,85882.32000005245,86165.75999999046,86449.20000004768,86732.6399999857,87016.08000004292,87299.51999998093,87582.96000003815,87866.39999997616,88149.84000003338,88433.27999997139,88716.72000002861,89000.15999996662,89283.60000002384,89567.03999996185,89850.48000001907,90133.91999995708,90417.3600000143,90700.79999995232,90984.24000000954,91267.67999994755,91551.12000000477,91834.55999994278,92118.0,92401.44000005722,92684.87999999523,92968.32000005245,93251.75999999046,93535.20000004768,93818.6399999857,94102.08000004292,94385.51999998093,94668.96000003815,94952.39999997616,95235.84000003338,95519.27999997139,95802.72000002861,96086.15999996662,96369.60000002384,96653.03999996185,96936.48000001907,97219.91999995708,97503.3600000143,97786.79999995232,98070.24000000954,98353.67999994755,98637.12000000477,98920.55999994278,99204.0,99487.44000005722,99770.87999999523,100054.32000005245,100337.75999999046,100621.20000004768,100904.6399999857,101188.08000004292,101471.51999998093,101754.96000003815,102038.39999997616,102321.84000003338,102605.27999997139,102888.72000002861,103172.15999996662,103455.60000002384,103739.03999996185,104022.48000001907,104305.91999995708,104589.3600000143,104872.79999995232,105156.24000000954,105439.67999994755,105723.12000000477,106006.55999994278,106290.0,106573.44000005722,106856.87999999523,107140.32000005245,107423.75999999046,107707.20000004768,107990.6399999857,108274.08000004292,108557.51999998093,108840.96000003815,109124.39999997616,109407.84000003338,109691.27999997139,109974.72000002861,110258.15999996662,110541.60000002384,110825.03999996185,111108.48000001907],\"y\":[238.64309906858594,205.5179226644087,211.42746260231442,222.77730736663844,189.93437764606267,236.6744284504657,315.99280270956814,342.883855489698,296.87058989556874,227.1521309624612,201.92633361558,211.29339542760374,216.4408693197855,181.54106689246402,202.5755009878634,226.85930002822468,229.84758679085522,273.03132938187974,219.00578605701384,236.68148461755575,218.61769686706182,204.41363251481795,210.3231724527237,218.54713519616143,215.83756703358736,224.62249506068304,272.7631950324584,286.0570138300875,318.9387524696585,375.3069432684166,332.7053344623201,373.60993508326277,347.0999153259949,358.2098504092577,386.730877787186,373.15128422241037,355.68374259102455,364.7226926333616,290.92576912221284,259.64578041208017,301.72170476996894,363.22678521027376,302.32147897262206,245.88272650296358,232.69122212814,272.9431272932543,230.2674287327124,260.7253739768558,290.6717471069715,255.31329381879763,229.35718317809767,251.7111205193339,294.79254868755294,309.6493084956252,289.0982218458933,267.7286198137172,301.86988427885973,256.81272932543044,264.29932260795937,214.87440022579736,189.87440022579736,201.45004233700254,236.23341800733843,297.67146486028787,274.31555179226643,235.21027377928309,253.12235393734125,228.1329381879763,228.91264465142535,200.75853796217893,223.09836296923513,217.4604854642958,209.94566751340673,177.69545582839402,187.4259102455546,223.37708156929156,222.83375670335874,179.66059836296924,191.91716059836298,176.6158622636184,191.33502681343495,224.6542478125882,191.55023990968107,166.93127293254304,194.08340389500424,171.66596104995767,171.4754445385267,249.60838272650295,141.31738639570986,132.8252893028507,102.55080440304826,99.62955122777308,111.15227208580299,107.09144792548688,103.62686988427886,112.37298899237933,94.0587073101891,92.75331639853232,103.5210273779283,101.88046852949478,92.35817104149027,117.96500141123342,135.22791419700818,123.25712672876094,129.24075642111205,129.4418571831781,133.58735534857465,137.33770815692915,137.05193338978268,127.76248941574937,143.9775613886537,157.02088625458651,131.30468529494777,119.29508890770533,130.2885972339825,130.49675416313858,122.40685859441152,111.56152977702511,118.03556308213379,131.74216765453005,144.0022579734688,149.31555179226643,166.6560824160316,155.768416596105,147.93959920970929,159.3811741462038,103.39048828676263,112.98334744566752,135.82063223257126,138.90064916737228,120.9215354219588,131.14239345187696,147.07169065763478,116.69489133502681,99.24146203782105,106.12475303415185,129.54417160598362,138.46669489133504,129.92167654530058,95.68868190798759,101.73228902060401,95.55461473327688,85.00917301721705,94.13985323172453,115.40714084109511,110.22791419700819,119.12926898108947,120.17358171041491,168.7305955405024,164.64154671182612,285.77476714648606,290.96810612475304,221.32020886254585,191.0774767146486,201.1960203217612,197.86198137171888,225.20110076206603,206.5728196443692,214.1335026813435,198.31710414902625,196.99760090318938,216.20448772226928,235.002116850127,204.56534010725375,279.27603725656223,296.86706181202374,227.83657917019474,195.45230031047134,239.14408693197856,220.99209709285915,230.380327406153,226.88046852949478,235.22438611346317,213.48433530906013,239.47572678521027,242.44637313011572,269.89133502681346,298.77928309342366,286.2122495060683,226.94750211685013,272.98193621224954,213.81597516229183,206.29762912785776,167.03005927180357,175.58213378492803,176.54530059271804,150.37397685577196,183.04403048264183,168.0390911656788,176.2877504939317,170.0359864521592,170.06068303697432,162.06251764041772,166.80073384137737,149.5166525543325,212.98687552921254,157.89937905729607,172.85492520462884,191.95244143381316,160.6724527236805,158.60852384984477,163.31145921535423,168.16610217329946,173.5605419136325,173.58171041490263,165.83051086649732,137.35534857465424,131.20942703923228,146.66243296641264,157.54657070279424,135.2702511995484,118.31780976573525,105.96951735817105,106.19178662150719,100.1728760937059,83.61205193338978,91.80073384137737,120.0359864521592,123.87806943268417,113.80186282811177,117.0759243578888,118.74470787468248,127.18741179791138,118.64592153542196,103.13646627152131,122.37863392605136,146.19319785492522,121.344905447361,128.94792548687553,136.94609088343213,142.7145074795371,160.62658763759526,116.27857747671464,134.51524132091447,140.06844482077335,153.17174710697148,192.7850691504375,176.46415467118263,234.36000564493366,286.9037538808919,293.82585379621787,216.10570138300875,195.04304261924923,171.4225232853514,193.29311318092013,217.02300310471352,156.0012701100762,170.74513124470786,163.0962461191081,153.73976855771946,157.44778436353374,140.55179226644088,156.5622353937341,137.26009031893875,171.97643240191928,151.14309906858594,161.25105842506352,153.6939034716342,172.02582557154955,150.72325712672875,162.29537115438893,148.40883432119674,174.424922382162,191.5149590742309,208.67908552074513,199.5766299745978,230.10866497318656,187.14013547840813,189.92732147897263,161.09935083262772,154.67823878069433,165.6117696867062,208.7284786903754,182.21845893310754,162.38004515946938,146.9587919841942,127.30383855489698,126.98983911939035,137.38710132655942,140.97869037538808,130.6731583403895,144.12926898108947,135.8841377363816,100.91730172170477,119.71845893310754,122.80906011854361,113.70660457239627,92.60160880609654,125.63152695455828,115.98927462602315,137.38004515946938,122.85845328817386,111.75204628845611,90.47064634490545,113.98885125599774,114.33107535986453,108.64733276883997,102.06392887383574,133.22043465989276,131.44580863674852,141.2891617273497,136.93197854925205,185.0762066045724,195.62164832063223,189.5780412080158,198.51467682754728,219.75373976855772,166.60668924640134,116.50790290714085,97.9607677109794,106.42111205193339,98.9239345187694,105.34857465424781,93.61064069997178,94.04459497600904,84.77631950324584,83.7496471916455,76.46062658763759,71.96937623482924,65.39302850691504,60.33022861981372,71.33432119672594,75.39867344058707,74.75303415184872,80.68374259102455,96.80355630821337,94.21747106971493,73.48645215918712,69.1539655659046,70.41349139147616,68.18727067456958,76.82049110922947,76.69700818515382,67.89796782387808,76.90163703076489,70.81216483206322,71.26375952582558,71.74005080440305,52.72015241320914,53.66920688681908,52.85069150437482,49.67188823031329,44.594976009031896,45.93564775613886,49.417866215071975,55.04868755292125,65.25190516511431,67.47106971493085,57.00677392040644,67.32994637313011,65.8269827829523,69.83488569009315,60.21380186282811,68.68473045441716,74.43197854925205,71.84236522720857,70.68868190798759,72.39274626023145,85.15735252610781,107.35605419136326,109.24005080440305,82.2890206040079,84.74809483488569,72.04699407281964,77.68839966130398,74.86946090883433,84.56463449054473,96.40135478408129,90.22015241320915,89.43691786621507,86.81202370872143,78.88089189952018,76.05489697996049,80.41208015805815,106.49167372283375,134.5999153259949,104.94990121366074,111.38865368331922,118.45187694044596,124.29791137454136,110.07973468811741,106.12475303415185,111.86847304544172,101.52413209144792,85.74301439458087,90.97516229184308,96.36254586508609,89.73327688399661,95.81922099915326,133.75670335873554,122.22692633361558,139.6697713801863,94.88075077617837],\"type\":\"scatter\"}],                        {\"template\":{\"data\":{\"histogram2dcontour\":[{\"type\":\"histogram2dcontour\",\"colorbar\":{\"outlinewidth\":0,\"ticks\":\"\"},\"colorscale\":[[0.0,\"#0d0887\"],[0.1111111111111111,\"#46039f\"],[0.2222222222222222,\"#7201a8\"],[0.3333333333333333,\"#9c179e\"],[0.4444444444444444,\"#bd3786\"],[0.5555555555555556,\"#d8576b\"],[0.6666666666666666,\"#ed7953\"],[0.7777777777777778,\"#fb9f3a\"],[0.8888888888888888,\"#fdca26\"],[1.0,\"#f0f921\"]]}],\"choropleth\":[{\"type\":\"choropleth\",\"colorbar\":{\"outlinewidth\":0,\"ticks\":\"\"}}],\"histogram2d\":[{\"type\":\"histogram2d\",\"colorbar\":{\"outlinewidth\":0,\"ticks\":\"\"},\"colorscale\":[[0.0,\"#0d0887\"],[0.1111111111111111,\"#46039f\"],[0.2222222222222222,\"#7201a8\"],[0.3333333333333333,\"#9c179e\"],[0.4444444444444444,\"#bd3786\"],[0.5555555555555556,\"#d8576b\"],[0.6666666666666666,\"#ed7953\"],[0.7777777777777778,\"#fb9f3a\"],[0.8888888888888888,\"#fdca26\"],[1.0,\"#f0f921\"]]}],\"heatmap\":[{\"type\":\"heatmap\",\"colorbar\":{\"outlinewidth\":0,\"ticks\":\"\"},\"colorscale\":[[0.0,\"#0d0887\"],[0.1111111111111111,\"#46039f\"],[0.2222222222222222,\"#7201a8\"],[0.3333333333333333,\"#9c179e\"],[0.4444444444444444,\"#bd3786\"],[0.5555555555555556,\"#d8576b\"],[0.6666666666666666,\"#ed7953\"],[0.7777777777777778,\"#fb9f3a\"],[0.8888888888888888,\"#fdca26\"],[1.0,\"#f0f921\"]]}],\"heatmapgl\":[{\"type\":\"heatmapgl\",\"colorbar\":{\"outlinewidth\":0,\"ticks\":\"\"},\"colorscale\":[[0.0,\"#0d0887\"],[0.1111111111111111,\"#46039f\"],[0.2222222222222222,\"#7201a8\"],[0.3333333333333333,\"#9c179e\"],[0.4444444444444444,\"#bd3786\"],[0.5555555555555556,\"#d8576b\"],[0.6666666666666666,\"#ed7953\"],[0.7777777777777778,\"#fb9f3a\"],[0.8888888888888888,\"#fdca26\"],[1.0,\"#f0f921\"]]}],\"contourcarpet\":[{\"type\":\"contourcarpet\",\"colorbar\":{\"outlinewidth\":0,\"ticks\":\"\"}}],\"contour\":[{\"type\":\"contour\",\"colorbar\":{\"outlinewidth\":0,\"ticks\":\"\"},\"colorscale\":[[0.0,\"#0d0887\"],[0.1111111111111111,\"#46039f\"],[0.2222222222222222,\"#7201a8\"],[0.3333333333333333,\"#9c179e\"],[0.4444444444444444,\"#bd3786\"],[0.5555555555555556,\"#d8576b\"],[0.6666666666666666,\"#ed7953\"],[0.7777777777777778,\"#fb9f3a\"],[0.8888888888888888,\"#fdca26\"],[1.0,\"#f0f921\"]]}],\"surface\":[{\"type\":\"surface\",\"colorbar\":{\"outlinewidth\":0,\"ticks\":\"\"},\"colorscale\":[[0.0,\"#0d0887\"],[0.1111111111111111,\"#46039f\"],[0.2222222222222222,\"#7201a8\"],[0.3333333333333333,\"#9c179e\"],[0.4444444444444444,\"#bd3786\"],[0.5555555555555556,\"#d8576b\"],[0.6666666666666666,\"#ed7953\"],[0.7777777777777778,\"#fb9f3a\"],[0.8888888888888888,\"#fdca26\"],[1.0,\"#f0f921\"]]}],\"mesh3d\":[{\"type\":\"mesh3d\",\"colorbar\":{\"outlinewidth\":0,\"ticks\":\"\"}}],\"scatter\":[{\"fillpattern\":{\"fillmode\":\"overlay\",\"size\":10,\"solidity\":0.2},\"type\":\"scatter\"}],\"parcoords\":[{\"type\":\"parcoords\",\"line\":{\"colorbar\":{\"outlinewidth\":0,\"ticks\":\"\"}}}],\"scatterpolargl\":[{\"type\":\"scatterpolargl\",\"marker\":{\"colorbar\":{\"outlinewidth\":0,\"ticks\":\"\"}}}],\"bar\":[{\"error_x\":{\"color\":\"#2a3f5f\"},\"error_y\":{\"color\":\"#2a3f5f\"},\"marker\":{\"line\":{\"color\":\"#E5ECF6\",\"width\":0.5},\"pattern\":{\"fillmode\":\"overlay\",\"size\":10,\"solidity\":0.2}},\"type\":\"bar\"}],\"scattergeo\":[{\"type\":\"scattergeo\",\"marker\":{\"colorbar\":{\"outlinewidth\":0,\"ticks\":\"\"}}}],\"scatterpolar\":[{\"type\":\"scatterpolar\",\"marker\":{\"colorbar\":{\"outlinewidth\":0,\"ticks\":\"\"}}}],\"histogram\":[{\"marker\":{\"pattern\":{\"fillmode\":\"overlay\",\"size\":10,\"solidity\":0.2}},\"type\":\"histogram\"}],\"scattergl\":[{\"type\":\"scattergl\",\"marker\":{\"colorbar\":{\"outlinewidth\":0,\"ticks\":\"\"}}}],\"scatter3d\":[{\"type\":\"scatter3d\",\"line\":{\"colorbar\":{\"outlinewidth\":0,\"ticks\":\"\"}},\"marker\":{\"colorbar\":{\"outlinewidth\":0,\"ticks\":\"\"}}}],\"scattermapbox\":[{\"type\":\"scattermapbox\",\"marker\":{\"colorbar\":{\"outlinewidth\":0,\"ticks\":\"\"}}}],\"scatterternary\":[{\"type\":\"scatterternary\",\"marker\":{\"colorbar\":{\"outlinewidth\":0,\"ticks\":\"\"}}}],\"scattercarpet\":[{\"type\":\"scattercarpet\",\"marker\":{\"colorbar\":{\"outlinewidth\":0,\"ticks\":\"\"}}}],\"carpet\":[{\"aaxis\":{\"endlinecolor\":\"#2a3f5f\",\"gridcolor\":\"white\",\"linecolor\":\"white\",\"minorgridcolor\":\"white\",\"startlinecolor\":\"#2a3f5f\"},\"baxis\":{\"endlinecolor\":\"#2a3f5f\",\"gridcolor\":\"white\",\"linecolor\":\"white\",\"minorgridcolor\":\"white\",\"startlinecolor\":\"#2a3f5f\"},\"type\":\"carpet\"}],\"table\":[{\"cells\":{\"fill\":{\"color\":\"#EBF0F8\"},\"line\":{\"color\":\"white\"}},\"header\":{\"fill\":{\"color\":\"#C8D4E3\"},\"line\":{\"color\":\"white\"}},\"type\":\"table\"}],\"barpolar\":[{\"marker\":{\"line\":{\"color\":\"#E5ECF6\",\"width\":0.5},\"pattern\":{\"fillmode\":\"overlay\",\"size\":10,\"solidity\":0.2}},\"type\":\"barpolar\"}],\"pie\":[{\"automargin\":true,\"type\":\"pie\"}]},\"layout\":{\"autotypenumbers\":\"strict\",\"colorway\":[\"#636efa\",\"#EF553B\",\"#00cc96\",\"#ab63fa\",\"#FFA15A\",\"#19d3f3\",\"#FF6692\",\"#B6E880\",\"#FF97FF\",\"#FECB52\"],\"font\":{\"color\":\"#2a3f5f\"},\"hovermode\":\"closest\",\"hoverlabel\":{\"align\":\"left\"},\"paper_bgcolor\":\"white\",\"plot_bgcolor\":\"#E5ECF6\",\"polar\":{\"bgcolor\":\"#E5ECF6\",\"angularaxis\":{\"gridcolor\":\"white\",\"linecolor\":\"white\",\"ticks\":\"\"},\"radialaxis\":{\"gridcolor\":\"white\",\"linecolor\":\"white\",\"ticks\":\"\"}},\"ternary\":{\"bgcolor\":\"#E5ECF6\",\"aaxis\":{\"gridcolor\":\"white\",\"linecolor\":\"white\",\"ticks\":\"\"},\"baxis\":{\"gridcolor\":\"white\",\"linecolor\":\"white\",\"ticks\":\"\"},\"caxis\":{\"gridcolor\":\"white\",\"linecolor\":\"white\",\"ticks\":\"\"}},\"coloraxis\":{\"colorbar\":{\"outlinewidth\":0,\"ticks\":\"\"}},\"colorscale\":{\"sequential\":[[0.0,\"#0d0887\"],[0.1111111111111111,\"#46039f\"],[0.2222222222222222,\"#7201a8\"],[0.3333333333333333,\"#9c179e\"],[0.4444444444444444,\"#bd3786\"],[0.5555555555555556,\"#d8576b\"],[0.6666666666666666,\"#ed7953\"],[0.7777777777777778,\"#fb9f3a\"],[0.8888888888888888,\"#fdca26\"],[1.0,\"#f0f921\"]],\"sequentialminus\":[[0.0,\"#0d0887\"],[0.1111111111111111,\"#46039f\"],[0.2222222222222222,\"#7201a8\"],[0.3333333333333333,\"#9c179e\"],[0.4444444444444444,\"#bd3786\"],[0.5555555555555556,\"#d8576b\"],[0.6666666666666666,\"#ed7953\"],[0.7777777777777778,\"#fb9f3a\"],[0.8888888888888888,\"#fdca26\"],[1.0,\"#f0f921\"]],\"diverging\":[[0,\"#8e0152\"],[0.1,\"#c51b7d\"],[0.2,\"#de77ae\"],[0.3,\"#f1b6da\"],[0.4,\"#fde0ef\"],[0.5,\"#f7f7f7\"],[0.6,\"#e6f5d0\"],[0.7,\"#b8e186\"],[0.8,\"#7fbc41\"],[0.9,\"#4d9221\"],[1,\"#276419\"]]},\"xaxis\":{\"gridcolor\":\"white\",\"linecolor\":\"white\",\"ticks\":\"\",\"title\":{\"standoff\":15},\"zerolinecolor\":\"white\",\"automargin\":true,\"zerolinewidth\":2},\"yaxis\":{\"gridcolor\":\"white\",\"linecolor\":\"white\",\"ticks\":\"\",\"title\":{\"standoff\":15},\"zerolinecolor\":\"white\",\"automargin\":true,\"zerolinewidth\":2},\"scene\":{\"xaxis\":{\"backgroundcolor\":\"#E5ECF6\",\"gridcolor\":\"white\",\"linecolor\":\"white\",\"showbackground\":true,\"ticks\":\"\",\"zerolinecolor\":\"white\",\"gridwidth\":2},\"yaxis\":{\"backgroundcolor\":\"#E5ECF6\",\"gridcolor\":\"white\",\"linecolor\":\"white\",\"showbackground\":true,\"ticks\":\"\",\"zerolinecolor\":\"white\",\"gridwidth\":2},\"zaxis\":{\"backgroundcolor\":\"#E5ECF6\",\"gridcolor\":\"white\",\"linecolor\":\"white\",\"showbackground\":true,\"ticks\":\"\",\"zerolinecolor\":\"white\",\"gridwidth\":2}},\"shapedefaults\":{\"line\":{\"color\":\"#2a3f5f\"}},\"annotationdefaults\":{\"arrowcolor\":\"#2a3f5f\",\"arrowhead\":0,\"arrowwidth\":1},\"geo\":{\"bgcolor\":\"white\",\"landcolor\":\"#E5ECF6\",\"subunitcolor\":\"white\",\"showland\":true,\"showlakes\":true,\"lakecolor\":\"white\"},\"title\":{\"x\":0.05},\"mapbox\":{\"style\":\"light\"}}},\"title\":{\"text\":\"Lightcurve\"},\"xaxis\":{\"title\":{\"text\":\"Time (s)\"}},\"yaxis\":{\"title\":{\"text\":\"Cts\\u002fs\"}}},                        {\"responsive\": true}                    ).then(function(){\n",
       "                            \n",
       "var gd = document.getElementById('2db7bb7b-13ed-4198-90b7-87321fc9f95c');\n",
       "var x = new MutationObserver(function (mutations, observer) {{\n",
       "        var display = window.getComputedStyle(gd).display;\n",
       "        if (!display || display === 'none') {{\n",
       "            console.log([gd, 'removed!']);\n",
       "            Plotly.purge(gd);\n",
       "            observer.disconnect();\n",
       "        }}\n",
       "}});\n",
       "\n",
       "// Listen for the removal of the full notebook cells\n",
       "var notebookContainer = gd.closest('#notebook-container');\n",
       "if (notebookContainer) {{\n",
       "    x.observe(notebookContainer, {childList: true});\n",
       "}}\n",
       "\n",
       "// Listen for the clearing of the current output cell\n",
       "var outputEl = gd.closest('.output');\n",
       "if (outputEl) {{\n",
       "    x.observe(outputEl, {childList: true});\n",
       "}}\n",
       "\n",
       "                        })                };                });            </script>        </div>"
      ]
     },
     "metadata": {},
     "output_type": "display_data"
    }
   ],
   "source": [
    "name= [\" \"]\n",
    "file_paths = [out_file]\n",
    "\n",
    "# Call the function to plot light curves\n",
    "plotLC(file_paths, name, threshold = None)\n"
   ]
  },
  {
   "cell_type": "markdown",
   "id": "b83c2e73-8022-4fe0-9c6f-cb58da76957b",
   "metadata": {},
   "source": [
    "* ### Barycentric correction\n",
    "\n",
    "Here we apply a barycentric correction, necessary\n",
    "for high resolved timing analysis. "
   ]
  },
  {
   "cell_type": "markdown",
   "id": "a72680c1-621f-4603-9d21-1645b32ee6bd",
   "metadata": {},
   "source": [
    "After inspecting the light curve, the user can choose to remove the threshold value altogether if they see no need for it. This is particularly applicable in scenarios where the source is bright enough, rendering particle background filtering unnecessary. Hence we can run `evselect` in the following conditions:"
   ]
  },
  {
   "cell_type": "code",
   "execution_count": 17,
   "id": "a33c48c5-e49a-4ed6-98a6-091e0eab9c1d",
   "metadata": {
    "tags": []
   },
   "outputs": [],
   "source": [
    "pn_pi_min    = 150   \n",
    "out_file = wdir + '/PN_clean_evt.fits'"
   ]
  },
  {
   "cell_type": "code",
   "execution_count": 30,
   "id": "6c783f07-2e6a-4224-bbcf-ff0e80bd8a02",
   "metadata": {
    "tags": []
   },
   "outputs": [
    {
     "name": "stdout",
     "output_type": "stream",
     "text": [
      "   Filter expression to use: #XMMEA_EP&&(PI>=150) \n",
      "\n",
      "   SAS command to be executed: evselect, with arguments; \n",
      "\n"
     ]
    },
    {
     "data": {
      "text/plain": [
       "['table=/home/egulbaha/my_workspace/Vela-work/XMM-SAS-Datalabs-Paper/VelaX1data18Dec/3553_0841890201_EPN_S003_TimingEvts.ds',\n",
       " 'withfilteredset=Y',\n",
       " 'filteredset=/home/egulbaha/my_workspace/Vela-work/XMM-SAS-Datalabs-Paper/VelaX1data06Jan/PN_clean_evt.fits',\n",
       " 'destruct=Y',\n",
       " 'keepfilteroutput=T',\n",
       " 'expression=#XMMEA_EP&&(PI>=150)']"
      ]
     },
     "execution_count": 30,
     "metadata": {},
     "output_type": "execute_result"
    }
   ],
   "source": [
    "# SAS Command\n",
    "cmd        = \"evselect\" # SAS task to be executed                  \n",
    "\n",
    "# Arguments of SAS Command\n",
    "expression = f'#XMMEA_EP&&(PI>={pn_pi_min})'  # event filter expression\n",
    "inargs     = [f'table={eventfile}','withfilteredset=Y',f'filteredset={out_file}','destruct=Y','keepfilteroutput=T',f'expression={expression}']\n",
    "\n",
    "print(\"   Filter expression to use: \"+expression+\" \\n\")\n",
    "print(\"   SAS command to be executed: \"+cmd+\", with arguments; \\n\")\n",
    "inargs"
   ]
  },
  {
   "cell_type": "code",
   "execution_count": 31,
   "id": "2dc03455-7d0b-4f07-a655-7fdd850167a0",
   "metadata": {
    "tags": []
   },
   "outputs": [],
   "source": [
    "%%capture\n",
    "# Execute SAS task with parameters\n",
    "\n",
    "w(cmd, inargs).run()"
   ]
  },
  {
   "cell_type": "markdown",
   "id": "db3442fc-d103-48da-a75e-7ecf305308d0",
   "metadata": {},
   "source": [
    "Next we shall run the task `barycen`. The `barycen` task is designed to convert times from the local satellite frame to Barycentric Dynamical Time (TDB) using a specified table in a dataset containing times in XMM MET (Mission Elapsed Time) format. The task checks if barycentric conversion has been performed, exits if true, and proceeds to correct time tags in the specified column. Additionally, it converts interval start and stop times to TDB if a Good Time Interval extension exists and corrects time tags in EXPOSU tables if the relevant parameter is enabled. The task updates TIMEREF, TSTART, TSTOP, and TELAPSE attributes where necessary."
   ]
  },
  {
   "cell_type": "code",
   "execution_count": 32,
   "id": "6d80e145-2c09-457a-af23-870136530911",
   "metadata": {
    "tags": []
   },
   "outputs": [
    {
     "data": {
      "text/plain": [
       "'PN_clean_evt_nobarycen_cor.fits'"
      ]
     },
     "execution_count": 32,
     "metadata": {},
     "output_type": "execute_result"
    }
   ],
   "source": [
    "# Use the 'copy' function from the 'shutil' module to copy the file 'PN_clean_evt.fits'\n",
    "# to a new file named 'PN_clean_evt_nobarycen_cor.fits'.\n",
    "shutil.copy('PN_clean_evt.fits', 'PN_clean_evt_nobarycen_cor.fits')"
   ]
  },
  {
   "cell_type": "code",
   "execution_count": 18,
   "id": "77d8434c-a199-4d45-af7f-3ece5619d924",
   "metadata": {
    "tags": []
   },
   "outputs": [],
   "source": [
    "table = wdir + \"/PN_clean_evt.fits\""
   ]
  },
  {
   "cell_type": "code",
   "execution_count": 34,
   "id": "c6006dcc-6727-4493-be75-7d3be7cc0399",
   "metadata": {
    "tags": []
   },
   "outputs": [
    {
     "name": "stdout",
     "output_type": "stream",
     "text": [
      "barycen:- Executing (routine): barycen withtable=yes table=PN_clean_evt.fits:EVENTS timecolumn=TIME withsrccoordinates=no srcra=0 srcdec=0 processgtis=yes processexposutables=yes time=0 ephemeris=DE200  -w 1 -V 4\n",
      "barycen:- barycen (barycen-1.22.1)  [xmmsas_20230412_1735-21.0.0] started:  2025-01-06T16:13:22.000\n",
      "** barycen: error (NoCorrectionNecessary), Barycentric correction has been applied to times in `PN_clean_evt.fits' already\n"
     ]
    }
   ],
   "source": [
    "! /usr/local/SAS/xmmsas_20230412_1735/bin/barycen table='PN_clean_evt.fits:EVENTS' withtable=true\n"
   ]
  },
  {
   "cell_type": "code",
   "execution_count": 38,
   "id": "e86c758a-09e8-48ee-b264-626b8a326c5b",
   "metadata": {
    "collapsed": true,
    "jupyter": {
     "outputs_hidden": true,
     "source_hidden": true
    },
    "tags": []
   },
   "outputs": [
    {
     "name": "stdout",
     "output_type": "stream",
     "text": [
      "   SAS command to be executed: /usr/local/SAS/xmmsas_20230412_1735/bin/barycen, with arguments; \n",
      "\n"
     ]
    },
    {
     "data": {
      "text/plain": [
       "['withtable=true',\n",
       " 'table=/home/egulbaha/my_workspace/Vela-work/XMM-SAS-Datalabs-Paper/VelaX1data18Dec/PN_clean_evt.fits:EVENTS']"
      ]
     },
     "execution_count": 38,
     "metadata": {},
     "output_type": "execute_result"
    }
   ],
   "source": [
    "# SAS Command\n",
    "cmd        = \"/usr/local/SAS/xmmsas_20230412_1735/bin/barycen\" # SAS task to be executed                  \n",
    "\n",
    "# Arguments of SAS Command\n",
    "inargs     = ['withtable=true', f'table={table}:EVENTS']\n",
    "\n",
    "print(\"   SAS command to be executed: \"+cmd+\", with arguments; \\n\")\n",
    "inargs"
   ]
  },
  {
   "cell_type": "code",
   "execution_count": 39,
   "id": "2a24d3b9-9414-4954-aeee-44779f1038af",
   "metadata": {
    "collapsed": true,
    "jupyter": {
     "outputs_hidden": true,
     "source_hidden": true
    },
    "tags": []
   },
   "outputs": [
    {
     "ename": "Exception",
     "evalue": "Does not exist any file named /usr/local/SAS/xmmsas_20230412_1735/bin/barycen.par. Wrong syntax?",
     "output_type": "error",
     "traceback": [
      "\u001b[0;31m---------------------------------------------------------------------------\u001b[0m",
      "\u001b[0;31mException\u001b[0m                                 Traceback (most recent call last)",
      "Cell \u001b[0;32mIn[39], line 4\u001b[0m\n\u001b[1;32m      1\u001b[0m \u001b[38;5;66;03m#|%%capture\u001b[39;00m\n\u001b[1;32m      2\u001b[0m \u001b[38;5;66;03m# Execute SAS task with parameters\u001b[39;00m\n\u001b[0;32m----> 4\u001b[0m \u001b[43mw\u001b[49m\u001b[43m(\u001b[49m\u001b[43mcmd\u001b[49m\u001b[43m,\u001b[49m\u001b[43m \u001b[49m\u001b[43minargs\u001b[49m\u001b[43m)\u001b[49m\u001b[38;5;241;43m.\u001b[39;49m\u001b[43mrun\u001b[49m\u001b[43m(\u001b[49m\u001b[43m)\u001b[49m\n",
      "File \u001b[0;32m/usr/local/SAS/xmmsas_20230412_1735/lib/python/pysas/wrapper.py:47\u001b[0m, in \u001b[0;36mWrapper.run\u001b[0;34m(self)\u001b[0m\n\u001b[1;32m     45\u001b[0m \u001b[38;5;28;01mdef\u001b[39;00m \u001b[38;5;21mrun\u001b[39m(\u001b[38;5;28mself\u001b[39m):\n\u001b[1;32m     46\u001b[0m     t \u001b[38;5;241m=\u001b[39m MyTask(\u001b[38;5;28mself\u001b[39m\u001b[38;5;241m.\u001b[39mtaskname, \u001b[38;5;28mself\u001b[39m\u001b[38;5;241m.\u001b[39minargs,\u001b[38;5;28mself\u001b[39m\u001b[38;5;241m.\u001b[39mlogFile)\n\u001b[0;32m---> 47\u001b[0m     \u001b[43mt\u001b[49m\u001b[38;5;241;43m.\u001b[39;49m\u001b[43mreadparfile\u001b[49m\u001b[43m(\u001b[49m\u001b[43m)\u001b[49m\n\u001b[1;32m     48\u001b[0m     t\u001b[38;5;241m.\u001b[39mprocessargs()\n\u001b[1;32m     49\u001b[0m     t\u001b[38;5;241m.\u001b[39mruntask()\n",
      "File \u001b[0;32m/usr/local/SAS/xmmsas_20230412_1735/lib/python/pysas/sastask.py:192\u001b[0m, in \u001b[0;36mMyTask.readparfile\u001b[0;34m(self)\u001b[0m\n\u001b[1;32m    191\u001b[0m \u001b[38;5;28;01mdef\u001b[39;00m \u001b[38;5;21mreadparfile\u001b[39m(\u001b[38;5;28mself\u001b[39m):\n\u001b[0;32m--> 192\u001b[0m     t \u001b[38;5;241m=\u001b[39m \u001b[43mparamXmlInfoReader\u001b[49m\u001b[43m(\u001b[49m\u001b[38;5;28;43mself\u001b[39;49m\u001b[38;5;241;43m.\u001b[39;49m\u001b[43mtaskname\u001b[49m\u001b[43m)\u001b[49m\n\u001b[1;32m    193\u001b[0m     t\u001b[38;5;241m.\u001b[39mxmlParser()\n\u001b[1;32m    194\u001b[0m     \u001b[38;5;28mself\u001b[39m\u001b[38;5;241m.\u001b[39mallparams \u001b[38;5;241m=\u001b[39m t\u001b[38;5;241m.\u001b[39mallparams\n",
      "File \u001b[0;32m/usr/local/SAS/xmmsas_20230412_1735/lib/python/pysas/param.py:87\u001b[0m, in \u001b[0;36mparamXmlInfoReader.__init__\u001b[0;34m(self, taskname)\u001b[0m\n\u001b[1;32m     84\u001b[0m         \u001b[38;5;28;01mbreak\u001b[39;00m\n\u001b[1;32m     86\u001b[0m \u001b[38;5;28;01mif\u001b[39;00m \u001b[38;5;28mself\u001b[39m\u001b[38;5;241m.\u001b[39mxmlFile \u001b[38;5;241m==\u001b[39m \u001b[38;5;124m'\u001b[39m\u001b[38;5;124m'\u001b[39m:\n\u001b[0;32m---> 87\u001b[0m     \u001b[38;5;28;01mraise\u001b[39;00m \u001b[38;5;167;01mException\u001b[39;00m(\u001b[38;5;124mf\u001b[39m\u001b[38;5;124m'\u001b[39m\u001b[38;5;124mDoes not exist any file named \u001b[39m\u001b[38;5;132;01m{\u001b[39;00mparfile\u001b[38;5;132;01m}\u001b[39;00m\u001b[38;5;124m. Wrong syntax?\u001b[39m\u001b[38;5;124m'\u001b[39m)\n",
      "\u001b[0;31mException\u001b[0m: Does not exist any file named /usr/local/SAS/xmmsas_20230412_1735/bin/barycen.par. Wrong syntax?"
     ]
    }
   ],
   "source": [
    "#|%%capture\n",
    "# Execute SAS task with parameters\n",
    "\n",
    "w(cmd, inargs).run()"
   ]
  },
  {
   "cell_type": "markdown",
   "id": "5f2de570-6bd9-45a8-9044-016a5b3fdb17",
   "metadata": {},
   "source": [
    "Now we have created filtered PN event list files with and without barycen. This barycentric correction will be necessary\n",
    "for high resolved timing analysis later on."
   ]
  },
  {
   "cell_type": "markdown",
   "id": "96e58cdf-1dd6-4e6c-b534-a9b22cb47167",
   "metadata": {},
   "source": [
    "* ### Extracting the light curve"
   ]
  },
  {
   "cell_type": "markdown",
   "id": "323dff40-acb0-4378-adaa-998a376abcf2",
   "metadata": {},
   "source": [
    "Let us produce an image from our event file. "
   ]
  },
  {
   "cell_type": "code",
   "execution_count": 19,
   "id": "67750e86-f3df-4420-9ef5-d9dcd84dedab",
   "metadata": {
    "tags": []
   },
   "outputs": [],
   "source": [
    "# Define some parameters to produce the image and the name of the output file\n",
    "\n",
    "xbin=1     # xbin size\n",
    "ybin=1    # ybin size\n",
    "xcoord='RAWX'  # coordinate system\n",
    "ycoord='RAWY'  # coordinate system\n",
    "\n",
    "out_IMFile   = wdir+'/PNimage.fits'  # Name of the output Image file "
   ]
  },
  {
   "cell_type": "code",
   "execution_count": 37,
   "id": "5303e8d1-4afb-45a4-9dfb-d1f43e6d4738",
   "metadata": {
    "tags": []
   },
   "outputs": [
    {
     "name": "stdout",
     "output_type": "stream",
     "text": [
      "   SAS command to be executed: evselect, with arguments; \n",
      "\n"
     ]
    },
    {
     "data": {
      "text/plain": [
       "['table=/home/egulbaha/my_workspace/Vela-work/XMM-SAS-Datalabs-Paper/VelaX1data06Jan/PN_clean_evt.fits',\n",
       " 'imagebinning=binSize',\n",
       " 'imageset=/home/egulbaha/my_workspace/Vela-work/XMM-SAS-Datalabs-Paper/VelaX1data06Jan/PNimage.fits',\n",
       " 'withimageset=yes',\n",
       " 'xcolumn=RAWX',\n",
       " 'ycolumn=RAWY',\n",
       " 'ximagebinsize=1',\n",
       " 'yimagebinsize=1']"
      ]
     },
     "execution_count": 37,
     "metadata": {},
     "output_type": "execute_result"
    }
   ],
   "source": [
    "# SAS Command\n",
    "cmd        = \"evselect\" # SAS task to be executed                  \n",
    "\n",
    "# Arguments of SAS Command\n",
    "inargs     = [f'table={table}','imagebinning=binSize',f'imageset={out_IMFile}','withimageset=yes',f'xcolumn={xcoord}',f'ycolumn={ycoord}',f'ximagebinsize={xbin}',f'yimagebinsize={ybin}']\n",
    "\n",
    "print(\"   SAS command to be executed: \"+cmd+\", with arguments; \\n\")\n",
    "inargs"
   ]
  },
  {
   "cell_type": "code",
   "execution_count": 48,
   "id": "41fe64e7-9308-41f2-99dc-5ee0291ddf7e",
   "metadata": {
    "tags": []
   },
   "outputs": [],
   "source": [
    "%%capture\n",
    "w(cmd, inargs).run()"
   ]
  },
  {
   "cell_type": "markdown",
   "id": "cb49a9af-1d60-4a67-8453-efb5ff810daa",
   "metadata": {},
   "source": [
    "Below is the produced image file visualised. The RAWY column is time, as the image produced was in timing mode. The source is the long bright line we observe. Now we need to define the RARX1 and RAWX2 coordinate range for the strip of bright line which is the source, for this we can use js9 to get the coordination of the pixels."
   ]
  },
  {
   "cell_type": "code",
   "execution_count": 20,
   "id": "ebb5affe-24cd-4774-85e8-e6a1ee62bec1",
   "metadata": {
    "tags": []
   },
   "outputs": [
    {
     "data": {
      "image/png": "[encoded data removed]",
      "text/plain": [
       "<Figure size 2000x800 with 2 Axes>"
      ]
     },
     "metadata": {},
     "output_type": "display_data"
    }
   ],
   "source": [
    "# Open the FITS file\n",
    "with fits.open(out_IMFile) as hdul:\n",
    "    # Assuming the image data is in the primary extension\n",
    "    image_data = hdul[0].data\n",
    "\n",
    "# Plotting the image\n",
    "plt.figure(figsize=(20,8))\n",
    "plt.imshow(image_data, cmap='GnBu')  \n",
    "plt.colorbar()\n",
    "plt.title(out_IMFile)\n",
    "plt.xlabel('RAWX')\n",
    "plt.ylabel('RAWY')\n",
    "plt.show()"
   ]
  },
  {
   "cell_type": "markdown",
   "id": "2fa514da-394c-4239-b07f-42726aefdc96",
   "metadata": {},
   "source": [
    "Below we load the image produced above in js9 so we can determine our RAWX1 and RAWX2 coordinates."
   ]
  },
  {
   "cell_type": "code",
   "execution_count": 28,
   "id": "beaa32b8-110a-4078-b49b-f04779a3351a",
   "metadata": {
    "tags": []
   },
   "outputs": [
    {
     "data": {
      "application/vnd.jupyter.widget-view+json": {
       "model_id": "b4dd1ab265df408480ee7feba75c403e",
       "version_major": 2,
       "version_minor": 0
      },
      "text/plain": [
       "HTML(value=\"<iframe src='/datalabs/393fcf13918f01c7/js9/JS9-085e' width=600 height=700></iframe>\")"
      ]
     },
     "metadata": {},
     "output_type": "display_data"
    }
   ],
   "source": [
    "my_js9 = jpyjs9.JS9(width=600, height=700)"
   ]
  },
  {
   "cell_type": "code",
   "execution_count": 29,
   "id": "9e13b7fe-28a4-4bee-8e01-0a1037ca4b86",
   "metadata": {
    "tags": []
   },
   "outputs": [],
   "source": [
    "visualise(my_js9, out_IMFile)"
   ]
  },
  {
   "cell_type": "markdown",
   "id": "5583ba4a-fc29-487d-9b6c-ad01d14bff37",
   "metadata": {},
   "source": [
    "The values chosen in this case are taken from the paper of [Diez et al. (2023)](https://arxiv.org/pdf/2303.09631.pdf), where they study the same observation. However, the user can feel free to play around and experiment with their own values."
   ]
  },
  {
   "cell_type": "code",
   "execution_count": 21,
   "id": "62e8ef37-cb4c-47b6-86d2-2cdb33a9d4b2",
   "metadata": {
    "tags": []
   },
   "outputs": [],
   "source": [
    "rawX1src = 32 #RAWX1 of the source rectangle region (in pixels)\n",
    "rawX2src = 44 #RAWX2 of the source rectangle region (in pixels)"
   ]
  },
  {
   "cell_type": "code",
   "execution_count": 22,
   "id": "3cb2d3f8-e201-4550-ad8d-f94849cfc971",
   "metadata": {
    "tags": []
   },
   "outputs": [],
   "source": [
    "# Extract the source region lightcurve\n",
    "\n",
    "# Define some parameters for filtering the event file and define the lightcurve binning\n",
    "\n",
    "q_flag       = \"#XMMEA_EP\" # Quality flag for EPIC pn\n",
    "n_pattern    = 4           # Pattern selection\n",
    "pn_pi_min    = 500.        # Low energy range eV\n",
    "pn_pi_max    = 10000.      # High energy range eV\n",
    "lc_bin       = 283         # Lightcurve bin in secs\n",
    "\n",
    "# Define the output ligthcurve file name\n",
    "\n",
    "in_LCSRCFile = wdir+'/PN_source_lightcurve_raw_bin283sec.lc'   # Name of the output source lightcurve"
   ]
  },
  {
   "cell_type": "code",
   "execution_count": 52,
   "id": "cd77cf6e-5e98-4000-a798-7505ef75d648",
   "metadata": {
    "tags": []
   },
   "outputs": [
    {
     "name": "stdout",
     "output_type": "stream",
     "text": [
      "   Filter expression to use: #XMMEA_EP&&(PATTERN<=4)&&(RAWX in [32:44])&&(PI in [500.0:10000.0]) \n",
      "\n",
      "   SAS command to be executed: evselect, with arguments; \n",
      "\n"
     ]
    },
    {
     "data": {
      "text/plain": [
       "['table=/home/egulbaha/my_workspace/Vela-work/XMM-SAS-Datalabs-Paper/VelaX1data18Dec/PN_clean_evt.fits',\n",
       " 'energycolumn=PI',\n",
       " 'withrateset=yes',\n",
       " 'rateset=/home/egulbaha/my_workspace/Vela-work/XMM-SAS-Datalabs-Paper/VelaX1data18Dec/PN_source_lightcurve_raw_bin283sec.lc',\n",
       " 'timebinsize=283',\n",
       " 'maketimecolumn=yes',\n",
       " 'makeratecolumn=yes',\n",
       " 'expression=#XMMEA_EP&&(PATTERN<=4)&&(RAWX in [32:44])&&(PI in [500.0:10000.0])']"
      ]
     },
     "execution_count": 52,
     "metadata": {},
     "output_type": "execute_result"
    }
   ],
   "source": [
    "# SAS Command\n",
    "cmd        = \"evselect\" # SAS task to be executed                  \n",
    "\n",
    "# Arguments of SAS Command\n",
    "expression = f'{q_flag}&&(PATTERN<={n_pattern})&&(RAWX in [{rawX1src}:{rawX2src}])&&(PI in [{pn_pi_min}:{pn_pi_max}])'  # event filter expression\n",
    "inargs     = [f'table={table}','energycolumn=PI','withrateset=yes',f'rateset={in_LCSRCFile}',\n",
    "              f'timebinsize={lc_bin}','maketimecolumn=yes','makeratecolumn=yes',f'expression={expression}']\n",
    "\n",
    "print(\"   Filter expression to use: \"+expression+\" \\n\")\n",
    "print(\"   SAS command to be executed: \"+cmd+\", with arguments; \\n\")\n",
    "inargs"
   ]
  },
  {
   "cell_type": "code",
   "execution_count": 53,
   "id": "ba6a4ffe-e31d-4fd2-86f7-0e041b391775",
   "metadata": {
    "tags": []
   },
   "outputs": [],
   "source": [
    "%%capture\n",
    "w(cmd, inargs).run()"
   ]
  },
  {
   "cell_type": "markdown",
   "id": "2309c371-db1e-48ba-b22a-abb4396d2792",
   "metadata": {},
   "source": [
    "After extration we can plot the lightcurve of the selected source region:"
   ]
  },
  {
   "cell_type": "code",
   "execution_count": 24,
   "id": "437d8379-bb70-4442-a727-eae327e389c5",
   "metadata": {
    "tags": []
   },
   "outputs": [
    {
     "data": {
      "image/png": "[encoded data removed]",
      "text/plain": [
       "<Figure size 1200x600 with 1 Axes>"
      ]
     },
     "metadata": {},
     "output_type": "display_data"
    }
   ],
   "source": [
    "T0 = 52974.001 * 86400  # Reference time in seconds (convert from MJD)\n",
    "P_orb = 8.9 * 86400  # Orbital period in seconds (e.g., 1 days)\n",
    "name= [\"283 bin in sec\"]\n",
    "file_paths = [wdir+'/PN_source_lightcurve_raw_bin283sec.lc']\n",
    "plotLCmatplotlib2(file_paths, name, T0, P_orb, threshold=None, mjd_ref=58607)\n",
    "\n"
   ]
  },
  {
   "cell_type": "markdown",
   "id": "4781e256-b344-47eb-9cfa-741d8e0a3971",
   "metadata": {},
   "source": [
    "Next moving onto extracting the lightcurve of the background region, where again pixel coordinate values have been taken from [Diez et al. (2023)](https://arxiv.org/pdf/2303.09631.pdf):"
   ]
  },
  {
   "cell_type": "code",
   "execution_count": 25,
   "id": "27c77eb9-e54a-4d8d-a25e-92749663ef01",
   "metadata": {
    "tags": []
   },
   "outputs": [],
   "source": [
    "rawX1bkg = 3 #RAWX1 of the bkg rectangle region (in pixels)\n",
    "rawX2bkg = 5 #RAWX2 of the bkg rectangle region (in pixels)"
   ]
  },
  {
   "cell_type": "code",
   "execution_count": 28,
   "id": "6c152a86-7a19-46ed-a120-a43d099b4bd2",
   "metadata": {
    "tags": []
   },
   "outputs": [],
   "source": [
    "# Extract the background region lightcurve\n",
    "\n",
    "# Define some parameters for filtering the event file and define the lightcurve binning\n",
    "\n",
    "q_flag       = \"#XMMEA_EP\" # Quality flag for EPIC pn\n",
    "n_pattern    = 4           # Pattern selection\n",
    "pn_pi_min    = 500.        # Low energy range eV\n",
    "pn_pi_max    = 10000.      # High energy range eV\n",
    "lc_bin       = 283         # Lightcurve bin in secs\n",
    "\n",
    "# Define the output ligthcurve file name\n",
    "\n",
    "in_LCBKGFile = wdir+'/PN_lightcurve_background_raw_bin283sec.lc'   # Name of the output source lightcurve"
   ]
  },
  {
   "cell_type": "code",
   "execution_count": 29,
   "id": "39d97fd9-fe9b-4376-8508-3fe6e1d8832c",
   "metadata": {
    "tags": []
   },
   "outputs": [
    {
     "name": "stdout",
     "output_type": "stream",
     "text": [
      "   Filter expression to use: #XMMEA_EP&&(PATTERN<=4)&&(RAWX in [3:5])&&(PI in [500.0:10000.0]) \n",
      "\n",
      "   SAS command to be executed: evselect, with arguments; \n",
      "\n"
     ]
    },
    {
     "data": {
      "text/plain": [
       "['table=/home/egulbaha/my_workspace/Vela-work/XMM-SAS-Datalabs-Paper/VelaX1data18Dec/PN_clean_evt.fits',\n",
       " 'energycolumn=PI',\n",
       " 'withrateset=yes',\n",
       " 'rateset=/home/egulbaha/my_workspace/Vela-work/XMM-SAS-Datalabs-Paper/VelaX1data18Dec/PN_lightcurve_background_raw_bin283sec.lc',\n",
       " 'timebinsize=283',\n",
       " 'maketimecolumn=yes',\n",
       " 'makeratecolumn=yes',\n",
       " 'expression=#XMMEA_EP&&(PATTERN<=4)&&(RAWX in [3:5])&&(PI in [500.0:10000.0])']"
      ]
     },
     "execution_count": 29,
     "metadata": {},
     "output_type": "execute_result"
    }
   ],
   "source": [
    "# SAS Command\n",
    "cmd        = \"evselect\" # SAS task to be executed                  \n",
    "\n",
    "# Arguments of SAS Command\n",
    "expression = f'{q_flag}&&(PATTERN<={n_pattern})&&(RAWX in [{rawX1bkg}:{rawX2bkg}])&&(PI in [{pn_pi_min}:{pn_pi_max}])'  # event filter expression\n",
    "inargs     = [f'table={table}','energycolumn=PI','withrateset=yes',f'rateset={in_LCBKGFile}',\n",
    "              f'timebinsize={lc_bin}','maketimecolumn=yes','makeratecolumn=yes',f'expression={expression}']\n",
    "\n",
    "print(\"   Filter expression to use: \"+expression+\" \\n\")\n",
    "print(\"   SAS command to be executed: \"+cmd+\", with arguments; \\n\")\n",
    "inargs"
   ]
  },
  {
   "cell_type": "code",
   "execution_count": 30,
   "id": "9517e350-ecd3-4bc2-992f-9b0f450b6084",
   "metadata": {
    "tags": []
   },
   "outputs": [],
   "source": [
    "%%capture\n",
    "w(cmd, inargs).run()"
   ]
  },
  {
   "cell_type": "code",
   "execution_count": 31,
   "id": "461bdcf3-c5dd-4bad-81c5-487ca2d29fa8",
   "metadata": {
    "tags": []
   },
   "outputs": [
    {
     "data": {
      "image/png": "[encoded data removed]",
      "text/plain": [
       "<Figure size 1200x600 with 1 Axes>"
      ]
     },
     "metadata": {},
     "output_type": "display_data"
    }
   ],
   "source": [
    "T0 = 58607 * 86400  # Reference time in seconds (convert from MJD)\n",
    "P_orb = 1 * 86400  # Orbital period in seconds (e.g., 2 days)\n",
    "name= [\"Background with 283 bins in sec\"]\n",
    "file_paths = [in_LCBKGFile]\n",
    "plotLCmatplotlib2(file_paths, name, T0, P_orb, threshold=None, mjd_ref=58607)\n",
    "\n"
   ]
  },
  {
   "cell_type": "markdown",
   "id": "3756cc64-a51a-4268-b590-094776d56d40",
   "metadata": {},
   "source": [
    "For background extraction we can run the command `epiclccorr` to perform correction of the lightcurve. Hence the command requires as input both light curves (which are used to establish the binning of the final corrected background subtracted light curve) and the event file."
   ]
  },
  {
   "cell_type": "code",
   "execution_count": 32,
   "id": "68c010e2-5d64-4cf6-a36d-297af1b9c0ae",
   "metadata": {
    "tags": []
   },
   "outputs": [],
   "source": [
    "# Define the output corrected ligthcurve file name\n",
    "\n",
    "in_LCFile = wdir+'/PN_lccorr_bin1sec.lc'   # Name of the output corrected lightcurve"
   ]
  },
  {
   "cell_type": "code",
   "execution_count": 33,
   "id": "24dfb370-9f36-4299-b4de-81bd267238c6",
   "metadata": {
    "tags": []
   },
   "outputs": [
    {
     "name": "stdout",
     "output_type": "stream",
     "text": [
      "   SAS command to be executed: epiclccorr, with arguments; \n",
      "\n"
     ]
    },
    {
     "data": {
      "text/plain": [
       "['eventlist=/home/egulbaha/my_workspace/Vela-work/XMM-SAS-Datalabs-Paper/VelaX1data18Dec/PN_clean_evt.fits',\n",
       " 'srctslist=/home/egulbaha/my_workspace/Vela-work/XMM-SAS-Datalabs-Paper/VelaX1data18Dec/PN_source_lightcurve_raw_bin283sec.lc',\n",
       " 'outset=/home/egulbaha/my_workspace/Vela-work/XMM-SAS-Datalabs-Paper/VelaX1data18Dec/PN_lccorr_bin1sec.lc',\n",
       " 'bkgtslist=/home/egulbaha/my_workspace/Vela-work/XMM-SAS-Datalabs-Paper/VelaX1data18Dec/PN_lightcurve_background_raw_bin283sec.lc',\n",
       " 'withbkgset=yes',\n",
       " 'applyabsolutecorrections=yes']"
      ]
     },
     "execution_count": 33,
     "metadata": {},
     "output_type": "execute_result"
    }
   ],
   "source": [
    "# Correct the light curve with the SAS task epiclccorr\n",
    "\n",
    "# SAS Command\n",
    "cmd        = \"epiclccorr\" # SAS task to be executed                  \n",
    "\n",
    "# Arguments of SAS Command\n",
    "inargs     = [f'eventlist={table}',f'srctslist={in_LCSRCFile}',f'outset={in_LCFile}',\n",
    "              f'bkgtslist={in_LCBKGFile}','withbkgset=yes','applyabsolutecorrections=yes']\n",
    "\n",
    "print(\"   SAS command to be executed: \"+cmd+\", with arguments; \\n\")\n",
    "inargs"
   ]
  },
  {
   "cell_type": "code",
   "execution_count": 34,
   "id": "d0bc5692-d40a-4a4e-b9a9-25d47974bf1e",
   "metadata": {
    "tags": []
   },
   "outputs": [
    {
     "name": "stdout",
     "output_type": "stream",
     "text": [
      "Executing: \n",
      "epiclccorr srctslist='/home/egulbaha/my_workspace/Vela-work/XMM-SAS-Datalabs-Paper/VelaX1data18Dec/PN_source_lightcurve_raw_bin283sec.lc' eventlist='/home/egulbaha/my_workspace/Vela-work/XMM-SAS-Datalabs-Paper/VelaX1data18Dec/PN_clean_evt.fits' outset='/home/egulbaha/my_workspace/Vela-work/XMM-SAS-Datalabs-Paper/VelaX1data18Dec/PN_lccorr_bin1sec.lc' withbkgset='yes' bkgtslist='/home/egulbaha/my_workspace/Vela-work/XMM-SAS-Datalabs-Paper/VelaX1data18Dec/PN_lightcurve_background_raw_bin283sec.lc' applyabsolutecorrections='yes' withdetbins='no' detxbins='5' detybins='5' withsourcepos='no' sourcecoords='eqpos' sourcex='0' sourcey='0' allcamera='no' \n",
      "epiclccorr:- Executing (routine): epiclccorr srctslist=/home/egulbaha/my_workspace/Vela-work/XMM-SAS-Datalabs-Paper/VelaX1data18Dec/PN_source_lightcurve_raw_bin283sec.lc eventlist=/home/egulbaha/my_workspace/Vela-work/XMM-SAS-Datalabs-Paper/VelaX1data18Dec/PN_clean_evt.fits outset=/home/egulbaha/my_workspace/Vela-work/XMM-SAS-Datalabs-Paper/VelaX1data18Dec/PN_lccorr_bin1sec.lc bkgtslist=/home/egulbaha/my_workspace/Vela-work/XMM-SAS-Datalabs-Paper/VelaX1data18Dec/PN_lightcurve_background_raw_bin283sec.lc withbkgset=yes detxbins=5 detybins=5 withdetbins=no sourcecoords=eqpos sourcex=0 sourcey=0 withsourcepos=no applyabsolutecorrections=yes allcamera=no  -w 1 -V 4\n",
      "epiclccorr:- epiclccorr (epiclccorr-1.23.1)  [xmmsas_20230412_1735-21.0.0] started:  2025-01-07T09:06:58.000\n",
      "epiclccorr:- selected 15479435 rows from the source input table.\n",
      "epiclccorr:- Closing event file dataset\n",
      "epiclccorr:- Extraction region lies in CCD number 4\n",
      "epiclccorr:- Calculating the relative corrections for each CCD...\n",
      "epiclccorr:- STDGTI04 extension found \n",
      "epiclccorr:- Processing GTI extension: STDGTI04 corresponding to CCD 4\n",
      "epiclccorr:- Doing GTI Correction...\n",
      "epiclccorr:- GTI Extension[STDGTI04]\n",
      "epiclccorr:- Done.\n",
      "epiclccorr:- Doing Exposure and Dead Time Correction: /home/egulbaha/my_workspace/Vela-work/XMM-SAS-Datalabs-Paper/VelaX1data18Dec/PN_clean_evt.fits:EXPOSU04\n",
      "** epiclccorr: warning (PNTimingRand), Randomization for PN Timing or Burst not implemented\n",
      "epiclccorr:- closing data set /home/egulbaha/my_workspace/Vela-work/XMM-SAS-Datalabs-Paper/VelaX1data18Dec/PN_clean_evt.fits\n",
      "epiclccorr:- Exposure Correction Done.\n",
      "epiclccorr:- Relative Corrections Done.\n",
      "epiclccorr:- Calculating spectrum...\n",
      "epiclccorr:- Executing (invoked): evselect table=/home/egulbaha/my_workspace/Vela-work/XMM-SAS-Datalabs-Paper/VelaX1data18Dec/PN_clean_evt.fits:EVENTS filteredset=filtered.fits withfilteredset=no keepfilteroutput=no flagcolumn=EVFLAG flagbit=-1 destruct=yes dssblock='' expression='( CCDNR in [4] && gti(/home/egulbaha/my_workspace/Vela-work/XMM-SAS-Datalabs-Paper/VelaX1data18Dec/PN_source_lightcurve_raw_bin283sec.lc:STDGTI04,TIME) && FLAG&0xcfa0000==0 && FLAG&0xcfa0000==0 && PATTERN in (:4] && RAWX in [32:44] && PI in [500:) )' filtertype=expression cleandss=no updateexposure=yes filterexposure=yes writedss=yes blockstocopy='' attributestocopy='' energycolumn=PI zcolumn=WEIGHT zerrorcolumn=EWEIGHT withzerrorcolumn=no withzcolumn=no ignorelegallimits=no imageset=image.fits xcolumn=RAWX ycolumn=RAWY ximagebinsize=1 yimagebinsize=1 squarepixels=no ximagesize=600 yimagesize=600 imagebinning=imageSize ximagemin=1 ximagemax=640 withxranges=no yimagemin=1 yimagemax=640 withyranges=no imagedatatype=Real64 withimagedatatype=no raimagecenter=0 decimagecenter=0 withcelestialcenter=no withimageset=no spectrumset=spectrum_PN_source_lightcurve_raw_bin283sec.lc spectralbinsize=50 specchannelmin=0 specchannelmax=11999 withspecranges=no nonStandardSpec=no withspectrumset=yes rateset=rate.fits timecolumn=TIME timebinsize=1 timemin=0 timemax=1000 withtimeranges=no maketimecolumn=no makeratecolumn=no withrateset=no histogramset=histo.fits histogramcolumn=TIME histogrambinsize=1 histogrammin=0 histogrammax=1000 withhistoranges=no withhistogramset=no  -w 1 -V 4\n",
      "epiclccorr:- evselect (evselect-3.71.2)  [xmmsas_20230412_1735-21.0.0] started:  2025-01-07T09:08:05.000\n",
      "epiclccorr::evselect:- Executing (routine): evselect table=/home/egulbaha/my_workspace/Vela-work/XMM-SAS-Datalabs-Paper/VelaX1data18Dec/PN_clean_evt.fits:EVENTS filteredset=filtered.fits withfilteredset=no keepfilteroutput=no flagcolumn=EVFLAG flagbit=-1 destruct=yes dssblock='' expression='( CCDNR in [4] && gti(/home/egulbaha/my_workspace/Vela-work/XMM-SAS-Datalabs-Paper/VelaX1data18Dec/PN_source_lightcurve_raw_bin283sec.lc:STDGTI04,TIME) && FLAG&0xcfa0000==0 && FLAG&0xcfa0000==0 && PATTERN in (:4] && RAWX in [32:44] && PI in [500:) )' filtertype=expression cleandss=no updateexposure=yes filterexposure=yes writedss=yes blockstocopy='' attributestocopy='' energycolumn=PI zcolumn=WEIGHT zerrorcolumn=EWEIGHT withzerrorcolumn=no withzcolumn=no ignorelegallimits=no imageset=image.fits xcolumn=RAWX ycolumn=RAWY ximagebinsize=1 yimagebinsize=1 squarepixels=no ximagesize=600 yimagesize=600 imagebinning=imageSize ximagemin=1 ximagemax=640 withxranges=no yimagemin=1 yimagemax=640 withyranges=no imagedatatype=Real64 withimagedatatype=no raimagecenter=0 decimagecenter=0 withcelestialcenter=no withimageset=no spectrumset=spectrum_PN_source_lightcurve_raw_bin283sec.lc spectralbinsize=50 specchannelmin=0 specchannelmax=11999 withspecranges=no nonStandardSpec=no withspectrumset=yes rateset=rate.fits timecolumn=TIME timebinsize=1 timemin=0 timemax=1000 withtimeranges=no maketimecolumn=no makeratecolumn=no withrateset=no histogramset=histo.fits histogramcolumn=TIME histogrambinsize=1 histogrammin=0 histogrammax=1000 withhistoranges=no withhistogramset=no  -w 1 -V 4\n",
      "epiclccorr::evselect:- evselect (evselect-3.71.2)  [xmmsas_20230412_1735-21.0.0] started:  2025-01-07T09:08:05.000\n",
      "epiclccorr::evselect:- selected 15479435 rows from the input table.\n",
      "** epiclccorr::evselect: warning (NonStandardSpectrum), The standard PI channel range for PN is 0-20479. Detector matrices can not be created for this spectrum and spectral fitting will not be possible.\n",
      "epiclccorr::evselect:- evselect (evselect-3.71.2)  [xmmsas_20230412_1735-21.0.0] ended:    2025-01-07T09:08:23.000\n",
      "epiclccorr:- evselect (evselect-3.71.2)  [xmmsas_20230412_1735-21.0.0] ended:    2025-01-07T09:08:23.000\n",
      "epiclccorr:- Done.\n",
      "epiclccorr:- Calculating arfgen...\n",
      "epiclccorr:- Executing (invoked): arfgen spectrumset=spectrum_PN_source_lightcurve_raw_bin283sec.lc rmfset=response.ds withrmfset=no arfset=src_ancillary.ds detmaptype=flat detmaparray=detmapfile.ds: detxoffset=1200 detyoffset=1200 withdetbounds=no detxbins=5 detybins=5 withdetbins=no psfenergy=2 filterdss=yes filteredset=filteredpixellist.ds withfilteredset=no sourcecoords=eqpos sourcex=0 sourcey=0 withsourcepos=no extendedsource=no modeleffarea=yes modelquantumeff=yes modelfiltertrans=yes modelcontamination=yes modelee=yes modelootcorr=yes applyxcaladjustment=no applyabsfluxcorr=no eegridfactor=100 withbadpixcorr=yes badpixlocation=/home/egulbaha/my_workspace/Vela-work/XMM-SAS-Datalabs-Paper/VelaX1data18Dec/PN_clean_evt.fits psfmodel=ELLBETA badpixelresolution=2 withbadpixres=no badpixmaptype=flat setbackscale=yes keeparfset=yes useodfatt=no ignoreoutoffov=yes crossreg_spectrumset='' crossregionarf=no  -w 1 -V 4\n",
      "epiclccorr:- arfgen (arfgen-1.104)  [xmmsas_20230412_1735-21.0.0] started:  2025-01-07T09:08:23.000\n",
      "epiclccorr::arfgen:- Executing (routine): arfgen spectrumset=spectrum_PN_source_lightcurve_raw_bin283sec.lc rmfset=response.ds withrmfset=no arfset=src_ancillary.ds detmaptype=flat detmaparray=detmapfile.ds: detxoffset=1200 detyoffset=1200 withdetbounds=no detxbins=5 detybins=5 withdetbins=no psfenergy=2 filterdss=yes filteredset=filteredpixellist.ds withfilteredset=no sourcecoords=eqpos sourcex=0 sourcey=0 withsourcepos=no extendedsource=no modeleffarea=yes modelquantumeff=yes modelfiltertrans=yes modelcontamination=yes modelee=yes modelootcorr=yes applyxcaladjustment=no applyabsfluxcorr=no eegridfactor=100 withbadpixcorr=yes badpixlocation=/home/egulbaha/my_workspace/Vela-work/XMM-SAS-Datalabs-Paper/VelaX1data18Dec/PN_clean_evt.fits psfmodel=ELLBETA badpixelresolution=2 withbadpixres=no badpixmaptype=flat setbackscale=yes keeparfset=yes useodfatt=no ignoreoutoffov=yes crossreg_spectrumset='' crossregionarf=no  -w 1 -V 4\n",
      "epiclccorr::arfgen:- arfgen (arfgen-1.104)  [xmmsas_20230412_1735-21.0.0] started:  2025-01-07T09:08:23.000\n",
      "epiclccorr::arfgen:- Opening spectrumset spectrum_PN_source_lightcurve_raw_bin283sec.lc...\n",
      "epiclccorr::arfgen:- Closing spectrumset spectrum_PN_source_lightcurve_raw_bin283sec.lc.\n",
      "Could not open file 'EPN_MODEPARAM_0003.CCF' for reading in:\n",
      "  /home/egulbaha/data/user/pub\n",
      "  /home/egulbaha/my_workspace/Vela-work/XMM-SAS-Datalabs-Paper/VelaX1data18Dec\n",
      "  .\n",
      "\n",
      "** epiclccorr: error (invalidInvocation), Execution failed of arfgen (arfgen-1.104)  [xmmsas_20230412_1735-21.0.0]\n"
     ]
    },
    {
     "ename": "CalledProcessError",
     "evalue": "Command 'epiclccorr srctslist='/home/egulbaha/my_workspace/Vela-work/XMM-SAS-Datalabs-Paper/VelaX1data18Dec/PN_source_lightcurve_raw_bin283sec.lc' eventlist='/home/egulbaha/my_workspace/Vela-work/XMM-SAS-Datalabs-Paper/VelaX1data18Dec/PN_clean_evt.fits' outset='/home/egulbaha/my_workspace/Vela-work/XMM-SAS-Datalabs-Paper/VelaX1data18Dec/PN_lccorr_bin1sec.lc' withbkgset='yes' bkgtslist='/home/egulbaha/my_workspace/Vela-work/XMM-SAS-Datalabs-Paper/VelaX1data18Dec/PN_lightcurve_background_raw_bin283sec.lc' applyabsolutecorrections='yes' withdetbins='no' detxbins='5' detybins='5' withsourcepos='no' sourcecoords='eqpos' sourcex='0' sourcey='0' allcamera='no' ' returned non-zero exit status 1.",
     "output_type": "error",
     "traceback": [
      "\u001b[0;31m---------------------------------------------------------------------------\u001b[0m",
      "\u001b[0;31mCalledProcessError\u001b[0m                        Traceback (most recent call last)",
      "Cell \u001b[0;32mIn[34], line 1\u001b[0m\n\u001b[0;32m----> 1\u001b[0m \u001b[43mw\u001b[49m\u001b[43m(\u001b[49m\u001b[43mcmd\u001b[49m\u001b[43m,\u001b[49m\u001b[43m \u001b[49m\u001b[43minargs\u001b[49m\u001b[43m)\u001b[49m\u001b[38;5;241;43m.\u001b[39;49m\u001b[43mrun\u001b[49m\u001b[43m(\u001b[49m\u001b[43m)\u001b[49m\n",
      "File \u001b[0;32m/usr/local/SAS/xmmsas_20230412_1735/lib/python/pysas/wrapper.py:49\u001b[0m, in \u001b[0;36mWrapper.run\u001b[0;34m(self)\u001b[0m\n\u001b[1;32m     47\u001b[0m t\u001b[38;5;241m.\u001b[39mreadparfile()\n\u001b[1;32m     48\u001b[0m t\u001b[38;5;241m.\u001b[39mprocessargs()\n\u001b[0;32m---> 49\u001b[0m \u001b[43mt\u001b[49m\u001b[38;5;241;43m.\u001b[39;49m\u001b[43mruntask\u001b[49m\u001b[43m(\u001b[49m\u001b[43m)\u001b[49m\n",
      "File \u001b[0;32m/usr/local/SAS/xmmsas_20230412_1735/lib/python/pysas/sastask.py:329\u001b[0m, in \u001b[0;36mMyTask.runtask\u001b[0;34m(self)\u001b[0m\n\u001b[1;32m    327\u001b[0m     \u001b[38;5;28;01mreturn\u001b[39;00m \u001b[38;5;28mself\u001b[39m\u001b[38;5;241m.\u001b[39mExit\n\u001b[1;32m    328\u001b[0m r \u001b[38;5;241m=\u001b[39m RunTask(\u001b[38;5;28mself\u001b[39m\u001b[38;5;241m.\u001b[39mtaskname, \u001b[38;5;28mself\u001b[39m\u001b[38;5;241m.\u001b[39miparsdic,\u001b[38;5;28mself\u001b[39m\u001b[38;5;241m.\u001b[39mlogFile)\n\u001b[0;32m--> 329\u001b[0m \u001b[43mr\u001b[49m\u001b[38;5;241;43m.\u001b[39;49m\u001b[43mrun\u001b[49m\u001b[43m(\u001b[49m\u001b[43m)\u001b[49m\n",
      "File \u001b[0;32m/usr/local/SAS/xmmsas_20230412_1735/lib/python/pysas/runtask.py:151\u001b[0m, in \u001b[0;36mRunTask.run\u001b[0;34m(self)\u001b[0m\n\u001b[1;32m    149\u001b[0m     \u001b[38;5;28;01mif\u001b[39;00m \u001b[38;5;28mself\u001b[39m\u001b[38;5;241m.\u001b[39mlogFile \u001b[38;5;241m!=\u001b[39m \u001b[38;5;124m'\u001b[39m\u001b[38;5;124mDEFAULT\u001b[39m\u001b[38;5;124m'\u001b[39m:\n\u001b[1;32m    150\u001b[0m         \u001b[38;5;28mself\u001b[39m\u001b[38;5;241m.\u001b[39mstdoutFile\u001b[38;5;241m.\u001b[39mclose()\n\u001b[0;32m--> 151\u001b[0m     \u001b[38;5;28;01mraise\u001b[39;00m subprocess\u001b[38;5;241m.\u001b[39mCalledProcessError(p\u001b[38;5;241m.\u001b[39mreturncode, p\u001b[38;5;241m.\u001b[39margs)\n\u001b[1;32m    153\u001b[0m \u001b[38;5;28;01mif\u001b[39;00m \u001b[38;5;28mself\u001b[39m\u001b[38;5;241m.\u001b[39mlogFile \u001b[38;5;241m!=\u001b[39m \u001b[38;5;124m'\u001b[39m\u001b[38;5;124mDEFAULT\u001b[39m\u001b[38;5;124m'\u001b[39m:\n\u001b[1;32m    154\u001b[0m     \u001b[38;5;28mself\u001b[39m\u001b[38;5;241m.\u001b[39mstdoutFile\u001b[38;5;241m.\u001b[39mclose()\n",
      "\u001b[0;31mCalledProcessError\u001b[0m: Command 'epiclccorr srctslist='/home/egulbaha/my_workspace/Vela-work/XMM-SAS-Datalabs-Paper/VelaX1data18Dec/PN_source_lightcurve_raw_bin283sec.lc' eventlist='/home/egulbaha/my_workspace/Vela-work/XMM-SAS-Datalabs-Paper/VelaX1data18Dec/PN_clean_evt.fits' outset='/home/egulbaha/my_workspace/Vela-work/XMM-SAS-Datalabs-Paper/VelaX1data18Dec/PN_lccorr_bin1sec.lc' withbkgset='yes' bkgtslist='/home/egulbaha/my_workspace/Vela-work/XMM-SAS-Datalabs-Paper/VelaX1data18Dec/PN_lightcurve_background_raw_bin283sec.lc' applyabsolutecorrections='yes' withdetbins='no' detxbins='5' detybins='5' withsourcepos='no' sourcecoords='eqpos' sourcex='0' sourcey='0' allcamera='no' ' returned non-zero exit status 1."
     ]
    }
   ],
   "source": [
    "\n",
    "w(cmd, inargs).run()"
   ]
  },
  {
   "cell_type": "markdown",
   "id": "fcdb1018-0568-4a08-8cb6-b85e3d8cdc38",
   "metadata": {},
   "source": [
    "Let us visualize all the lightcurves produced using matplotlib lightcurve plotting function define by us through the plotLC python file, where we can bin some of the data for a cleaner look:"
   ]
  },
  {
   "cell_type": "code",
   "execution_count": 167,
   "id": "5a41ab4e-b095-4e6f-8c18-f59b2bc8c2d0",
   "metadata": {
    "collapsed": true,
    "jupyter": {
     "outputs_hidden": true
    },
    "tags": []
   },
   "outputs": [
    {
     "ename": "FileNotFoundError",
     "evalue": "[Errno 2] No such file or directory: '/home/egulbaha/my_workspace/xmm_sas_datalabs/data/VelaJupyter04Dec/PN_lccorr_bin1sec.lc'",
     "output_type": "error",
     "traceback": [
      "\u001b[0;31m---------------------------------------------------------------------------\u001b[0m",
      "\u001b[0;31mFileNotFoundError\u001b[0m                         Traceback (most recent call last)",
      "Cell \u001b[0;32mIn[167], line 9\u001b[0m\n\u001b[1;32m      6\u001b[0m fileNames \u001b[38;5;241m=\u001b[39m [in_LCFile, in_LCSRCFile, in_LCBKGFile]\n\u001b[1;32m      7\u001b[0m names \u001b[38;5;241m=\u001b[39m [\u001b[38;5;124m'\u001b[39m\u001b[38;5;124mcorrected\u001b[39m\u001b[38;5;124m'\u001b[39m, \u001b[38;5;124m'\u001b[39m\u001b[38;5;124msource\u001b[39m\u001b[38;5;124m'\u001b[39m, \u001b[38;5;124m'\u001b[39m\u001b[38;5;124mbackground\u001b[39m\u001b[38;5;124m'\u001b[39m]\n\u001b[0;32m----> 9\u001b[0m \u001b[43mplotLCmatplotlib\u001b[49m\u001b[43m(\u001b[49m\u001b[43mfileNames\u001b[49m\u001b[43m,\u001b[49m\u001b[43m \u001b[49m\u001b[43mnames\u001b[49m\u001b[43m,\u001b[49m\u001b[43m \u001b[49m\u001b[43mthreshold\u001b[49m\u001b[43m \u001b[49m\u001b[38;5;241;43m=\u001b[39;49m\u001b[43m \u001b[49m\u001b[43mpn_threshold\u001b[49m\u001b[43m,\u001b[49m\u001b[43m \u001b[49m\u001b[43mbin_size\u001b[49m\u001b[43m \u001b[49m\u001b[38;5;241;43m=\u001b[39;49m\u001b[43m \u001b[49m\u001b[43mbinsize\u001b[49m\u001b[43m)\u001b[49m      \n",
      "File \u001b[0;32m/media/user/xmm_sas_datalabs/notebooks/tools/plotLC.py:33\u001b[0m, in \u001b[0;36mplotLCmatplotlib\u001b[0;34m(fileNames, names, threshold, bin_size)\u001b[0m\n\u001b[1;32m     31\u001b[0m \u001b[38;5;28;01mfor\u001b[39;00m fileName, name \u001b[38;5;129;01min\u001b[39;00m \u001b[38;5;28mzip\u001b[39m(fileNames, names):\n\u001b[1;32m     32\u001b[0m     \u001b[38;5;28;01mif\u001b[39;00m fileName \u001b[38;5;241m!=\u001b[39m \u001b[38;5;124m\"\u001b[39m\u001b[38;5;124mNOT FOUND\u001b[39m\u001b[38;5;124m\"\u001b[39m:\n\u001b[0;32m---> 33\u001b[0m         fitsFile \u001b[38;5;241m=\u001b[39m \u001b[43mfits\u001b[49m\u001b[38;5;241;43m.\u001b[39;49m\u001b[43mopen\u001b[49m\u001b[43m(\u001b[49m\u001b[43mfileName\u001b[49m\u001b[43m)\u001b[49m\n\u001b[1;32m     34\u001b[0m         prihdu   \u001b[38;5;241m=\u001b[39m fitsFile[\u001b[38;5;241m1\u001b[39m]\u001b[38;5;241m.\u001b[39mheader\n\u001b[1;32m     35\u001b[0m         \u001b[38;5;28;01mif\u001b[39;00m (\u001b[38;5;124m'\u001b[39m\u001b[38;5;124mCUTVAL\u001b[39m\u001b[38;5;124m'\u001b[39m \u001b[38;5;129;01min\u001b[39;00m prihdu):\n",
      "File \u001b[0;32m/opt/miniconda/lib/python3.11/site-packages/astropy/io/fits/hdu/hdulist.py:222\u001b[0m, in \u001b[0;36mfitsopen\u001b[0;34m(name, mode, memmap, save_backup, cache, lazy_load_hdus, ignore_missing_simple, use_fsspec, fsspec_kwargs, decompress_in_memory, **kwargs)\u001b[0m\n\u001b[1;32m    219\u001b[0m \u001b[38;5;28;01mif\u001b[39;00m \u001b[38;5;129;01mnot\u001b[39;00m name:\n\u001b[1;32m    220\u001b[0m     \u001b[38;5;28;01mraise\u001b[39;00m \u001b[38;5;167;01mValueError\u001b[39;00m(\u001b[38;5;124mf\u001b[39m\u001b[38;5;124m\"\u001b[39m\u001b[38;5;124mEmpty filename: \u001b[39m\u001b[38;5;132;01m{\u001b[39;00mname\u001b[38;5;132;01m!r}\u001b[39;00m\u001b[38;5;124m\"\u001b[39m)\n\u001b[0;32m--> 222\u001b[0m \u001b[38;5;28;01mreturn\u001b[39;00m \u001b[43mHDUList\u001b[49m\u001b[38;5;241;43m.\u001b[39;49m\u001b[43mfromfile\u001b[49m\u001b[43m(\u001b[49m\n\u001b[1;32m    223\u001b[0m \u001b[43m    \u001b[49m\u001b[43mname\u001b[49m\u001b[43m,\u001b[49m\n\u001b[1;32m    224\u001b[0m \u001b[43m    \u001b[49m\u001b[43mmode\u001b[49m\u001b[43m,\u001b[49m\n\u001b[1;32m    225\u001b[0m \u001b[43m    \u001b[49m\u001b[43mmemmap\u001b[49m\u001b[43m,\u001b[49m\n\u001b[1;32m    226\u001b[0m \u001b[43m    \u001b[49m\u001b[43msave_backup\u001b[49m\u001b[43m,\u001b[49m\n\u001b[1;32m    227\u001b[0m \u001b[43m    \u001b[49m\u001b[43mcache\u001b[49m\u001b[43m,\u001b[49m\n\u001b[1;32m    228\u001b[0m \u001b[43m    \u001b[49m\u001b[43mlazy_load_hdus\u001b[49m\u001b[43m,\u001b[49m\n\u001b[1;32m    229\u001b[0m \u001b[43m    \u001b[49m\u001b[43mignore_missing_simple\u001b[49m\u001b[43m,\u001b[49m\n\u001b[1;32m    230\u001b[0m \u001b[43m    \u001b[49m\u001b[43muse_fsspec\u001b[49m\u001b[38;5;241;43m=\u001b[39;49m\u001b[43muse_fsspec\u001b[49m\u001b[43m,\u001b[49m\n\u001b[1;32m    231\u001b[0m \u001b[43m    \u001b[49m\u001b[43mfsspec_kwargs\u001b[49m\u001b[38;5;241;43m=\u001b[39;49m\u001b[43mfsspec_kwargs\u001b[49m\u001b[43m,\u001b[49m\n\u001b[1;32m    232\u001b[0m \u001b[43m    \u001b[49m\u001b[43mdecompress_in_memory\u001b[49m\u001b[38;5;241;43m=\u001b[39;49m\u001b[43mdecompress_in_memory\u001b[49m\u001b[43m,\u001b[49m\n\u001b[1;32m    233\u001b[0m \u001b[43m    \u001b[49m\u001b[38;5;241;43m*\u001b[39;49m\u001b[38;5;241;43m*\u001b[39;49m\u001b[43mkwargs\u001b[49m\u001b[43m,\u001b[49m\n\u001b[1;32m    234\u001b[0m \u001b[43m\u001b[49m\u001b[43m)\u001b[49m\n",
      "File \u001b[0;32m/opt/miniconda/lib/python3.11/site-packages/astropy/io/fits/hdu/hdulist.py:486\u001b[0m, in \u001b[0;36mHDUList.fromfile\u001b[0;34m(cls, fileobj, mode, memmap, save_backup, cache, lazy_load_hdus, ignore_missing_simple, **kwargs)\u001b[0m\n\u001b[1;32m    467\u001b[0m \u001b[38;5;129m@classmethod\u001b[39m\n\u001b[1;32m    468\u001b[0m \u001b[38;5;28;01mdef\u001b[39;00m \u001b[38;5;21mfromfile\u001b[39m(\n\u001b[1;32m    469\u001b[0m     \u001b[38;5;28mcls\u001b[39m,\n\u001b[0;32m   (...)\u001b[0m\n\u001b[1;32m    477\u001b[0m     \u001b[38;5;241m*\u001b[39m\u001b[38;5;241m*\u001b[39mkwargs,\n\u001b[1;32m    478\u001b[0m ):\n\u001b[1;32m    479\u001b[0m \u001b[38;5;250m    \u001b[39m\u001b[38;5;124;03m\"\"\"\u001b[39;00m\n\u001b[1;32m    480\u001b[0m \u001b[38;5;124;03m    Creates an `HDUList` instance from a file-like object.\u001b[39;00m\n\u001b[1;32m    481\u001b[0m \n\u001b[0;32m   (...)\u001b[0m\n\u001b[1;32m    484\u001b[0m \u001b[38;5;124;03m    documentation for details of the parameters accepted by this method).\u001b[39;00m\n\u001b[1;32m    485\u001b[0m \u001b[38;5;124;03m    \"\"\"\u001b[39;00m\n\u001b[0;32m--> 486\u001b[0m     \u001b[38;5;28;01mreturn\u001b[39;00m \u001b[38;5;28;43mcls\u001b[39;49m\u001b[38;5;241;43m.\u001b[39;49m\u001b[43m_readfrom\u001b[49m\u001b[43m(\u001b[49m\n\u001b[1;32m    487\u001b[0m \u001b[43m        \u001b[49m\u001b[43mfileobj\u001b[49m\u001b[38;5;241;43m=\u001b[39;49m\u001b[43mfileobj\u001b[49m\u001b[43m,\u001b[49m\n\u001b[1;32m    488\u001b[0m \u001b[43m        \u001b[49m\u001b[43mmode\u001b[49m\u001b[38;5;241;43m=\u001b[39;49m\u001b[43mmode\u001b[49m\u001b[43m,\u001b[49m\n\u001b[1;32m    489\u001b[0m \u001b[43m        \u001b[49m\u001b[43mmemmap\u001b[49m\u001b[38;5;241;43m=\u001b[39;49m\u001b[43mmemmap\u001b[49m\u001b[43m,\u001b[49m\n\u001b[1;32m    490\u001b[0m \u001b[43m        \u001b[49m\u001b[43msave_backup\u001b[49m\u001b[38;5;241;43m=\u001b[39;49m\u001b[43msave_backup\u001b[49m\u001b[43m,\u001b[49m\n\u001b[1;32m    491\u001b[0m \u001b[43m        \u001b[49m\u001b[43mcache\u001b[49m\u001b[38;5;241;43m=\u001b[39;49m\u001b[43mcache\u001b[49m\u001b[43m,\u001b[49m\n\u001b[1;32m    492\u001b[0m \u001b[43m        \u001b[49m\u001b[43mignore_missing_simple\u001b[49m\u001b[38;5;241;43m=\u001b[39;49m\u001b[43mignore_missing_simple\u001b[49m\u001b[43m,\u001b[49m\n\u001b[1;32m    493\u001b[0m \u001b[43m        \u001b[49m\u001b[43mlazy_load_hdus\u001b[49m\u001b[38;5;241;43m=\u001b[39;49m\u001b[43mlazy_load_hdus\u001b[49m\u001b[43m,\u001b[49m\n\u001b[1;32m    494\u001b[0m \u001b[43m        \u001b[49m\u001b[38;5;241;43m*\u001b[39;49m\u001b[38;5;241;43m*\u001b[39;49m\u001b[43mkwargs\u001b[49m\u001b[43m,\u001b[49m\n\u001b[1;32m    495\u001b[0m \u001b[43m    \u001b[49m\u001b[43m)\u001b[49m\n",
      "File \u001b[0;32m/opt/miniconda/lib/python3.11/site-packages/astropy/io/fits/hdu/hdulist.py:1168\u001b[0m, in \u001b[0;36mHDUList._readfrom\u001b[0;34m(cls, fileobj, data, mode, memmap, cache, lazy_load_hdus, ignore_missing_simple, use_fsspec, fsspec_kwargs, decompress_in_memory, **kwargs)\u001b[0m\n\u001b[1;32m   1165\u001b[0m \u001b[38;5;28;01mif\u001b[39;00m fileobj \u001b[38;5;129;01mis\u001b[39;00m \u001b[38;5;129;01mnot\u001b[39;00m \u001b[38;5;28;01mNone\u001b[39;00m:\n\u001b[1;32m   1166\u001b[0m     \u001b[38;5;28;01mif\u001b[39;00m \u001b[38;5;129;01mnot\u001b[39;00m \u001b[38;5;28misinstance\u001b[39m(fileobj, _File):\n\u001b[1;32m   1167\u001b[0m         \u001b[38;5;66;03m# instantiate a FITS file object (ffo)\u001b[39;00m\n\u001b[0;32m-> 1168\u001b[0m         fileobj \u001b[38;5;241m=\u001b[39m \u001b[43m_File\u001b[49m\u001b[43m(\u001b[49m\n\u001b[1;32m   1169\u001b[0m \u001b[43m            \u001b[49m\u001b[43mfileobj\u001b[49m\u001b[43m,\u001b[49m\n\u001b[1;32m   1170\u001b[0m \u001b[43m            \u001b[49m\u001b[43mmode\u001b[49m\u001b[38;5;241;43m=\u001b[39;49m\u001b[43mmode\u001b[49m\u001b[43m,\u001b[49m\n\u001b[1;32m   1171\u001b[0m \u001b[43m            \u001b[49m\u001b[43mmemmap\u001b[49m\u001b[38;5;241;43m=\u001b[39;49m\u001b[43mmemmap\u001b[49m\u001b[43m,\u001b[49m\n\u001b[1;32m   1172\u001b[0m \u001b[43m            \u001b[49m\u001b[43mcache\u001b[49m\u001b[38;5;241;43m=\u001b[39;49m\u001b[43mcache\u001b[49m\u001b[43m,\u001b[49m\n\u001b[1;32m   1173\u001b[0m \u001b[43m            \u001b[49m\u001b[43muse_fsspec\u001b[49m\u001b[38;5;241;43m=\u001b[39;49m\u001b[43muse_fsspec\u001b[49m\u001b[43m,\u001b[49m\n\u001b[1;32m   1174\u001b[0m \u001b[43m            \u001b[49m\u001b[43mfsspec_kwargs\u001b[49m\u001b[38;5;241;43m=\u001b[39;49m\u001b[43mfsspec_kwargs\u001b[49m\u001b[43m,\u001b[49m\n\u001b[1;32m   1175\u001b[0m \u001b[43m            \u001b[49m\u001b[43mdecompress_in_memory\u001b[49m\u001b[38;5;241;43m=\u001b[39;49m\u001b[43mdecompress_in_memory\u001b[49m\u001b[43m,\u001b[49m\n\u001b[1;32m   1176\u001b[0m \u001b[43m        \u001b[49m\u001b[43m)\u001b[49m\n\u001b[1;32m   1177\u001b[0m     \u001b[38;5;66;03m# The Astropy mode is determined by the _File initializer if the\u001b[39;00m\n\u001b[1;32m   1178\u001b[0m     \u001b[38;5;66;03m# supplied mode was None\u001b[39;00m\n\u001b[1;32m   1179\u001b[0m     mode \u001b[38;5;241m=\u001b[39m fileobj\u001b[38;5;241m.\u001b[39mmode\n",
      "File \u001b[0;32m/opt/miniconda/lib/python3.11/site-packages/astropy/io/fits/file.py:218\u001b[0m, in \u001b[0;36m_File.__init__\u001b[0;34m(self, fileobj, mode, memmap, overwrite, cache, use_fsspec, fsspec_kwargs, decompress_in_memory)\u001b[0m\n\u001b[1;32m    216\u001b[0m     \u001b[38;5;28mself\u001b[39m\u001b[38;5;241m.\u001b[39m_open_fileobj(fileobj, mode, overwrite)\n\u001b[1;32m    217\u001b[0m \u001b[38;5;28;01melif\u001b[39;00m \u001b[38;5;28misinstance\u001b[39m(fileobj, (\u001b[38;5;28mstr\u001b[39m, \u001b[38;5;28mbytes\u001b[39m)):\n\u001b[0;32m--> 218\u001b[0m     \u001b[38;5;28;43mself\u001b[39;49m\u001b[38;5;241;43m.\u001b[39;49m\u001b[43m_open_filename\u001b[49m\u001b[43m(\u001b[49m\u001b[43mfileobj\u001b[49m\u001b[43m,\u001b[49m\u001b[43m \u001b[49m\u001b[43mmode\u001b[49m\u001b[43m,\u001b[49m\u001b[43m \u001b[49m\u001b[43moverwrite\u001b[49m\u001b[43m)\u001b[49m\n\u001b[1;32m    219\u001b[0m \u001b[38;5;28;01melse\u001b[39;00m:\n\u001b[1;32m    220\u001b[0m     \u001b[38;5;28mself\u001b[39m\u001b[38;5;241m.\u001b[39m_open_filelike(fileobj, mode, overwrite)\n",
      "File \u001b[0;32m/opt/miniconda/lib/python3.11/site-packages/astropy/io/fits/file.py:651\u001b[0m, in \u001b[0;36m_File._open_filename\u001b[0;34m(self, filename, mode, overwrite)\u001b[0m\n\u001b[1;32m    648\u001b[0m ext \u001b[38;5;241m=\u001b[39m os\u001b[38;5;241m.\u001b[39mpath\u001b[38;5;241m.\u001b[39msplitext(\u001b[38;5;28mself\u001b[39m\u001b[38;5;241m.\u001b[39mname)[\u001b[38;5;241m1\u001b[39m]\n\u001b[1;32m    650\u001b[0m \u001b[38;5;28;01mif\u001b[39;00m \u001b[38;5;129;01mnot\u001b[39;00m \u001b[38;5;28mself\u001b[39m\u001b[38;5;241m.\u001b[39m_try_read_compressed(\u001b[38;5;28mself\u001b[39m\u001b[38;5;241m.\u001b[39mname, magic, mode, ext\u001b[38;5;241m=\u001b[39mext):\n\u001b[0;32m--> 651\u001b[0m     \u001b[38;5;28mself\u001b[39m\u001b[38;5;241m.\u001b[39m_file \u001b[38;5;241m=\u001b[39m \u001b[38;5;28mopen\u001b[39m(\u001b[38;5;28mself\u001b[39m\u001b[38;5;241m.\u001b[39mname, IO_FITS_MODES[mode])\n\u001b[1;32m    652\u001b[0m     \u001b[38;5;28mself\u001b[39m\u001b[38;5;241m.\u001b[39mclose_on_error \u001b[38;5;241m=\u001b[39m \u001b[38;5;28;01mTrue\u001b[39;00m\n\u001b[1;32m    654\u001b[0m \u001b[38;5;66;03m# Make certain we're back at the beginning of the file\u001b[39;00m\n\u001b[1;32m    655\u001b[0m \u001b[38;5;66;03m# BZ2File does not support seek when the file is open for writing, but\u001b[39;00m\n\u001b[1;32m    656\u001b[0m \u001b[38;5;66;03m# when opening a file for write, bz2.BZ2File always truncates anyway.\u001b[39;00m\n",
      "\u001b[0;31mFileNotFoundError\u001b[0m: [Errno 2] No such file or directory: '/home/egulbaha/my_workspace/xmm_sas_datalabs/data/VelaJupyter04Dec/PN_lccorr_bin1sec.lc'"
     ]
    },
    {
     "data": {
      "text/plain": [
       "<Figure size 2000x800 with 0 Axes>"
      ]
     },
     "metadata": {},
     "output_type": "display_data"
    }
   ],
   "source": [
    "# Inspect the light curves\n",
    "\n",
    "pn_threshold = 100          # cts/sec (only used here for display purposes. Draws a horizontal line at this value)\n",
    "plt.figure(figsize=(20,8))  # Size of figure\n",
    "binsize= 50\n",
    "fileNames = [in_LCFile, in_LCSRCFile, in_LCBKGFile]\n",
    "names = ['corrected', 'source', 'background']\n",
    "\n",
    "plotLCmatplotlib(fileNames, names, threshold = pn_threshold, bin_size = binsize)      \n"
   ]
  },
  {
   "cell_type": "markdown",
   "id": "36f3f28a-e070-4ff0-85f6-5b43ca3e019a",
   "metadata": {},
   "source": [
    "* ### Checking for Pile-Up\n",
    "\n",
    "\"Pile-up\" happens when the detector registers multiple X-ray photons within a single readout frame as a single event. This occurs when the X-ray flux is so high that the detector cannot distinguish individual photons, and their signals overlap or pile up.\n",
    "\n",
    "In XMM-Newton, each incoming X-ray photon is converted into an electronic signal. However, if multiple photons arrive at the detector in rapid succession, their signals may overlap, leading to an inaccurate representation of the detected X-ray events. This phenomenon can distort the measured X-ray spectra and impact the accuracy of scientific observations.\n",
    "\n",
    "This step is usually advised to be applied before extracting the light curves as done on the previous step, however as the source we look at is immensely bright, the pile-up effect will not have an significant impact on the output light curve. However, we apply it here as before the extraction of the spectrum it is important, otherwise it could lead to false output with the spectrum having higher flux at high energies."
   ]
  },
  {
   "cell_type": "code",
   "execution_count": 35,
   "id": "e411f12c-e873-44d5-b205-205150d4179e",
   "metadata": {
    "tags": []
   },
   "outputs": [],
   "source": [
    "# Define some parameters for filtering the event file\n",
    "rawX1src = 32\n",
    "rawX2src = 44\n",
    "pn_pi_min    = 550.        # Low energy range eV\n",
    "pn_pi_max    = 10000.      # High energy range eV\n",
    "\n",
    "# Define the output file name\n",
    "\n",
    "filtered_output = wdir+'/PN_filtered_'+str(rawX1src)+'-'+str(rawX2src)+'.evt' "
   ]
  },
  {
   "cell_type": "code",
   "execution_count": 39,
   "id": "1cf88085-539c-4b9c-a81c-7b968539a2bb",
   "metadata": {
    "tags": []
   },
   "outputs": [
    {
     "name": "stdout",
     "output_type": "stream",
     "text": [
      "   Filter expression to use: (RAWX in [32:44])&&(PI in [550.0:10000.0]) \n",
      "\n",
      "   SAS command to be executed: evselect, with arguments; \n",
      "\n"
     ]
    },
    {
     "data": {
      "text/plain": [
       "['table=/home/egulbaha/my_workspace/Vela-work/XMM-SAS-Datalabs-Paper/VelaX1data18Dec/PN_clean_evt.fits',\n",
       " 'withfilteredset=yes',\n",
       " 'filteredset=/home/egulbaha/my_workspace/Vela-work/XMM-SAS-Datalabs-Paper/VelaX1data18Dec/PN_filtered_32-44.evt',\n",
       " 'keepfilteroutput=yes',\n",
       " 'expression=(RAWX in [32:44])&&(PI in [550.0:10000.0])']"
      ]
     },
     "execution_count": 39,
     "metadata": {},
     "output_type": "execute_result"
    }
   ],
   "source": [
    "# SAS Command\n",
    "cmd        = \"evselect\" # SAS task to be executed                  \n",
    "\n",
    "# Arguments of SAS Command\n",
    "expression = f'(RAWX in [{rawX1src}:{rawX2src}])&&(PI in [{pn_pi_min}:{pn_pi_max}])'  # event filter expression\n",
    "inargs     = [f'table={table}','withfilteredset=yes',f'filteredset={filtered_output}',\n",
    "              'keepfilteroutput=yes',f'expression={expression}']\n",
    "\n",
    "print(\"   Filter expression to use: \"+expression+\" \\n\")\n",
    "print(\"   SAS command to be executed: \"+cmd+\", with arguments; \\n\")\n",
    "inargs"
   ]
  },
  {
   "cell_type": "code",
   "execution_count": 40,
   "id": "3e8d5d31-211b-4341-9ea6-11a459be1b23",
   "metadata": {
    "tags": []
   },
   "outputs": [
    {
     "name": "stdout",
     "output_type": "stream",
     "text": [
      "Executing: \n",
      "evselect table='/home/egulbaha/my_workspace/Vela-work/XMM-SAS-Datalabs-Paper/VelaX1data18Dec/PN_clean_evt.fits' keepfilteroutput='yes' withfilteredset='yes' filteredset='/home/egulbaha/my_workspace/Vela-work/XMM-SAS-Datalabs-Paper/VelaX1data18Dec/PN_filtered_32-44.evt' destruct='yes' flagcolumn='EVFLAG' flagbit='-1' filtertype='expression' dssblock='' expression='(RAWX in [32:44])&&(PI in [550.0:10000.0])' writedss='yes' cleandss='no' updateexposure='yes' filterexposure='yes' blockstocopy='' attributestocopy='' energycolumn='PHA' withzcolumn='no' zcolumn='WEIGHT' withzerrorcolumn='no' zerrorcolumn='EWEIGHT' ignorelegallimits='no' withimageset='no' imageset='image.fits' xcolumn='RAWX' ycolumn='RAWY' imagebinning='imageSize' ximagebinsize='1' yimagebinsize='1' squarepixels='no' ximagesize='600' yimagesize='600' withxranges='no' ximagemin='1' ximagemax='640' withyranges='no' yimagemin='1' yimagemax='640' withimagedatatype='no' imagedatatype='Real64' withcelestialcenter='no' raimagecenter='0' decimagecenter='0' withspectrumset='no' spectrumset='spectrum.fits' spectralbinsize='5' withspecranges='no' specchannelmin='0' specchannelmax='11999' nonStandardSpec='no' withrateset='no' rateset='rate.fits' timecolumn='TIME' timebinsize='1' withtimeranges='no' timemin='0' timemax='1000' maketimecolumn='no' makeratecolumn='no' withhistogramset='no' histogramset='histo.fits' histogramcolumn='TIME' histogrambinsize='1' withhistoranges='no' histogrammin='0' histogrammax='1000' \n",
      "evselect:- Executing (routine): evselect table=/home/egulbaha/my_workspace/Vela-work/XMM-SAS-Datalabs-Paper/VelaX1data18Dec/PN_clean_evt.fits filteredset=/home/egulbaha/my_workspace/Vela-work/XMM-SAS-Datalabs-Paper/VelaX1data18Dec/PN_filtered_32-44.evt withfilteredset=yes keepfilteroutput=yes flagcolumn=EVFLAG flagbit=-1 destruct=yes dssblock='' expression='(RAWX in [32:44])&&(PI in [550.0:10000.0])' filtertype=expression cleandss=no updateexposure=yes filterexposure=yes writedss=yes blockstocopy='' attributestocopy='' energycolumn=PHA zcolumn=WEIGHT zerrorcolumn=EWEIGHT withzerrorcolumn=no withzcolumn=no ignorelegallimits=no imageset=image.fits xcolumn=RAWX ycolumn=RAWY ximagebinsize=1 yimagebinsize=1 squarepixels=no ximagesize=600 yimagesize=600 imagebinning=imageSize ximagemin=1 ximagemax=640 withxranges=no yimagemin=1 yimagemax=640 withyranges=no imagedatatype=Real64 withimagedatatype=no raimagecenter=0 decimagecenter=0 withcelestialcenter=no withimageset=no spectrumset=spectrum.fits spectralbinsize=5 specchannelmin=0 specchannelmax=11999 withspecranges=no nonStandardSpec=no withspectrumset=no rateset=rate.fits timecolumn=TIME timebinsize=1 timemin=0 timemax=1000 withtimeranges=no maketimecolumn=no makeratecolumn=no withrateset=no histogramset=histo.fits histogramcolumn=TIME histogrambinsize=1 histogrammin=0 histogrammax=1000 withhistoranges=no withhistogramset=no  -w 1 -V 4\n",
      "evselect:- evselect (evselect-3.71.2)  [xmmsas_20230412_1735-21.0.0] started:  2025-01-07T09:13:36.000\n",
      "evselect:- selected 15052204 rows from the input table.\n",
      "evselect:- evselect (evselect-3.71.2)  [xmmsas_20230412_1735-21.0.0] ended:    2025-01-07T09:13:50.000\n"
     ]
    }
   ],
   "source": [
    "#%%capture\n",
    "w(cmd, inargs).run()"
   ]
  },
  {
   "cell_type": "markdown",
   "id": "838d4889-576d-4787-86a8-a60cba1e2992",
   "metadata": {},
   "source": [
    "We can use the SAS command `epatplot` to plot EPIC pn and MOS event pattern statistics, which should help us see if pile-up has occured. For further in depth information the user is advised to look at the thread *How to Evaluate and test Pile-Up in an EPIC Source*."
   ]
  },
  {
   "cell_type": "code",
   "execution_count": 41,
   "id": "5fa64a43-c694-4809-b875-0982d6e90d48",
   "metadata": {
    "tags": []
   },
   "outputs": [
    {
     "name": "stdout",
     "output_type": "stream",
     "text": [
      "Executing: \n",
      "epatplot set='/home/egulbaha/my_workspace/Vela-work/XMM-SAS-Datalabs-Paper/VelaX1data18Dec/PN_filtered_32-44.evt' modifyinset='yes' sigma='3' withflag='yes' xaxisadu='no' device=' /PNG' outdir='./' useplotfile='no' plotfile='events_pat.ps' withqdp='no' withdetxy='no' withsrcxy='yes' withoutputmask='no' outmaskname='flag0_map_##.dat' withbackgroundset='no' backgroundset='bkg_events.fits' backscal='1.0' withusermode='no' usermode='0' withuserrawy='no' userrawy='190' ccdlimits='1 64 1 200 1 12' plotxrange='0.0 0.0' plotyrange='0.0 0.0' pileupnumberenergyrange='500 2000' \n",
      "epatplot:- Executing (routine): epatplot set=/home/egulbaha/my_workspace/Vela-work/XMM-SAS-Datalabs-Paper/VelaX1data18Dec/PN_filtered_32-44.evt modifyinset=yes sigma=3 withflag=yes xaxisadu=no device=' /PNG' outdir=./ plotfile=events_pat.ps useplotfile=no withqdp=no withdetxy=no withsrcxy=yes outmaskname=flag0_map_##.dat withoutputmask=no backgroundset=bkg_events.fits withbackgroundset=no backscal=1 usermode=0 withusermode=no userrawy=190 withuserrawy=no ccdlimits='1 64 1 200 1 12' plotxrange='0 0' plotyrange='0 0' pileupnumberenergyrange='500 2000'  -w 1 -V 4\n",
      "epatplot:- epatplot (epatplot-1.22)  [xmmsas_20230412_1735-21.0.0] started:  2025-01-07T09:14:32.000\n",
      "epatplot:-  epatplot 1.22 is running...\n",
      "** epatplot: warning (noDETX), No DETX column in input data set\n",
      "** epatplot: warning (noDETY), No DETY column in input data set\n",
      "epatplot:-  \n",
      "epatplot:-        s       d       t       q\n",
      "epatplot:-   0.7946  0.1947  0.0049  0.0057\n",
      "Could not open file 'EPN_QUANTUMEF_0018.CCF' for reading in:\n",
      "  /home/egulbaha/data/user/pub\n",
      "  /home/egulbaha/my_workspace/Vela-work/XMM-SAS-Datalabs-Paper/VelaX1data18Dec\n",
      "  .\n",
      "\n"
     ]
    },
    {
     "ename": "CalledProcessError",
     "evalue": "Command 'epatplot set='/home/egulbaha/my_workspace/Vela-work/XMM-SAS-Datalabs-Paper/VelaX1data18Dec/PN_filtered_32-44.evt' modifyinset='yes' sigma='3' withflag='yes' xaxisadu='no' device=' /PNG' outdir='./' useplotfile='no' plotfile='events_pat.ps' withqdp='no' withdetxy='no' withsrcxy='yes' withoutputmask='no' outmaskname='flag0_map_##.dat' withbackgroundset='no' backgroundset='bkg_events.fits' backscal='1.0' withusermode='no' usermode='0' withuserrawy='no' userrawy='190' ccdlimits='1 64 1 200 1 12' plotxrange='0.0 0.0' plotyrange='0.0 0.0' pileupnumberenergyrange='500 2000' ' returned non-zero exit status 1.",
     "output_type": "error",
     "traceback": [
      "\u001b[0;31m---------------------------------------------------------------------------\u001b[0m",
      "\u001b[0;31mCalledProcessError\u001b[0m                        Traceback (most recent call last)",
      "Cell \u001b[0;32mIn[41], line 2\u001b[0m\n\u001b[1;32m      1\u001b[0m \u001b[38;5;66;03m#%%capture\u001b[39;00m\n\u001b[0;32m----> 2\u001b[0m \u001b[43mw\u001b[49m\u001b[43m(\u001b[49m\u001b[38;5;124;43m'\u001b[39;49m\u001b[38;5;124;43mepatplot\u001b[39;49m\u001b[38;5;124;43m'\u001b[39;49m\u001b[43m,\u001b[49m\u001b[43m[\u001b[49m\u001b[38;5;124;43mf\u001b[39;49m\u001b[38;5;124;43m'\u001b[39;49m\u001b[38;5;124;43mset=\u001b[39;49m\u001b[38;5;132;43;01m{\u001b[39;49;00m\u001b[43mfiltered_output\u001b[49m\u001b[38;5;132;43;01m}\u001b[39;49;00m\u001b[38;5;124;43m'\u001b[39;49m\u001b[43m,\u001b[49m\u001b[43m \u001b[49m\u001b[38;5;124;43m'\u001b[39;49m\u001b[38;5;124;43mdevice= /PNG\u001b[39;49m\u001b[38;5;124;43m'\u001b[39;49m\u001b[43m]\u001b[49m\u001b[43m)\u001b[49m\u001b[38;5;241;43m.\u001b[39;49m\u001b[43mrun\u001b[49m\u001b[43m(\u001b[49m\u001b[43m)\u001b[49m\n",
      "File \u001b[0;32m/usr/local/SAS/xmmsas_20230412_1735/lib/python/pysas/wrapper.py:49\u001b[0m, in \u001b[0;36mWrapper.run\u001b[0;34m(self)\u001b[0m\n\u001b[1;32m     47\u001b[0m t\u001b[38;5;241m.\u001b[39mreadparfile()\n\u001b[1;32m     48\u001b[0m t\u001b[38;5;241m.\u001b[39mprocessargs()\n\u001b[0;32m---> 49\u001b[0m \u001b[43mt\u001b[49m\u001b[38;5;241;43m.\u001b[39;49m\u001b[43mruntask\u001b[49m\u001b[43m(\u001b[49m\u001b[43m)\u001b[49m\n",
      "File \u001b[0;32m/usr/local/SAS/xmmsas_20230412_1735/lib/python/pysas/sastask.py:329\u001b[0m, in \u001b[0;36mMyTask.runtask\u001b[0;34m(self)\u001b[0m\n\u001b[1;32m    327\u001b[0m     \u001b[38;5;28;01mreturn\u001b[39;00m \u001b[38;5;28mself\u001b[39m\u001b[38;5;241m.\u001b[39mExit\n\u001b[1;32m    328\u001b[0m r \u001b[38;5;241m=\u001b[39m RunTask(\u001b[38;5;28mself\u001b[39m\u001b[38;5;241m.\u001b[39mtaskname, \u001b[38;5;28mself\u001b[39m\u001b[38;5;241m.\u001b[39miparsdic,\u001b[38;5;28mself\u001b[39m\u001b[38;5;241m.\u001b[39mlogFile)\n\u001b[0;32m--> 329\u001b[0m \u001b[43mr\u001b[49m\u001b[38;5;241;43m.\u001b[39;49m\u001b[43mrun\u001b[49m\u001b[43m(\u001b[49m\u001b[43m)\u001b[49m\n",
      "File \u001b[0;32m/usr/local/SAS/xmmsas_20230412_1735/lib/python/pysas/runtask.py:151\u001b[0m, in \u001b[0;36mRunTask.run\u001b[0;34m(self)\u001b[0m\n\u001b[1;32m    149\u001b[0m     \u001b[38;5;28;01mif\u001b[39;00m \u001b[38;5;28mself\u001b[39m\u001b[38;5;241m.\u001b[39mlogFile \u001b[38;5;241m!=\u001b[39m \u001b[38;5;124m'\u001b[39m\u001b[38;5;124mDEFAULT\u001b[39m\u001b[38;5;124m'\u001b[39m:\n\u001b[1;32m    150\u001b[0m         \u001b[38;5;28mself\u001b[39m\u001b[38;5;241m.\u001b[39mstdoutFile\u001b[38;5;241m.\u001b[39mclose()\n\u001b[0;32m--> 151\u001b[0m     \u001b[38;5;28;01mraise\u001b[39;00m subprocess\u001b[38;5;241m.\u001b[39mCalledProcessError(p\u001b[38;5;241m.\u001b[39mreturncode, p\u001b[38;5;241m.\u001b[39margs)\n\u001b[1;32m    153\u001b[0m \u001b[38;5;28;01mif\u001b[39;00m \u001b[38;5;28mself\u001b[39m\u001b[38;5;241m.\u001b[39mlogFile \u001b[38;5;241m!=\u001b[39m \u001b[38;5;124m'\u001b[39m\u001b[38;5;124mDEFAULT\u001b[39m\u001b[38;5;124m'\u001b[39m:\n\u001b[1;32m    154\u001b[0m     \u001b[38;5;28mself\u001b[39m\u001b[38;5;241m.\u001b[39mstdoutFile\u001b[38;5;241m.\u001b[39mclose()\n",
      "\u001b[0;31mCalledProcessError\u001b[0m: Command 'epatplot set='/home/egulbaha/my_workspace/Vela-work/XMM-SAS-Datalabs-Paper/VelaX1data18Dec/PN_filtered_32-44.evt' modifyinset='yes' sigma='3' withflag='yes' xaxisadu='no' device=' /PNG' outdir='./' useplotfile='no' plotfile='events_pat.ps' withqdp='no' withdetxy='no' withsrcxy='yes' withoutputmask='no' outmaskname='flag0_map_##.dat' withbackgroundset='no' backgroundset='bkg_events.fits' backscal='1.0' withusermode='no' usermode='0' withuserrawy='no' userrawy='190' ccdlimits='1 64 1 200 1 12' plotxrange='0.0 0.0' plotyrange='0.0 0.0' pileupnumberenergyrange='500 2000' ' returned non-zero exit status 1."
     ]
    }
   ],
   "source": [
    "#%%capture\n",
    "w('epatplot',[f'set={filtered_output}', 'device= /PNG']).run()"
   ]
  },
  {
   "cell_type": "markdown",
   "id": "cb03a8d4-39d3-4667-820e-106da5164e36",
   "metadata": {},
   "source": [
    "We can display the image produced:"
   ]
  },
  {
   "cell_type": "code",
   "execution_count": 24,
   "id": "e98dc801-ffc2-4c88-8745-24ecb5bb10b7",
   "metadata": {
    "tags": []
   },
   "outputs": [
    {
     "data": {
      "image/png": "[encoded data removed]",
      "text/plain": [
       "<IPython.core.display.Image object>"
      ]
     },
     "metadata": {},
     "output_type": "display_data"
    }
   ],
   "source": [
    "png_path = f'{home}/my_workspace/xmm_sas_datalabs/data/VelaX1/pgplot.png'\n",
    "display(Image(filename=png_path))\n"
   ]
  },
  {
   "cell_type": "markdown",
   "id": "4b8d7292-744b-43ad-bfe7-9ff84d7cf7fc",
   "metadata": {},
   "source": [
    "As we can see the double events are higher than theory line and single ones are lower for our observation, thereby indicating the need for applying a pile-up correction, which we apply below:"
   ]
  },
  {
   "cell_type": "code",
   "execution_count": 25,
   "id": "9f030af0-0d69-4108-b0b2-a04f32c914a4",
   "metadata": {
    "tags": []
   },
   "outputs": [],
   "source": [
    "# Define some parameters for filtering the event file \n",
    "rawX3src = 36\n",
    "rawX4src = 40\n",
    "pn_pi_min    = 550.        # Low energy range eV\n",
    "pn_pi_max    = 10000.      # High energy range eV\n",
    "\n",
    "# Define the output file name\n",
    "\n",
    "filtered_output = wdir+'/PN_filtered_annulus_'+str(rawX1src)+'-'+str(rawX3src)+'_'+str(rawX4src)+'-'+str(rawX2src)+'.evt'   # Name of the output "
   ]
  },
  {
   "cell_type": "code",
   "execution_count": 26,
   "id": "0b838f25-37c9-40e8-8b7e-7b7dcb2c3f83",
   "metadata": {
    "tags": []
   },
   "outputs": [
    {
     "name": "stdout",
     "output_type": "stream",
     "text": [
      "   Filter expression to use: (RAWX in [32:36] || RAWX in [40:44])&&(PI in [550.0:10000.0]) \n",
      "\n",
      "   SAS command to be executed: evselect, with arguments; \n",
      "\n"
     ]
    },
    {
     "data": {
      "text/plain": [
       "['table=/home/egulbaha/my_workspace/xmm_sas_datalabs/data/velaX1defaultcal/PN_clean_evt.fits',\n",
       " 'withfilteredset=yes',\n",
       " 'filteredset=/home/egulbaha/my_workspace/xmm_sas_datalabs/data/velaX1defaultcal/PN_filtered_annulus_32-36_40-44.evt',\n",
       " 'keepfilteroutput=yes',\n",
       " 'expression=(RAWX in [32:36] || RAWX in [40:44])&&(PI in [550.0:10000.0])']"
      ]
     },
     "execution_count": 26,
     "metadata": {},
     "output_type": "execute_result"
    }
   ],
   "source": [
    "# SAS Command\n",
    "cmd        = \"evselect\" # SAS task to be executed                  \n",
    "\n",
    "# Arguments of SAS Command\n",
    "expression = f'(RAWX in [{rawX1src}:{rawX3src}] || RAWX in [{rawX4src}:{rawX2src}])&&(PI in [{pn_pi_min}:{pn_pi_max}])'  # event filter expression\n",
    "inargs     = [f'table={table}','withfilteredset=yes',f'filteredset={filtered_output}',\n",
    "              'keepfilteroutput=yes',f'expression={expression}']\n",
    "\n",
    "print(\"   Filter expression to use: \"+expression+\" \\n\")\n",
    "print(\"   SAS command to be executed: \"+cmd+\", with arguments; \\n\")\n",
    "inargs"
   ]
  },
  {
   "cell_type": "code",
   "execution_count": 35,
   "id": "8b827880-2a87-4495-af1c-0418930dc389",
   "metadata": {
    "tags": []
   },
   "outputs": [],
   "source": [
    "%%capture\n",
    "w(cmd, inargs).run()"
   ]
  },
  {
   "cell_type": "code",
   "execution_count": 36,
   "id": "3f0ac2ab-c111-406a-928d-7d42b35ec449",
   "metadata": {
    "tags": []
   },
   "outputs": [],
   "source": [
    "%%capture\n",
    "w('epatplot',[f'set={filtered_output}', 'device= /PNG']).run()"
   ]
  },
  {
   "cell_type": "code",
   "execution_count": 37,
   "id": "711cebc7-c108-456d-9b57-20211956c06b",
   "metadata": {
    "tags": []
   },
   "outputs": [
    {
     "data": {
      "image/png": "[encoded data removed]",
      "text/plain": [
       "<IPython.core.display.Image object>"
      ]
     },
     "metadata": {},
     "output_type": "display_data"
    }
   ],
   "source": [
    "png_path = f'{home}/my_workspace/xmm_sas_datalabs/data/VelaX1/pgplot.png'\n",
    "display(Image(filename=png_path))"
   ]
  },
  {
   "cell_type": "markdown",
   "id": "6d959c81-f614-4bcb-add2-463edca36e9b",
   "metadata": {},
   "source": [
    "Now we can see that after the correction the theory and observation match and we have accounted for pile-up, therefore we can move onto extracting the spectrum of the source safely."
   ]
  },
  {
   "cell_type": "markdown",
   "id": "8eb5b7a4-a819-45c0-adef-24e0c9d26391",
   "metadata": {},
   "source": [
    "* ### Spectrum Extraction"
   ]
  },
  {
   "cell_type": "markdown",
   "id": "ca88f8a2-8ba4-45c2-af0c-16aa36ce8ac6",
   "metadata": {},
   "source": [
    "No we can produce a spectrum for the source region, by avoiding pile-up regions:"
   ]
  },
  {
   "cell_type": "code",
   "execution_count": 27,
   "id": "865c8ccf-b7d9-41fb-9764-2db3c749158b",
   "metadata": {
    "tags": []
   },
   "outputs": [],
   "source": [
    "rawX1src= 32\n",
    "rawX2src = 44"
   ]
  },
  {
   "cell_type": "code",
   "execution_count": 28,
   "id": "18fed8c6-ceaa-478b-8a50-05d19a91e088",
   "metadata": {
    "tags": []
   },
   "outputs": [],
   "source": [
    "#core of the psf coordinates:\n",
    "rawX3src = 36\n",
    "rawX4src = 40\n",
    "spectrumset= wdir+ '/PN_source_spectrum_raw_'+str(rawX1src)+'-'+str(rawX3src)+'_'+str(rawX4src)+'-'+str(rawX2src)+'.fits'"
   ]
  },
  {
   "cell_type": "code",
   "execution_count": 29,
   "id": "5c32e0a9-92e7-4eb6-a341-637c99dcc5fe",
   "metadata": {
    "tags": []
   },
   "outputs": [
    {
     "name": "stdout",
     "output_type": "stream",
     "text": [
      "   Filter expression to use: (FLAG==0) && (PATTERN<=4) && (RAWX in [32:36] || RAWX in [40:44]) \n",
      "\n",
      "   SAS command to be executed: evselect, with arguments; \n",
      "\n"
     ]
    },
    {
     "data": {
      "text/plain": [
       "['table=/home/egulbaha/my_workspace/xmm_sas_datalabs/data/velaX1defaultcal/PN_clean_evt.fits',\n",
       " 'withspectrumset=yes',\n",
       " 'spectrumset=/home/egulbaha/my_workspace/xmm_sas_datalabs/data/velaX1defaultcal/PN_source_spectrum_raw_32-36_40-44.fits',\n",
       " 'energycolumn=PI',\n",
       " 'spectralbinsize=5',\n",
       " 'withspecranges=yes',\n",
       " 'specchannelmin=0',\n",
       " 'specchannelmax=20479',\n",
       " 'expression=(FLAG==0) && (PATTERN<=4) && (RAWX in [32:36] || RAWX in [40:44])']"
      ]
     },
     "execution_count": 29,
     "metadata": {},
     "output_type": "execute_result"
    }
   ],
   "source": [
    "# SAS Command\n",
    "cmd        = \"evselect\" # SAS task to be executed                  \n",
    "\n",
    "# Arguments of SAS Command\n",
    "expression = f'(FLAG==0) && (PATTERN<=4) && (RAWX in [{rawX1src}:{rawX3src}] || RAWX in [{rawX4src}:{rawX2src}])'  # event filter expression\n",
    "inargs     = [f'table={table}','withspectrumset=yes',f'spectrumset={spectrumset}',\n",
    "              'energycolumn=PI', 'spectralbinsize=5', 'withspecranges=yes', 'specchannelmin=0', 'specchannelmax=20479',f'expression={expression}']\n",
    "\n",
    "print(\"   Filter expression to use: \"+expression+\" \\n\")\n",
    "print(\"   SAS command to be executed: \"+cmd+\", with arguments; \\n\")\n",
    "inargs"
   ]
  },
  {
   "cell_type": "code",
   "execution_count": 30,
   "id": "755e0226-519e-45f3-8076-6ffda23215b8",
   "metadata": {
    "tags": []
   },
   "outputs": [],
   "source": [
    "%%capture\n",
    "w(cmd, inargs).run()"
   ]
  },
  {
   "cell_type": "code",
   "execution_count": 31,
   "id": "af1af239-6faf-4ff4-b1bd-db9d0b5c40ef",
   "metadata": {
    "tags": []
   },
   "outputs": [
    {
     "name": "stdout",
     "output_type": "stream",
     "text": [
      "   SAS command to be executed: backscale, with arguments; \n",
      "\n"
     ]
    },
    {
     "data": {
      "text/plain": [
       "['spectrumset=/home/egulbaha/my_workspace/xmm_sas_datalabs/data/velaX1defaultcal/PN_source_spectrum_raw_32-36_40-44.fits',\n",
       " 'badpixlocation=/home/egulbaha/my_workspace/xmm_sas_datalabs/data/velaX1defaultcal/PN_clean_evt.fits']"
      ]
     },
     "execution_count": 31,
     "metadata": {},
     "output_type": "execute_result"
    }
   ],
   "source": [
    "# SAS Command\n",
    "cmd        = \"backscale\" # SAS task to be executed                  \n",
    "\n",
    "# Arguments of SAS Command\n",
    "inargs     = [f'spectrumset={spectrumset}',f'badpixlocation={table}']\n",
    "\n",
    "print(\"   SAS command to be executed: \"+cmd+\", with arguments; \\n\")\n",
    "inargs"
   ]
  },
  {
   "cell_type": "code",
   "execution_count": 32,
   "id": "838e7a8b-ef1d-4bad-b960-13b1f47aedba",
   "metadata": {
    "tags": []
   },
   "outputs": [],
   "source": [
    "%%capture\n",
    "w(cmd, inargs).run()"
   ]
  },
  {
   "cell_type": "code",
   "execution_count": 33,
   "id": "3a18fc8b-0583-4d88-ac15-866cb4338ee5",
   "metadata": {
    "tags": []
   },
   "outputs": [],
   "source": [
    "# Define some parameters for rmfgen\n",
    "\n",
    "# Define the output redistribution matrix file name\n",
    "\n",
    "in_RESPFile = wdir+'/PN_'+str(rawX1src)+'-'+str(rawX3src)+'_'+str(rawX4src)+'-'+str(rawX2src)+'.rmf'   # Name of the output redistribution"
   ]
  },
  {
   "cell_type": "code",
   "execution_count": 34,
   "id": "9a596d38-21bd-406a-b916-b1db7377d7f5",
   "metadata": {
    "tags": []
   },
   "outputs": [
    {
     "name": "stdout",
     "output_type": "stream",
     "text": [
      "   SAS command to be executed: rmfgen, with arguments; \n",
      "\n"
     ]
    },
    {
     "data": {
      "text/plain": [
       "['spectrumset=/home/egulbaha/my_workspace/xmm_sas_datalabs/data/velaX1defaultcal/PN_source_spectrum_raw_32-36_40-44.fits',\n",
       " 'rmfset=/home/egulbaha/my_workspace/xmm_sas_datalabs/data/velaX1defaultcal/PN_32-36_40-44.rmf']"
      ]
     },
     "execution_count": 34,
     "metadata": {},
     "output_type": "execute_result"
    }
   ],
   "source": [
    "# SAS Command\n",
    "cmd        = \"rmfgen\" # SAS task to be executed                  \n",
    "\n",
    "# Arguments of SAS Command\n",
    "inargs     = [f'spectrumset={spectrumset}',f'rmfset={in_RESPFile}']\n",
    "\n",
    "print(\"   SAS command to be executed: \"+cmd+\", with arguments; \\n\")\n",
    "inargs"
   ]
  },
  {
   "cell_type": "code",
   "execution_count": 35,
   "id": "0cc4f402-58d6-41e4-a239-3143d6fedf72",
   "metadata": {
    "tags": []
   },
   "outputs": [],
   "source": [
    "%%capture\n",
    "w(cmd, inargs).run()"
   ]
  },
  {
   "cell_type": "code",
   "execution_count": 36,
   "id": "4aa2a189-b916-4269-a2c4-2d1fe84f3c3a",
   "metadata": {
    "tags": []
   },
   "outputs": [],
   "source": [
    "# Define some parameters for arfgen\n",
    "\n",
    "# Define the output ancillary file name\n",
    "\n",
    "in_ARFFile = wdir+'/PN_'+str(rawX1src)+'-'+str(rawX3src)+'_'+str(rawX4src)+'-'+str(rawX2src)+'.arf'   # Name of the output ancillary"
   ]
  },
  {
   "cell_type": "code",
   "execution_count": 37,
   "id": "ce9fb077-8ee7-4a90-862e-ddd966e16548",
   "metadata": {
    "tags": []
   },
   "outputs": [
    {
     "name": "stdout",
     "output_type": "stream",
     "text": [
      "   Checking for Response File ..... \n",
      "\n",
      "File /home/egulbaha/my_workspace/xmm_sas_datalabs/data/velaX1defaultcal/PN_32-36_40-44.rmf exists. \n",
      "\n",
      "   SAS command to be executed: arfgen, with arguments; \n",
      "\n"
     ]
    },
    {
     "data": {
      "text/plain": [
       "['spectrumset=/home/egulbaha/my_workspace/xmm_sas_datalabs/data/velaX1defaultcal/PN_source_spectrum_raw_32-36_40-44.fits',\n",
       " 'arfset=/home/egulbaha/my_workspace/xmm_sas_datalabs/data/velaX1defaultcal/PN_32-36_40-44.arf',\n",
       " 'withrmfset=yes',\n",
       " 'rmfset=/home/egulbaha/my_workspace/xmm_sas_datalabs/data/velaX1defaultcal/PN_32-36_40-44.rmf',\n",
       " 'badpixlocation=/home/egulbaha/my_workspace/xmm_sas_datalabs/data/velaX1defaultcal/PN_clean_evt.fits',\n",
       " 'detmaptype=psf',\n",
       " 'applyabsfluxcorr=yes']"
      ]
     },
     "execution_count": 37,
     "metadata": {},
     "output_type": "execute_result"
    }
   ],
   "source": [
    "# SAS Command\n",
    "cmd        = \"arfgen\" # SAS task to be executed                  \n",
    "\n",
    "print(\"   Checking for Response File ..... \\n\")\n",
    "# Check if RESP file is available.\n",
    "if os.path.isfile(in_RESPFile):\n",
    "    print (\"File \"+in_RESPFile+\" exists. \\n\")\n",
    "else:\n",
    "    print (\"File \"+in_RESPFile+\" does not exist, please check. \\n\")\n",
    "\n",
    "# Arguments of SAS Command\n",
    "inargs     = [f'spectrumset={spectrumset}',f'arfset={in_ARFFile}',\n",
    "              'withrmfset=yes',f'rmfset={in_RESPFile}',f'badpixlocation={table}','detmaptype=psf', 'applyabsfluxcorr=yes']\n",
    "\n",
    "print(\"   SAS command to be executed: \"+cmd+\", with arguments; \\n\")\n",
    "inargs"
   ]
  },
  {
   "cell_type": "code",
   "execution_count": 38,
   "id": "8c61ccce-0c41-4458-a6c9-ff9af22727b0",
   "metadata": {
    "tags": []
   },
   "outputs": [],
   "source": [
    "%%capture\n",
    "w(cmd, inargs).run()"
   ]
  },
  {
   "cell_type": "code",
   "execution_count": 39,
   "id": "fcfd496a-18ba-45d2-8d96-8bbf667377a9",
   "metadata": {
    "tags": []
   },
   "outputs": [],
   "source": [
    "# Define some parameters for specgruop\n",
    "\n",
    "# Define the output ancillary file name\n",
    "#spectrumset = '/home/egulbaha/my_workspace/xmm_sas_datalabs/data/velax1ter/PN_source_spectrum_raw_32-36_40-44.fits'\n",
    "#in_RESPFile = '/home/egulbaha/my_workspace/xmm_sas_datalabs/data/velax1ter/PN_32-36_40-44.rmf'\n",
    "#in_ARFFile = '/home/egulbaha/my_workspace/xmm_sas_datalabs/data/velax1ter/PN_32-36_40-44.arf'\n",
    "in_GRPFile = '/home/egulbaha/my_workspace/xmm_sas_datalabs/data/velaX1defaultcal/PN_spectrum_grp_32-36_40-44.fits'   # Name of the output specgruop"
   ]
  },
  {
   "cell_type": "code",
   "execution_count": 40,
   "id": "935beddb-eb13-4501-8475-8cfb132117f2",
   "metadata": {
    "tags": []
   },
   "outputs": [
    {
     "name": "stdout",
     "output_type": "stream",
     "text": [
      "   SAS command to be executed: specgroup, with arguments; \n",
      "\n"
     ]
    },
    {
     "data": {
      "text/plain": [
       "['spectrumset=/home/egulbaha/my_workspace/xmm_sas_datalabs/data/velaX1defaultcal/PN_source_spectrum_raw_32-36_40-44.fits',\n",
       " 'mincounts=25',\n",
       " 'oversample=3',\n",
       " 'rmfset=/home/egulbaha/my_workspace/xmm_sas_datalabs/data/velaX1defaultcal/PN_32-36_40-44.rmf',\n",
       " 'arfset=/home/egulbaha/my_workspace/xmm_sas_datalabs/data/velaX1defaultcal/PN_32-36_40-44.arf',\n",
       " 'groupedset=/home/egulbaha/my_workspace/xmm_sas_datalabs/data/velaX1defaultcal/PN_spectrum_grp_32-36_40-44.fits']"
      ]
     },
     "execution_count": 40,
     "metadata": {},
     "output_type": "execute_result"
    }
   ],
   "source": [
    "# SAS Command\n",
    "cmd        = \"specgroup\" # SAS task to be executed                  \n",
    "\n",
    "# Arguments of SAS Command\n",
    "inargs     = [f'spectrumset={spectrumset}','mincounts=25','oversample=3',\n",
    "              f'rmfset={in_RESPFile}',f'arfset={in_ARFFile}',\n",
    "              f'groupedset={in_GRPFile}']\n",
    "\n",
    "print(\"   SAS command to be executed: \"+cmd+\", with arguments; \\n\")\n",
    "inargs"
   ]
  },
  {
   "cell_type": "code",
   "execution_count": 41,
   "id": "a0a526fb-b28e-471e-82d0-764f98a0b164",
   "metadata": {
    "tags": []
   },
   "outputs": [
    {
     "name": "stdout",
     "output_type": "stream",
     "text": [
      "Executing: \n",
      "specgroup spectrumset='/home/egulbaha/my_workspace/xmm_sas_datalabs/data/velaX1defaultcal/PN_source_spectrum_raw_32-36_40-44.fits' overwrite='no' groupedset='/home/egulbaha/my_workspace/xmm_sas_datalabs/data/velaX1defaultcal/PN_spectrum_grp_32-36_40-44.fits' withbgdset='no' backgndset='' withCounts='yes' mincounts='25' withminSN='no' minSN='5' withratioabovebgnd='no' ratioabovebgnd='' withoversampling='yes' oversample='3' withtemplate='no' grouptemplate='grptemplate.ds' withranges='no' ranges='' withRegularBins='no' regbinstart='' regbinend='' regbinwid='' units='CHAN' withrmfset='yes' rmfset='/home/egulbaha/my_workspace/xmm_sas_datalabs/data/velaX1defaultcal/PN_32-36_40-44.rmf' witharfset='yes' arfset='/home/egulbaha/my_workspace/xmm_sas_datalabs/data/velaX1defaultcal/PN_32-36_40-44.arf' addfilenames='yes' hightolow='no' lastbin='addtogroup' setbad='CCF' \n",
      "specgroup:- Executing (routine): specgroup spectrumset=/home/egulbaha/my_workspace/xmm_sas_datalabs/data/velaX1defaultcal/PN_source_spectrum_raw_32-36_40-44.fits groupedset=/home/egulbaha/my_workspace/xmm_sas_datalabs/data/velaX1defaultcal/PN_spectrum_grp_32-36_40-44.fits overwrite=no backgndset='' withbgdset=no mincounts=25 withCounts=yes minSN=5 withminSN=no ratioabovebgnd=0 withratioabovebgnd=no oversample=3 withoversampling=yes grouptemplate=grptemplate.ds withtemplate=no ranges='' withranges=no regbinstart=0 regbinend=0 regbinwid=0 withRegularBins=no units=CHAN rmfset=/home/egulbaha/my_workspace/xmm_sas_datalabs/data/velaX1defaultcal/PN_32-36_40-44.rmf withrmfset=yes arfset=/home/egulbaha/my_workspace/xmm_sas_datalabs/data/velaX1defaultcal/PN_32-36_40-44.arf witharfset=yes addfilenames=yes hightolow=no lastbin=addtogroup setbad=CCF  -w 1 -V 4\n",
      "specgroup:- specgroup (specgroup-1.7.1)  [xmmsas_20230412_1735-21.0.0] started:  2024-11-22T14:30:13.000\n",
      "specgroup:- Prepared spectrum /home/egulbaha/my_workspace/xmm_sas_datalabs/data/velaX1defaultcal/PN_spectrum_grp_32-36_40-44.fits with 238 groups\n",
      "specgroup:- specgroup (specgroup-1.7.1)  [xmmsas_20230412_1735-21.0.0] ended:    2024-11-22T14:30:13.000\n"
     ]
    }
   ],
   "source": [
    "\n",
    "w(cmd, inargs).run()"
   ]
  },
  {
   "cell_type": "markdown",
   "id": "f6f534ff-6086-4267-bb40-2e544ef419a5",
   "metadata": {},
   "source": [
    "Now that we have acquired the final spectrum, we can load the file using pyXspec:"
   ]
  },
  {
   "cell_type": "code",
   "execution_count": 42,
   "id": "a7356146-ccc9-4b85-9a5b-768c161c7519",
   "metadata": {
    "tags": []
   },
   "outputs": [],
   "source": [
    "# Before you start, clear all data and models\n",
    "\n",
    "AllModels.clear()  # Clear all models\n",
    "AllData.clear()    # Clear all data"
   ]
  },
  {
   "cell_type": "code",
   "execution_count": 43,
   "id": "6af852bf-1c04-46c0-90ba-ab8be748f26c",
   "metadata": {
    "tags": []
   },
   "outputs": [
    {
     "name": "stdout",
     "output_type": "stream",
     "text": [
      "\n",
      "1 spectrum  in use\n",
      " \n",
      "Spectral Data File: /home/egulbaha/my_workspace/xmm_sas_datalabs/data/velaX1defaultcal/PN_spectrum_grp_32-36_40-44.fits  Spectrum 1\n",
      "Net count rate (cts/s) for Spectrum:1  4.907e+01 +/- 2.119e-02\n",
      " Assigned to Data Group 1 and Plot Group 1\n",
      "  Noticed Channels:  1-238\n",
      "  Telescope: XMM Instrument: EPN  Channel Type: PI\n",
      "  Exposure Time: 1.093e+05 sec\n",
      " Using fit statistic: chi\n",
      " Using Response (RMF) File            /home/egulbaha/my_workspace/xmm_sas_datalabs/data/velaX1defaultcal/PN_32-36_40-44.rmf for Source 1\n",
      " Using Auxiliary Response (ARF) File  /home/egulbaha/my_workspace/xmm_sas_datalabs/data/velaX1defaultcal/PN_32-36_40-44.arf\n",
      "\n",
      "\n",
      "2 spectra  in use\n",
      " \n",
      "Spectral Data File: /home/egulbaha/my_workspace/xmm_sas_datalabs/data/camillespectra/nondefault/PN_spectrum_grp_32-36_40-44.fits  Spectrum 2\n",
      "Net count rate (cts/s) for Spectrum:2  4.907e+01 +/- 2.119e-02\n",
      " Assigned to Data Group 1 and Plot Group 2\n",
      "  Noticed Channels:  1-238\n",
      "  Telescope: XMM Instrument: EPN  Channel Type: PI\n",
      "  Exposure Time: 1.093e+05 sec\n",
      " Using fit statistic: chi\n",
      " Using Response (RMF) File            /home/egulbaha/my_workspace/xmm_sas_datalabs/data/camillespectra/nondefault/PN_32-36_40-44.rmf for Source 1\n",
      " Using Auxiliary Response (ARF) File  /home/egulbaha/my_workspace/xmm_sas_datalabs/data/camillespectra/nondefault/PN_32-36_40-44.arf\n",
      "\n",
      "\n",
      "3 spectra  in use\n",
      " \n",
      "Spectral Data File: /home/egulbaha/my_workspace/xmm_sas_datalabs/data/velax1ter/PN_spectrum_grp_32-36_40-44.fits  Spectrum 3\n",
      "Net count rate (cts/s) for Spectrum:3  4.907e+01 +/- 2.119e-02\n",
      " Assigned to Data Group 1 and Plot Group 3\n",
      "  Noticed Channels:  1-239\n",
      "  Telescope: XMM Instrument: EPN  Channel Type: PI\n",
      "  Exposure Time: 1.093e+05 sec\n",
      " Using fit statistic: chi\n",
      " Using Response (RMF) File            /home/egulbaha/my_workspace/xmm_sas_datalabs/data/velax1ter/PN_32-36_40-44.rmf for Source 1\n",
      " Using Auxiliary Response (ARF) File  /home/egulbaha/my_workspace/xmm_sas_datalabs/data/velax1ter/PN_32-36_40-44.arf\n",
      "\n",
      "\n",
      "3 files 3 spectra \n",
      "Spectrum 1  Spectral Data File: /home/egulbaha/my_workspace/xmm_sas_datalabs/data/velaX1defaultcal/PN_spectrum_grp_32-36_40-44.fits\n",
      "Net count rate (cts/s) for Spectrum:1  4.907e+01 +/- 2.119e-02\n",
      " Assigned to Data Group 1 and Plot Group 1\n",
      "  Noticed Channels:  1-238\n",
      "  Telescope: XMM Instrument: EPN  Channel Type: PI\n",
      "  Exposure Time: 1.093e+05 sec\n",
      " Using fit statistic: chi\n",
      " Using Response (RMF) File            /home/egulbaha/my_workspace/xmm_sas_datalabs/data/velaX1defaultcal/PN_32-36_40-44.rmf for Source 1\n",
      " Using Auxiliary Response (ARF) File  /home/egulbaha/my_workspace/xmm_sas_datalabs/data/velaX1defaultcal/PN_32-36_40-44.arf\n",
      "\n",
      "Spectrum 2  Spectral Data File: /home/egulbaha/my_workspace/xmm_sas_datalabs/data/camillespectra/nondefault/PN_spectrum_grp_32-36_40-44.fits\n",
      "Net count rate (cts/s) for Spectrum:2  4.907e+01 +/- 2.119e-02\n",
      " Assigned to Data Group 1 and Plot Group 2\n",
      "  Noticed Channels:  1-238\n",
      "  Telescope: XMM Instrument: EPN  Channel Type: PI\n",
      "  Exposure Time: 1.093e+05 sec\n",
      " Using fit statistic: chi\n",
      " Using Response (RMF) File            /home/egulbaha/my_workspace/xmm_sas_datalabs/data/camillespectra/nondefault/PN_32-36_40-44.rmf for Source 1\n",
      " Using Auxiliary Response (ARF) File  /home/egulbaha/my_workspace/xmm_sas_datalabs/data/camillespectra/nondefault/PN_32-36_40-44.arf\n",
      "\n",
      "Spectrum 3  Spectral Data File: /home/egulbaha/my_workspace/xmm_sas_datalabs/data/velax1ter/PN_spectrum_grp_32-36_40-44.fits\n",
      "Net count rate (cts/s) for Spectrum:3  4.907e+01 +/- 2.119e-02\n",
      " Assigned to Data Group 1 and Plot Group 3\n",
      "  Noticed Channels:  1-239\n",
      "  Telescope: XMM Instrument: EPN  Channel Type: PI\n",
      "  Exposure Time: 1.093e+05 sec\n",
      " Using fit statistic: chi\n",
      " Using Response (RMF) File            /home/egulbaha/my_workspace/xmm_sas_datalabs/data/velax1ter/PN_32-36_40-44.rmf for Source 1\n",
      " Using Auxiliary Response (ARF) File  /home/egulbaha/my_workspace/xmm_sas_datalabs/data/velax1ter/PN_32-36_40-44.arf\n",
      "\n"
     ]
    }
   ],
   "source": [
    "# Load the group spectral file\n",
    "\n",
    "# The group file already contains in the header the names of all the necessary files needed by xspec\n",
    "# (source and background spectra, response and ancillery files)\n",
    "\n",
    "data1 = Spectrum('/home/egulbaha/my_workspace/xmm_sas_datalabs/data/velaX1defaultcal/PN_spectrum_grp_32-36_40-44.fits')  # load spectra groupped file\n",
    "data2= Spectrum('/home/egulbaha/my_workspace/xmm_sas_datalabs/data/camillespectra/nondefault/PN_spectrum_grp_32-36_40-44.fits')\n",
    "data3= Spectrum('/home/egulbaha/my_workspace/xmm_sas_datalabs/data/velax1ter/PN_spectrum_grp_32-36_40-44.fits')\n",
    "AllData.show()                # inspect loaded data"
   ]
  },
  {
   "cell_type": "code",
   "execution_count": 44,
   "id": "04cacb51-56f2-407f-8cfd-e3ed963bdf38",
   "metadata": {
    "tags": []
   },
   "outputs": [],
   "source": [
    "# Set the plot device to /null to suppress graphical output\n",
    "\n",
    "Plot.device = \"/null\""
   ]
  },
  {
   "cell_type": "code",
   "execution_count": 45,
   "id": "1acb9dc0-db72-45ff-ab42-4904c646137f",
   "metadata": {
    "tags": []
   },
   "outputs": [],
   "source": [
    "# First inspection of the spectrum\n",
    "\n",
    "Plot.xAxis = \"keV\"        # set X axis to energy units\n",
    "Plot.xLog  = True         # log scale\n",
    "Plot.yLog  = True         # log scale\n",
    "Plot(\"data\")   # plot source and background spectra"
   ]
  },
  {
   "cell_type": "code",
   "execution_count": 30,
   "id": "98b4821b-4255-4281-aa41-0d3d0e03878b",
   "metadata": {
    "tags": []
   },
   "outputs": [
    {
     "data": {
      "image/png": "[encoded data removed]",
      "text/plain": [
       "<Figure size 1000x600 with 1 Axes>"
      ]
     },
     "metadata": {},
     "output_type": "display_data"
    }
   ],
   "source": [
    "# Create a Matplotlib figure and axis for plotting\n",
    "fig, ax = plt.subplots(figsize=(10, 6))\n",
    "\n",
    "# Extract data from the XSPEC plot\n",
    "x = Plot.x(1)  # X-axis values\n",
    "y = Plot.y(1)  # Y-axis values\n",
    "yerr = Plot.yErr(1)  # Y-axis error values\n",
    "\n",
    "# Plot your spectrum with error bars\n",
    "ax.errorbar(x, y, yerr=yerr, marker='.', linestyle='none', label='Your Spectrum', alpha=0.5)\n",
    "\n",
    "# Customize the plot appearance\n",
    "ax.set_xscale('log')  # Set X-axis scale to logarithmic\n",
    "ax.set_yscale('log')  # Set Y-axis scale to logarithmic\n",
    "ax.set_xlabel('Energy (keV)')  # Set X-axis label\n",
    "ax.set_ylabel(r'counts s$^{-1}$ keV$^{-1}')  # Set Y-axis label\n",
    "ax.xaxis.set_major_formatter(ScalarFormatter())  # Format X-axis labels\n",
    "ax.set_title('Spectrum')  # Set the plot title\n",
    "ax.grid()  # Display grid lines\n",
    "# Show the plot\n",
    "plt.tight_layout()  # Ensure a tight layout\n",
    "plt.show()  # Display the plot"
   ]
  },
  {
   "cell_type": "code",
   "execution_count": 46,
   "id": "7dc478db-9417-412b-a40c-944503c38ffc",
   "metadata": {
    "tags": []
   },
   "outputs": [
    {
     "data": {
      "image/png": "[encoded data removed]",
      "text/plain": [
       "<Figure size 1000x600 with 1 Axes>"
      ]
     },
     "metadata": {},
     "output_type": "display_data"
    }
   ],
   "source": [
    "fig, ax = plt.subplots(figsize=(10, 6))\n",
    "\n",
    "# Extract data for the first spectrum\n",
    "x1 = Plot.x(1)          # X-axis values for first spectrum\n",
    "y1 = Plot.y(1)          # Y-axis values for first spectrum\n",
    "yerr1 = Plot.yErr(1)    # Y-axis error values for first spectrum\n",
    "\n",
    "# Extract data for the second spectrum\n",
    "x2 = Plot.x(2)          # X-axis values for second spectrum\n",
    "y2 = Plot.y(2)          # Y-axis values for second spectrum\n",
    "yerr2 = Plot.yErr(2)    # Y-axis error values for second spectrum\n",
    "\n",
    "x3 = Plot.x(3)          # X-axis values for first spectrum\n",
    "y3 = Plot.y(3)          # Y-axis values for first spectrum\n",
    "yerr3 = Plot.yErr(3)\n",
    "\n",
    "# Plot both spectra with error bars\n",
    "ax.errorbar(x1, y1, yerr=yerr1, marker='o', linestyle='none', label='Spectrum 1 nondef cal jp', alpha=0.5)\n",
    "ax.errorbar(x2, y2, yerr=yerr2, marker='s', linestyle='none', label='Spectrum 2 camille', alpha=0.5)\n",
    "ax.errorbar(x3, y3, yerr=yerr3, marker='s', linestyle='none', label='Spectrum 3 nondef cal ter', alpha=0.5)\n",
    "\n",
    "ax.set_xlim(6, 7)\n",
    "ax.set_ylim(6, 11)\n",
    "\n",
    "# Customize the plot appearance\n",
    "#ax.set_xscale('log')\n",
    "#ax.set_yscale('log')\n",
    "ax.set_xlabel('Energy (keV)')\n",
    "ax.set_ylabel('Counts s$^{-1}$ keV$^{-1}$')\n",
    "ax.xaxis.set_major_formatter(ScalarFormatter())  # Format X-axis labels\n",
    "ax.set_title(\"Spectra Comparison\")\n",
    "ax.legend()  # Add a legend to distinguish the spectra\n",
    "ax.grid()    # Display grid lines\n",
    "\n",
    "# Display the plot\n",
    "plt.tight_layout()\n",
    "plt.savefig(\"spectra_comparison_nondefaultcal3Fe.png\", dpi=300)\n",
    "plt.show()"
   ]
  },
  {
   "cell_type": "markdown",
   "id": "cc2e678a-1202-41da-9fbf-86b1ec276832",
   "metadata": {},
   "source": [
    "Above we have visualised an average spectrum, and to fit model the user needs to look at time resolved spectroscopy. In this thread we will not go into the specifics of model fitting for the spectrum.\n",
    "***\n",
    "### Conclusions\n",
    "\n",
    "Congrats!✨ \n",
    "\n",
    "By following this thread you have:\n",
    "\n",
    "* processed ODF files for the X-ray binary Vela X-1.\n",
    "* applied calibration in timing mode.\n",
    "* produced lightcurves of the source and the background.\n",
    "* checked and corrected for plie-up.\n",
    "* produced a spectrum of the object and plotted it using pyXspec.\n",
    "\n",
    "This shows how a further analysis can be done on an object observed by XMM-Newton in the XMM-Newton-SAS Datalab, where you can swiftly get your data and analyse it with all the major tools necessary available at your disposal. The further analysis and model fitting of the object can be advanced by the reader, by exploring the tools at disposal by pyXspec, for more information please refer to the [pyXspec information page](https://heasarc.gsfc.nasa.gov/xanadu/xspec/python/html/index.html)."
   ]
  }
 ],
 "metadata": {
  "kernelspec": {
   "display_name": "Python 3 (ipykernel)",
   "language": "python",
   "name": "python3"
  },
  "language_info": {
   "codemirror_mode": {
    "name": "ipython",
    "version": 3
   },
   "file_extension": ".py",
   "mimetype": "text/x-python",
   "name": "python",
   "nbconvert_exporter": "python",
   "pygments_lexer": "ipython3",
   "version": "3.11.5"
  }
 },
 "nbformat": 4,
 "nbformat_minor": 5
}
